{
  "nbformat": 4,
  "nbformat_minor": 0,
  "metadata": {
    "colab": {
      "provenance": []
    },
    "kernelspec": {
      "name": "python3",
      "display_name": "Python 3"
    },
    "language_info": {
      "name": "python"
    }
  },
  "cells": [
    {
      "cell_type": "code",
      "source": [
        "from tensorflow.keras.applications.resnet50 import ResNet50\n",
        "from tensorflow.keras.preprocessing import image\n",
        "from tensorflow.keras.applications.resnet50 import preprocess_input, decode_predictions\n",
        "import numpy as np"
      ],
      "metadata": {
        "id": "vuh1Zk-1lf8B"
      },
      "execution_count": 7,
      "outputs": []
    },
    {
      "cell_type": "code",
      "source": [
        "model = ResNet50(weights = 'imagenet')"
      ],
      "metadata": {
        "id": "rdcoAyzqlIKZ"
      },
      "execution_count": null,
      "outputs": []
    },
    {
      "cell_type": "markdown",
      "source": [
        "weights are only we want that come when we trained during the imagenet "
      ],
      "metadata": {
        "id": "5plqbPlvm8NK"
      }
    },
    {
      "cell_type": "code",
      "source": [
        "img_path = 'elephant.jpg'       # this give the image path with image picture\n",
        "img = image.load_img(img_path, target_size=(224, 224))\n",
        "x = image.img_to_array(img)        # convert into array\n",
        "x = np.expand_dims(x, axis=0)      # expand_dim -- convert into batch and preprocess ker ke load into x \n",
        "x = preprocess_input(x)\n"
      ],
      "metadata": {
        "id": "ZH1r1dyOnEo5"
      },
      "execution_count": null,
      "outputs": []
    },
    {
      "cell_type": "code",
      "source": [
        "pred = model.predict(x)\n",
        "print('Predicted', decode_predictions(preds, top = 3)[0])\n",
        "# decode the prediction and top 3 prediction ko show ker rehe h "
      ],
      "metadata": {
        "id": "ex6ZPp8OnzKx"
      },
      "execution_count": null,
      "outputs": []
    }
  ]
}