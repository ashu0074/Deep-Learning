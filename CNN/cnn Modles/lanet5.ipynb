{
  "nbformat": 4,
  "nbformat_minor": 0,
  "metadata": {
    "colab": {
      "provenance": []
    },
    "kernelspec": {
      "name": "python3",
      "display_name": "Python 3"
    },
    "language_info": {
      "name": "python"
    }
  },
  "cells": [
    {
      "cell_type": "code",
      "execution_count": null,
      "metadata": {
        "id": "rIMUd1sY301x"
      },
      "outputs": [],
      "source": []
    },
    {
      "cell_type": "markdown",
      "source": [
        "**\"Yann Lecun \"**  the father of cnn , Developed the first cnn model 1989 implement in 1998 for Us Navy postal Service.\n",
        "* For machine return pin code reading\n"
      ],
      "metadata": {
        "id": "_1YVKd-o36pk"
      }
    },
    {
      "cell_type": "code",
      "source": [
        "model = Sequential()\n",
        "\n",
        "model.add(Conv2D(6, kernel_size = (5,5), padding = 'valid', activation = 'tanh', input_shape = (32,32,1)))\n",
        "model.add(AveragePooling2D(pool_size = (2,2),strides = 2, padding = 'valid'))\n",
        "\n",
        "model.add(Conv2D(16,kernel_size = (5,5),padding = 'valid', activation = 'tanh'))\n",
        "model.add(AveragePooling2D(pool_size = (2,2), strides = 2, padding = 'valid'))\n",
        "\n",
        "model.add(Flatten())\n",
        "\n",
        "model.add(Dense(120, activation = 'tanh'))\n",
        "model.add(Dense(84, activation = 'tanh'))\n",
        "model.add(Dense(10, activaiton = 'softmax'))\n",
        "\n",
        "\n",
        "model.summary()"
      ],
      "metadata": {
        "id": "BEIP5OjP4YGz"
      },
      "execution_count": null,
      "outputs": []
    }
  ]
}