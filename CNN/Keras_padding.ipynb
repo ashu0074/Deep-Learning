{
  "nbformat": 4,
  "nbformat_minor": 0,
  "metadata": {
    "colab": {
      "provenance": []
    },
    "kernelspec": {
      "name": "python3",
      "display_name": "Python 3"
    },
    "language_info": {
      "name": "python"
    }
  },
  "cells": [
    {
      "cell_type": "code",
      "execution_count": 1,
      "metadata": {
        "id": "rHdOjphZJpP6"
      },
      "outputs": [],
      "source": [
        "# Keras Padding and Strides for CNN operation"
      ]
    },
    {
      "cell_type": "code",
      "source": [
        "import tensorflow\n",
        "from tensorflow import keras\n",
        "from keras.layers import Dense, Conv2D, Flatten     # Conv2D is for convolution layer and Flatten convert the 2 D into 1 D data\n",
        "from keras import Sequential\n",
        "from keras.datasets import mnist"
      ],
      "metadata": {
        "id": "TPXcmXfLKH5X"
      },
      "execution_count": 2,
      "outputs": []
    },
    {
      "cell_type": "code",
      "source": [
        "(X_train, y_train),(X_test, y_test) = mnist.load_data()"
      ],
      "metadata": {
        "colab": {
          "base_uri": "https://localhost:8080/"
        },
        "id": "8To4NtnxK6Eq",
        "outputId": "8b39e539-30fb-4a75-b000-020a20bd8de3"
      },
      "execution_count": 3,
      "outputs": [
        {
          "output_type": "stream",
          "name": "stdout",
          "text": [
            "Downloading data from https://storage.googleapis.com/tensorflow/tf-keras-datasets/mnist.npz\n",
            "11490434/11490434 [==============================] - 1s 0us/step\n"
          ]
        }
      ]
    },
    {
      "cell_type": "code",
      "source": [],
      "metadata": {
        "id": "AB9YgaQRLU5i"
      },
      "execution_count": null,
      "outputs": []
    },
    {
      "cell_type": "markdown",
      "source": [
        "Padding ----->\n",
        "1)**valid** -- we not apply padding \n",
        "2)**same ** -- keras automatically figure out image per kitna padding require"
      ],
      "metadata": {
        "id": "BbDAyVqELWPQ"
      }
    },
    {
      "cell_type": "code",
      "source": [
        "model = Sequential()\n",
        "\n",
        "model.add(Conv2D(32,kernel_size = (3,3),padding = 'valid',activation='relu',input_shape = (28,28,1)))\n",
        "model.add(Conv2D(32,kernel_size = (3,3),padding='valid',activation = 'relu'))\n",
        "model.add(Conv2D(32,kernel_size=(3,3),padding = 'valid',activation = 'relu'))\n",
        "\n",
        "model.add(Flatten())     # convert the dimension of the model \n",
        "\n",
        "model.add(Dense(128,activation = 'relu'))\n",
        "model.add(Dense(10,activation = 'softmax'))"
      ],
      "metadata": {
        "id": "8BcuP-VdLIC4"
      },
      "execution_count": 4,
      "outputs": []
    },
    {
      "cell_type": "code",
      "source": [
        "model.summary()"
      ],
      "metadata": {
        "colab": {
          "base_uri": "https://localhost:8080/"
        },
        "id": "b7VN_fUJMucT",
        "outputId": "bca1f5a1-3c66-4e0a-e5b8-f0a036d20ffa"
      },
      "execution_count": 5,
      "outputs": [
        {
          "output_type": "stream",
          "name": "stdout",
          "text": [
            "Model: \"sequential\"\n",
            "_________________________________________________________________\n",
            " Layer (type)                Output Shape              Param #   \n",
            "=================================================================\n",
            " conv2d (Conv2D)             (None, 26, 26, 32)        320       \n",
            "                                                                 \n",
            " conv2d_1 (Conv2D)           (None, 24, 24, 32)        9248      \n",
            "                                                                 \n",
            " conv2d_2 (Conv2D)           (None, 22, 22, 32)        9248      \n",
            "                                                                 \n",
            " flatten (Flatten)           (None, 15488)             0         \n",
            "                                                                 \n",
            " dense (Dense)               (None, 128)               1982592   \n",
            "                                                                 \n",
            " dense_1 (Dense)             (None, 10)                1290      \n",
            "                                                                 \n",
            "=================================================================\n",
            "Total params: 2,002,698\n",
            "Trainable params: 2,002,698\n",
            "Non-trainable params: 0\n",
            "_________________________________________________________________\n"
          ]
        }
      ]
    },
    {
      "cell_type": "code",
      "source": [
        "# padding - \"same\"   in this we apply padding it automatically detect and apply how many row and col to be inserted\n",
        "model2 = Sequential()\n",
        "\n",
        "model2.add(Conv2D(32,kernel_size = (3,3),padding='same', strides = (2,2), activation = 'relu',input_shape = (28,28,1)))\n",
        "model2.add(Conv2D(32,kernel_size = (3,3),padding = 'same',strides = (2,2),activation = 'relu'))\n",
        "model2.add(Conv2D(32,kernel_size = (3,3), padding = 'same', strides = (2,2), activation = 'relu'))\n",
        "\n",
        "model2.add(Flatten())\n",
        "\n",
        "model2.add(Dense(128,activation = 'relu'))\n",
        "model2.add(Dense(10,activation = 'softmax'))"
      ],
      "metadata": {
        "id": "b01BmHl6MwAg"
      },
      "execution_count": 9,
      "outputs": []
    },
    {
      "cell_type": "code",
      "source": [
        "model2.summary()"
      ],
      "metadata": {
        "colab": {
          "base_uri": "https://localhost:8080/"
        },
        "id": "a9IbqarZPMkf",
        "outputId": "ec6fccf7-76bb-4b38-8874-253f911f80e6"
      },
      "execution_count": 10,
      "outputs": [
        {
          "output_type": "stream",
          "name": "stdout",
          "text": [
            "Model: \"sequential_4\"\n",
            "_________________________________________________________________\n",
            " Layer (type)                Output Shape              Param #   \n",
            "=================================================================\n",
            " conv2d_5 (Conv2D)           (None, 14, 14, 32)        320       \n",
            "                                                                 \n",
            " conv2d_6 (Conv2D)           (None, 7, 7, 32)          9248      \n",
            "                                                                 \n",
            " conv2d_7 (Conv2D)           (None, 4, 4, 32)          9248      \n",
            "                                                                 \n",
            " flatten_1 (Flatten)         (None, 512)               0         \n",
            "                                                                 \n",
            " dense_2 (Dense)             (None, 128)               65664     \n",
            "                                                                 \n",
            " dense_3 (Dense)             (None, 10)                1290      \n",
            "                                                                 \n",
            "=================================================================\n",
            "Total params: 85,770\n",
            "Trainable params: 85,770\n",
            "Non-trainable params: 0\n",
            "_________________________________________________________________\n"
          ]
        }
      ]
    },
    {
      "cell_type": "code",
      "source": [
        "# as we observe that size of the object is decrease as we pass the padding --\"same\"\n",
        "# with strides"
      ],
      "metadata": {
        "id": "o5yuwVu3PwPi"
      },
      "execution_count": 11,
      "outputs": []
    },
    {
      "cell_type": "code",
      "source": [],
      "metadata": {
        "id": "YrThBDHhP-dH"
      },
      "execution_count": null,
      "outputs": []
    }
  ]
}