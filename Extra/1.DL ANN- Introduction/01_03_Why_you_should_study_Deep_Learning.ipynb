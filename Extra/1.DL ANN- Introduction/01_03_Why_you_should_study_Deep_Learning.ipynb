{
  "nbformat": 4,
  "nbformat_minor": 0,
  "metadata": {
    "colab": {
      "provenance": []
    },
    "kernelspec": {
      "display_name": "Python 3 (ipykernel)",
      "language": "python",
      "name": "python3"
    },
    "language_info": {
      "codemirror_mode": {
        "name": "ipython",
        "version": 3
      },
      "file_extension": ".py",
      "mimetype": "text/x-python",
      "name": "python",
      "nbconvert_exporter": "python",
      "pygments_lexer": "ipython3",
      "version": "3.7.11"
    }
  },
  "cells": [
    {
      "cell_type": "code",
      "metadata": {
        "id": "DedBc-YxTjhd",
        "colab": {
          "base_uri": "https://localhost:8080/"
        },
        "outputId": "0e23d298-05fb-49d3-ac6a-72befd1252fc"
      },
      "source": [
        "try:\n",
        "    from HTMLrenderer.render import render_HTML, render_site, render_YouTube_video\n",
        "except:\n",
        "    print(\"required package not found installing fresh\")\n",
        "    !pip install HTMLrenderer==0.0.8 -q\n",
        "    from HTMLrenderer.render import render_HTML, render_site, render_YouTube_video"
      ],
      "execution_count": null,
      "outputs": [
        {
          "output_type": "stream",
          "name": "stdout",
          "text": [
            "required package not found installing fresh\n"
          ]
        }
      ]
    },
    {
      "cell_type": "markdown",
      "metadata": {
        "id": "-fqUXBJOTjhl"
      },
      "source": [
        "# Why you should study Deep Learning? (Motivation)\n",
        "\n",
        "## Real world examples - "
      ]
    },
    {
      "cell_type": "code",
      "metadata": {
        "scrolled": false,
        "colab": {
          "base_uri": "https://localhost:8080/",
          "height": 691
        },
        "id": "t5cLNPwpTjhm",
        "outputId": "e3e2441e-2e48-4aa0-8e21-0a8ad87e72d0"
      },
      "source": [
        "neuralink=\"https://neuralink.com/\"\n",
        "render_site(neuralink) # invasive"
      ],
      "execution_count": null,
      "outputs": [
        {
          "output_type": "display_data",
          "data": {
            "text/html": [
              "\n",
              "        <iframe\n",
              "            width=\"100%\"\n",
              "            height=\"600\"\n",
              "            src=\"https://neuralink.com/\"\n",
              "            frameborder=\"0\"\n",
              "            allowfullscreen\n",
              "        ></iframe>\n",
              "        "
            ],
            "text/plain": [
              "<IPython.lib.display.IFrame at 0x7f56c439bf50>"
            ]
          },
          "metadata": {}
        },
        {
          "output_type": "stream",
          "name": "stdout",
          "text": [
            "\n",
            "\n",
            "\n",
            "\n"
          ]
        }
      ]
    },
    {
      "cell_type": "code",
      "metadata": {
        "scrolled": false,
        "colab": {
          "base_uri": "https://localhost:8080/",
          "height": 691
        },
        "id": "upQbXTA0Tjho",
        "outputId": "170d809e-aae5-46c7-9002-34cf47fbeca9"
      },
      "source": [
        "OpenBCI = \"https://openbci.com/\" \n",
        "render_site(OpenBCI) # non invasive tech"
      ],
      "execution_count": null,
      "outputs": [
        {
          "output_type": "display_data",
          "data": {
            "text/html": [
              "\n",
              "        <iframe\n",
              "            width=\"100%\"\n",
              "            height=\"600\"\n",
              "            src=\"https://openbci.com/\"\n",
              "            frameborder=\"0\"\n",
              "            allowfullscreen\n",
              "        ></iframe>\n",
              "        "
            ],
            "text/plain": [
              "<IPython.lib.display.IFrame at 0x7f569e9cd850>"
            ]
          },
          "metadata": {}
        },
        {
          "output_type": "stream",
          "name": "stdout",
          "text": [
            "\n",
            "\n",
            "\n",
            "\n"
          ]
        }
      ]
    },
    {
      "cell_type": "code",
      "metadata": {
        "colab": {
          "base_uri": "https://localhost:8080/",
          "height": 691
        },
        "id": "WCAVg2e_Tjhp",
        "outputId": "61662a98-ef27-4846-9694-366260180564"
      },
      "source": [
        "NVIDIA_BLOG = \"https://blogs.nvidia.com/\"\n",
        "render_site(NVIDIA_BLOG)"
      ],
      "execution_count": null,
      "outputs": [
        {
          "output_type": "display_data",
          "data": {
            "text/html": [
              "\n",
              "        <iframe\n",
              "            width=\"100%\"\n",
              "            height=\"600\"\n",
              "            src=\"https://blogs.nvidia.com/\"\n",
              "            frameborder=\"0\"\n",
              "            allowfullscreen\n",
              "        ></iframe>\n",
              "        "
            ],
            "text/plain": [
              "<IPython.lib.display.IFrame at 0x7f56c43a3250>"
            ]
          },
          "metadata": {}
        },
        {
          "output_type": "stream",
          "name": "stdout",
          "text": [
            "\n",
            "\n",
            "\n",
            "\n"
          ]
        }
      ]
    },
    {
      "cell_type": "code",
      "metadata": {
        "colab": {
          "base_uri": "https://localhost:8080/",
          "height": 342
        },
        "id": "338tbRnDTjhq",
        "outputId": "6b41b32a-32b7-40b2-9c5d-8a3376dbb20b"
      },
      "source": [
        "NVIDIA_BORADCAST = \"https://youtu.be/qblSdDZMmi0\"\n",
        "render_YouTube_video(NVIDIA_BORADCAST, width=\"640\", height=\"320\")"
      ],
      "execution_count": null,
      "outputs": [
        {
          "output_type": "display_data",
          "data": {
            "text/html": [
              "<iframe \n",
              "            width=\"640\" height=\"320\" \n",
              "            src=\"https://www.youtube.com/embed/qblSdDZMmi0\" \n",
              "            title=\"YouTube video player\" \n",
              "            frameborder=\"0\" \n",
              "            allow=\"accelerometer; \n",
              "            autoplay; clipboard-write; \n",
              "            encrypted-media; gyroscope; \n",
              "            picture-in-picture\" allowfullscreen>\n",
              "            </iframe>"
            ],
            "text/plain": [
              "<IPython.core.display.HTML object>"
            ]
          },
          "metadata": {}
        }
      ]
    }
  ]
}