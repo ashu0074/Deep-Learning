{
  "nbformat": 4,
  "nbformat_minor": 0,
  "metadata": {
    "colab": {
      "provenance": []
    },
    "kernelspec": {
      "name": "python3",
      "display_name": "Python 3"
    },
    "language_info": {
      "name": "python"
    }
  },
  "cells": [
    {
      "cell_type": "code",
      "execution_count": 2,
      "metadata": {
        "colab": {
          "base_uri": "https://localhost:8080/",
          "height": 70
        },
        "id": "QOMBhOMRZ1uZ",
        "outputId": "1d60d0f7-62a5-4251-86a6-098c87458668"
      },
      "outputs": [
        {
          "output_type": "execute_result",
          "data": {
            "text/plain": [
              "' It encounter when we train Artifical Neural Network (ANN) with gradient decent and backprapogation\\n*  Prevent \"weight\" from changing the value \\n* Deep Neural Network as increase the hidden layer\\n* \"Sigmoid and tanh\" ---> Activation Function\\n'"
            ],
            "application/vnd.google.colaboratory.intrinsic+json": {
              "type": "string"
            }
          },
          "metadata": {},
          "execution_count": 2
        }
      ],
      "source": [
        "# Vanishing_gradient Problem in Neural Network :-\n",
        "\"\"\" It encounter when we train Artifical Neural Network (ANN) with gradient decent and backprapogation\n",
        "*  Prevent \"weight\" from changing the value \n",
        "* Deep Neural Network as increase the hidden layer\n",
        "* \"Sigmoid and tanh\" ---> Activation Function\n",
        "\"\"\""
      ]
    },
    {
      "cell_type": "code",
      "source": [
        "import pandas as pd\n",
        "import numpy as np\n",
        "import matplotlib.pyplot as plt\n",
        "import tensorflow as tf\n",
        "from tensorflow import keras\n",
        "from keras.models import Sequential\n",
        "from keras.layers import Dense\n",
        "from sklearn.model_selection import train_test_split\n",
        "from sklearn.datasets import make_moons"
      ],
      "metadata": {
        "id": "6Yj-Q4LZajZ7"
      },
      "execution_count": 3,
      "outputs": []
    },
    {
      "cell_type": "code",
      "source": [
        "X,y = make_moons(n_samples = 250, noise = 0.05, random_state = 42)"
      ],
      "metadata": {
        "id": "kunwW6lybqoW"
      },
      "execution_count": 5,
      "outputs": []
    },
    {
      "cell_type": "code",
      "source": [
        "X[0]"
      ],
      "metadata": {
        "colab": {
          "base_uri": "https://localhost:8080/"
        },
        "id": "vuQ2wE7WcFmI",
        "outputId": "18d47e8c-4f37-4200-869c-2b6a4dcd4cc3"
      },
      "execution_count": 11,
      "outputs": [
        {
          "output_type": "execute_result",
          "data": {
            "text/plain": [
              "array([0.0841541, 0.1133412])"
            ]
          },
          "metadata": {},
          "execution_count": 11
        }
      ]
    },
    {
      "cell_type": "code",
      "source": [
        "plt.scatter(X[:,0],X[:,1], c=y , s = 100)\n",
        "plt.show()"
      ],
      "metadata": {
        "colab": {
          "base_uri": "https://localhost:8080/",
          "height": 265
        },
        "id": "CUOlVmhIb0ec",
        "outputId": "bf03c2d1-693e-48b4-a871-dd4908266df1"
      },
      "execution_count": 12,
      "outputs": [
        {
          "output_type": "display_data",
          "data": {
            "text/plain": [
              "<Figure size 432x288 with 1 Axes>"
            ],
            "image/png": "[encoded data removed]"
          },
          "metadata": {
            "needs_background": "light"
          }
        }
      ]
    },
    {
      "cell_type": "code",
      "source": [
        "# let see what happen when we use the multiple hidden layer \n",
        "\n",
        "model = Sequential()\n",
        "\n",
        "model.add(Dense(10,activation='sigmoid',input_dim=2))\n",
        "model.add(Dense(10,activation='sigmoid'))\n",
        "model.add(Dense(10,activation='sigmoid'))\n",
        "model.add(Dense(10,activation='sigmoid'))\n",
        "model.add(Dense(10,activation='sigmoid'))\n",
        "model.add(Dense(10,activation='sigmoid'))\n",
        "model.add(Dense(10,activation='sigmoid'))\n",
        "model.add(Dense(1, activation='sigmoid'))"
      ],
      "metadata": {
        "id": "yj54UE62b5lx"
      },
      "execution_count": 13,
      "outputs": []
    },
    {
      "cell_type": "code",
      "source": [
        "model.summary()"
      ],
      "metadata": {
        "colab": {
          "base_uri": "https://localhost:8080/"
        },
        "id": "e2oO3OkycoUP",
        "outputId": "0f86c819-98a0-4433-be94-ecdd723a46d5"
      },
      "execution_count": 14,
      "outputs": [
        {
          "output_type": "stream",
          "name": "stdout",
          "text": [
            "Model: \"sequential\"\n",
            "_________________________________________________________________\n",
            " Layer (type)                Output Shape              Param #   \n",
            "=================================================================\n",
            " dense (Dense)               (None, 10)                30        \n",
            "                                                                 \n",
            " dense_1 (Dense)             (None, 10)                110       \n",
            "                                                                 \n",
            " dense_2 (Dense)             (None, 10)                110       \n",
            "                                                                 \n",
            " dense_3 (Dense)             (None, 10)                110       \n",
            "                                                                 \n",
            " dense_4 (Dense)             (None, 10)                110       \n",
            "                                                                 \n",
            " dense_5 (Dense)             (None, 10)                110       \n",
            "                                                                 \n",
            " dense_6 (Dense)             (None, 10)                110       \n",
            "                                                                 \n",
            " dense_7 (Dense)             (None, 1)                 11        \n",
            "                                                                 \n",
            "=================================================================\n",
            "Total params: 701\n",
            "Trainable params: 701\n",
            "Non-trainable params: 0\n",
            "_________________________________________________________________\n"
          ]
        }
      ]
    },
    {
      "cell_type": "code",
      "source": [
        "model.compile(loss='binary_crossentropy',optimizer='adam',metrics=['accuracy'])"
      ],
      "metadata": {
        "id": "Gyh_MDUEcrve"
      },
      "execution_count": 15,
      "outputs": []
    },
    {
      "cell_type": "code",
      "source": [
        "model.get_weights()"
      ],
      "metadata": {
        "colab": {
          "base_uri": "https://localhost:8080/"
        },
        "id": "NRC6ikLacyRU",
        "outputId": "cf6ae6d0-2739-47fb-bff0-31e5fb05c2b4"
      },
      "execution_count": 16,
      "outputs": [
        {
          "output_type": "execute_result",
          "data": {
            "text/plain": [
              "[array([[ 0.221142  , -0.27318254, -0.46507883, -0.3884574 , -0.6787659 ,\n",
              "          0.2954299 ,  0.5406442 ,  0.566153  ,  0.20931035, -0.5453475 ],\n",
              "        [ 0.06091499,  0.22471905, -0.532518  , -0.2506709 ,  0.01150322,\n",
              "         -0.08953238,  0.7014416 , -0.07242686,  0.32234448, -0.27822128]],\n",
              "       dtype=float32),\n",
              " array([0., 0., 0., 0., 0., 0., 0., 0., 0., 0.], dtype=float32),\n",
              " array([[-0.5446305 , -0.1182214 ,  0.38095093, -0.02357554,  0.42977762,\n",
              "          0.46257842,  0.41486937,  0.41917145,  0.3616137 ,  0.2196672 ],\n",
              "        [ 0.23160154,  0.3303588 , -0.5051659 ,  0.07990152,  0.52651775,\n",
              "         -0.43419224, -0.4153489 ,  0.2297672 , -0.38750273,  0.34051055],\n",
              "        [ 0.3756103 ,  0.39088053,  0.13346475,  0.22588927,  0.2369507 ,\n",
              "         -0.42899513,  0.03251791, -0.3312742 ,  0.27985382,  0.2747156 ],\n",
              "        [-0.5272573 , -0.09156424,  0.5074254 , -0.27399632, -0.5071733 ,\n",
              "         -0.4887922 , -0.42059734, -0.42443007, -0.09799135,  0.48094702],\n",
              "        [ 0.35275847, -0.44494206,  0.05749834, -0.13639784, -0.3966121 ,\n",
              "          0.01780844, -0.02233696, -0.07023033, -0.10750294, -0.10588875],\n",
              "        [-0.39640945, -0.15582284, -0.31988847,  0.01146466,  0.27372497,\n",
              "         -0.07186973, -0.24943781,  0.14236021,  0.21187949, -0.40227437],\n",
              "        [-0.53585327,  0.3941964 , -0.04520839,  0.47340596,  0.34772015,\n",
              "         -0.4423657 , -0.24069554,  0.34569198, -0.35574862,  0.1053955 ],\n",
              "        [-0.5139544 ,  0.5440657 , -0.48105675, -0.33015263, -0.04065937,\n",
              "         -0.07544547, -0.23754081, -0.536234  , -0.296239  , -0.4293237 ],\n",
              "        [ 0.5120487 ,  0.14398313, -0.08770162, -0.17444289,  0.52050614,\n",
              "          0.10584837, -0.1924805 , -0.36170512,  0.02401644,  0.06189549],\n",
              "        [ 0.00148255, -0.09989336, -0.16496629, -0.10224393,  0.48526168,\n",
              "          0.15715623, -0.26503006, -0.09467393,  0.3828802 ,  0.13062054]],\n",
              "       dtype=float32),\n",
              " array([0., 0., 0., 0., 0., 0., 0., 0., 0., 0.], dtype=float32),\n",
              " array([[-0.35624146, -0.11287427,  0.2318899 , -0.3477229 ,  0.3513891 ,\n",
              "          0.5379714 , -0.38444895,  0.28690708, -0.26788145,  0.03982717],\n",
              "        [-0.04770833, -0.01071131,  0.16270334,  0.05351985,  0.38692892,\n",
              "          0.25844258, -0.31372735,  0.5387112 ,  0.37391996,  0.11304533],\n",
              "        [-0.04386514,  0.13596076,  0.5135143 , -0.4214225 ,  0.18546432,\n",
              "         -0.3130312 , -0.19330347,  0.00136983,  0.45842028,  0.28987336],\n",
              "        [ 0.22710425, -0.05400017,  0.15770227,  0.45263445, -0.27842924,\n",
              "          0.27436012,  0.4889934 , -0.3545531 , -0.11882406, -0.12566853],\n",
              "        [-0.34874326, -0.33318275, -0.2918903 , -0.05310369,  0.21140635,\n",
              "         -0.26359597,  0.21027368, -0.47816318, -0.2488609 , -0.32469565],\n",
              "        [-0.5038095 , -0.13764703,  0.46991467,  0.22329032,  0.2144633 ,\n",
              "         -0.03940916,  0.43858445,  0.19705302,  0.11109698, -0.30988783],\n",
              "        [-0.13573185,  0.4220252 , -0.53614694, -0.33227086, -0.00944436,\n",
              "         -0.24475652,  0.24880314, -0.13828027, -0.27826664,  0.26021087],\n",
              "        [-0.44221854,  0.25561017, -0.44060525, -0.01646197,  0.3266539 ,\n",
              "          0.44385952, -0.11381149,  0.52380085, -0.3197264 , -0.21518388],\n",
              "        [-0.1622267 , -0.32964072, -0.20295843, -0.43228987, -0.501671  ,\n",
              "         -0.35266244,  0.2739169 , -0.00114852, -0.5362728 ,  0.37310588],\n",
              "        [-0.10809124,  0.3001362 ,  0.47825634,  0.21921521, -0.5257148 ,\n",
              "          0.0852142 , -0.5271969 ,  0.08879006, -0.504447  ,  0.2866168 ]],\n",
              "       dtype=float32),\n",
              " array([0., 0., 0., 0., 0., 0., 0., 0., 0., 0.], dtype=float32),\n",
              " array([[ 0.25519753,  0.48276436,  0.00737923, -0.01704764, -0.5059774 ,\n",
              "          0.01285487,  0.2182123 ,  0.39747083,  0.29306728,  0.52044475],\n",
              "        [-0.18452448, -0.05536675,  0.01865101,  0.01220328,  0.33209056,\n",
              "          0.19601709,  0.52175426,  0.4472493 ,  0.05121785, -0.45445403],\n",
              "        [-0.34036964,  0.3293239 , -0.08706629, -0.5258283 ,  0.19909906,\n",
              "          0.39709657, -0.539214  , -0.12108859, -0.21445468, -0.4367886 ],\n",
              "        [-0.19727004, -0.17012435, -0.3426848 ,  0.04062897,  0.12984496,\n",
              "         -0.16064802,  0.2784825 ,  0.46602643,  0.44701028, -0.05644175],\n",
              "        [-0.29632896, -0.20297983, -0.44718778, -0.34598723, -0.30236143,\n",
              "         -0.2585917 , -0.29974094, -0.5237037 , -0.02785897, -0.02002227],\n",
              "        [-0.09719738,  0.28631604, -0.3307029 ,  0.3574286 ,  0.31715107,\n",
              "         -0.09317112, -0.02163267,  0.16924798,  0.4481557 ,  0.5407603 ],\n",
              "        [-0.40290236,  0.23379087, -0.5010289 ,  0.3785689 , -0.50746816,\n",
              "          0.10977596,  0.11980897,  0.15159911, -0.3995809 , -0.06468692],\n",
              "        [ 0.5114572 ,  0.49665475,  0.51299953,  0.05355537,  0.00435537,\n",
              "         -0.1562526 ,  0.11109072, -0.41703963,  0.1374321 ,  0.3500501 ],\n",
              "        [ 0.40443325, -0.03284675,  0.32116145,  0.03460431, -0.0406189 ,\n",
              "         -0.46342486,  0.31383717,  0.48445702, -0.21005714,  0.3165906 ],\n",
              "        [ 0.41499984,  0.33667338, -0.11665019,  0.28626758, -0.5353966 ,\n",
              "          0.2356205 ,  0.39357728,  0.48290837, -0.4237967 , -0.11103284]],\n",
              "       dtype=float32),\n",
              " array([0., 0., 0., 0., 0., 0., 0., 0., 0., 0.], dtype=float32),\n",
              " array([[-0.08563623, -0.14038911,  0.07741094, -0.07038444,  0.01924151,\n",
              "         -0.39929426, -0.4040894 ,  0.37202764,  0.03645134, -0.2182912 ],\n",
              "        [-0.07173392,  0.38002962, -0.09020758, -0.3387386 ,  0.00258601,\n",
              "         -0.0611847 ,  0.49214125, -0.5051423 ,  0.45775676, -0.1888614 ],\n",
              "        [ 0.20339274,  0.4543451 , -0.31043565,  0.19691312, -0.18231428,\n",
              "          0.12391329, -0.08685777, -0.37281874,  0.03263348,  0.52877843],\n",
              "        [-0.06934705, -0.2593345 ,  0.11630869, -0.5470042 , -0.16987285,\n",
              "          0.26520258, -0.18370217,  0.500427  , -0.27910933, -0.4001271 ],\n",
              "        [-0.38388872,  0.44112706, -0.12724355,  0.04205507, -0.5307337 ,\n",
              "         -0.35477668,  0.41603827, -0.08371845, -0.17356521,  0.18517923],\n",
              "        [-0.49672198,  0.4936515 ,  0.4748808 , -0.07272404,  0.01187193,\n",
              "         -0.30728248, -0.19089934,  0.10457492,  0.11238575,  0.06569713],\n",
              "        [ 0.14840442, -0.3140858 ,  0.49586284,  0.25128496,  0.12894905,\n",
              "          0.19120425, -0.25303733, -0.40546566,  0.28210306,  0.4674598 ],\n",
              "        [ 0.42320174,  0.20635945,  0.25453073, -0.10080904, -0.43346176,\n",
              "          0.48332357, -0.01991284, -0.34278184, -0.02235746, -0.3419991 ],\n",
              "        [-0.46891057,  0.03975391,  0.13189614, -0.2720733 , -0.34668052,\n",
              "         -0.42389846,  0.29055518, -0.4184476 , -0.48659116, -0.43300352],\n",
              "        [-0.48460063,  0.45948827, -0.01974088,  0.07229769, -0.2204997 ,\n",
              "          0.00915951,  0.48005676, -0.05371615,  0.03902757,  0.1907425 ]],\n",
              "       dtype=float32),\n",
              " array([0., 0., 0., 0., 0., 0., 0., 0., 0., 0.], dtype=float32),\n",
              " array([[-0.1713925 , -0.0809949 , -0.33137217, -0.48216975,  0.31232303,\n",
              "          0.45292604,  0.40406394, -0.11350226, -0.02260673,  0.43243533],\n",
              "        [ 0.00755954, -0.4907629 ,  0.11754239, -0.2734348 ,  0.004511  ,\n",
              "         -0.12336016, -0.39603975, -0.43220472, -0.05138269,  0.49286556],\n",
              "        [-0.36112714,  0.03429091, -0.16583392, -0.2545985 ,  0.00572532,\n",
              "          0.22466254,  0.54638505,  0.06610012,  0.00255948,  0.44684172],\n",
              "        [-0.31554854, -0.34891042, -0.53865105,  0.50165   , -0.18660969,\n",
              "         -0.16256192, -0.19245973,  0.02999747,  0.47705555,  0.4860307 ],\n",
              "        [-0.51107717,  0.5110556 ,  0.38401544, -0.34763458,  0.18697745,\n",
              "         -0.2090233 ,  0.22956818, -0.3483549 , -0.07969204,  0.2561149 ],\n",
              "        [-0.54483426, -0.19066846,  0.5266633 , -0.11674303, -0.0684998 ,\n",
              "         -0.512417  ,  0.26191062,  0.39277756,  0.38847053, -0.0654963 ],\n",
              "        [ 0.18554175,  0.15759802,  0.05233377,  0.4391684 ,  0.30872196,\n",
              "         -0.37708813, -0.53134835, -0.28812626, -0.07014441, -0.33506072],\n",
              "        [ 0.28422403, -0.20286128,  0.44030726,  0.37127835,  0.5375546 ,\n",
              "         -0.3172571 ,  0.43895584, -0.37608603, -0.15470996, -0.35224748],\n",
              "        [ 0.5445448 , -0.33919787,  0.38140875,  0.24567026, -0.53583145,\n",
              "          0.2996378 ,  0.29126126,  0.03149527, -0.21862131,  0.4657433 ],\n",
              "        [-0.14211223,  0.43428028, -0.4467234 , -0.30225462,  0.12199956,\n",
              "          0.52980113, -0.38891008, -0.09096053,  0.46551573,  0.23074204]],\n",
              "       dtype=float32),\n",
              " array([0., 0., 0., 0., 0., 0., 0., 0., 0., 0.], dtype=float32),\n",
              " array([[-0.51162916,  0.08063281,  0.36925226,  0.23908132,  0.03078187,\n",
              "          0.37629652,  0.27118516,  0.44677097, -0.12407511,  0.23962158],\n",
              "        [-0.42106915,  0.39273185, -0.38674402,  0.04350632, -0.4902061 ,\n",
              "          0.21176577,  0.10590887, -0.24097484, -0.38391408,  0.4341861 ],\n",
              "        [-0.37731248,  0.18639576,  0.15128583, -0.03020233, -0.49676862,\n",
              "         -0.08745152, -0.36975646,  0.3446054 , -0.12122008, -0.43441674],\n",
              "        [ 0.08619374, -0.24242344,  0.5464573 , -0.28256583, -0.18927091,\n",
              "         -0.26677483, -0.501718  ,  0.3421883 , -0.26544064, -0.40112874],\n",
              "        [-0.3836768 ,  0.5423374 ,  0.24178904, -0.36873174,  0.5084065 ,\n",
              "         -0.01820636,  0.3042509 , -0.53906685, -0.00372881,  0.39074862],\n",
              "        [ 0.09553438, -0.10603684, -0.4652117 , -0.02222985, -0.4716841 ,\n",
              "         -0.07418713,  0.48834932,  0.21263522, -0.23129898,  0.42358792],\n",
              "        [-0.4511515 ,  0.3655693 , -0.02638698, -0.0775764 , -0.10165119,\n",
              "          0.4347971 ,  0.3385759 ,  0.08556467,  0.21539164, -0.36160666],\n",
              "        [-0.41403586,  0.36917573, -0.16581145, -0.01500607,  0.18509239,\n",
              "          0.04523832,  0.287489  , -0.00059456, -0.32861012, -0.05191547],\n",
              "        [ 0.06378025, -0.16194242,  0.38542068, -0.37659478,  0.01774329,\n",
              "         -0.34388244,  0.20723528, -0.2662935 , -0.34328383,  0.48339868],\n",
              "        [ 0.22649235,  0.21639544, -0.535213  , -0.5175219 ,  0.48875308,\n",
              "         -0.14844164,  0.19230747, -0.39963585, -0.3248676 , -0.47498834]],\n",
              "       dtype=float32),\n",
              " array([0., 0., 0., 0., 0., 0., 0., 0., 0., 0.], dtype=float32),\n",
              " array([[ 0.69462305],\n",
              "        [-0.630742  ],\n",
              "        [-0.3321097 ],\n",
              "        [-0.7198925 ],\n",
              "        [ 0.45702952],\n",
              "        [-0.5232719 ],\n",
              "        [ 0.20251662],\n",
              "        [ 0.25480348],\n",
              "        [-0.5949137 ],\n",
              "        [ 0.21477044]], dtype=float32),\n",
              " array([0.], dtype=float32)]"
            ]
          },
          "metadata": {},
          "execution_count": 16
        }
      ]
    },
    {
      "cell_type": "code",
      "source": [
        "model.get_weights()[0]"
      ],
      "metadata": {
        "colab": {
          "base_uri": "https://localhost:8080/"
        },
        "id": "mjN3R1Rlc2S-",
        "outputId": "39f3bd31-bfb6-433e-e3eb-1a85f18768f8"
      },
      "execution_count": 18,
      "outputs": [
        {
          "output_type": "execute_result",
          "data": {
            "text/plain": [
              "array([[ 0.221142  , -0.27318254, -0.46507883, -0.3884574 , -0.6787659 ,\n",
              "         0.2954299 ,  0.5406442 ,  0.566153  ,  0.20931035, -0.5453475 ],\n",
              "       [ 0.06091499,  0.22471905, -0.532518  , -0.2506709 ,  0.01150322,\n",
              "        -0.08953238,  0.7014416 , -0.07242686,  0.32234448, -0.27822128]],\n",
              "      dtype=float32)"
            ]
          },
          "metadata": {},
          "execution_count": 18
        }
      ]
    },
    {
      "cell_type": "code",
      "source": [
        "old_weights = model.get_weights()[0]"
      ],
      "metadata": {
        "id": "fIVOWMIoc9tp"
      },
      "execution_count": 19,
      "outputs": []
    },
    {
      "cell_type": "code",
      "source": [
        "X_train, X_test,y_train,y_test = train_test_split(X,y, test_size = 0.20, random_state = 42)"
      ],
      "metadata": {
        "id": "Yu5f5olBdNVp"
      },
      "execution_count": 20,
      "outputs": []
    },
    {
      "cell_type": "code",
      "source": [
        "model.fit(X_train,y_train, epochs = 100)"
      ],
      "metadata": {
        "colab": {
          "base_uri": "https://localhost:8080/"
        },
        "id": "rre-ANvkdc-3",
        "outputId": "5a5ab70c-340b-41c5-821f-23024b43f665"
      },
      "execution_count": 22,
      "outputs": [
        {
          "output_type": "stream",
          "name": "stdout",
          "text": [
            "Epoch 1/100\n",
            "7/7 [==============================] - 2s 4ms/step - loss: 0.7123 - accuracy: 0.5100\n",
            "Epoch 2/100\n",
            "7/7 [==============================] - 0s 3ms/step - loss: 0.7058 - accuracy: 0.5100\n",
            "Epoch 3/100\n",
            "7/7 [==============================] - 0s 4ms/step - loss: 0.7015 - accuracy: 0.5100\n",
            "Epoch 4/100\n",
            "7/7 [==============================] - 0s 4ms/step - loss: 0.6977 - accuracy: 0.5100\n",
            "Epoch 5/100\n",
            "7/7 [==============================] - 0s 4ms/step - loss: 0.6954 - accuracy: 0.5100\n",
            "Epoch 6/100\n",
            "7/7 [==============================] - 0s 4ms/step - loss: 0.6946 - accuracy: 0.5100\n",
            "Epoch 7/100\n",
            "7/7 [==============================] - 0s 3ms/step - loss: 0.6932 - accuracy: 0.5100\n",
            "Epoch 8/100\n",
            "7/7 [==============================] - 0s 4ms/step - loss: 0.6943 - accuracy: 0.5100\n",
            "Epoch 9/100\n",
            "7/7 [==============================] - 0s 3ms/step - loss: 0.6929 - accuracy: 0.5100\n",
            "Epoch 10/100\n",
            "7/7 [==============================] - 0s 3ms/step - loss: 0.6930 - accuracy: 0.5100\n",
            "Epoch 11/100\n",
            "7/7 [==============================] - 0s 3ms/step - loss: 0.6930 - accuracy: 0.5100\n",
            "Epoch 12/100\n",
            "7/7 [==============================] - 0s 3ms/step - loss: 0.6931 - accuracy: 0.5100\n",
            "Epoch 13/100\n",
            "7/7 [==============================] - 0s 3ms/step - loss: 0.6935 - accuracy: 0.5100\n",
            "Epoch 14/100\n",
            "7/7 [==============================] - 0s 3ms/step - loss: 0.6930 - accuracy: 0.5100\n",
            "Epoch 15/100\n",
            "7/7 [==============================] - 0s 4ms/step - loss: 0.6930 - accuracy: 0.5100\n",
            "Epoch 16/100\n",
            "7/7 [==============================] - 0s 4ms/step - loss: 0.6933 - accuracy: 0.5100\n",
            "Epoch 17/100\n",
            "7/7 [==============================] - 0s 4ms/step - loss: 0.6930 - accuracy: 0.5100\n",
            "Epoch 18/100\n",
            "7/7 [==============================] - 0s 4ms/step - loss: 0.6932 - accuracy: 0.5100\n",
            "Epoch 19/100\n",
            "7/7 [==============================] - 0s 4ms/step - loss: 0.6930 - accuracy: 0.5100\n",
            "Epoch 20/100\n",
            "7/7 [==============================] - 0s 5ms/step - loss: 0.6930 - accuracy: 0.5100\n",
            "Epoch 21/100\n",
            "7/7 [==============================] - 0s 4ms/step - loss: 0.6930 - accuracy: 0.5100\n",
            "Epoch 22/100\n",
            "7/7 [==============================] - 0s 3ms/step - loss: 0.6931 - accuracy: 0.5100\n",
            "Epoch 23/100\n",
            "7/7 [==============================] - 0s 3ms/step - loss: 0.6931 - accuracy: 0.5100\n",
            "Epoch 24/100\n",
            "7/7 [==============================] - 0s 3ms/step - loss: 0.6932 - accuracy: 0.5100\n",
            "Epoch 25/100\n",
            "7/7 [==============================] - 0s 3ms/step - loss: 0.6931 - accuracy: 0.5100\n",
            "Epoch 26/100\n",
            "7/7 [==============================] - 0s 3ms/step - loss: 0.6930 - accuracy: 0.5100\n",
            "Epoch 27/100\n",
            "7/7 [==============================] - 0s 3ms/step - loss: 0.6929 - accuracy: 0.5100\n",
            "Epoch 28/100\n",
            "7/7 [==============================] - 0s 4ms/step - loss: 0.6931 - accuracy: 0.5100\n",
            "Epoch 29/100\n",
            "7/7 [==============================] - 0s 3ms/step - loss: 0.6929 - accuracy: 0.5100\n",
            "Epoch 30/100\n",
            "7/7 [==============================] - 0s 3ms/step - loss: 0.6929 - accuracy: 0.5100\n",
            "Epoch 31/100\n",
            "7/7 [==============================] - 0s 3ms/step - loss: 0.6932 - accuracy: 0.5100\n",
            "Epoch 32/100\n",
            "7/7 [==============================] - 0s 4ms/step - loss: 0.6931 - accuracy: 0.5100\n",
            "Epoch 33/100\n",
            "7/7 [==============================] - 0s 3ms/step - loss: 0.6933 - accuracy: 0.5100\n",
            "Epoch 34/100\n",
            "7/7 [==============================] - 0s 3ms/step - loss: 0.6931 - accuracy: 0.5100\n",
            "Epoch 35/100\n",
            "7/7 [==============================] - 0s 3ms/step - loss: 0.6928 - accuracy: 0.5100\n",
            "Epoch 36/100\n",
            "7/7 [==============================] - 0s 3ms/step - loss: 0.6931 - accuracy: 0.5100\n",
            "Epoch 37/100\n",
            "7/7 [==============================] - 0s 3ms/step - loss: 0.6929 - accuracy: 0.5100\n",
            "Epoch 38/100\n",
            "7/7 [==============================] - 0s 6ms/step - loss: 0.6930 - accuracy: 0.4800\n",
            "Epoch 39/100\n",
            "7/7 [==============================] - 0s 3ms/step - loss: 0.6932 - accuracy: 0.4900\n",
            "Epoch 40/100\n",
            "7/7 [==============================] - 0s 3ms/step - loss: 0.6934 - accuracy: 0.4900\n",
            "Epoch 41/100\n",
            "7/7 [==============================] - 0s 3ms/step - loss: 0.6935 - accuracy: 0.4900\n",
            "Epoch 42/100\n",
            "7/7 [==============================] - 0s 3ms/step - loss: 0.6931 - accuracy: 0.4900\n",
            "Epoch 43/100\n",
            "7/7 [==============================] - 0s 3ms/step - loss: 0.6930 - accuracy: 0.5400\n",
            "Epoch 44/100\n",
            "7/7 [==============================] - 0s 3ms/step - loss: 0.6930 - accuracy: 0.5100\n",
            "Epoch 45/100\n",
            "7/7 [==============================] - 0s 3ms/step - loss: 0.6928 - accuracy: 0.5100\n",
            "Epoch 46/100\n",
            "7/7 [==============================] - 0s 3ms/step - loss: 0.6928 - accuracy: 0.5100\n",
            "Epoch 47/100\n",
            "7/7 [==============================] - 0s 3ms/step - loss: 0.6928 - accuracy: 0.5100\n",
            "Epoch 48/100\n",
            "7/7 [==============================] - 0s 3ms/step - loss: 0.6928 - accuracy: 0.5100\n",
            "Epoch 49/100\n",
            "7/7 [==============================] - 0s 4ms/step - loss: 0.6928 - accuracy: 0.5100\n",
            "Epoch 50/100\n",
            "7/7 [==============================] - 0s 3ms/step - loss: 0.6927 - accuracy: 0.5100\n",
            "Epoch 51/100\n",
            "7/7 [==============================] - 0s 3ms/step - loss: 0.6926 - accuracy: 0.5100\n",
            "Epoch 52/100\n",
            "7/7 [==============================] - 0s 4ms/step - loss: 0.6927 - accuracy: 0.5100\n",
            "Epoch 53/100\n",
            "7/7 [==============================] - 0s 3ms/step - loss: 0.6925 - accuracy: 0.5100\n",
            "Epoch 54/100\n",
            "7/7 [==============================] - 0s 3ms/step - loss: 0.6925 - accuracy: 0.5100\n",
            "Epoch 55/100\n",
            "7/7 [==============================] - 0s 3ms/step - loss: 0.6923 - accuracy: 0.5100\n",
            "Epoch 56/100\n",
            "7/7 [==============================] - 0s 3ms/step - loss: 0.6924 - accuracy: 0.5100\n",
            "Epoch 57/100\n",
            "7/7 [==============================] - 0s 4ms/step - loss: 0.6929 - accuracy: 0.5100\n",
            "Epoch 58/100\n",
            "7/7 [==============================] - 0s 3ms/step - loss: 0.6924 - accuracy: 0.5100\n",
            "Epoch 59/100\n",
            "7/7 [==============================] - 0s 3ms/step - loss: 0.6922 - accuracy: 0.5100\n",
            "Epoch 60/100\n",
            "7/7 [==============================] - 0s 4ms/step - loss: 0.6921 - accuracy: 0.5100\n",
            "Epoch 61/100\n",
            "7/7 [==============================] - 0s 4ms/step - loss: 0.6919 - accuracy: 0.5100\n",
            "Epoch 62/100\n",
            "7/7 [==============================] - 0s 3ms/step - loss: 0.6918 - accuracy: 0.5100\n",
            "Epoch 63/100\n",
            "7/7 [==============================] - 0s 4ms/step - loss: 0.6917 - accuracy: 0.5100\n",
            "Epoch 64/100\n",
            "7/7 [==============================] - 0s 4ms/step - loss: 0.6919 - accuracy: 0.5100\n",
            "Epoch 65/100\n",
            "7/7 [==============================] - 0s 3ms/step - loss: 0.6912 - accuracy: 0.5100\n",
            "Epoch 66/100\n",
            "7/7 [==============================] - 0s 3ms/step - loss: 0.6914 - accuracy: 0.7000\n",
            "Epoch 67/100\n",
            "7/7 [==============================] - 0s 4ms/step - loss: 0.6911 - accuracy: 0.6250\n",
            "Epoch 68/100\n",
            "7/7 [==============================] - 0s 3ms/step - loss: 0.6909 - accuracy: 0.7550\n",
            "Epoch 69/100\n",
            "7/7 [==============================] - 0s 3ms/step - loss: 0.6905 - accuracy: 0.7350\n",
            "Epoch 70/100\n",
            "7/7 [==============================] - 0s 5ms/step - loss: 0.6902 - accuracy: 0.5550\n",
            "Epoch 71/100\n",
            "7/7 [==============================] - 0s 4ms/step - loss: 0.6898 - accuracy: 0.5100\n",
            "Epoch 72/100\n",
            "7/7 [==============================] - 0s 4ms/step - loss: 0.6894 - accuracy: 0.5100\n",
            "Epoch 73/100\n",
            "7/7 [==============================] - 0s 3ms/step - loss: 0.6889 - accuracy: 0.5100\n",
            "Epoch 74/100\n",
            "7/7 [==============================] - 0s 3ms/step - loss: 0.6890 - accuracy: 0.5100\n",
            "Epoch 75/100\n",
            "7/7 [==============================] - 0s 5ms/step - loss: 0.6880 - accuracy: 0.6550\n",
            "Epoch 76/100\n",
            "7/7 [==============================] - 0s 4ms/step - loss: 0.6873 - accuracy: 0.5550\n",
            "Epoch 77/100\n",
            "7/7 [==============================] - 0s 4ms/step - loss: 0.6867 - accuracy: 0.5100\n",
            "Epoch 78/100\n",
            "7/7 [==============================] - 0s 3ms/step - loss: 0.6858 - accuracy: 0.5100\n",
            "Epoch 79/100\n",
            "7/7 [==============================] - 0s 4ms/step - loss: 0.6851 - accuracy: 0.5100\n",
            "Epoch 80/100\n",
            "7/7 [==============================] - 0s 3ms/step - loss: 0.6843 - accuracy: 0.5100\n",
            "Epoch 81/100\n",
            "7/7 [==============================] - 0s 4ms/step - loss: 0.6832 - accuracy: 0.5100\n",
            "Epoch 82/100\n",
            "7/7 [==============================] - 0s 4ms/step - loss: 0.6820 - accuracy: 0.5100\n",
            "Epoch 83/100\n",
            "7/7 [==============================] - 0s 4ms/step - loss: 0.6807 - accuracy: 0.5100\n",
            "Epoch 84/100\n",
            "7/7 [==============================] - 0s 4ms/step - loss: 0.6793 - accuracy: 0.5600\n",
            "Epoch 85/100\n",
            "7/7 [==============================] - 0s 4ms/step - loss: 0.6778 - accuracy: 0.8150\n",
            "Epoch 86/100\n",
            "7/7 [==============================] - 0s 3ms/step - loss: 0.6763 - accuracy: 0.7950\n",
            "Epoch 87/100\n",
            "7/7 [==============================] - 0s 3ms/step - loss: 0.6740 - accuracy: 0.7950\n",
            "Epoch 88/100\n",
            "7/7 [==============================] - 0s 4ms/step - loss: 0.6722 - accuracy: 0.7800\n",
            "Epoch 89/100\n",
            "7/7 [==============================] - 0s 3ms/step - loss: 0.6692 - accuracy: 0.8200\n",
            "Epoch 90/100\n",
            "7/7 [==============================] - 0s 4ms/step - loss: 0.6664 - accuracy: 0.8050\n",
            "Epoch 91/100\n",
            "7/7 [==============================] - 0s 4ms/step - loss: 0.6635 - accuracy: 0.8000\n",
            "Epoch 92/100\n",
            "7/7 [==============================] - 0s 3ms/step - loss: 0.6598 - accuracy: 0.8150\n",
            "Epoch 93/100\n",
            "7/7 [==============================] - 0s 3ms/step - loss: 0.6559 - accuracy: 0.8150\n",
            "Epoch 94/100\n",
            "7/7 [==============================] - 0s 4ms/step - loss: 0.6513 - accuracy: 0.8150\n",
            "Epoch 95/100\n",
            "7/7 [==============================] - 0s 3ms/step - loss: 0.6462 - accuracy: 0.8250\n",
            "Epoch 96/100\n",
            "7/7 [==============================] - 0s 3ms/step - loss: 0.6414 - accuracy: 0.8250\n",
            "Epoch 97/100\n",
            "7/7 [==============================] - 0s 3ms/step - loss: 0.6348 - accuracy: 0.8200\n",
            "Epoch 98/100\n",
            "7/7 [==============================] - 0s 4ms/step - loss: 0.6278 - accuracy: 0.8200\n",
            "Epoch 99/100\n",
            "7/7 [==============================] - 0s 4ms/step - loss: 0.6206 - accuracy: 0.8250\n",
            "Epoch 100/100\n",
            "7/7 [==============================] - 0s 5ms/step - loss: 0.6132 - accuracy: 0.8300\n"
          ]
        },
        {
          "output_type": "execute_result",
          "data": {
            "text/plain": [
              "<keras.callbacks.History at 0x7fee0efb1550>"
            ]
          },
          "metadata": {},
          "execution_count": 22
        }
      ]
    },
    {
      "cell_type": "code",
      "source": [
        "# in above as we show that \"loss\" will decrease with very very minimal or not decrease"
      ],
      "metadata": {
        "id": "p9c7bt9aeFMS"
      },
      "execution_count": null,
      "outputs": []
    },
    {
      "cell_type": "code",
      "source": [
        "new_weights = model.get_weights()[0]"
      ],
      "metadata": {
        "id": "KF_N2NhOdmWE"
      },
      "execution_count": 23,
      "outputs": []
    },
    {
      "cell_type": "code",
      "source": [
        "model.optimizer.get_config()['learning_rate']"
      ],
      "metadata": {
        "colab": {
          "base_uri": "https://localhost:8080/"
        },
        "id": "xjPCV__IdxAN",
        "outputId": "e7410729-2277-4120-b209-888c7b7746c6"
      },
      "execution_count": 26,
      "outputs": [
        {
          "output_type": "execute_result",
          "data": {
            "text/plain": [
              "0.001"
            ]
          },
          "metadata": {},
          "execution_count": 26
        }
      ]
    },
    {
      "cell_type": "code",
      "source": [
        "gradient = (old_weights - new_weights)/ 0.001\n",
        "percent_change = abs(100*(old_weights - new_weights)/ old_weights)"
      ],
      "metadata": {
        "id": "twKudn0Wd1sn"
      },
      "execution_count": 27,
      "outputs": []
    },
    {
      "cell_type": "code",
      "source": [
        "gradient"
      ],
      "metadata": {
        "colab": {
          "base_uri": "https://localhost:8080/"
        },
        "id": "qpqrR6g1eXdb",
        "outputId": "fe2c8d49-9407-4a8b-f5a5-a169bc0da412"
      },
      "execution_count": 28,
      "outputs": [
        {
          "output_type": "execute_result",
          "data": {
            "text/plain": [
              "array([[ -511.39816,   555.74774,  -817.52783,  -680.82697,   408.63977,\n",
              "          606.5332 ,  -550.18164,  -476.3594 ,   727.50745,   499.4145 ],\n",
              "       [ 1282.9275 , -1356.1868 ,  1373.7821 ,  1242.4675 , -1322.5927 ,\n",
              "        -1146.2784 ,  1363.7611 ,  1373.9282 , -1395.4141 , -1320.8842 ]],\n",
              "      dtype=float32)"
            ]
          },
          "metadata": {},
          "execution_count": 28
        }
      ]
    },
    {
      "cell_type": "code",
      "source": [
        "percent_change"
      ],
      "metadata": {
        "colab": {
          "base_uri": "https://localhost:8080/"
        },
        "id": "ncFfIC0CeZCI",
        "outputId": "cc739870-b616-4cb5-beb5-7b93192a806a"
      },
      "execution_count": 29,
      "outputs": [
        {
          "output_type": "execute_result",
          "data": {
            "text/plain": [
              "array([[  231.25333 ,   203.43459 ,   175.78265 ,   175.26428 ,\n",
              "           60.203346,   205.30531 ,   101.76409 ,    84.1397  ,\n",
              "          347.57358 ,    91.5773  ],\n",
              "       [ 2106.095   ,   603.5033  ,   257.97855 ,   495.6569  ,\n",
              "        11497.588   ,  1280.295   ,   194.42262 ,  1896.9874  ,\n",
              "          432.8953  ,   474.7603  ]], dtype=float32)"
            ]
          },
          "metadata": {},
          "execution_count": 29
        }
      ]
    },
    {
      "cell_type": "code",
      "source": [
        "old_weights"
      ],
      "metadata": {
        "colab": {
          "base_uri": "https://localhost:8080/"
        },
        "id": "HqXH6oQ6eaji",
        "outputId": "b2d5ce6c-74f6-4881-bf30-767c1d53d999"
      },
      "execution_count": 30,
      "outputs": [
        {
          "output_type": "execute_result",
          "data": {
            "text/plain": [
              "array([[ 0.221142  , -0.27318254, -0.46507883, -0.3884574 , -0.6787659 ,\n",
              "         0.2954299 ,  0.5406442 ,  0.566153  ,  0.20931035, -0.5453475 ],\n",
              "       [ 0.06091499,  0.22471905, -0.532518  , -0.2506709 ,  0.01150322,\n",
              "        -0.08953238,  0.7014416 , -0.07242686,  0.32234448, -0.27822128]],\n",
              "      dtype=float32)"
            ]
          },
          "metadata": {},
          "execution_count": 30
        }
      ]
    },
    {
      "cell_type": "code",
      "source": [
        "new_weights"
      ],
      "metadata": {
        "colab": {
          "base_uri": "https://localhost:8080/"
        },
        "id": "_m3pkPWDedDx",
        "outputId": "873a16b1-caae-47a5-8a3e-b30fd8f0a894"
      },
      "execution_count": 31,
      "outputs": [
        {
          "output_type": "execute_result",
          "data": {
            "text/plain": [
              "array([[ 0.7325402 , -0.82893026,  0.35244906,  0.29236963, -1.0874057 ,\n",
              "        -0.31110334,  1.0908259 ,  1.0425124 , -0.5181971 , -1.044762  ],\n",
              "       [-1.2220125 ,  1.5809059 , -1.9063002 , -1.4931386 ,  1.334096  ,\n",
              "         1.0567461 , -0.66231954, -1.4463552 ,  1.7177585 ,  1.042663  ]],\n",
              "      dtype=float32)"
            ]
          },
          "metadata": {},
          "execution_count": 31
        }
      ]
    },
    {
      "cell_type": "code",
      "source": [],
      "metadata": {
        "id": "hAQQRQp9eep0"
      },
      "execution_count": 31,
      "outputs": []
    },
    {
      "cell_type": "code",
      "source": [],
      "metadata": {
        "id": "6DVUlEoKfA9W"
      },
      "execution_count": null,
      "outputs": []
    },
    {
      "cell_type": "markdown",
      "source": [
        "* to overcome this problem we use 2 technique :-\n",
        "* 1) decrease the no of hidden layer \n",
        "* 2) instead using activation function -- \"sigmoid\"---> use \"relu\" and in final output use \"sigmoid\""
      ],
      "metadata": {
        "id": "timXn_mEfDdO"
      }
    },
    {
      "cell_type": "code",
      "source": [
        "model = Sequential()\n",
        "\n",
        "model.add(Dense(10,activation='relu',input_dim=2))\n",
        "model.add(Dense(10,activation='relu'))\n",
        "model.add(Dense(10,activation='relu'))\n",
        "model.add(Dense(10,activation='relu'))\n",
        "model.add(Dense(10,activation='relu'))\n",
        "model.add(Dense(10,activation='relu'))\n",
        "model.add(Dense(10,activation='relu'))\n",
        "model.add(Dense(10,activation='relu'))\n",
        "model.add(Dense(10,activation='relu'))\n",
        "model.add(Dense(10,activation='relu'))\n",
        "model.add(Dense(10,activation='relu'))\n",
        "model.add(Dense(1, activation='sigmoid'))"
      ],
      "metadata": {
        "id": "ZZil55YwfI8z"
      },
      "execution_count": 32,
      "outputs": []
    },
    {
      "cell_type": "code",
      "source": [
        "model.compile(loss='binary_crossentropy',optimizer='adam',metrics=['accuracy'])"
      ],
      "metadata": {
        "id": "Y7u0Srd8faRm"
      },
      "execution_count": 33,
      "outputs": []
    },
    {
      "cell_type": "code",
      "source": [
        "old_weights = model.get_weights()[0]"
      ],
      "metadata": {
        "id": "QojW8qv5fb33"
      },
      "execution_count": 34,
      "outputs": []
    },
    {
      "cell_type": "code",
      "source": [
        "X_train, X_test, y_train, y_test = train_test_split(X, y, test_size=0.20, random_state=42)"
      ],
      "metadata": {
        "id": "QVKZ6ha9fdnU"
      },
      "execution_count": 35,
      "outputs": []
    },
    {
      "cell_type": "code",
      "source": [
        "model.fit(X_train, y_train, epochs = 100)"
      ],
      "metadata": {
        "colab": {
          "base_uri": "https://localhost:8080/"
        },
        "id": "UJgjWIf5fe5n",
        "outputId": "5cfb7218-3d4e-4a8b-dcc3-e396f500e72c"
      },
      "execution_count": 36,
      "outputs": [
        {
          "output_type": "stream",
          "name": "stdout",
          "text": [
            "Epoch 1/100\n",
            "7/7 [==============================] - 3s 4ms/step - loss: 0.6822 - accuracy: 0.6300\n",
            "Epoch 2/100\n",
            "7/7 [==============================] - 0s 3ms/step - loss: 0.6732 - accuracy: 0.7400\n",
            "Epoch 3/100\n",
            "7/7 [==============================] - 0s 3ms/step - loss: 0.6627 - accuracy: 0.7250\n",
            "Epoch 4/100\n",
            "7/7 [==============================] - 0s 3ms/step - loss: 0.6488 - accuracy: 0.7500\n",
            "Epoch 5/100\n",
            "7/7 [==============================] - 0s 4ms/step - loss: 0.6313 - accuracy: 0.7600\n",
            "Epoch 6/100\n",
            "7/7 [==============================] - 0s 3ms/step - loss: 0.6072 - accuracy: 0.7750\n",
            "Epoch 7/100\n",
            "7/7 [==============================] - 0s 4ms/step - loss: 0.5797 - accuracy: 0.8050\n",
            "Epoch 8/100\n",
            "7/7 [==============================] - 0s 4ms/step - loss: 0.5512 - accuracy: 0.8150\n",
            "Epoch 9/100\n",
            "7/7 [==============================] - 0s 4ms/step - loss: 0.5268 - accuracy: 0.8300\n",
            "Epoch 10/100\n",
            "7/7 [==============================] - 0s 4ms/step - loss: 0.5104 - accuracy: 0.8400\n",
            "Epoch 11/100\n",
            "7/7 [==============================] - 0s 4ms/step - loss: 0.4984 - accuracy: 0.8350\n",
            "Epoch 12/100\n",
            "7/7 [==============================] - 0s 3ms/step - loss: 0.4868 - accuracy: 0.8400\n",
            "Epoch 13/100\n",
            "7/7 [==============================] - 0s 3ms/step - loss: 0.4758 - accuracy: 0.8450\n",
            "Epoch 14/100\n",
            "7/7 [==============================] - 0s 3ms/step - loss: 0.4660 - accuracy: 0.8450\n",
            "Epoch 15/100\n",
            "7/7 [==============================] - 0s 4ms/step - loss: 0.4560 - accuracy: 0.8450\n",
            "Epoch 16/100\n",
            "7/7 [==============================] - 0s 3ms/step - loss: 0.4471 - accuracy: 0.8500\n",
            "Epoch 17/100\n",
            "7/7 [==============================] - 0s 3ms/step - loss: 0.4401 - accuracy: 0.8600\n",
            "Epoch 18/100\n",
            "7/7 [==============================] - 0s 4ms/step - loss: 0.4334 - accuracy: 0.8650\n",
            "Epoch 19/100\n",
            "7/7 [==============================] - 0s 4ms/step - loss: 0.4288 - accuracy: 0.8650\n",
            "Epoch 20/100\n",
            "7/7 [==============================] - 0s 4ms/step - loss: 0.4221 - accuracy: 0.8650\n",
            "Epoch 21/100\n",
            "7/7 [==============================] - 0s 3ms/step - loss: 0.4165 - accuracy: 0.8650\n",
            "Epoch 22/100\n",
            "7/7 [==============================] - 0s 4ms/step - loss: 0.4126 - accuracy: 0.8650\n",
            "Epoch 23/100\n",
            "7/7 [==============================] - 0s 3ms/step - loss: 0.4059 - accuracy: 0.8600\n",
            "Epoch 24/100\n",
            "7/7 [==============================] - 0s 4ms/step - loss: 0.4030 - accuracy: 0.8600\n",
            "Epoch 25/100\n",
            "7/7 [==============================] - 0s 4ms/step - loss: 0.3942 - accuracy: 0.8600\n",
            "Epoch 26/100\n",
            "7/7 [==============================] - 0s 3ms/step - loss: 0.3876 - accuracy: 0.8650\n",
            "Epoch 27/100\n",
            "7/7 [==============================] - 0s 4ms/step - loss: 0.3812 - accuracy: 0.8750\n",
            "Epoch 28/100\n",
            "7/7 [==============================] - 0s 3ms/step - loss: 0.3751 - accuracy: 0.8700\n",
            "Epoch 29/100\n",
            "7/7 [==============================] - 0s 4ms/step - loss: 0.3677 - accuracy: 0.8800\n",
            "Epoch 30/100\n",
            "7/7 [==============================] - 0s 3ms/step - loss: 0.3649 - accuracy: 0.8750\n",
            "Epoch 31/100\n",
            "7/7 [==============================] - 0s 3ms/step - loss: 0.3606 - accuracy: 0.8800\n",
            "Epoch 32/100\n",
            "7/7 [==============================] - 0s 4ms/step - loss: 0.3481 - accuracy: 0.8850\n",
            "Epoch 33/100\n",
            "7/7 [==============================] - 0s 3ms/step - loss: 0.3494 - accuracy: 0.8750\n",
            "Epoch 34/100\n",
            "7/7 [==============================] - 0s 3ms/step - loss: 0.3383 - accuracy: 0.8750\n",
            "Epoch 35/100\n",
            "7/7 [==============================] - 0s 3ms/step - loss: 0.3314 - accuracy: 0.8800\n",
            "Epoch 36/100\n",
            "7/7 [==============================] - 0s 3ms/step - loss: 0.3216 - accuracy: 0.8900\n",
            "Epoch 37/100\n",
            "7/7 [==============================] - 0s 4ms/step - loss: 0.3147 - accuracy: 0.8800\n",
            "Epoch 38/100\n",
            "7/7 [==============================] - 0s 6ms/step - loss: 0.3035 - accuracy: 0.8900\n",
            "Epoch 39/100\n",
            "7/7 [==============================] - 0s 4ms/step - loss: 0.2938 - accuracy: 0.8950\n",
            "Epoch 40/100\n",
            "7/7 [==============================] - 0s 4ms/step - loss: 0.2864 - accuracy: 0.8900\n",
            "Epoch 41/100\n",
            "7/7 [==============================] - 0s 4ms/step - loss: 0.2735 - accuracy: 0.8950\n",
            "Epoch 42/100\n",
            "7/7 [==============================] - 0s 4ms/step - loss: 0.2615 - accuracy: 0.8950\n",
            "Epoch 43/100\n",
            "7/7 [==============================] - 0s 3ms/step - loss: 0.2531 - accuracy: 0.8950\n",
            "Epoch 44/100\n",
            "7/7 [==============================] - 0s 3ms/step - loss: 0.2360 - accuracy: 0.8950\n",
            "Epoch 45/100\n",
            "7/7 [==============================] - 0s 3ms/step - loss: 0.2201 - accuracy: 0.8950\n",
            "Epoch 46/100\n",
            "7/7 [==============================] - 0s 4ms/step - loss: 0.1942 - accuracy: 0.9000\n",
            "Epoch 47/100\n",
            "7/7 [==============================] - 0s 4ms/step - loss: 0.1822 - accuracy: 0.9000\n",
            "Epoch 48/100\n",
            "7/7 [==============================] - 0s 4ms/step - loss: 0.1551 - accuracy: 0.9000\n",
            "Epoch 49/100\n",
            "7/7 [==============================] - 0s 3ms/step - loss: 0.1365 - accuracy: 0.9000\n",
            "Epoch 50/100\n",
            "7/7 [==============================] - 0s 5ms/step - loss: 0.1154 - accuracy: 0.9050\n",
            "Epoch 51/100\n",
            "7/7 [==============================] - 0s 3ms/step - loss: 0.0995 - accuracy: 0.9400\n",
            "Epoch 52/100\n",
            "7/7 [==============================] - 0s 3ms/step - loss: 0.0828 - accuracy: 0.9850\n",
            "Epoch 53/100\n",
            "7/7 [==============================] - 0s 3ms/step - loss: 0.0680 - accuracy: 0.9950\n",
            "Epoch 54/100\n",
            "7/7 [==============================] - 0s 3ms/step - loss: 0.0545 - accuracy: 1.0000\n",
            "Epoch 55/100\n",
            "7/7 [==============================] - 0s 3ms/step - loss: 0.0438 - accuracy: 1.0000\n",
            "Epoch 56/100\n",
            "7/7 [==============================] - 0s 4ms/step - loss: 0.0329 - accuracy: 1.0000\n",
            "Epoch 57/100\n",
            "7/7 [==============================] - 0s 4ms/step - loss: 0.0230 - accuracy: 1.0000\n",
            "Epoch 58/100\n",
            "7/7 [==============================] - 0s 4ms/step - loss: 0.0163 - accuracy: 1.0000\n",
            "Epoch 59/100\n",
            "7/7 [==============================] - 0s 3ms/step - loss: 0.0117 - accuracy: 1.0000\n",
            "Epoch 60/100\n",
            "7/7 [==============================] - 0s 3ms/step - loss: 0.0090 - accuracy: 1.0000\n",
            "Epoch 61/100\n",
            "7/7 [==============================] - 0s 3ms/step - loss: 0.0068 - accuracy: 1.0000\n",
            "Epoch 62/100\n",
            "7/7 [==============================] - 0s 3ms/step - loss: 0.0059 - accuracy: 1.0000\n",
            "Epoch 63/100\n",
            "7/7 [==============================] - 0s 3ms/step - loss: 0.0044 - accuracy: 1.0000\n",
            "Epoch 64/100\n",
            "7/7 [==============================] - 0s 3ms/step - loss: 0.0036 - accuracy: 1.0000\n",
            "Epoch 65/100\n",
            "7/7 [==============================] - 0s 3ms/step - loss: 0.0031 - accuracy: 1.0000\n",
            "Epoch 66/100\n",
            "7/7 [==============================] - 0s 3ms/step - loss: 0.0027 - accuracy: 1.0000\n",
            "Epoch 67/100\n",
            "7/7 [==============================] - 0s 3ms/step - loss: 0.0023 - accuracy: 1.0000\n",
            "Epoch 68/100\n",
            "7/7 [==============================] - 0s 3ms/step - loss: 0.0021 - accuracy: 1.0000\n",
            "Epoch 69/100\n",
            "7/7 [==============================] - 0s 4ms/step - loss: 0.0019 - accuracy: 1.0000\n",
            "Epoch 70/100\n",
            "7/7 [==============================] - 0s 5ms/step - loss: 0.0018 - accuracy: 1.0000\n",
            "Epoch 71/100\n",
            "7/7 [==============================] - 0s 4ms/step - loss: 0.0016 - accuracy: 1.0000\n",
            "Epoch 72/100\n",
            "7/7 [==============================] - 0s 3ms/step - loss: 0.0015 - accuracy: 1.0000\n",
            "Epoch 73/100\n",
            "7/7 [==============================] - 0s 4ms/step - loss: 0.0014 - accuracy: 1.0000\n",
            "Epoch 74/100\n",
            "7/7 [==============================] - 0s 4ms/step - loss: 0.0012 - accuracy: 1.0000\n",
            "Epoch 75/100\n",
            "7/7 [==============================] - 0s 4ms/step - loss: 0.0012 - accuracy: 1.0000\n",
            "Epoch 76/100\n",
            "7/7 [==============================] - 0s 3ms/step - loss: 0.0011 - accuracy: 1.0000\n",
            "Epoch 77/100\n",
            "7/7 [==============================] - 0s 4ms/step - loss: 0.0010 - accuracy: 1.0000\n",
            "Epoch 78/100\n",
            "7/7 [==============================] - 0s 4ms/step - loss: 9.5534e-04 - accuracy: 1.0000\n",
            "Epoch 79/100\n",
            "7/7 [==============================] - 0s 3ms/step - loss: 8.8352e-04 - accuracy: 1.0000\n",
            "Epoch 80/100\n",
            "7/7 [==============================] - 0s 4ms/step - loss: 8.3327e-04 - accuracy: 1.0000\n",
            "Epoch 81/100\n",
            "7/7 [==============================] - 0s 3ms/step - loss: 7.8759e-04 - accuracy: 1.0000\n",
            "Epoch 82/100\n",
            "7/7 [==============================] - 0s 4ms/step - loss: 7.4850e-04 - accuracy: 1.0000\n",
            "Epoch 83/100\n",
            "7/7 [==============================] - 0s 4ms/step - loss: 7.0864e-04 - accuracy: 1.0000\n",
            "Epoch 84/100\n",
            "7/7 [==============================] - 0s 4ms/step - loss: 6.7651e-04 - accuracy: 1.0000\n",
            "Epoch 85/100\n",
            "7/7 [==============================] - 0s 3ms/step - loss: 6.4788e-04 - accuracy: 1.0000\n",
            "Epoch 86/100\n",
            "7/7 [==============================] - 0s 4ms/step - loss: 6.2020e-04 - accuracy: 1.0000\n",
            "Epoch 87/100\n",
            "7/7 [==============================] - 0s 4ms/step - loss: 5.8903e-04 - accuracy: 1.0000\n",
            "Epoch 88/100\n",
            "7/7 [==============================] - 0s 3ms/step - loss: 5.6424e-04 - accuracy: 1.0000\n",
            "Epoch 89/100\n",
            "7/7 [==============================] - 0s 5ms/step - loss: 5.3975e-04 - accuracy: 1.0000\n",
            "Epoch 90/100\n",
            "7/7 [==============================] - 0s 4ms/step - loss: 5.1942e-04 - accuracy: 1.0000\n",
            "Epoch 91/100\n",
            "7/7 [==============================] - 0s 3ms/step - loss: 4.9836e-04 - accuracy: 1.0000\n",
            "Epoch 92/100\n",
            "7/7 [==============================] - 0s 4ms/step - loss: 4.7957e-04 - accuracy: 1.0000\n",
            "Epoch 93/100\n",
            "7/7 [==============================] - 0s 3ms/step - loss: 4.6237e-04 - accuracy: 1.0000\n",
            "Epoch 94/100\n",
            "7/7 [==============================] - 0s 4ms/step - loss: 4.4373e-04 - accuracy: 1.0000\n",
            "Epoch 95/100\n",
            "7/7 [==============================] - 0s 3ms/step - loss: 4.2798e-04 - accuracy: 1.0000\n",
            "Epoch 96/100\n",
            "7/7 [==============================] - 0s 3ms/step - loss: 4.1279e-04 - accuracy: 1.0000\n",
            "Epoch 97/100\n",
            "7/7 [==============================] - 0s 4ms/step - loss: 3.9823e-04 - accuracy: 1.0000\n",
            "Epoch 98/100\n",
            "7/7 [==============================] - 0s 3ms/step - loss: 3.8748e-04 - accuracy: 1.0000\n",
            "Epoch 99/100\n",
            "7/7 [==============================] - 0s 3ms/step - loss: 3.7310e-04 - accuracy: 1.0000\n",
            "Epoch 100/100\n",
            "7/7 [==============================] - 0s 3ms/step - loss: 3.5944e-04 - accuracy: 1.0000\n"
          ]
        },
        {
          "output_type": "execute_result",
          "data": {
            "text/plain": [
              "<keras.callbacks.History at 0x7fee0f7c38b0>"
            ]
          },
          "metadata": {},
          "execution_count": 36
        }
      ]
    },
    {
      "cell_type": "code",
      "source": [
        "new_weights = model.get_weights()[0]"
      ],
      "metadata": {
        "id": "WBniJbvvfgtD"
      },
      "execution_count": 37,
      "outputs": []
    },
    {
      "cell_type": "code",
      "source": [
        "model.optimizer.get_config()[\"learning_rate\"]"
      ],
      "metadata": {
        "colab": {
          "base_uri": "https://localhost:8080/"
        },
        "id": "rxGzmaTGfjy6",
        "outputId": "6e90a826-5bee-4299-c626-38f5219eca13"
      },
      "execution_count": 38,
      "outputs": [
        {
          "output_type": "execute_result",
          "data": {
            "text/plain": [
              "0.001"
            ]
          },
          "metadata": {},
          "execution_count": 38
        }
      ]
    },
    {
      "cell_type": "code",
      "source": [
        "gradient = (old_weights - new_weights)/ 0.001\n",
        "percent_change = abs(100*(old_weights - new_weights)/ old_weights)"
      ],
      "metadata": {
        "id": "31S8lGtbflvK"
      },
      "execution_count": 39,
      "outputs": []
    },
    {
      "cell_type": "code",
      "source": [
        "gradient"
      ],
      "metadata": {
        "colab": {
          "base_uri": "https://localhost:8080/"
        },
        "id": "ubaNa6BcfoC6",
        "outputId": "71a47f43-30ed-4f43-f39c-2098f72eaa70"
      },
      "execution_count": 40,
      "outputs": [
        {
          "output_type": "execute_result",
          "data": {
            "text/plain": [
              "array([[ -11.019885,   21.564005, -188.13371 ,  199.08284 ,  -30.81615 ,\n",
              "         254.97006 ,  -50.084915,   70.35048 ,  -40.844364,    5.337089],\n",
              "       [  91.09485 ,  190.23787 , -130.5746  , -105.24332 , -109.187004,\n",
              "         -46.82934 ,  -69.19479 ,  -65.8887  ,  -11.868074,  265.87503 ]],\n",
              "      dtype=float32)"
            ]
          },
          "metadata": {},
          "execution_count": 40
        }
      ]
    },
    {
      "cell_type": "code",
      "source": [
        "percent_change"
      ],
      "metadata": {
        "colab": {
          "base_uri": "https://localhost:8080/"
        },
        "id": "DBPibXW9fprn",
        "outputId": "2554d120-8b48-4217-f468-b747eb4d4982"
      },
      "execution_count": 41,
      "outputs": [
        {
          "output_type": "execute_result",
          "data": {
            "text/plain": [
              "array([[  1.8079718,   4.0419908,  28.96405  , 110.220505 ,  37.58135  ,\n",
              "         70.09706  ,  34.191334 , 134.77007  ,  61.008873 ,   4.000362 ],\n",
              "       [ 14.933618 , 131.31824  , 290.86536  ,  23.090376 ,  17.75801  ,\n",
              "         21.380901 ,  13.8665   ,  10.488251 ,   5.2062473,  43.545193 ]],\n",
              "      dtype=float32)"
            ]
          },
          "metadata": {},
          "execution_count": 41
        }
      ]
    },
    {
      "cell_type": "code",
      "source": [
        "old_weights"
      ],
      "metadata": {
        "colab": {
          "base_uri": "https://localhost:8080/"
        },
        "id": "oMkdw3oFfq7z",
        "outputId": "02f07e7c-ae8b-479a-9228-9b23bddff90d"
      },
      "execution_count": 42,
      "outputs": [
        {
          "output_type": "execute_result",
          "data": {
            "text/plain": [
              "array([[ 0.60951644,  0.53349966,  0.64954215, -0.18062234,  0.08199853,\n",
              "        -0.3637386 ,  0.14648426, -0.05220038, -0.06694824, -0.13341516],\n",
              "       [-0.6099986 , -0.14486784,  0.04489177,  0.45578867,  0.6148606 ,\n",
              "         0.21902418,  0.49900693, -0.6282144 ,  0.22795832, -0.61057264]],\n",
              "      dtype=float32)"
            ]
          },
          "metadata": {},
          "execution_count": 42
        }
      ]
    },
    {
      "cell_type": "code",
      "source": [
        "new_weights"
      ],
      "metadata": {
        "colab": {
          "base_uri": "https://localhost:8080/"
        },
        "id": "bbQODCaZfuJp",
        "outputId": "3727fb0a-35ea-4b37-9f59-3df0d4d3bd99"
      },
      "execution_count": 43,
      "outputs": [
        {
          "output_type": "execute_result",
          "data": {
            "text/plain": [
              "array([[ 0.6205363 ,  0.51193565,  0.83767587, -0.3797052 ,  0.11281468,\n",
              "        -0.61870867,  0.19656917, -0.12255086, -0.02610387, -0.13875225],\n",
              "       [-0.70109344, -0.33510572,  0.17546639,  0.561032  ,  0.7240476 ,\n",
              "         0.26585352,  0.5682017 , -0.5623257 ,  0.2398264 , -0.8764477 ]],\n",
              "      dtype=float32)"
            ]
          },
          "metadata": {},
          "execution_count": 43
        }
      ]
    },
    {
      "cell_type": "code",
      "source": [],
      "metadata": {
        "id": "G2biKJWRfvVO"
      },
      "execution_count": null,
      "outputs": []
    }
  ]
}