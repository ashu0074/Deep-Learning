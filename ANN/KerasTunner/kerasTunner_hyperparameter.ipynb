{
  "nbformat": 4,
  "nbformat_minor": 0,
  "metadata": {
    "colab": {
      "provenance": []
    },
    "kernelspec": {
      "name": "python3",
      "display_name": "Python 3"
    },
    "language_info": {
      "name": "python"
    }
  },
  "cells": [
    {
      "cell_type": "code",
      "execution_count": 1,
      "metadata": {
        "id": "_iYFtHlCdVCq"
      },
      "outputs": [],
      "source": [
        "# in this we use the hyperparameter tunning in the Keras (Deep learning)"
      ]
    },
    {
      "cell_type": "code",
      "source": [],
      "metadata": {
        "id": "oMZdwF2plCt1"
      },
      "execution_count": 1,
      "outputs": []
    },
    {
      "cell_type": "markdown",
      "source": [
        "**\"Keras Tunner**\" Library"
      ],
      "metadata": {
        "id": "pC08LoUZlDtF"
      }
    },
    {
      "cell_type": "code",
      "source": [
        "import numpy as np\n",
        "import pandas as pd"
      ],
      "metadata": {
        "id": "s5Z8uzb3dlwt"
      },
      "execution_count": 2,
      "outputs": []
    },
    {
      "cell_type": "code",
      "source": [
        "df = pd.read_csv(\"/content/diabetes.csv\")"
      ],
      "metadata": {
        "id": "lrYu_jp5eO3W"
      },
      "execution_count": 4,
      "outputs": []
    },
    {
      "cell_type": "code",
      "source": [
        "df.head()"
      ],
      "metadata": {
        "colab": {
          "base_uri": "https://localhost:8080/",
          "height": 206
        },
        "id": "XPnolzt8eXQ9",
        "outputId": "a7182d93-a888-41a4-bb84-ee2045f89ba1"
      },
      "execution_count": 5,
      "outputs": [
        {
          "output_type": "execute_result",
          "data": {
            "text/plain": [
              "   Pregnancies  Glucose  BloodPressure  SkinThickness  Insulin   BMI  \\\n",
              "0            6      148             72             35        0  33.6   \n",
              "1            1       85             66             29        0  26.6   \n",
              "2            8      183             64              0        0  23.3   \n",
              "3            1       89             66             23       94  28.1   \n",
              "4            0      137             40             35      168  43.1   \n",
              "\n",
              "   DiabetesPedigreeFunction  Age  Outcome  \n",
              "0                     0.627   50        1  \n",
              "1                     0.351   31        0  \n",
              "2                     0.672   32        1  \n",
              "3                     0.167   21        0  \n",
              "4                     2.288   33        1  "
            ],
            "text/html": [
              "\n",
              "  <div id=\"df-93d45abb-e11f-48dd-8e62-0aa98f0d11b4\">\n",
              "    <div class=\"colab-df-container\">\n",
              "      <div>\n",
              "<style scoped>\n",
              "    .dataframe tbody tr th:only-of-type {\n",
              "        vertical-align: middle;\n",
              "    }\n",
              "\n",
              "    .dataframe tbody tr th {\n",
              "        vertical-align: top;\n",
              "    }\n",
              "\n",
              "    .dataframe thead th {\n",
              "        text-align: right;\n",
              "    }\n",
              "</style>\n",
              "<table border=\"1\" class=\"dataframe\">\n",
              "  <thead>\n",
              "    <tr style=\"text-align: right;\">\n",
              "      <th></th>\n",
              "      <th>Pregnancies</th>\n",
              "      <th>Glucose</th>\n",
              "      <th>BloodPressure</th>\n",
              "      <th>SkinThickness</th>\n",
              "      <th>Insulin</th>\n",
              "      <th>BMI</th>\n",
              "      <th>DiabetesPedigreeFunction</th>\n",
              "      <th>Age</th>\n",
              "      <th>Outcome</th>\n",
              "    </tr>\n",
              "  </thead>\n",
              "  <tbody>\n",
              "    <tr>\n",
              "      <th>0</th>\n",
              "      <td>6</td>\n",
              "      <td>148</td>\n",
              "      <td>72</td>\n",
              "      <td>35</td>\n",
              "      <td>0</td>\n",
              "      <td>33.6</td>\n",
              "      <td>0.627</td>\n",
              "      <td>50</td>\n",
              "      <td>1</td>\n",
              "    </tr>\n",
              "    <tr>\n",
              "      <th>1</th>\n",
              "      <td>1</td>\n",
              "      <td>85</td>\n",
              "      <td>66</td>\n",
              "      <td>29</td>\n",
              "      <td>0</td>\n",
              "      <td>26.6</td>\n",
              "      <td>0.351</td>\n",
              "      <td>31</td>\n",
              "      <td>0</td>\n",
              "    </tr>\n",
              "    <tr>\n",
              "      <th>2</th>\n",
              "      <td>8</td>\n",
              "      <td>183</td>\n",
              "      <td>64</td>\n",
              "      <td>0</td>\n",
              "      <td>0</td>\n",
              "      <td>23.3</td>\n",
              "      <td>0.672</td>\n",
              "      <td>32</td>\n",
              "      <td>1</td>\n",
              "    </tr>\n",
              "    <tr>\n",
              "      <th>3</th>\n",
              "      <td>1</td>\n",
              "      <td>89</td>\n",
              "      <td>66</td>\n",
              "      <td>23</td>\n",
              "      <td>94</td>\n",
              "      <td>28.1</td>\n",
              "      <td>0.167</td>\n",
              "      <td>21</td>\n",
              "      <td>0</td>\n",
              "    </tr>\n",
              "    <tr>\n",
              "      <th>4</th>\n",
              "      <td>0</td>\n",
              "      <td>137</td>\n",
              "      <td>40</td>\n",
              "      <td>35</td>\n",
              "      <td>168</td>\n",
              "      <td>43.1</td>\n",
              "      <td>2.288</td>\n",
              "      <td>33</td>\n",
              "      <td>1</td>\n",
              "    </tr>\n",
              "  </tbody>\n",
              "</table>\n",
              "</div>\n",
              "      <button class=\"colab-df-convert\" onclick=\"convertToInteractive('df-93d45abb-e11f-48dd-8e62-0aa98f0d11b4')\"\n",
              "              title=\"Convert this dataframe to an interactive table.\"\n",
              "              style=\"display:none;\">\n",
              "        \n",
              "  <svg xmlns=\"http://www.w3.org/2000/svg\" height=\"24px\"viewBox=\"0 0 24 24\"\n",
              "       width=\"24px\">\n",
              "    <path d=\"M0 0h24v24H0V0z\" fill=\"none\"/>\n",
              "    <path d=\"M18.56 5.44l.94 2.06.94-2.06 2.06-.94-2.06-.94-.94-2.06-.94 2.06-2.06.94zm-11 1L8.5 8.5l.94-2.06 2.06-.94-2.06-.94L8.5 2.5l-.94 2.06-2.06.94zm10 10l.94 2.06.94-2.06 2.06-.94-2.06-.94-.94-2.06-.94 2.06-2.06.94z\"/><path d=\"M17.41 7.96l-1.37-1.37c-.4-.4-.92-.59-1.43-.59-.52 0-1.04.2-1.43.59L10.3 9.45l-7.72 7.72c-.78.78-.78 2.05 0 2.83L4 21.41c.39.39.9.59 1.41.59.51 0 1.02-.2 1.41-.59l7.78-7.78 2.81-2.81c.8-.78.8-2.07 0-2.86zM5.41 20L4 18.59l7.72-7.72 1.47 1.35L5.41 20z\"/>\n",
              "  </svg>\n",
              "      </button>\n",
              "      \n",
              "  <style>\n",
              "    .colab-df-container {\n",
              "      display:flex;\n",
              "      flex-wrap:wrap;\n",
              "      gap: 12px;\n",
              "    }\n",
              "\n",
              "    .colab-df-convert {\n",
              "      background-color: #E8F0FE;\n",
              "      border: none;\n",
              "      border-radius: 50%;\n",
              "      cursor: pointer;\n",
              "      display: none;\n",
              "      fill: #1967D2;\n",
              "      height: 32px;\n",
              "      padding: 0 0 0 0;\n",
              "      width: 32px;\n",
              "    }\n",
              "\n",
              "    .colab-df-convert:hover {\n",
              "      background-color: #E2EBFA;\n",
              "      box-shadow: 0px 1px 2px rgba(60, 64, 67, 0.3), 0px 1px 3px 1px rgba(60, 64, 67, 0.15);\n",
              "      fill: #174EA6;\n",
              "    }\n",
              "\n",
              "    [theme=dark] .colab-df-convert {\n",
              "      background-color: #3B4455;\n",
              "      fill: #D2E3FC;\n",
              "    }\n",
              "\n",
              "    [theme=dark] .colab-df-convert:hover {\n",
              "      background-color: #434B5C;\n",
              "      box-shadow: 0px 1px 3px 1px rgba(0, 0, 0, 0.15);\n",
              "      filter: drop-shadow(0px 1px 2px rgba(0, 0, 0, 0.3));\n",
              "      fill: #FFFFFF;\n",
              "    }\n",
              "  </style>\n",
              "\n",
              "      <script>\n",
              "        const buttonEl =\n",
              "          document.querySelector('#df-93d45abb-e11f-48dd-8e62-0aa98f0d11b4 button.colab-df-convert');\n",
              "        buttonEl.style.display =\n",
              "          google.colab.kernel.accessAllowed ? 'block' : 'none';\n",
              "\n",
              "        async function convertToInteractive(key) {\n",
              "          const element = document.querySelector('#df-93d45abb-e11f-48dd-8e62-0aa98f0d11b4');\n",
              "          const dataTable =\n",
              "            await google.colab.kernel.invokeFunction('convertToInteractive',\n",
              "                                                     [key], {});\n",
              "          if (!dataTable) return;\n",
              "\n",
              "          const docLinkHtml = 'Like what you see? Visit the ' +\n",
              "            '<a target=\"_blank\" href=https://colab.research.google.com/notebooks/data_table.ipynb>data table notebook</a>'\n",
              "            + ' to learn more about interactive tables.';\n",
              "          element.innerHTML = '';\n",
              "          dataTable['output_type'] = 'display_data';\n",
              "          await google.colab.output.renderOutput(dataTable, element);\n",
              "          const docLink = document.createElement('div');\n",
              "          docLink.innerHTML = docLinkHtml;\n",
              "          element.appendChild(docLink);\n",
              "        }\n",
              "      </script>\n",
              "    </div>\n",
              "  </div>\n",
              "  "
            ]
          },
          "metadata": {},
          "execution_count": 5
        }
      ]
    },
    {
      "cell_type": "code",
      "source": [
        "# in this it show diabetes h ki nahi "
      ],
      "metadata": {
        "id": "1hESoUPoehpo"
      },
      "execution_count": 6,
      "outputs": []
    },
    {
      "cell_type": "code",
      "source": [
        "# correlation in term of \"outcome\" to check correlation h ki bhi nahi \n",
        "df.corr()['Outcome']"
      ],
      "metadata": {
        "colab": {
          "base_uri": "https://localhost:8080/"
        },
        "id": "7OYP6g28e5IG",
        "outputId": "9c0c53ab-af64-4f66-a06b-79dc732f30de"
      },
      "execution_count": 7,
      "outputs": [
        {
          "output_type": "execute_result",
          "data": {
            "text/plain": [
              "Pregnancies                 0.221898\n",
              "Glucose                     0.466581\n",
              "BloodPressure               0.065068\n",
              "SkinThickness               0.074752\n",
              "Insulin                     0.130548\n",
              "BMI                         0.292695\n",
              "DiabetesPedigreeFunction    0.173844\n",
              "Age                         0.238356\n",
              "Outcome                     1.000000\n",
              "Name: Outcome, dtype: float64"
            ]
          },
          "metadata": {},
          "execution_count": 7
        }
      ]
    },
    {
      "cell_type": "code",
      "source": [
        "X = df.iloc[:,:-1].values\n",
        "y = df.iloc[:,-1].values"
      ],
      "metadata": {
        "id": "cGRpUMqufJJm"
      },
      "execution_count": 8,
      "outputs": []
    },
    {
      "cell_type": "code",
      "source": [
        "X"
      ],
      "metadata": {
        "colab": {
          "base_uri": "https://localhost:8080/"
        },
        "id": "ZgTegsRSfwfZ",
        "outputId": "69590051-e64d-4895-83ae-1829dae1a8fd"
      },
      "execution_count": 9,
      "outputs": [
        {
          "output_type": "execute_result",
          "data": {
            "text/plain": [
              "array([[  6.   , 148.   ,  72.   , ...,  33.6  ,   0.627,  50.   ],\n",
              "       [  1.   ,  85.   ,  66.   , ...,  26.6  ,   0.351,  31.   ],\n",
              "       [  8.   , 183.   ,  64.   , ...,  23.3  ,   0.672,  32.   ],\n",
              "       ...,\n",
              "       [  5.   , 121.   ,  72.   , ...,  26.2  ,   0.245,  30.   ],\n",
              "       [  1.   , 126.   ,  60.   , ...,  30.1  ,   0.349,  47.   ],\n",
              "       [  1.   ,  93.   ,  70.   , ...,  30.4  ,   0.315,  23.   ]])"
            ]
          },
          "metadata": {},
          "execution_count": 9
        }
      ]
    },
    {
      "cell_type": "code",
      "source": [
        "# data is very so we can scale the data :-\\\n",
        "from sklearn.preprocessing import StandardScaler\n",
        "scaler = StandardScaler()"
      ],
      "metadata": {
        "id": "3h5odsurf6LM"
      },
      "execution_count": 10,
      "outputs": []
    },
    {
      "cell_type": "code",
      "source": [
        "X = scaler.fit_transform(X)"
      ],
      "metadata": {
        "id": "2746z6ftgQh4"
      },
      "execution_count": 11,
      "outputs": []
    },
    {
      "cell_type": "code",
      "source": [
        "X"
      ],
      "metadata": {
        "colab": {
          "base_uri": "https://localhost:8080/"
        },
        "id": "aEj4-UHyga_A",
        "outputId": "863bf193-77d0-4c69-a2ef-c57b36e555cf"
      },
      "execution_count": 12,
      "outputs": [
        {
          "output_type": "execute_result",
          "data": {
            "text/plain": [
              "array([[ 0.63994726,  0.84832379,  0.14964075, ...,  0.20401277,\n",
              "         0.46849198,  1.4259954 ],\n",
              "       [-0.84488505, -1.12339636, -0.16054575, ..., -0.68442195,\n",
              "        -0.36506078, -0.19067191],\n",
              "       [ 1.23388019,  1.94372388, -0.26394125, ..., -1.10325546,\n",
              "         0.60439732, -0.10558415],\n",
              "       ...,\n",
              "       [ 0.3429808 ,  0.00330087,  0.14964075, ..., -0.73518964,\n",
              "        -0.68519336, -0.27575966],\n",
              "       [-0.84488505,  0.1597866 , -0.47073225, ..., -0.24020459,\n",
              "        -0.37110101,  1.17073215],\n",
              "       [-0.84488505, -0.8730192 ,  0.04624525, ..., -0.20212881,\n",
              "        -0.47378505, -0.87137393]])"
            ]
          },
          "metadata": {},
          "execution_count": 12
        }
      ]
    },
    {
      "cell_type": "code",
      "source": [
        "X.shape"
      ],
      "metadata": {
        "colab": {
          "base_uri": "https://localhost:8080/"
        },
        "id": "K0Ss_BtLgjje",
        "outputId": "2473b337-0af2-484d-ab3c-601dd4a4fd6d"
      },
      "execution_count": 13,
      "outputs": [
        {
          "output_type": "execute_result",
          "data": {
            "text/plain": [
              "(768, 8)"
            ]
          },
          "metadata": {},
          "execution_count": 13
        }
      ]
    },
    {
      "cell_type": "code",
      "source": [
        "# now we select the model :-\n",
        "from sklearn.model_selection import train_test_split\n",
        "X_train,X_test,y_train,y_test = train_test_split(X,y,test_size = 0.20,random_state = 1)"
      ],
      "metadata": {
        "id": "ey4JexqWglqj"
      },
      "execution_count": 14,
      "outputs": []
    },
    {
      "cell_type": "code",
      "source": [
        "import tensorflow\n",
        "from tensorflow import keras\n",
        "from keras import Sequential\n",
        "from keras.layers import Dense,Dropout"
      ],
      "metadata": {
        "id": "DNUeQO9sg2SB"
      },
      "execution_count": 73,
      "outputs": []
    },
    {
      "cell_type": "code",
      "source": [
        "model1 = Sequential()\n",
        "model1.add(Dense(32,activation = 'relu',input_dim = 8))\n",
        "model1.add(Dense(1,activation = 'sigmoid'))\n",
        "\n",
        "model1.compile(optimizer = 'Adam',loss = 'binary_crossentropy',metrics = ['accuracy'])"
      ],
      "metadata": {
        "id": "-g0UmaYfiTtF"
      },
      "execution_count": 16,
      "outputs": []
    },
    {
      "cell_type": "code",
      "source": [
        "model1.summary()"
      ],
      "metadata": {
        "colab": {
          "base_uri": "https://localhost:8080/"
        },
        "id": "LHttUEJSjkHX",
        "outputId": "420247e2-f268-4e08-839e-bde2860d7282"
      },
      "execution_count": 17,
      "outputs": [
        {
          "output_type": "stream",
          "name": "stdout",
          "text": [
            "Model: \"sequential\"\n",
            "_________________________________________________________________\n",
            " Layer (type)                Output Shape              Param #   \n",
            "=================================================================\n",
            " dense (Dense)               (None, 32)                288       \n",
            "                                                                 \n",
            " dense_1 (Dense)             (None, 1)                 33        \n",
            "                                                                 \n",
            "=================================================================\n",
            "Total params: 321\n",
            "Trainable params: 321\n",
            "Non-trainable params: 0\n",
            "_________________________________________________________________\n"
          ]
        }
      ]
    },
    {
      "cell_type": "code",
      "source": [
        "model1.fit(X_train,y_train, batch_size = 32, epochs =10 )"
      ],
      "metadata": {
        "colab": {
          "base_uri": "https://localhost:8080/"
        },
        "id": "hXlE3WZZjs8q",
        "outputId": "3fb8c514-a69f-49e9-cfb5-3834fa3bace0"
      },
      "execution_count": 18,
      "outputs": [
        {
          "output_type": "stream",
          "name": "stdout",
          "text": [
            "Epoch 1/10\n",
            "20/20 [==============================] - 1s 2ms/step - loss: 0.7733 - accuracy: 0.4186\n",
            "Epoch 2/10\n",
            "20/20 [==============================] - 0s 2ms/step - loss: 0.6788 - accuracy: 0.5814\n",
            "Epoch 3/10\n",
            "20/20 [==============================] - 0s 2ms/step - loss: 0.6140 - accuracy: 0.6824\n",
            "Epoch 4/10\n",
            "20/20 [==============================] - 0s 2ms/step - loss: 0.5732 - accuracy: 0.7003\n",
            "Epoch 5/10\n",
            "20/20 [==============================] - 0s 2ms/step - loss: 0.5469 - accuracy: 0.7085\n",
            "Epoch 6/10\n",
            "20/20 [==============================] - 0s 2ms/step - loss: 0.5288 - accuracy: 0.7085\n",
            "Epoch 7/10\n",
            "20/20 [==============================] - 0s 2ms/step - loss: 0.5154 - accuracy: 0.7248\n",
            "Epoch 8/10\n",
            "20/20 [==============================] - 0s 3ms/step - loss: 0.5050 - accuracy: 0.7313\n",
            "Epoch 9/10\n",
            "20/20 [==============================] - 0s 2ms/step - loss: 0.4971 - accuracy: 0.7345\n",
            "Epoch 10/10\n",
            "20/20 [==============================] - 0s 2ms/step - loss: 0.4897 - accuracy: 0.7427\n"
          ]
        },
        {
          "output_type": "execute_result",
          "data": {
            "text/plain": [
              "<keras.callbacks.History at 0x7f8d9840cb20>"
            ]
          },
          "metadata": {},
          "execution_count": 18
        }
      ]
    },
    {
      "cell_type": "code",
      "source": [
        "model1.fit(X_train,y_train, batch_size = 32, epochs = 100, validation_data = (X_test,y_test))"
      ],
      "metadata": {
        "colab": {
          "base_uri": "https://localhost:8080/"
        },
        "id": "z0wGrLDokGa1",
        "outputId": "09c44faf-e396-48e8-9623-603e3d9976e8"
      },
      "execution_count": 19,
      "outputs": [
        {
          "output_type": "stream",
          "name": "stdout",
          "text": [
            "Epoch 1/100\n",
            "20/20 [==============================] - 0s 14ms/step - loss: 0.4841 - accuracy: 0.7541 - val_loss: 0.4997 - val_accuracy: 0.7792\n",
            "Epoch 2/100\n",
            "20/20 [==============================] - 0s 3ms/step - loss: 0.4794 - accuracy: 0.7638 - val_loss: 0.4956 - val_accuracy: 0.7792\n",
            "Epoch 3/100\n",
            "20/20 [==============================] - 0s 4ms/step - loss: 0.4751 - accuracy: 0.7622 - val_loss: 0.4940 - val_accuracy: 0.7857\n",
            "Epoch 4/100\n",
            "20/20 [==============================] - 0s 4ms/step - loss: 0.4715 - accuracy: 0.7590 - val_loss: 0.4896 - val_accuracy: 0.7857\n",
            "Epoch 5/100\n",
            "20/20 [==============================] - 0s 4ms/step - loss: 0.4685 - accuracy: 0.7590 - val_loss: 0.4882 - val_accuracy: 0.7857\n",
            "Epoch 6/100\n",
            "20/20 [==============================] - 0s 4ms/step - loss: 0.4655 - accuracy: 0.7622 - val_loss: 0.4877 - val_accuracy: 0.7857\n",
            "Epoch 7/100\n",
            "20/20 [==============================] - 0s 6ms/step - loss: 0.4626 - accuracy: 0.7638 - val_loss: 0.4865 - val_accuracy: 0.7857\n",
            "Epoch 8/100\n",
            "20/20 [==============================] - 0s 6ms/step - loss: 0.4603 - accuracy: 0.7671 - val_loss: 0.4852 - val_accuracy: 0.7857\n",
            "Epoch 9/100\n",
            "20/20 [==============================] - 0s 5ms/step - loss: 0.4584 - accuracy: 0.7655 - val_loss: 0.4844 - val_accuracy: 0.7857\n",
            "Epoch 10/100\n",
            "20/20 [==============================] - 0s 5ms/step - loss: 0.4571 - accuracy: 0.7638 - val_loss: 0.4832 - val_accuracy: 0.7857\n",
            "Epoch 11/100\n",
            "20/20 [==============================] - 0s 5ms/step - loss: 0.4557 - accuracy: 0.7671 - val_loss: 0.4818 - val_accuracy: 0.7857\n",
            "Epoch 12/100\n",
            "20/20 [==============================] - 0s 5ms/step - loss: 0.4539 - accuracy: 0.7638 - val_loss: 0.4819 - val_accuracy: 0.7857\n",
            "Epoch 13/100\n",
            "20/20 [==============================] - 0s 5ms/step - loss: 0.4521 - accuracy: 0.7720 - val_loss: 0.4822 - val_accuracy: 0.7857\n",
            "Epoch 14/100\n",
            "20/20 [==============================] - 0s 6ms/step - loss: 0.4506 - accuracy: 0.7769 - val_loss: 0.4826 - val_accuracy: 0.7857\n",
            "Epoch 15/100\n",
            "20/20 [==============================] - 0s 5ms/step - loss: 0.4493 - accuracy: 0.7736 - val_loss: 0.4811 - val_accuracy: 0.7792\n",
            "Epoch 16/100\n",
            "20/20 [==============================] - 0s 5ms/step - loss: 0.4486 - accuracy: 0.7736 - val_loss: 0.4810 - val_accuracy: 0.7792\n",
            "Epoch 17/100\n",
            "20/20 [==============================] - 0s 6ms/step - loss: 0.4473 - accuracy: 0.7704 - val_loss: 0.4794 - val_accuracy: 0.7857\n",
            "Epoch 18/100\n",
            "20/20 [==============================] - 0s 6ms/step - loss: 0.4464 - accuracy: 0.7736 - val_loss: 0.4789 - val_accuracy: 0.7857\n",
            "Epoch 19/100\n",
            "20/20 [==============================] - 0s 5ms/step - loss: 0.4458 - accuracy: 0.7704 - val_loss: 0.4796 - val_accuracy: 0.7857\n",
            "Epoch 20/100\n",
            "20/20 [==============================] - 0s 5ms/step - loss: 0.4447 - accuracy: 0.7687 - val_loss: 0.4786 - val_accuracy: 0.7922\n",
            "Epoch 21/100\n",
            "20/20 [==============================] - 0s 6ms/step - loss: 0.4438 - accuracy: 0.7704 - val_loss: 0.4781 - val_accuracy: 0.7922\n",
            "Epoch 22/100\n",
            "20/20 [==============================] - 0s 5ms/step - loss: 0.4433 - accuracy: 0.7671 - val_loss: 0.4768 - val_accuracy: 0.7922\n",
            "Epoch 23/100\n",
            "20/20 [==============================] - 0s 6ms/step - loss: 0.4425 - accuracy: 0.7720 - val_loss: 0.4773 - val_accuracy: 0.7922\n",
            "Epoch 24/100\n",
            "20/20 [==============================] - 0s 5ms/step - loss: 0.4421 - accuracy: 0.7720 - val_loss: 0.4760 - val_accuracy: 0.7922\n",
            "Epoch 25/100\n",
            "20/20 [==============================] - 0s 4ms/step - loss: 0.4419 - accuracy: 0.7720 - val_loss: 0.4759 - val_accuracy: 0.7987\n",
            "Epoch 26/100\n",
            "20/20 [==============================] - 0s 4ms/step - loss: 0.4405 - accuracy: 0.7752 - val_loss: 0.4754 - val_accuracy: 0.7922\n",
            "Epoch 27/100\n",
            "20/20 [==============================] - 0s 6ms/step - loss: 0.4399 - accuracy: 0.7704 - val_loss: 0.4750 - val_accuracy: 0.7987\n",
            "Epoch 28/100\n",
            "20/20 [==============================] - 0s 6ms/step - loss: 0.4395 - accuracy: 0.7785 - val_loss: 0.4743 - val_accuracy: 0.7922\n",
            "Epoch 29/100\n",
            "20/20 [==============================] - 0s 6ms/step - loss: 0.4387 - accuracy: 0.7769 - val_loss: 0.4717 - val_accuracy: 0.8052\n",
            "Epoch 30/100\n",
            "20/20 [==============================] - 0s 5ms/step - loss: 0.4385 - accuracy: 0.7704 - val_loss: 0.4723 - val_accuracy: 0.7987\n",
            "Epoch 31/100\n",
            "20/20 [==============================] - 0s 5ms/step - loss: 0.4378 - accuracy: 0.7752 - val_loss: 0.4719 - val_accuracy: 0.8052\n",
            "Epoch 32/100\n",
            "20/20 [==============================] - 0s 3ms/step - loss: 0.4372 - accuracy: 0.7704 - val_loss: 0.4715 - val_accuracy: 0.8052\n",
            "Epoch 33/100\n",
            "20/20 [==============================] - 0s 4ms/step - loss: 0.4366 - accuracy: 0.7785 - val_loss: 0.4714 - val_accuracy: 0.8052\n",
            "Epoch 34/100\n",
            "20/20 [==============================] - 0s 4ms/step - loss: 0.4361 - accuracy: 0.7769 - val_loss: 0.4714 - val_accuracy: 0.8052\n",
            "Epoch 35/100\n",
            "20/20 [==============================] - 0s 4ms/step - loss: 0.4356 - accuracy: 0.7720 - val_loss: 0.4717 - val_accuracy: 0.8052\n",
            "Epoch 36/100\n",
            "20/20 [==============================] - 0s 4ms/step - loss: 0.4347 - accuracy: 0.7704 - val_loss: 0.4726 - val_accuracy: 0.8052\n",
            "Epoch 37/100\n",
            "20/20 [==============================] - 0s 5ms/step - loss: 0.4346 - accuracy: 0.7769 - val_loss: 0.4724 - val_accuracy: 0.8052\n",
            "Epoch 38/100\n",
            "20/20 [==============================] - 0s 4ms/step - loss: 0.4340 - accuracy: 0.7769 - val_loss: 0.4716 - val_accuracy: 0.8052\n",
            "Epoch 39/100\n",
            "20/20 [==============================] - 0s 3ms/step - loss: 0.4337 - accuracy: 0.7752 - val_loss: 0.4712 - val_accuracy: 0.8052\n",
            "Epoch 40/100\n",
            "20/20 [==============================] - 0s 3ms/step - loss: 0.4329 - accuracy: 0.7769 - val_loss: 0.4713 - val_accuracy: 0.8052\n",
            "Epoch 41/100\n",
            "20/20 [==============================] - 0s 3ms/step - loss: 0.4326 - accuracy: 0.7769 - val_loss: 0.4713 - val_accuracy: 0.8117\n",
            "Epoch 42/100\n",
            "20/20 [==============================] - 0s 3ms/step - loss: 0.4321 - accuracy: 0.7769 - val_loss: 0.4716 - val_accuracy: 0.7987\n",
            "Epoch 43/100\n",
            "20/20 [==============================] - 0s 4ms/step - loss: 0.4316 - accuracy: 0.7752 - val_loss: 0.4717 - val_accuracy: 0.8052\n",
            "Epoch 44/100\n",
            "20/20 [==============================] - 0s 4ms/step - loss: 0.4314 - accuracy: 0.7801 - val_loss: 0.4703 - val_accuracy: 0.8052\n",
            "Epoch 45/100\n",
            "20/20 [==============================] - 0s 4ms/step - loss: 0.4309 - accuracy: 0.7834 - val_loss: 0.4706 - val_accuracy: 0.8052\n",
            "Epoch 46/100\n",
            "20/20 [==============================] - 0s 3ms/step - loss: 0.4305 - accuracy: 0.7850 - val_loss: 0.4710 - val_accuracy: 0.7987\n",
            "Epoch 47/100\n",
            "20/20 [==============================] - 0s 3ms/step - loss: 0.4305 - accuracy: 0.7801 - val_loss: 0.4717 - val_accuracy: 0.8052\n",
            "Epoch 48/100\n",
            "20/20 [==============================] - 0s 4ms/step - loss: 0.4295 - accuracy: 0.7834 - val_loss: 0.4692 - val_accuracy: 0.8052\n",
            "Epoch 49/100\n",
            "20/20 [==============================] - 0s 4ms/step - loss: 0.4290 - accuracy: 0.7883 - val_loss: 0.4690 - val_accuracy: 0.8052\n",
            "Epoch 50/100\n",
            "20/20 [==============================] - 0s 4ms/step - loss: 0.4287 - accuracy: 0.7866 - val_loss: 0.4692 - val_accuracy: 0.8117\n",
            "Epoch 51/100\n",
            "20/20 [==============================] - 0s 4ms/step - loss: 0.4284 - accuracy: 0.7866 - val_loss: 0.4696 - val_accuracy: 0.8117\n",
            "Epoch 52/100\n",
            "20/20 [==============================] - 0s 3ms/step - loss: 0.4277 - accuracy: 0.7866 - val_loss: 0.4707 - val_accuracy: 0.8052\n",
            "Epoch 53/100\n",
            "20/20 [==============================] - 0s 4ms/step - loss: 0.4277 - accuracy: 0.7883 - val_loss: 0.4705 - val_accuracy: 0.8052\n",
            "Epoch 54/100\n",
            "20/20 [==============================] - 0s 5ms/step - loss: 0.4269 - accuracy: 0.7850 - val_loss: 0.4702 - val_accuracy: 0.8182\n",
            "Epoch 55/100\n",
            "20/20 [==============================] - 0s 4ms/step - loss: 0.4267 - accuracy: 0.7834 - val_loss: 0.4696 - val_accuracy: 0.8182\n",
            "Epoch 56/100\n",
            "20/20 [==============================] - 0s 4ms/step - loss: 0.4265 - accuracy: 0.7932 - val_loss: 0.4696 - val_accuracy: 0.8117\n",
            "Epoch 57/100\n",
            "20/20 [==============================] - 0s 4ms/step - loss: 0.4260 - accuracy: 0.7932 - val_loss: 0.4702 - val_accuracy: 0.8182\n",
            "Epoch 58/100\n",
            "20/20 [==============================] - 0s 3ms/step - loss: 0.4253 - accuracy: 0.7834 - val_loss: 0.4679 - val_accuracy: 0.8182\n",
            "Epoch 59/100\n",
            "20/20 [==============================] - 0s 4ms/step - loss: 0.4253 - accuracy: 0.7850 - val_loss: 0.4679 - val_accuracy: 0.8182\n",
            "Epoch 60/100\n",
            "20/20 [==============================] - 0s 4ms/step - loss: 0.4251 - accuracy: 0.7883 - val_loss: 0.4665 - val_accuracy: 0.8182\n",
            "Epoch 61/100\n",
            "20/20 [==============================] - 0s 3ms/step - loss: 0.4244 - accuracy: 0.7932 - val_loss: 0.4663 - val_accuracy: 0.8182\n",
            "Epoch 62/100\n",
            "20/20 [==============================] - 0s 5ms/step - loss: 0.4240 - accuracy: 0.7948 - val_loss: 0.4663 - val_accuracy: 0.8182\n",
            "Epoch 63/100\n",
            "20/20 [==============================] - 0s 3ms/step - loss: 0.4235 - accuracy: 0.7964 - val_loss: 0.4675 - val_accuracy: 0.8182\n",
            "Epoch 64/100\n",
            "20/20 [==============================] - 0s 4ms/step - loss: 0.4230 - accuracy: 0.7964 - val_loss: 0.4668 - val_accuracy: 0.8182\n",
            "Epoch 65/100\n",
            "20/20 [==============================] - 0s 4ms/step - loss: 0.4229 - accuracy: 0.7948 - val_loss: 0.4671 - val_accuracy: 0.8117\n",
            "Epoch 66/100\n",
            "20/20 [==============================] - 0s 4ms/step - loss: 0.4226 - accuracy: 0.7948 - val_loss: 0.4667 - val_accuracy: 0.8182\n",
            "Epoch 67/100\n",
            "20/20 [==============================] - 0s 3ms/step - loss: 0.4223 - accuracy: 0.7899 - val_loss: 0.4671 - val_accuracy: 0.8182\n",
            "Epoch 68/100\n",
            "20/20 [==============================] - 0s 4ms/step - loss: 0.4220 - accuracy: 0.7899 - val_loss: 0.4666 - val_accuracy: 0.8182\n",
            "Epoch 69/100\n",
            "20/20 [==============================] - 0s 3ms/step - loss: 0.4215 - accuracy: 0.7915 - val_loss: 0.4650 - val_accuracy: 0.8182\n",
            "Epoch 70/100\n",
            "20/20 [==============================] - 0s 3ms/step - loss: 0.4211 - accuracy: 0.7980 - val_loss: 0.4665 - val_accuracy: 0.8182\n",
            "Epoch 71/100\n",
            "20/20 [==============================] - 0s 3ms/step - loss: 0.4210 - accuracy: 0.7915 - val_loss: 0.4668 - val_accuracy: 0.8182\n",
            "Epoch 72/100\n",
            "20/20 [==============================] - 0s 4ms/step - loss: 0.4196 - accuracy: 0.8029 - val_loss: 0.4683 - val_accuracy: 0.8117\n",
            "Epoch 73/100\n",
            "20/20 [==============================] - 0s 5ms/step - loss: 0.4204 - accuracy: 0.7980 - val_loss: 0.4691 - val_accuracy: 0.8182\n",
            "Epoch 74/100\n",
            "20/20 [==============================] - 0s 4ms/step - loss: 0.4199 - accuracy: 0.7964 - val_loss: 0.4690 - val_accuracy: 0.8182\n",
            "Epoch 75/100\n",
            "20/20 [==============================] - 0s 4ms/step - loss: 0.4197 - accuracy: 0.7948 - val_loss: 0.4681 - val_accuracy: 0.8182\n",
            "Epoch 76/100\n",
            "20/20 [==============================] - 0s 4ms/step - loss: 0.4187 - accuracy: 0.7948 - val_loss: 0.4683 - val_accuracy: 0.8182\n",
            "Epoch 77/100\n",
            "20/20 [==============================] - 0s 4ms/step - loss: 0.4188 - accuracy: 0.7964 - val_loss: 0.4679 - val_accuracy: 0.8182\n",
            "Epoch 78/100\n",
            "20/20 [==============================] - 0s 3ms/step - loss: 0.4187 - accuracy: 0.7980 - val_loss: 0.4695 - val_accuracy: 0.8117\n",
            "Epoch 79/100\n",
            "20/20 [==============================] - 0s 4ms/step - loss: 0.4182 - accuracy: 0.7980 - val_loss: 0.4667 - val_accuracy: 0.8182\n",
            "Epoch 80/100\n",
            "20/20 [==============================] - 0s 3ms/step - loss: 0.4178 - accuracy: 0.8013 - val_loss: 0.4671 - val_accuracy: 0.8182\n",
            "Epoch 81/100\n",
            "20/20 [==============================] - 0s 4ms/step - loss: 0.4176 - accuracy: 0.7964 - val_loss: 0.4684 - val_accuracy: 0.8182\n",
            "Epoch 82/100\n",
            "20/20 [==============================] - 0s 4ms/step - loss: 0.4173 - accuracy: 0.7980 - val_loss: 0.4684 - val_accuracy: 0.8117\n",
            "Epoch 83/100\n",
            "20/20 [==============================] - 0s 4ms/step - loss: 0.4171 - accuracy: 0.8013 - val_loss: 0.4685 - val_accuracy: 0.8117\n",
            "Epoch 84/100\n",
            "20/20 [==============================] - 0s 4ms/step - loss: 0.4163 - accuracy: 0.8046 - val_loss: 0.4670 - val_accuracy: 0.8182\n",
            "Epoch 85/100\n",
            "20/20 [==============================] - 0s 3ms/step - loss: 0.4167 - accuracy: 0.8013 - val_loss: 0.4655 - val_accuracy: 0.8182\n",
            "Epoch 86/100\n",
            "20/20 [==============================] - 0s 4ms/step - loss: 0.4158 - accuracy: 0.7980 - val_loss: 0.4663 - val_accuracy: 0.8117\n",
            "Epoch 87/100\n",
            "20/20 [==============================] - 0s 4ms/step - loss: 0.4157 - accuracy: 0.7948 - val_loss: 0.4651 - val_accuracy: 0.8117\n",
            "Epoch 88/100\n",
            "20/20 [==============================] - 0s 3ms/step - loss: 0.4151 - accuracy: 0.7980 - val_loss: 0.4653 - val_accuracy: 0.8117\n",
            "Epoch 89/100\n",
            "20/20 [==============================] - 0s 4ms/step - loss: 0.4153 - accuracy: 0.7997 - val_loss: 0.4644 - val_accuracy: 0.8117\n",
            "Epoch 90/100\n",
            "20/20 [==============================] - 0s 4ms/step - loss: 0.4146 - accuracy: 0.8013 - val_loss: 0.4646 - val_accuracy: 0.8182\n",
            "Epoch 91/100\n",
            "20/20 [==============================] - 0s 4ms/step - loss: 0.4144 - accuracy: 0.8029 - val_loss: 0.4665 - val_accuracy: 0.8117\n",
            "Epoch 92/100\n",
            "20/20 [==============================] - 0s 3ms/step - loss: 0.4137 - accuracy: 0.8013 - val_loss: 0.4674 - val_accuracy: 0.8117\n",
            "Epoch 93/100\n",
            "20/20 [==============================] - 0s 3ms/step - loss: 0.4138 - accuracy: 0.8046 - val_loss: 0.4667 - val_accuracy: 0.8117\n",
            "Epoch 94/100\n",
            "20/20 [==============================] - 0s 4ms/step - loss: 0.4132 - accuracy: 0.8046 - val_loss: 0.4667 - val_accuracy: 0.8117\n",
            "Epoch 95/100\n",
            "20/20 [==============================] - 0s 4ms/step - loss: 0.4128 - accuracy: 0.8029 - val_loss: 0.4682 - val_accuracy: 0.8052\n",
            "Epoch 96/100\n",
            "20/20 [==============================] - 0s 3ms/step - loss: 0.4125 - accuracy: 0.8062 - val_loss: 0.4663 - val_accuracy: 0.8182\n",
            "Epoch 97/100\n",
            "20/20 [==============================] - 0s 3ms/step - loss: 0.4125 - accuracy: 0.8046 - val_loss: 0.4646 - val_accuracy: 0.8052\n",
            "Epoch 98/100\n",
            "20/20 [==============================] - 0s 4ms/step - loss: 0.4120 - accuracy: 0.8046 - val_loss: 0.4638 - val_accuracy: 0.8117\n",
            "Epoch 99/100\n",
            "20/20 [==============================] - 0s 4ms/step - loss: 0.4122 - accuracy: 0.8046 - val_loss: 0.4641 - val_accuracy: 0.8182\n",
            "Epoch 100/100\n",
            "20/20 [==============================] - 0s 4ms/step - loss: 0.4113 - accuracy: 0.7980 - val_loss: 0.4647 - val_accuracy: 0.8117\n"
          ]
        },
        {
          "output_type": "execute_result",
          "data": {
            "text/plain": [
              "<keras.callbacks.History at 0x7f8d98189370>"
            ]
          },
          "metadata": {},
          "execution_count": 19
        }
      ]
    },
    {
      "cell_type": "code",
      "source": [
        "# in this selection of nodes and layer we can automate this things"
      ],
      "metadata": {
        "id": "UXbtYyIMkmK3"
      },
      "execution_count": 20,
      "outputs": []
    },
    {
      "cell_type": "code",
      "source": [
        "# approch\n",
        "# 1.  How to select appropiate optimizer\n",
        "# 2. No. of nodes in a layer\n",
        "# 3. how to select no.of layers\n",
        "#4. All in all one model\n",
        "\n"
      ],
      "metadata": {
        "id": "L2dstf6fk-dY"
      },
      "execution_count": 21,
      "outputs": []
    },
    {
      "cell_type": "markdown",
      "source": [
        "** Import Keras tunner library **"
      ],
      "metadata": {
        "id": "I469bDMRlyOa"
      }
    },
    {
      "cell_type": "code",
      "source": [
        "pip install -U keras-tuner"
      ],
      "metadata": {
        "colab": {
          "base_uri": "https://localhost:8080/"
        },
        "id": "Wu8Rg-GJlrlb",
        "outputId": "bff6e265-e8ef-4bbb-b803-01817db17e05"
      },
      "execution_count": 22,
      "outputs": [
        {
          "output_type": "stream",
          "name": "stdout",
          "text": [
            "Looking in indexes: https://pypi.org/simple, https://us-python.pkg.dev/colab-wheels/public/simple/\n",
            "Collecting keras-tuner\n",
            "  Downloading keras_tuner-1.3.0-py3-none-any.whl (167 kB)\n",
            "\u001b[?25l     \u001b[90m━━━━━━━━━━━━━━━━━━━━━━━━━━━━━━━━━━━━━━━━\u001b[0m \u001b[32m0.0/167.3 KB\u001b[0m \u001b[31m?\u001b[0m eta \u001b[36m-:--:--\u001b[0m\r\u001b[2K     \u001b[90m━━━━━━━━━━━━━━━━━━━━━━━━━━━━━━━━━━━━━━━\u001b[0m \u001b[32m167.3/167.3 KB\u001b[0m \u001b[31m4.9 MB/s\u001b[0m eta \u001b[36m0:00:00\u001b[0m\n",
            "\u001b[?25hRequirement already satisfied: ipython in /usr/local/lib/python3.9/dist-packages (from keras-tuner) (7.9.0)\n",
            "Collecting kt-legacy\n",
            "  Downloading kt_legacy-1.0.4-py3-none-any.whl (9.6 kB)\n",
            "Requirement already satisfied: tensorflow>=2.0 in /usr/local/lib/python3.9/dist-packages (from keras-tuner) (2.11.0)\n",
            "Requirement already satisfied: requests in /usr/local/lib/python3.9/dist-packages (from keras-tuner) (2.25.1)\n",
            "Requirement already satisfied: packaging in /usr/local/lib/python3.9/dist-packages (from keras-tuner) (23.0)\n",
            "Requirement already satisfied: h5py>=2.9.0 in /usr/local/lib/python3.9/dist-packages (from tensorflow>=2.0->keras-tuner) (3.1.0)\n",
            "Requirement already satisfied: keras<2.12,>=2.11.0 in /usr/local/lib/python3.9/dist-packages (from tensorflow>=2.0->keras-tuner) (2.11.0)\n",
            "Requirement already satisfied: termcolor>=1.1.0 in /usr/local/lib/python3.9/dist-packages (from tensorflow>=2.0->keras-tuner) (2.2.0)\n",
            "Requirement already satisfied: protobuf<3.20,>=3.9.2 in /usr/local/lib/python3.9/dist-packages (from tensorflow>=2.0->keras-tuner) (3.19.6)\n",
            "Requirement already satisfied: grpcio<2.0,>=1.24.3 in /usr/local/lib/python3.9/dist-packages (from tensorflow>=2.0->keras-tuner) (1.51.3)\n",
            "Requirement already satisfied: gast<=0.4.0,>=0.2.1 in /usr/local/lib/python3.9/dist-packages (from tensorflow>=2.0->keras-tuner) (0.4.0)\n",
            "Requirement already satisfied: numpy>=1.20 in /usr/local/lib/python3.9/dist-packages (from tensorflow>=2.0->keras-tuner) (1.22.4)\n",
            "Requirement already satisfied: absl-py>=1.0.0 in /usr/local/lib/python3.9/dist-packages (from tensorflow>=2.0->keras-tuner) (1.4.0)\n",
            "Requirement already satisfied: six>=1.12.0 in /usr/local/lib/python3.9/dist-packages (from tensorflow>=2.0->keras-tuner) (1.15.0)\n",
            "Requirement already satisfied: typing-extensions>=3.6.6 in /usr/local/lib/python3.9/dist-packages (from tensorflow>=2.0->keras-tuner) (4.5.0)\n",
            "Requirement already satisfied: flatbuffers>=2.0 in /usr/local/lib/python3.9/dist-packages (from tensorflow>=2.0->keras-tuner) (23.3.3)\n",
            "Requirement already satisfied: astunparse>=1.6.0 in /usr/local/lib/python3.9/dist-packages (from tensorflow>=2.0->keras-tuner) (1.6.3)\n",
            "Requirement already satisfied: google-pasta>=0.1.1 in /usr/local/lib/python3.9/dist-packages (from tensorflow>=2.0->keras-tuner) (0.2.0)\n",
            "Requirement already satisfied: opt-einsum>=2.3.2 in /usr/local/lib/python3.9/dist-packages (from tensorflow>=2.0->keras-tuner) (3.3.0)\n",
            "Requirement already satisfied: setuptools in /usr/local/lib/python3.9/dist-packages (from tensorflow>=2.0->keras-tuner) (63.4.3)\n",
            "Requirement already satisfied: tensorflow-estimator<2.12,>=2.11.0 in /usr/local/lib/python3.9/dist-packages (from tensorflow>=2.0->keras-tuner) (2.11.0)\n",
            "Requirement already satisfied: libclang>=13.0.0 in /usr/local/lib/python3.9/dist-packages (from tensorflow>=2.0->keras-tuner) (15.0.6.1)\n",
            "Requirement already satisfied: tensorflow-io-gcs-filesystem>=0.23.1 in /usr/local/lib/python3.9/dist-packages (from tensorflow>=2.0->keras-tuner) (0.31.0)\n",
            "Requirement already satisfied: tensorboard<2.12,>=2.11 in /usr/local/lib/python3.9/dist-packages (from tensorflow>=2.0->keras-tuner) (2.11.2)\n",
            "Requirement already satisfied: wrapt>=1.11.0 in /usr/local/lib/python3.9/dist-packages (from tensorflow>=2.0->keras-tuner) (1.15.0)\n",
            "Requirement already satisfied: pickleshare in /usr/local/lib/python3.9/dist-packages (from ipython->keras-tuner) (0.7.5)\n",
            "Requirement already satisfied: decorator in /usr/local/lib/python3.9/dist-packages (from ipython->keras-tuner) (4.4.2)\n",
            "Requirement already satisfied: prompt-toolkit<2.1.0,>=2.0.0 in /usr/local/lib/python3.9/dist-packages (from ipython->keras-tuner) (2.0.10)\n",
            "Requirement already satisfied: pexpect in /usr/local/lib/python3.9/dist-packages (from ipython->keras-tuner) (4.8.0)\n",
            "Requirement already satisfied: backcall in /usr/local/lib/python3.9/dist-packages (from ipython->keras-tuner) (0.2.0)\n",
            "Requirement already satisfied: traitlets>=4.2 in /usr/local/lib/python3.9/dist-packages (from ipython->keras-tuner) (5.7.1)\n",
            "Requirement already satisfied: pygments in /usr/local/lib/python3.9/dist-packages (from ipython->keras-tuner) (2.6.1)\n",
            "Collecting jedi>=0.10\n",
            "  Downloading jedi-0.18.2-py2.py3-none-any.whl (1.6 MB)\n",
            "\u001b[2K     \u001b[90m━━━━━━━━━━━━━━━━━━━━━━━━━━━━━━━━━━━━━━━━\u001b[0m \u001b[32m1.6/1.6 MB\u001b[0m \u001b[31m31.5 MB/s\u001b[0m eta \u001b[36m0:00:00\u001b[0m\n",
            "\u001b[?25hRequirement already satisfied: chardet<5,>=3.0.2 in /usr/local/lib/python3.9/dist-packages (from requests->keras-tuner) (4.0.0)\n",
            "Requirement already satisfied: urllib3<1.27,>=1.21.1 in /usr/local/lib/python3.9/dist-packages (from requests->keras-tuner) (1.26.15)\n",
            "Requirement already satisfied: idna<3,>=2.5 in /usr/local/lib/python3.9/dist-packages (from requests->keras-tuner) (2.10)\n",
            "Requirement already satisfied: certifi>=2017.4.17 in /usr/local/lib/python3.9/dist-packages (from requests->keras-tuner) (2022.12.7)\n",
            "Requirement already satisfied: wheel<1.0,>=0.23.0 in /usr/local/lib/python3.9/dist-packages (from astunparse>=1.6.0->tensorflow>=2.0->keras-tuner) (0.40.0)\n",
            "Requirement already satisfied: parso<0.9.0,>=0.8.0 in /usr/local/lib/python3.9/dist-packages (from jedi>=0.10->ipython->keras-tuner) (0.8.3)\n",
            "Requirement already satisfied: wcwidth in /usr/local/lib/python3.9/dist-packages (from prompt-toolkit<2.1.0,>=2.0.0->ipython->keras-tuner) (0.2.6)\n",
            "Requirement already satisfied: tensorboard-plugin-wit>=1.6.0 in /usr/local/lib/python3.9/dist-packages (from tensorboard<2.12,>=2.11->tensorflow>=2.0->keras-tuner) (1.8.1)\n",
            "Requirement already satisfied: google-auth<3,>=1.6.3 in /usr/local/lib/python3.9/dist-packages (from tensorboard<2.12,>=2.11->tensorflow>=2.0->keras-tuner) (2.16.2)\n",
            "Requirement already satisfied: markdown>=2.6.8 in /usr/local/lib/python3.9/dist-packages (from tensorboard<2.12,>=2.11->tensorflow>=2.0->keras-tuner) (3.4.1)\n",
            "Requirement already satisfied: tensorboard-data-server<0.7.0,>=0.6.0 in /usr/local/lib/python3.9/dist-packages (from tensorboard<2.12,>=2.11->tensorflow>=2.0->keras-tuner) (0.6.1)\n",
            "Requirement already satisfied: werkzeug>=1.0.1 in /usr/local/lib/python3.9/dist-packages (from tensorboard<2.12,>=2.11->tensorflow>=2.0->keras-tuner) (2.2.3)\n",
            "Requirement already satisfied: google-auth-oauthlib<0.5,>=0.4.1 in /usr/local/lib/python3.9/dist-packages (from tensorboard<2.12,>=2.11->tensorflow>=2.0->keras-tuner) (0.4.6)\n",
            "Requirement already satisfied: ptyprocess>=0.5 in /usr/local/lib/python3.9/dist-packages (from pexpect->ipython->keras-tuner) (0.7.0)\n",
            "Requirement already satisfied: pyasn1-modules>=0.2.1 in /usr/local/lib/python3.9/dist-packages (from google-auth<3,>=1.6.3->tensorboard<2.12,>=2.11->tensorflow>=2.0->keras-tuner) (0.2.8)\n",
            "Requirement already satisfied: rsa<5,>=3.1.4 in /usr/local/lib/python3.9/dist-packages (from google-auth<3,>=1.6.3->tensorboard<2.12,>=2.11->tensorflow>=2.0->keras-tuner) (4.9)\n",
            "Requirement already satisfied: cachetools<6.0,>=2.0.0 in /usr/local/lib/python3.9/dist-packages (from google-auth<3,>=1.6.3->tensorboard<2.12,>=2.11->tensorflow>=2.0->keras-tuner) (5.3.0)\n",
            "Requirement already satisfied: requests-oauthlib>=0.7.0 in /usr/local/lib/python3.9/dist-packages (from google-auth-oauthlib<0.5,>=0.4.1->tensorboard<2.12,>=2.11->tensorflow>=2.0->keras-tuner) (1.3.1)\n",
            "Requirement already satisfied: importlib-metadata>=4.4 in /usr/local/lib/python3.9/dist-packages (from markdown>=2.6.8->tensorboard<2.12,>=2.11->tensorflow>=2.0->keras-tuner) (6.0.0)\n",
            "Requirement already satisfied: MarkupSafe>=2.1.1 in /usr/local/lib/python3.9/dist-packages (from werkzeug>=1.0.1->tensorboard<2.12,>=2.11->tensorflow>=2.0->keras-tuner) (2.1.2)\n",
            "Requirement already satisfied: zipp>=0.5 in /usr/local/lib/python3.9/dist-packages (from importlib-metadata>=4.4->markdown>=2.6.8->tensorboard<2.12,>=2.11->tensorflow>=2.0->keras-tuner) (3.15.0)\n",
            "Requirement already satisfied: pyasn1<0.5.0,>=0.4.6 in /usr/local/lib/python3.9/dist-packages (from pyasn1-modules>=0.2.1->google-auth<3,>=1.6.3->tensorboard<2.12,>=2.11->tensorflow>=2.0->keras-tuner) (0.4.8)\n",
            "Requirement already satisfied: oauthlib>=3.0.0 in /usr/local/lib/python3.9/dist-packages (from requests-oauthlib>=0.7.0->google-auth-oauthlib<0.5,>=0.4.1->tensorboard<2.12,>=2.11->tensorflow>=2.0->keras-tuner) (3.2.2)\n",
            "Installing collected packages: kt-legacy, jedi, keras-tuner\n",
            "Successfully installed jedi-0.18.2 keras-tuner-1.3.0 kt-legacy-1.0.4\n"
          ]
        }
      ]
    },
    {
      "cell_type": "code",
      "source": [
        "import keras_tuner as kt"
      ],
      "metadata": {
        "id": "UwdH4FPLlnur"
      },
      "execution_count": 23,
      "outputs": []
    },
    {
      "cell_type": "code",
      "source": [
        "# in case ek function menana hota h or ek tunner object usske baad ek usme usko paas kerte ho "
      ],
      "metadata": {
        "id": "WLlFBKBkmkgP"
      },
      "execution_count": 24,
      "outputs": []
    },
    {
      "cell_type": "code",
      "source": [
        "def build_model(hp):  \n",
        "  model = Sequential()\n",
        "\n",
        "  model.add(Dense(32,activation = 'relu',input_dim = 8))\n",
        "  model.add(Dense(1,activation = 'sigmoid'))\n",
        "\n",
        "  # no here we give choice for the tunning\n",
        "  optimizer = hp.Choice('optimizer', values = ['adam','sgd','rmsprop','adadelta']) \n",
        "\n",
        "  model.compile(optimizer = optimizer, loss = 'binary_crossentropy',metrics = ['accuracy'])\n",
        "\n",
        "  return model "
      ],
      "metadata": {
        "id": "oxUrwZyGnSDW"
      },
      "execution_count": 25,
      "outputs": []
    },
    {
      "cell_type": "code",
      "source": [
        "# now make the tunner object :-\n",
        "tuner = kt.RandomSearch(build_model,\n",
        "                        objective = 'val_accuracy',\n",
        "                        max_trials = 5)  # paas the model, objective kya h , or trial/ run a model"
      ],
      "metadata": {
        "id": "3wtQY3KypRG-"
      },
      "execution_count": 26,
      "outputs": []
    },
    {
      "cell_type": "code",
      "source": [
        "# tuner has \"search\" function --> to search best output"
      ],
      "metadata": {
        "id": "zr254C1QqK_L"
      },
      "execution_count": 27,
      "outputs": []
    },
    {
      "cell_type": "code",
      "source": [
        "# imp output is here\n",
        "tuner.search(X_train,y_train,epochs = 5, validation_data = (X_test,y_test))"
      ],
      "metadata": {
        "id": "cvcNdctMqoy7",
        "colab": {
          "base_uri": "https://localhost:8080/"
        },
        "outputId": "55099210-d256-4e12-a308-372ca4d63f78"
      },
      "execution_count": 28,
      "outputs": [
        {
          "output_type": "stream",
          "name": "stdout",
          "text": [
            "Trial 4 Complete [00h 00m 02s]\n",
            "val_accuracy: 0.48701298236846924\n",
            "\n",
            "Best val_accuracy So Far: 0.7727272510528564\n",
            "Total elapsed time: 00h 00m 06s\n"
          ]
        }
      ]
    },
    {
      "cell_type": "code",
      "source": [
        "tuner.get_best_hyperparameters()[0].values"
      ],
      "metadata": {
        "colab": {
          "base_uri": "https://localhost:8080/"
        },
        "id": "q6ryEbxfqzSG",
        "outputId": "a87f992f-671d-4afb-8e0b-3706fa0f7b0a"
      },
      "execution_count": 29,
      "outputs": [
        {
          "output_type": "execute_result",
          "data": {
            "text/plain": [
              "{'optimizer': 'adam'}"
            ]
          },
          "metadata": {},
          "execution_count": 29
        }
      ]
    },
    {
      "cell_type": "code",
      "source": [
        "# model extract bhi kersakte h\n",
        "model = tuner.get_best_models(num_models=1)[0]"
      ],
      "metadata": {
        "id": "I2anW9kbrYMP"
      },
      "execution_count": 30,
      "outputs": []
    },
    {
      "cell_type": "code",
      "source": [
        "model.summary()"
      ],
      "metadata": {
        "colab": {
          "base_uri": "https://localhost:8080/"
        },
        "id": "NbceoiCAsjqG",
        "outputId": "a7b7ebbc-27e6-4e30-8c1d-d9616dda8348"
      },
      "execution_count": 31,
      "outputs": [
        {
          "output_type": "stream",
          "name": "stdout",
          "text": [
            "Model: \"sequential\"\n",
            "_________________________________________________________________\n",
            " Layer (type)                Output Shape              Param #   \n",
            "=================================================================\n",
            " dense (Dense)               (None, 32)                288       \n",
            "                                                                 \n",
            " dense_1 (Dense)             (None, 1)                 33        \n",
            "                                                                 \n",
            "=================================================================\n",
            "Total params: 321\n",
            "Trainable params: 321\n",
            "Non-trainable params: 0\n",
            "_________________________________________________________________\n"
          ]
        }
      ]
    },
    {
      "cell_type": "code",
      "source": [
        "# now this model is train on rmspromp"
      ],
      "metadata": {
        "id": "l93Pq5aasuxU"
      },
      "execution_count": 32,
      "outputs": []
    },
    {
      "cell_type": "code",
      "source": [
        "# model train\n",
        "model.fit(X_train,y_train,batch_size = 32, epochs = 100, initial_epoch=6, validation_data = (X_test,y_test))"
      ],
      "metadata": {
        "colab": {
          "base_uri": "https://localhost:8080/"
        },
        "id": "fFuLt-11s0qy",
        "outputId": "1b92df7f-2af8-42f3-fd3c-c1ef07572c44"
      },
      "execution_count": 33,
      "outputs": [
        {
          "output_type": "stream",
          "name": "stdout",
          "text": [
            "Epoch 7/100\n",
            "20/20 [==============================] - 1s 11ms/step - loss: 0.5376 - accuracy: 0.7378 - val_loss: 0.5269 - val_accuracy: 0.7662\n",
            "Epoch 8/100\n",
            "20/20 [==============================] - 0s 4ms/step - loss: 0.5239 - accuracy: 0.7394 - val_loss: 0.5149 - val_accuracy: 0.7727\n",
            "Epoch 9/100\n",
            "20/20 [==============================] - 0s 4ms/step - loss: 0.5133 - accuracy: 0.7443 - val_loss: 0.5064 - val_accuracy: 0.7727\n",
            "Epoch 10/100\n",
            "20/20 [==============================] - 0s 3ms/step - loss: 0.5049 - accuracy: 0.7476 - val_loss: 0.5010 - val_accuracy: 0.7922\n",
            "Epoch 11/100\n",
            "20/20 [==============================] - 0s 3ms/step - loss: 0.4987 - accuracy: 0.7557 - val_loss: 0.4955 - val_accuracy: 0.7857\n",
            "Epoch 12/100\n",
            "20/20 [==============================] - 0s 4ms/step - loss: 0.4922 - accuracy: 0.7541 - val_loss: 0.4918 - val_accuracy: 0.7922\n",
            "Epoch 13/100\n",
            "20/20 [==============================] - 0s 4ms/step - loss: 0.4867 - accuracy: 0.7557 - val_loss: 0.4884 - val_accuracy: 0.7857\n",
            "Epoch 14/100\n",
            "20/20 [==============================] - 0s 3ms/step - loss: 0.4819 - accuracy: 0.7655 - val_loss: 0.4851 - val_accuracy: 0.7922\n",
            "Epoch 15/100\n",
            "20/20 [==============================] - 0s 4ms/step - loss: 0.4779 - accuracy: 0.7687 - val_loss: 0.4820 - val_accuracy: 0.7987\n",
            "Epoch 16/100\n",
            "20/20 [==============================] - 0s 3ms/step - loss: 0.4742 - accuracy: 0.7736 - val_loss: 0.4805 - val_accuracy: 0.7987\n",
            "Epoch 17/100\n",
            "20/20 [==============================] - 0s 5ms/step - loss: 0.4712 - accuracy: 0.7736 - val_loss: 0.4795 - val_accuracy: 0.7987\n",
            "Epoch 18/100\n",
            "20/20 [==============================] - 0s 5ms/step - loss: 0.4694 - accuracy: 0.7720 - val_loss: 0.4787 - val_accuracy: 0.7922\n",
            "Epoch 19/100\n",
            "20/20 [==============================] - 0s 4ms/step - loss: 0.4662 - accuracy: 0.7720 - val_loss: 0.4780 - val_accuracy: 0.8052\n",
            "Epoch 20/100\n",
            "20/20 [==============================] - 0s 4ms/step - loss: 0.4639 - accuracy: 0.7720 - val_loss: 0.4777 - val_accuracy: 0.7922\n",
            "Epoch 21/100\n",
            "20/20 [==============================] - 0s 3ms/step - loss: 0.4630 - accuracy: 0.7736 - val_loss: 0.4772 - val_accuracy: 0.7922\n",
            "Epoch 22/100\n",
            "20/20 [==============================] - 0s 3ms/step - loss: 0.4606 - accuracy: 0.7736 - val_loss: 0.4770 - val_accuracy: 0.7922\n",
            "Epoch 23/100\n",
            "20/20 [==============================] - 0s 4ms/step - loss: 0.4589 - accuracy: 0.7801 - val_loss: 0.4785 - val_accuracy: 0.7857\n",
            "Epoch 24/100\n",
            "20/20 [==============================] - 0s 4ms/step - loss: 0.4579 - accuracy: 0.7785 - val_loss: 0.4779 - val_accuracy: 0.7857\n",
            "Epoch 25/100\n",
            "20/20 [==============================] - 0s 4ms/step - loss: 0.4566 - accuracy: 0.7752 - val_loss: 0.4766 - val_accuracy: 0.7857\n",
            "Epoch 26/100\n",
            "20/20 [==============================] - 0s 3ms/step - loss: 0.4549 - accuracy: 0.7752 - val_loss: 0.4770 - val_accuracy: 0.7857\n",
            "Epoch 27/100\n",
            "20/20 [==============================] - 0s 6ms/step - loss: 0.4540 - accuracy: 0.7769 - val_loss: 0.4771 - val_accuracy: 0.7857\n",
            "Epoch 28/100\n",
            "20/20 [==============================] - 0s 6ms/step - loss: 0.4532 - accuracy: 0.7785 - val_loss: 0.4776 - val_accuracy: 0.7857\n",
            "Epoch 29/100\n",
            "20/20 [==============================] - 0s 6ms/step - loss: 0.4522 - accuracy: 0.7769 - val_loss: 0.4776 - val_accuracy: 0.7857\n",
            "Epoch 30/100\n",
            "20/20 [==============================] - 0s 7ms/step - loss: 0.4516 - accuracy: 0.7687 - val_loss: 0.4767 - val_accuracy: 0.7857\n",
            "Epoch 31/100\n",
            "20/20 [==============================] - 0s 5ms/step - loss: 0.4501 - accuracy: 0.7769 - val_loss: 0.4768 - val_accuracy: 0.7922\n",
            "Epoch 32/100\n",
            "20/20 [==============================] - 0s 5ms/step - loss: 0.4493 - accuracy: 0.7736 - val_loss: 0.4763 - val_accuracy: 0.7922\n",
            "Epoch 33/100\n",
            "20/20 [==============================] - 0s 8ms/step - loss: 0.4490 - accuracy: 0.7736 - val_loss: 0.4762 - val_accuracy: 0.7922\n",
            "Epoch 34/100\n",
            "20/20 [==============================] - 0s 10ms/step - loss: 0.4484 - accuracy: 0.7785 - val_loss: 0.4751 - val_accuracy: 0.7922\n",
            "Epoch 35/100\n",
            "20/20 [==============================] - 0s 11ms/step - loss: 0.4472 - accuracy: 0.7785 - val_loss: 0.4758 - val_accuracy: 0.7922\n",
            "Epoch 36/100\n",
            "20/20 [==============================] - 0s 10ms/step - loss: 0.4467 - accuracy: 0.7785 - val_loss: 0.4758 - val_accuracy: 0.7857\n",
            "Epoch 37/100\n",
            "20/20 [==============================] - 0s 9ms/step - loss: 0.4460 - accuracy: 0.7818 - val_loss: 0.4755 - val_accuracy: 0.7922\n",
            "Epoch 38/100\n",
            "20/20 [==============================] - 0s 6ms/step - loss: 0.4455 - accuracy: 0.7785 - val_loss: 0.4749 - val_accuracy: 0.7922\n",
            "Epoch 39/100\n",
            "20/20 [==============================] - 0s 5ms/step - loss: 0.4445 - accuracy: 0.7801 - val_loss: 0.4761 - val_accuracy: 0.7987\n",
            "Epoch 40/100\n",
            "20/20 [==============================] - 0s 6ms/step - loss: 0.4440 - accuracy: 0.7818 - val_loss: 0.4752 - val_accuracy: 0.7987\n",
            "Epoch 41/100\n",
            "20/20 [==============================] - 0s 5ms/step - loss: 0.4433 - accuracy: 0.7834 - val_loss: 0.4750 - val_accuracy: 0.7987\n",
            "Epoch 42/100\n",
            "20/20 [==============================] - 0s 6ms/step - loss: 0.4429 - accuracy: 0.7883 - val_loss: 0.4756 - val_accuracy: 0.8052\n",
            "Epoch 43/100\n",
            "20/20 [==============================] - 0s 5ms/step - loss: 0.4426 - accuracy: 0.7866 - val_loss: 0.4762 - val_accuracy: 0.7987\n",
            "Epoch 44/100\n",
            "20/20 [==============================] - 0s 6ms/step - loss: 0.4422 - accuracy: 0.7834 - val_loss: 0.4757 - val_accuracy: 0.7987\n",
            "Epoch 45/100\n",
            "20/20 [==============================] - 0s 5ms/step - loss: 0.4414 - accuracy: 0.7883 - val_loss: 0.4753 - val_accuracy: 0.7987\n",
            "Epoch 46/100\n",
            "20/20 [==============================] - 0s 6ms/step - loss: 0.4411 - accuracy: 0.7866 - val_loss: 0.4760 - val_accuracy: 0.7987\n",
            "Epoch 47/100\n",
            "20/20 [==============================] - 0s 6ms/step - loss: 0.4405 - accuracy: 0.7866 - val_loss: 0.4756 - val_accuracy: 0.7987\n",
            "Epoch 48/100\n",
            "20/20 [==============================] - 0s 5ms/step - loss: 0.4403 - accuracy: 0.7899 - val_loss: 0.4762 - val_accuracy: 0.7857\n",
            "Epoch 49/100\n",
            "20/20 [==============================] - 0s 4ms/step - loss: 0.4391 - accuracy: 0.7915 - val_loss: 0.4753 - val_accuracy: 0.7922\n",
            "Epoch 50/100\n",
            "20/20 [==============================] - 0s 5ms/step - loss: 0.4392 - accuracy: 0.7899 - val_loss: 0.4739 - val_accuracy: 0.7922\n",
            "Epoch 51/100\n",
            "20/20 [==============================] - 0s 4ms/step - loss: 0.4382 - accuracy: 0.7899 - val_loss: 0.4743 - val_accuracy: 0.7922\n",
            "Epoch 52/100\n",
            "20/20 [==============================] - 0s 5ms/step - loss: 0.4379 - accuracy: 0.7883 - val_loss: 0.4738 - val_accuracy: 0.7922\n",
            "Epoch 53/100\n",
            "20/20 [==============================] - 0s 4ms/step - loss: 0.4377 - accuracy: 0.7932 - val_loss: 0.4743 - val_accuracy: 0.7987\n",
            "Epoch 54/100\n",
            "20/20 [==============================] - 0s 3ms/step - loss: 0.4372 - accuracy: 0.7915 - val_loss: 0.4730 - val_accuracy: 0.7987\n",
            "Epoch 55/100\n",
            "20/20 [==============================] - 0s 3ms/step - loss: 0.4363 - accuracy: 0.7883 - val_loss: 0.4722 - val_accuracy: 0.7922\n",
            "Epoch 56/100\n",
            "20/20 [==============================] - 0s 3ms/step - loss: 0.4364 - accuracy: 0.7866 - val_loss: 0.4727 - val_accuracy: 0.7922\n",
            "Epoch 57/100\n",
            "20/20 [==============================] - 0s 4ms/step - loss: 0.4352 - accuracy: 0.7866 - val_loss: 0.4740 - val_accuracy: 0.7922\n",
            "Epoch 58/100\n",
            "20/20 [==============================] - 0s 3ms/step - loss: 0.4349 - accuracy: 0.7850 - val_loss: 0.4741 - val_accuracy: 0.7987\n",
            "Epoch 59/100\n",
            "20/20 [==============================] - 0s 4ms/step - loss: 0.4344 - accuracy: 0.7866 - val_loss: 0.4748 - val_accuracy: 0.8052\n",
            "Epoch 60/100\n",
            "20/20 [==============================] - 0s 4ms/step - loss: 0.4339 - accuracy: 0.7883 - val_loss: 0.4745 - val_accuracy: 0.7922\n",
            "Epoch 61/100\n",
            "20/20 [==============================] - 0s 3ms/step - loss: 0.4336 - accuracy: 0.7932 - val_loss: 0.4756 - val_accuracy: 0.7987\n",
            "Epoch 62/100\n",
            "20/20 [==============================] - 0s 4ms/step - loss: 0.4325 - accuracy: 0.7883 - val_loss: 0.4750 - val_accuracy: 0.7922\n",
            "Epoch 63/100\n",
            "20/20 [==============================] - 0s 4ms/step - loss: 0.4325 - accuracy: 0.7899 - val_loss: 0.4755 - val_accuracy: 0.7922\n",
            "Epoch 64/100\n",
            "20/20 [==============================] - 0s 10ms/step - loss: 0.4322 - accuracy: 0.7915 - val_loss: 0.4749 - val_accuracy: 0.7857\n",
            "Epoch 65/100\n",
            "20/20 [==============================] - 0s 8ms/step - loss: 0.4315 - accuracy: 0.7932 - val_loss: 0.4752 - val_accuracy: 0.7987\n",
            "Epoch 66/100\n",
            "20/20 [==============================] - 0s 6ms/step - loss: 0.4309 - accuracy: 0.7899 - val_loss: 0.4748 - val_accuracy: 0.7987\n",
            "Epoch 67/100\n",
            "20/20 [==============================] - 0s 7ms/step - loss: 0.4310 - accuracy: 0.7883 - val_loss: 0.4753 - val_accuracy: 0.7987\n",
            "Epoch 68/100\n",
            "20/20 [==============================] - 0s 7ms/step - loss: 0.4300 - accuracy: 0.7932 - val_loss: 0.4752 - val_accuracy: 0.7987\n",
            "Epoch 69/100\n",
            "20/20 [==============================] - 0s 7ms/step - loss: 0.4297 - accuracy: 0.7964 - val_loss: 0.4767 - val_accuracy: 0.7987\n",
            "Epoch 70/100\n",
            "20/20 [==============================] - 0s 6ms/step - loss: 0.4296 - accuracy: 0.8013 - val_loss: 0.4761 - val_accuracy: 0.7987\n",
            "Epoch 71/100\n",
            "20/20 [==============================] - 0s 7ms/step - loss: 0.4287 - accuracy: 0.7932 - val_loss: 0.4769 - val_accuracy: 0.7987\n",
            "Epoch 72/100\n",
            "20/20 [==============================] - 0s 7ms/step - loss: 0.4284 - accuracy: 0.7948 - val_loss: 0.4767 - val_accuracy: 0.8052\n",
            "Epoch 73/100\n",
            "20/20 [==============================] - 0s 8ms/step - loss: 0.4281 - accuracy: 0.7948 - val_loss: 0.4764 - val_accuracy: 0.7987\n",
            "Epoch 74/100\n",
            "20/20 [==============================] - 0s 13ms/step - loss: 0.4275 - accuracy: 0.7997 - val_loss: 0.4768 - val_accuracy: 0.8052\n",
            "Epoch 75/100\n",
            "20/20 [==============================] - 0s 6ms/step - loss: 0.4270 - accuracy: 0.7980 - val_loss: 0.4769 - val_accuracy: 0.8052\n",
            "Epoch 76/100\n",
            "20/20 [==============================] - 0s 7ms/step - loss: 0.4268 - accuracy: 0.7948 - val_loss: 0.4770 - val_accuracy: 0.7987\n",
            "Epoch 77/100\n",
            "20/20 [==============================] - 0s 6ms/step - loss: 0.4262 - accuracy: 0.7997 - val_loss: 0.4783 - val_accuracy: 0.7987\n",
            "Epoch 78/100\n",
            "20/20 [==============================] - 0s 9ms/step - loss: 0.4259 - accuracy: 0.8013 - val_loss: 0.4779 - val_accuracy: 0.7987\n",
            "Epoch 79/100\n",
            "20/20 [==============================] - 0s 5ms/step - loss: 0.4255 - accuracy: 0.7964 - val_loss: 0.4768 - val_accuracy: 0.7987\n",
            "Epoch 80/100\n",
            "20/20 [==============================] - 0s 7ms/step - loss: 0.4253 - accuracy: 0.7980 - val_loss: 0.4777 - val_accuracy: 0.7922\n",
            "Epoch 81/100\n",
            "20/20 [==============================] - 0s 7ms/step - loss: 0.4248 - accuracy: 0.7980 - val_loss: 0.4772 - val_accuracy: 0.7987\n",
            "Epoch 82/100\n",
            "20/20 [==============================] - 0s 8ms/step - loss: 0.4243 - accuracy: 0.7948 - val_loss: 0.4782 - val_accuracy: 0.7987\n",
            "Epoch 83/100\n",
            "20/20 [==============================] - 0s 9ms/step - loss: 0.4243 - accuracy: 0.8046 - val_loss: 0.4781 - val_accuracy: 0.8052\n",
            "Epoch 84/100\n",
            "20/20 [==============================] - 0s 8ms/step - loss: 0.4234 - accuracy: 0.8013 - val_loss: 0.4784 - val_accuracy: 0.7987\n",
            "Epoch 85/100\n",
            "20/20 [==============================] - 0s 6ms/step - loss: 0.4229 - accuracy: 0.8013 - val_loss: 0.4771 - val_accuracy: 0.7987\n",
            "Epoch 86/100\n",
            "20/20 [==============================] - 0s 6ms/step - loss: 0.4229 - accuracy: 0.8029 - val_loss: 0.4770 - val_accuracy: 0.7987\n",
            "Epoch 87/100\n",
            "20/20 [==============================] - 0s 8ms/step - loss: 0.4222 - accuracy: 0.8046 - val_loss: 0.4778 - val_accuracy: 0.7987\n",
            "Epoch 88/100\n",
            "20/20 [==============================] - 0s 9ms/step - loss: 0.4215 - accuracy: 0.8013 - val_loss: 0.4770 - val_accuracy: 0.7987\n",
            "Epoch 89/100\n",
            "20/20 [==============================] - 0s 7ms/step - loss: 0.4215 - accuracy: 0.7997 - val_loss: 0.4769 - val_accuracy: 0.7987\n",
            "Epoch 90/100\n",
            "20/20 [==============================] - 0s 6ms/step - loss: 0.4210 - accuracy: 0.8013 - val_loss: 0.4760 - val_accuracy: 0.7987\n",
            "Epoch 91/100\n",
            "20/20 [==============================] - 0s 11ms/step - loss: 0.4208 - accuracy: 0.8062 - val_loss: 0.4755 - val_accuracy: 0.7987\n",
            "Epoch 92/100\n",
            "20/20 [==============================] - 0s 6ms/step - loss: 0.4201 - accuracy: 0.8046 - val_loss: 0.4769 - val_accuracy: 0.7987\n",
            "Epoch 93/100\n",
            "20/20 [==============================] - 0s 6ms/step - loss: 0.4198 - accuracy: 0.8094 - val_loss: 0.4768 - val_accuracy: 0.7987\n",
            "Epoch 94/100\n",
            "20/20 [==============================] - 0s 6ms/step - loss: 0.4190 - accuracy: 0.8062 - val_loss: 0.4760 - val_accuracy: 0.7987\n",
            "Epoch 95/100\n",
            "20/20 [==============================] - 0s 6ms/step - loss: 0.4190 - accuracy: 0.8029 - val_loss: 0.4754 - val_accuracy: 0.7987\n",
            "Epoch 96/100\n",
            "20/20 [==============================] - 0s 8ms/step - loss: 0.4182 - accuracy: 0.8013 - val_loss: 0.4754 - val_accuracy: 0.7987\n",
            "Epoch 97/100\n",
            "20/20 [==============================] - 0s 7ms/step - loss: 0.4179 - accuracy: 0.8013 - val_loss: 0.4759 - val_accuracy: 0.7987\n",
            "Epoch 98/100\n",
            "20/20 [==============================] - 0s 8ms/step - loss: 0.4176 - accuracy: 0.8046 - val_loss: 0.4758 - val_accuracy: 0.7987\n",
            "Epoch 99/100\n",
            "20/20 [==============================] - 0s 7ms/step - loss: 0.4168 - accuracy: 0.8127 - val_loss: 0.4764 - val_accuracy: 0.7987\n",
            "Epoch 100/100\n",
            "20/20 [==============================] - 0s 7ms/step - loss: 0.4168 - accuracy: 0.8094 - val_loss: 0.4780 - val_accuracy: 0.7987\n"
          ]
        },
        {
          "output_type": "execute_result",
          "data": {
            "text/plain": [
              "<keras.callbacks.History at 0x7f8d93ee2e80>"
            ]
          },
          "metadata": {},
          "execution_count": 33
        }
      ]
    },
    {
      "cell_type": "code",
      "source": [
        "# initial_epoch = 6 becoz model is already train on the 5 epochs"
      ],
      "metadata": {
        "id": "vPGnWymztUD4"
      },
      "execution_count": 34,
      "outputs": []
    },
    {
      "cell_type": "code",
      "source": [
        "# 2) for the Right no. of neuron in the hidden layer"
      ],
      "metadata": {
        "id": "RrTVZhz-tewl"
      },
      "execution_count": 35,
      "outputs": []
    },
    {
      "cell_type": "code",
      "source": [
        "def build_model(hp):\n",
        "\n",
        "  model = Sequential()\n",
        "\n",
        "  units = hp.Int(\"units\",min_value = 8, max_value = 128, step = 8)\n",
        "\n",
        "  model.add(Dense(units = units, activation = 'relu',input_dim = 8))\n",
        "  model.add(Dense(1,activation = 'sigmoid'))\n",
        "\n",
        "  model.compile(optimizer = 'rmsprop',loss = 'binary_crossentropy',metrics = ['accuracy'])\n",
        "\n",
        "  return model"
      ],
      "metadata": {
        "id": "UMaqOzmtt262"
      },
      "execution_count": 36,
      "outputs": []
    },
    {
      "cell_type": "code",
      "source": [
        "tuner = kt.RandomSearch(build_model,\n",
        "                        objective = 'val_accuracy',\n",
        "                        max_trials=5,\n",
        "                        directory = 'mydir',\n",
        "                        project_name = 'Ashish')\n",
        "\n",
        "#directory :- tunner is train so it form jason file which save in the folder \"mydir\"."
      ],
      "metadata": {
        "id": "T55WqxmSwviA"
      },
      "execution_count": 39,
      "outputs": []
    },
    {
      "cell_type": "code",
      "source": [
        "tuner.search(X_train,y_train,epochs = 5, validation_data = (X_test,y_test))"
      ],
      "metadata": {
        "colab": {
          "base_uri": "https://localhost:8080/"
        },
        "id": "CYAjr3mHxnZH",
        "outputId": "813605ca-b807-4e73-a762-167678187180"
      },
      "execution_count": 40,
      "outputs": [
        {
          "output_type": "stream",
          "name": "stdout",
          "text": [
            "Trial 5 Complete [00h 00m 02s]\n",
            "val_accuracy: 0.7922077775001526\n",
            "\n",
            "Best val_accuracy So Far: 0.8051947951316833\n",
            "Total elapsed time: 00h 00m 08s\n"
          ]
        }
      ]
    },
    {
      "cell_type": "code",
      "source": [
        "tuner.get_best_hyperparameters()[0].values"
      ],
      "metadata": {
        "id": "y5yMM7HCyJf9",
        "colab": {
          "base_uri": "https://localhost:8080/"
        },
        "outputId": "60f9de54-7c2c-4c85-e0a0-61cefe4e7607"
      },
      "execution_count": 41,
      "outputs": [
        {
          "output_type": "execute_result",
          "data": {
            "text/plain": [
              "{'units': 64}"
            ]
          },
          "metadata": {},
          "execution_count": 41
        }
      ]
    },
    {
      "cell_type": "code",
      "source": [
        "# in case 64 nodes perform the best in this parameter"
      ],
      "metadata": {
        "id": "vBgIE5APGOGo"
      },
      "execution_count": 42,
      "outputs": []
    },
    {
      "cell_type": "code",
      "source": [
        "# now we can abstract the model:-\n",
        "model = tuner.get_best_models(num_models = 1)[0]"
      ],
      "metadata": {
        "id": "BLSYIqEFGWzU"
      },
      "execution_count": 43,
      "outputs": []
    },
    {
      "cell_type": "code",
      "source": [
        "model.fit(X_train,y_train,batch_size = 32, epochs=100,initial_epoch=6,validation_data=(X_test,y_test))"
      ],
      "metadata": {
        "colab": {
          "base_uri": "https://localhost:8080/"
        },
        "id": "jlCwVDSRG2fC",
        "outputId": "b611691d-34d7-4903-a0a5-2b2272e5228e"
      },
      "execution_count": 44,
      "outputs": [
        {
          "output_type": "stream",
          "name": "stdout",
          "text": [
            "Epoch 7/100\n",
            "20/20 [==============================] - 1s 11ms/step - loss: 0.5520 - accuracy: 0.7394 - val_loss: 0.5264 - val_accuracy: 0.7987\n",
            "Epoch 8/100\n",
            "20/20 [==============================] - 0s 3ms/step - loss: 0.5252 - accuracy: 0.7671 - val_loss: 0.5073 - val_accuracy: 0.7922\n",
            "Epoch 9/100\n",
            "20/20 [==============================] - 0s 3ms/step - loss: 0.5054 - accuracy: 0.7769 - val_loss: 0.4916 - val_accuracy: 0.7987\n",
            "Epoch 10/100\n",
            "20/20 [==============================] - 0s 3ms/step - loss: 0.4897 - accuracy: 0.7801 - val_loss: 0.4794 - val_accuracy: 0.7922\n",
            "Epoch 11/100\n",
            "20/20 [==============================] - 0s 3ms/step - loss: 0.4777 - accuracy: 0.7785 - val_loss: 0.4727 - val_accuracy: 0.7922\n",
            "Epoch 12/100\n",
            "20/20 [==============================] - 0s 4ms/step - loss: 0.4700 - accuracy: 0.7785 - val_loss: 0.4686 - val_accuracy: 0.7987\n",
            "Epoch 13/100\n",
            "20/20 [==============================] - 0s 4ms/step - loss: 0.4638 - accuracy: 0.7801 - val_loss: 0.4657 - val_accuracy: 0.7857\n",
            "Epoch 14/100\n",
            "20/20 [==============================] - 0s 3ms/step - loss: 0.4595 - accuracy: 0.7850 - val_loss: 0.4641 - val_accuracy: 0.7922\n",
            "Epoch 15/100\n",
            "20/20 [==============================] - 0s 4ms/step - loss: 0.4565 - accuracy: 0.7769 - val_loss: 0.4648 - val_accuracy: 0.7987\n",
            "Epoch 16/100\n",
            "20/20 [==============================] - 0s 4ms/step - loss: 0.4535 - accuracy: 0.7801 - val_loss: 0.4643 - val_accuracy: 0.7987\n",
            "Epoch 17/100\n",
            "20/20 [==============================] - 0s 3ms/step - loss: 0.4512 - accuracy: 0.7834 - val_loss: 0.4623 - val_accuracy: 0.7987\n",
            "Epoch 18/100\n",
            "20/20 [==============================] - 0s 4ms/step - loss: 0.4496 - accuracy: 0.7818 - val_loss: 0.4624 - val_accuracy: 0.7922\n",
            "Epoch 19/100\n",
            "20/20 [==============================] - 0s 4ms/step - loss: 0.4477 - accuracy: 0.7785 - val_loss: 0.4631 - val_accuracy: 0.7987\n",
            "Epoch 20/100\n",
            "20/20 [==============================] - 0s 4ms/step - loss: 0.4460 - accuracy: 0.7834 - val_loss: 0.4621 - val_accuracy: 0.8052\n",
            "Epoch 21/100\n",
            "20/20 [==============================] - 0s 4ms/step - loss: 0.4446 - accuracy: 0.7818 - val_loss: 0.4625 - val_accuracy: 0.7987\n",
            "Epoch 22/100\n",
            "20/20 [==============================] - 0s 3ms/step - loss: 0.4436 - accuracy: 0.7801 - val_loss: 0.4624 - val_accuracy: 0.7922\n",
            "Epoch 23/100\n",
            "20/20 [==============================] - 0s 4ms/step - loss: 0.4423 - accuracy: 0.7801 - val_loss: 0.4630 - val_accuracy: 0.7922\n",
            "Epoch 24/100\n",
            "20/20 [==============================] - 0s 4ms/step - loss: 0.4415 - accuracy: 0.7866 - val_loss: 0.4636 - val_accuracy: 0.7987\n",
            "Epoch 25/100\n",
            "20/20 [==============================] - 0s 4ms/step - loss: 0.4406 - accuracy: 0.7818 - val_loss: 0.4640 - val_accuracy: 0.7987\n",
            "Epoch 26/100\n",
            "20/20 [==============================] - 0s 4ms/step - loss: 0.4398 - accuracy: 0.7818 - val_loss: 0.4643 - val_accuracy: 0.7922\n",
            "Epoch 27/100\n",
            "20/20 [==============================] - 0s 5ms/step - loss: 0.4386 - accuracy: 0.7850 - val_loss: 0.4652 - val_accuracy: 0.7922\n",
            "Epoch 28/100\n",
            "20/20 [==============================] - 0s 4ms/step - loss: 0.4383 - accuracy: 0.7883 - val_loss: 0.4672 - val_accuracy: 0.7987\n",
            "Epoch 29/100\n",
            "20/20 [==============================] - 0s 4ms/step - loss: 0.4370 - accuracy: 0.7883 - val_loss: 0.4647 - val_accuracy: 0.7922\n",
            "Epoch 30/100\n",
            "20/20 [==============================] - 0s 4ms/step - loss: 0.4367 - accuracy: 0.7818 - val_loss: 0.4649 - val_accuracy: 0.7922\n",
            "Epoch 31/100\n",
            "20/20 [==============================] - 0s 3ms/step - loss: 0.4362 - accuracy: 0.7850 - val_loss: 0.4646 - val_accuracy: 0.7922\n",
            "Epoch 32/100\n",
            "20/20 [==============================] - 0s 4ms/step - loss: 0.4354 - accuracy: 0.7850 - val_loss: 0.4645 - val_accuracy: 0.7922\n",
            "Epoch 33/100\n",
            "20/20 [==============================] - 0s 3ms/step - loss: 0.4346 - accuracy: 0.7883 - val_loss: 0.4649 - val_accuracy: 0.7922\n",
            "Epoch 34/100\n",
            "20/20 [==============================] - 0s 3ms/step - loss: 0.4345 - accuracy: 0.7866 - val_loss: 0.4647 - val_accuracy: 0.7922\n",
            "Epoch 35/100\n",
            "20/20 [==============================] - 0s 3ms/step - loss: 0.4338 - accuracy: 0.7866 - val_loss: 0.4654 - val_accuracy: 0.7922\n",
            "Epoch 36/100\n",
            "20/20 [==============================] - 0s 3ms/step - loss: 0.4333 - accuracy: 0.7883 - val_loss: 0.4659 - val_accuracy: 0.7922\n",
            "Epoch 37/100\n",
            "20/20 [==============================] - 0s 4ms/step - loss: 0.4328 - accuracy: 0.7883 - val_loss: 0.4658 - val_accuracy: 0.7922\n",
            "Epoch 38/100\n",
            "20/20 [==============================] - 0s 4ms/step - loss: 0.4318 - accuracy: 0.7932 - val_loss: 0.4650 - val_accuracy: 0.7857\n",
            "Epoch 39/100\n",
            "20/20 [==============================] - 0s 3ms/step - loss: 0.4316 - accuracy: 0.7948 - val_loss: 0.4633 - val_accuracy: 0.7922\n",
            "Epoch 40/100\n",
            "20/20 [==============================] - 0s 3ms/step - loss: 0.4309 - accuracy: 0.7899 - val_loss: 0.4627 - val_accuracy: 0.7922\n",
            "Epoch 41/100\n",
            "20/20 [==============================] - 0s 4ms/step - loss: 0.4307 - accuracy: 0.7899 - val_loss: 0.4626 - val_accuracy: 0.7922\n",
            "Epoch 42/100\n",
            "20/20 [==============================] - 0s 4ms/step - loss: 0.4304 - accuracy: 0.7899 - val_loss: 0.4626 - val_accuracy: 0.7922\n",
            "Epoch 43/100\n",
            "20/20 [==============================] - 0s 4ms/step - loss: 0.4295 - accuracy: 0.7883 - val_loss: 0.4614 - val_accuracy: 0.7987\n",
            "Epoch 44/100\n",
            "20/20 [==============================] - 0s 4ms/step - loss: 0.4289 - accuracy: 0.7948 - val_loss: 0.4619 - val_accuracy: 0.7922\n",
            "Epoch 45/100\n",
            "20/20 [==============================] - 0s 3ms/step - loss: 0.4286 - accuracy: 0.7850 - val_loss: 0.4621 - val_accuracy: 0.7987\n",
            "Epoch 46/100\n",
            "20/20 [==============================] - 0s 4ms/step - loss: 0.4280 - accuracy: 0.7850 - val_loss: 0.4648 - val_accuracy: 0.7792\n",
            "Epoch 47/100\n",
            "20/20 [==============================] - 0s 4ms/step - loss: 0.4279 - accuracy: 0.7915 - val_loss: 0.4638 - val_accuracy: 0.7857\n",
            "Epoch 48/100\n",
            "20/20 [==============================] - 0s 4ms/step - loss: 0.4277 - accuracy: 0.7932 - val_loss: 0.4648 - val_accuracy: 0.7857\n",
            "Epoch 49/100\n",
            "20/20 [==============================] - 0s 4ms/step - loss: 0.4266 - accuracy: 0.7932 - val_loss: 0.4658 - val_accuracy: 0.7792\n",
            "Epoch 50/100\n",
            "20/20 [==============================] - 0s 3ms/step - loss: 0.4263 - accuracy: 0.7932 - val_loss: 0.4642 - val_accuracy: 0.7857\n",
            "Epoch 51/100\n",
            "20/20 [==============================] - 0s 3ms/step - loss: 0.4267 - accuracy: 0.7915 - val_loss: 0.4633 - val_accuracy: 0.7922\n",
            "Epoch 52/100\n",
            "20/20 [==============================] - 0s 3ms/step - loss: 0.4257 - accuracy: 0.7899 - val_loss: 0.4621 - val_accuracy: 0.7987\n",
            "Epoch 53/100\n",
            "20/20 [==============================] - 0s 3ms/step - loss: 0.4254 - accuracy: 0.7948 - val_loss: 0.4641 - val_accuracy: 0.7922\n",
            "Epoch 54/100\n",
            "20/20 [==============================] - 0s 4ms/step - loss: 0.4253 - accuracy: 0.7948 - val_loss: 0.4638 - val_accuracy: 0.7922\n",
            "Epoch 55/100\n",
            "20/20 [==============================] - 0s 4ms/step - loss: 0.4245 - accuracy: 0.7932 - val_loss: 0.4648 - val_accuracy: 0.7922\n",
            "Epoch 56/100\n",
            "20/20 [==============================] - 0s 3ms/step - loss: 0.4247 - accuracy: 0.7932 - val_loss: 0.4642 - val_accuracy: 0.7922\n",
            "Epoch 57/100\n",
            "20/20 [==============================] - 0s 4ms/step - loss: 0.4234 - accuracy: 0.7883 - val_loss: 0.4635 - val_accuracy: 0.7922\n",
            "Epoch 58/100\n",
            "20/20 [==============================] - 0s 4ms/step - loss: 0.4236 - accuracy: 0.7932 - val_loss: 0.4631 - val_accuracy: 0.7987\n",
            "Epoch 59/100\n",
            "20/20 [==============================] - 0s 4ms/step - loss: 0.4224 - accuracy: 0.7948 - val_loss: 0.4630 - val_accuracy: 0.7987\n",
            "Epoch 60/100\n",
            "20/20 [==============================] - 0s 4ms/step - loss: 0.4227 - accuracy: 0.7932 - val_loss: 0.4650 - val_accuracy: 0.7987\n",
            "Epoch 61/100\n",
            "20/20 [==============================] - 0s 4ms/step - loss: 0.4217 - accuracy: 0.7980 - val_loss: 0.4638 - val_accuracy: 0.7922\n",
            "Epoch 62/100\n",
            "20/20 [==============================] - 0s 4ms/step - loss: 0.4216 - accuracy: 0.7932 - val_loss: 0.4641 - val_accuracy: 0.7922\n",
            "Epoch 63/100\n",
            "20/20 [==============================] - 0s 3ms/step - loss: 0.4214 - accuracy: 0.7932 - val_loss: 0.4654 - val_accuracy: 0.7922\n",
            "Epoch 64/100\n",
            "20/20 [==============================] - 0s 4ms/step - loss: 0.4212 - accuracy: 0.7948 - val_loss: 0.4647 - val_accuracy: 0.7987\n",
            "Epoch 65/100\n",
            "20/20 [==============================] - 0s 4ms/step - loss: 0.4200 - accuracy: 0.7932 - val_loss: 0.4655 - val_accuracy: 0.7987\n",
            "Epoch 66/100\n",
            "20/20 [==============================] - 0s 4ms/step - loss: 0.4204 - accuracy: 0.7980 - val_loss: 0.4636 - val_accuracy: 0.7987\n",
            "Epoch 67/100\n",
            "20/20 [==============================] - 0s 4ms/step - loss: 0.4197 - accuracy: 0.7948 - val_loss: 0.4634 - val_accuracy: 0.8052\n",
            "Epoch 68/100\n",
            "20/20 [==============================] - 0s 4ms/step - loss: 0.4198 - accuracy: 0.7964 - val_loss: 0.4646 - val_accuracy: 0.7987\n",
            "Epoch 69/100\n",
            "20/20 [==============================] - 0s 4ms/step - loss: 0.4195 - accuracy: 0.8013 - val_loss: 0.4652 - val_accuracy: 0.7922\n",
            "Epoch 70/100\n",
            "20/20 [==============================] - 0s 3ms/step - loss: 0.4187 - accuracy: 0.8013 - val_loss: 0.4644 - val_accuracy: 0.7922\n",
            "Epoch 71/100\n",
            "20/20 [==============================] - 0s 4ms/step - loss: 0.4183 - accuracy: 0.7997 - val_loss: 0.4647 - val_accuracy: 0.7987\n",
            "Epoch 72/100\n",
            "20/20 [==============================] - 0s 4ms/step - loss: 0.4179 - accuracy: 0.7980 - val_loss: 0.4649 - val_accuracy: 0.7922\n",
            "Epoch 73/100\n",
            "20/20 [==============================] - 0s 3ms/step - loss: 0.4177 - accuracy: 0.7964 - val_loss: 0.4632 - val_accuracy: 0.7987\n",
            "Epoch 74/100\n",
            "20/20 [==============================] - 0s 5ms/step - loss: 0.4170 - accuracy: 0.7997 - val_loss: 0.4630 - val_accuracy: 0.7987\n",
            "Epoch 75/100\n",
            "20/20 [==============================] - 0s 4ms/step - loss: 0.4170 - accuracy: 0.7997 - val_loss: 0.4628 - val_accuracy: 0.7922\n",
            "Epoch 76/100\n",
            "20/20 [==============================] - 0s 4ms/step - loss: 0.4164 - accuracy: 0.7997 - val_loss: 0.4647 - val_accuracy: 0.7987\n",
            "Epoch 77/100\n",
            "20/20 [==============================] - 0s 3ms/step - loss: 0.4163 - accuracy: 0.8046 - val_loss: 0.4630 - val_accuracy: 0.7987\n",
            "Epoch 78/100\n",
            "20/20 [==============================] - 0s 4ms/step - loss: 0.4160 - accuracy: 0.8046 - val_loss: 0.4620 - val_accuracy: 0.7987\n",
            "Epoch 79/100\n",
            "20/20 [==============================] - 0s 4ms/step - loss: 0.4154 - accuracy: 0.8062 - val_loss: 0.4630 - val_accuracy: 0.7987\n",
            "Epoch 80/100\n",
            "20/20 [==============================] - 0s 4ms/step - loss: 0.4153 - accuracy: 0.8013 - val_loss: 0.4635 - val_accuracy: 0.7987\n",
            "Epoch 81/100\n",
            "20/20 [==============================] - 0s 4ms/step - loss: 0.4150 - accuracy: 0.8062 - val_loss: 0.4632 - val_accuracy: 0.7922\n",
            "Epoch 82/100\n",
            "20/20 [==============================] - 0s 4ms/step - loss: 0.4145 - accuracy: 0.8013 - val_loss: 0.4632 - val_accuracy: 0.7987\n",
            "Epoch 83/100\n",
            "20/20 [==============================] - 0s 3ms/step - loss: 0.4141 - accuracy: 0.8094 - val_loss: 0.4621 - val_accuracy: 0.7987\n",
            "Epoch 84/100\n",
            "20/20 [==============================] - 0s 4ms/step - loss: 0.4140 - accuracy: 0.8029 - val_loss: 0.4631 - val_accuracy: 0.8052\n",
            "Epoch 85/100\n",
            "20/20 [==============================] - 0s 4ms/step - loss: 0.4137 - accuracy: 0.8013 - val_loss: 0.4643 - val_accuracy: 0.7987\n",
            "Epoch 86/100\n",
            "20/20 [==============================] - 0s 4ms/step - loss: 0.4134 - accuracy: 0.8111 - val_loss: 0.4644 - val_accuracy: 0.7987\n",
            "Epoch 87/100\n",
            "20/20 [==============================] - 0s 4ms/step - loss: 0.4127 - accuracy: 0.8160 - val_loss: 0.4643 - val_accuracy: 0.7987\n",
            "Epoch 88/100\n",
            "20/20 [==============================] - 0s 4ms/step - loss: 0.4129 - accuracy: 0.8143 - val_loss: 0.4629 - val_accuracy: 0.7987\n",
            "Epoch 89/100\n",
            "20/20 [==============================] - 0s 4ms/step - loss: 0.4120 - accuracy: 0.8111 - val_loss: 0.4637 - val_accuracy: 0.7987\n",
            "Epoch 90/100\n",
            "20/20 [==============================] - 0s 4ms/step - loss: 0.4120 - accuracy: 0.8046 - val_loss: 0.4636 - val_accuracy: 0.7987\n",
            "Epoch 91/100\n",
            "20/20 [==============================] - 0s 3ms/step - loss: 0.4116 - accuracy: 0.8111 - val_loss: 0.4620 - val_accuracy: 0.7987\n",
            "Epoch 92/100\n",
            "20/20 [==============================] - 0s 4ms/step - loss: 0.4112 - accuracy: 0.8127 - val_loss: 0.4598 - val_accuracy: 0.7987\n",
            "Epoch 93/100\n",
            "20/20 [==============================] - 0s 4ms/step - loss: 0.4112 - accuracy: 0.8127 - val_loss: 0.4602 - val_accuracy: 0.7987\n",
            "Epoch 94/100\n",
            "20/20 [==============================] - 0s 4ms/step - loss: 0.4107 - accuracy: 0.8127 - val_loss: 0.4626 - val_accuracy: 0.8052\n",
            "Epoch 95/100\n",
            "20/20 [==============================] - 0s 4ms/step - loss: 0.4102 - accuracy: 0.8127 - val_loss: 0.4629 - val_accuracy: 0.7987\n",
            "Epoch 96/100\n",
            "20/20 [==============================] - 0s 3ms/step - loss: 0.4099 - accuracy: 0.8078 - val_loss: 0.4620 - val_accuracy: 0.7987\n",
            "Epoch 97/100\n",
            "20/20 [==============================] - 0s 5ms/step - loss: 0.4098 - accuracy: 0.8111 - val_loss: 0.4620 - val_accuracy: 0.7987\n",
            "Epoch 98/100\n",
            "20/20 [==============================] - 0s 4ms/step - loss: 0.4096 - accuracy: 0.8208 - val_loss: 0.4618 - val_accuracy: 0.7987\n",
            "Epoch 99/100\n",
            "20/20 [==============================] - 0s 4ms/step - loss: 0.4092 - accuracy: 0.8143 - val_loss: 0.4611 - val_accuracy: 0.7987\n",
            "Epoch 100/100\n",
            "20/20 [==============================] - 0s 4ms/step - loss: 0.4088 - accuracy: 0.8127 - val_loss: 0.4624 - val_accuracy: 0.7987\n"
          ]
        },
        {
          "output_type": "execute_result",
          "data": {
            "text/plain": [
              "<keras.callbacks.History at 0x7f8d9d2bc8e0>"
            ]
          },
          "metadata": {},
          "execution_count": 44
        }
      ]
    },
    {
      "cell_type": "code",
      "source": [
        "# now in case we take step size = 1  \n",
        "\n",
        "def build_model(hp):\n",
        "\n",
        "  model = Sequential()\n",
        "\n",
        "  units = hp.Int(\"units\",min_value = 8, max_value = 128)\n",
        "\n",
        "  model.add(Dense(units = units, activation = 'relu',input_dim = 8))\n",
        "  model.add(Dense(1,activation = 'sigmoid'))\n",
        "\n",
        "  model.compile(optimizer = 'rmsprop',loss = 'binary_crossentropy',metrics = ['accuracy'])\n",
        "\n",
        "  return model"
      ],
      "metadata": {
        "id": "MbY_l84VHU1i"
      },
      "execution_count": 45,
      "outputs": []
    },
    {
      "cell_type": "code",
      "source": [
        "tuner = kt.RandomSearch(build_model,\n",
        "                        objective = 'val_accuracy',\n",
        "                        max_trials=5,\n",
        "                        directory = 'mydir',\n",
        "                        project_name = 'Ashish2')\n",
        "\n",
        "#directory :- tunner is train so it form jason file which save in the folder \"mydir\"."
      ],
      "metadata": {
        "id": "8jIdSedJIIvg"
      },
      "execution_count": 46,
      "outputs": []
    },
    {
      "cell_type": "code",
      "source": [
        "tuner.search(X_train,y_train,epochs = 5, validation_data = (X_test,y_test))"
      ],
      "metadata": {
        "colab": {
          "base_uri": "https://localhost:8080/"
        },
        "id": "y5hbbGvWIOiv",
        "outputId": "d43841cb-9a20-42c9-8423-33a25b58df84"
      },
      "execution_count": 47,
      "outputs": [
        {
          "output_type": "stream",
          "name": "stdout",
          "text": [
            "Trial 5 Complete [00h 00m 01s]\n",
            "val_accuracy: 0.7922077775001526\n",
            "\n",
            "Best val_accuracy So Far: 0.798701286315918\n",
            "Total elapsed time: 00h 00m 08s\n"
          ]
        }
      ]
    },
    {
      "cell_type": "code",
      "source": [
        "tuner.get_best_hyperparameters()[0].values"
      ],
      "metadata": {
        "colab": {
          "base_uri": "https://localhost:8080/"
        },
        "id": "cdFEGCDqISG8",
        "outputId": "1f68973e-29d7-44be-bd48-6c35f7d62049"
      },
      "execution_count": 48,
      "outputs": [
        {
          "output_type": "execute_result",
          "data": {
            "text/plain": [
              "{'units': 35}"
            ]
          },
          "metadata": {},
          "execution_count": 48
        }
      ]
    },
    {
      "cell_type": "code",
      "source": [
        "# now this we get 35 \n",
        "model = tuner.get_best_models(num_models = 1)[0]"
      ],
      "metadata": {
        "id": "eqanpi64IZTT"
      },
      "execution_count": 49,
      "outputs": []
    },
    {
      "cell_type": "code",
      "source": [
        "model.fit(X_train,y_train,batch_size = 32, epochs=100,initial_epoch=6,validation_data=(X_test,y_test))"
      ],
      "metadata": {
        "colab": {
          "base_uri": "https://localhost:8080/"
        },
        "id": "Nohc_sZiIyBQ",
        "outputId": "c199e8a0-fba8-4ce2-fe74-0cbbf32dcf46"
      },
      "execution_count": 50,
      "outputs": [
        {
          "output_type": "stream",
          "name": "stdout",
          "text": [
            "Epoch 7/100\n",
            "20/20 [==============================] - 1s 12ms/step - loss: 0.5194 - accuracy: 0.7427 - val_loss: 0.5055 - val_accuracy: 0.8052\n",
            "Epoch 8/100\n",
            "20/20 [==============================] - 0s 3ms/step - loss: 0.5065 - accuracy: 0.7427 - val_loss: 0.4943 - val_accuracy: 0.8052\n",
            "Epoch 9/100\n",
            "20/20 [==============================] - 0s 4ms/step - loss: 0.4966 - accuracy: 0.7492 - val_loss: 0.4849 - val_accuracy: 0.8182\n",
            "Epoch 10/100\n",
            "20/20 [==============================] - 0s 4ms/step - loss: 0.4880 - accuracy: 0.7573 - val_loss: 0.4774 - val_accuracy: 0.8117\n",
            "Epoch 11/100\n",
            "20/20 [==============================] - 0s 3ms/step - loss: 0.4817 - accuracy: 0.7638 - val_loss: 0.4720 - val_accuracy: 0.8117\n",
            "Epoch 12/100\n",
            "20/20 [==============================] - 0s 4ms/step - loss: 0.4765 - accuracy: 0.7720 - val_loss: 0.4670 - val_accuracy: 0.8182\n",
            "Epoch 13/100\n",
            "20/20 [==============================] - 0s 3ms/step - loss: 0.4718 - accuracy: 0.7736 - val_loss: 0.4632 - val_accuracy: 0.8247\n",
            "Epoch 14/100\n",
            "20/20 [==============================] - 0s 4ms/step - loss: 0.4682 - accuracy: 0.7736 - val_loss: 0.4624 - val_accuracy: 0.8182\n",
            "Epoch 15/100\n",
            "20/20 [==============================] - 0s 6ms/step - loss: 0.4653 - accuracy: 0.7785 - val_loss: 0.4600 - val_accuracy: 0.8117\n",
            "Epoch 16/100\n",
            "20/20 [==============================] - 0s 5ms/step - loss: 0.4623 - accuracy: 0.7769 - val_loss: 0.4586 - val_accuracy: 0.8117\n",
            "Epoch 17/100\n",
            "20/20 [==============================] - 0s 6ms/step - loss: 0.4605 - accuracy: 0.7801 - val_loss: 0.4582 - val_accuracy: 0.8182\n",
            "Epoch 18/100\n",
            "20/20 [==============================] - 0s 6ms/step - loss: 0.4583 - accuracy: 0.7899 - val_loss: 0.4567 - val_accuracy: 0.8117\n",
            "Epoch 19/100\n",
            "20/20 [==============================] - 0s 5ms/step - loss: 0.4566 - accuracy: 0.7801 - val_loss: 0.4553 - val_accuracy: 0.8182\n",
            "Epoch 20/100\n",
            "20/20 [==============================] - 0s 5ms/step - loss: 0.4552 - accuracy: 0.7818 - val_loss: 0.4552 - val_accuracy: 0.8182\n",
            "Epoch 21/100\n",
            "20/20 [==============================] - 0s 5ms/step - loss: 0.4540 - accuracy: 0.7818 - val_loss: 0.4548 - val_accuracy: 0.8117\n",
            "Epoch 22/100\n",
            "20/20 [==============================] - 0s 6ms/step - loss: 0.4526 - accuracy: 0.7801 - val_loss: 0.4545 - val_accuracy: 0.8117\n",
            "Epoch 23/100\n",
            "20/20 [==============================] - 0s 6ms/step - loss: 0.4513 - accuracy: 0.7736 - val_loss: 0.4547 - val_accuracy: 0.8117\n",
            "Epoch 24/100\n",
            "20/20 [==============================] - 0s 5ms/step - loss: 0.4504 - accuracy: 0.7687 - val_loss: 0.4545 - val_accuracy: 0.8182\n",
            "Epoch 25/100\n",
            "20/20 [==============================] - 0s 5ms/step - loss: 0.4497 - accuracy: 0.7736 - val_loss: 0.4547 - val_accuracy: 0.8182\n",
            "Epoch 26/100\n",
            "20/20 [==============================] - 0s 6ms/step - loss: 0.4485 - accuracy: 0.7752 - val_loss: 0.4555 - val_accuracy: 0.8182\n",
            "Epoch 27/100\n",
            "20/20 [==============================] - 0s 6ms/step - loss: 0.4475 - accuracy: 0.7704 - val_loss: 0.4546 - val_accuracy: 0.8117\n",
            "Epoch 28/100\n",
            "20/20 [==============================] - 0s 6ms/step - loss: 0.4469 - accuracy: 0.7704 - val_loss: 0.4533 - val_accuracy: 0.8182\n",
            "Epoch 29/100\n",
            "20/20 [==============================] - 0s 5ms/step - loss: 0.4458 - accuracy: 0.7769 - val_loss: 0.4536 - val_accuracy: 0.8182\n",
            "Epoch 30/100\n",
            "20/20 [==============================] - 0s 5ms/step - loss: 0.4450 - accuracy: 0.7736 - val_loss: 0.4553 - val_accuracy: 0.8117\n",
            "Epoch 31/100\n",
            "20/20 [==============================] - 0s 6ms/step - loss: 0.4448 - accuracy: 0.7752 - val_loss: 0.4542 - val_accuracy: 0.8182\n",
            "Epoch 32/100\n",
            "20/20 [==============================] - 0s 5ms/step - loss: 0.4442 - accuracy: 0.7720 - val_loss: 0.4535 - val_accuracy: 0.8182\n",
            "Epoch 33/100\n",
            "20/20 [==============================] - 0s 5ms/step - loss: 0.4432 - accuracy: 0.7736 - val_loss: 0.4533 - val_accuracy: 0.8182\n",
            "Epoch 34/100\n",
            "20/20 [==============================] - 0s 5ms/step - loss: 0.4429 - accuracy: 0.7752 - val_loss: 0.4535 - val_accuracy: 0.8182\n",
            "Epoch 35/100\n",
            "20/20 [==============================] - 0s 6ms/step - loss: 0.4425 - accuracy: 0.7736 - val_loss: 0.4529 - val_accuracy: 0.8182\n",
            "Epoch 36/100\n",
            "20/20 [==============================] - 0s 6ms/step - loss: 0.4421 - accuracy: 0.7785 - val_loss: 0.4534 - val_accuracy: 0.8182\n",
            "Epoch 37/100\n",
            "20/20 [==============================] - 0s 5ms/step - loss: 0.4418 - accuracy: 0.7736 - val_loss: 0.4538 - val_accuracy: 0.8182\n",
            "Epoch 38/100\n",
            "20/20 [==============================] - 0s 6ms/step - loss: 0.4408 - accuracy: 0.7752 - val_loss: 0.4549 - val_accuracy: 0.8182\n",
            "Epoch 39/100\n",
            "20/20 [==============================] - 0s 6ms/step - loss: 0.4403 - accuracy: 0.7720 - val_loss: 0.4542 - val_accuracy: 0.8117\n",
            "Epoch 40/100\n",
            "20/20 [==============================] - 0s 5ms/step - loss: 0.4397 - accuracy: 0.7785 - val_loss: 0.4535 - val_accuracy: 0.8117\n",
            "Epoch 41/100\n",
            "20/20 [==============================] - 0s 3ms/step - loss: 0.4395 - accuracy: 0.7785 - val_loss: 0.4531 - val_accuracy: 0.8182\n",
            "Epoch 42/100\n",
            "20/20 [==============================] - 0s 4ms/step - loss: 0.4388 - accuracy: 0.7769 - val_loss: 0.4529 - val_accuracy: 0.8117\n",
            "Epoch 43/100\n",
            "20/20 [==============================] - 0s 3ms/step - loss: 0.4381 - accuracy: 0.7834 - val_loss: 0.4539 - val_accuracy: 0.8247\n",
            "Epoch 44/100\n",
            "20/20 [==============================] - 0s 5ms/step - loss: 0.4380 - accuracy: 0.7769 - val_loss: 0.4550 - val_accuracy: 0.8182\n",
            "Epoch 45/100\n",
            "20/20 [==============================] - 0s 4ms/step - loss: 0.4375 - accuracy: 0.7752 - val_loss: 0.4540 - val_accuracy: 0.8117\n",
            "Epoch 46/100\n",
            "20/20 [==============================] - 0s 4ms/step - loss: 0.4366 - accuracy: 0.7801 - val_loss: 0.4531 - val_accuracy: 0.8117\n",
            "Epoch 47/100\n",
            "20/20 [==============================] - 0s 4ms/step - loss: 0.4369 - accuracy: 0.7785 - val_loss: 0.4529 - val_accuracy: 0.8182\n",
            "Epoch 48/100\n",
            "20/20 [==============================] - 0s 3ms/step - loss: 0.4360 - accuracy: 0.7834 - val_loss: 0.4531 - val_accuracy: 0.8247\n",
            "Epoch 49/100\n",
            "20/20 [==============================] - 0s 4ms/step - loss: 0.4357 - accuracy: 0.7818 - val_loss: 0.4542 - val_accuracy: 0.8247\n",
            "Epoch 50/100\n",
            "20/20 [==============================] - 0s 5ms/step - loss: 0.4357 - accuracy: 0.7834 - val_loss: 0.4545 - val_accuracy: 0.8182\n",
            "Epoch 51/100\n",
            "20/20 [==============================] - 0s 4ms/step - loss: 0.4347 - accuracy: 0.7801 - val_loss: 0.4540 - val_accuracy: 0.8182\n",
            "Epoch 52/100\n",
            "20/20 [==============================] - 0s 4ms/step - loss: 0.4346 - accuracy: 0.7801 - val_loss: 0.4554 - val_accuracy: 0.8117\n",
            "Epoch 53/100\n",
            "20/20 [==============================] - 0s 4ms/step - loss: 0.4343 - accuracy: 0.7818 - val_loss: 0.4552 - val_accuracy: 0.8247\n",
            "Epoch 54/100\n",
            "20/20 [==============================] - 0s 4ms/step - loss: 0.4337 - accuracy: 0.7850 - val_loss: 0.4555 - val_accuracy: 0.8182\n",
            "Epoch 55/100\n",
            "20/20 [==============================] - 0s 4ms/step - loss: 0.4338 - accuracy: 0.7818 - val_loss: 0.4555 - val_accuracy: 0.8117\n",
            "Epoch 56/100\n",
            "20/20 [==============================] - 0s 3ms/step - loss: 0.4331 - accuracy: 0.7834 - val_loss: 0.4547 - val_accuracy: 0.8182\n",
            "Epoch 57/100\n",
            "20/20 [==============================] - 0s 4ms/step - loss: 0.4328 - accuracy: 0.7866 - val_loss: 0.4548 - val_accuracy: 0.8182\n",
            "Epoch 58/100\n",
            "20/20 [==============================] - 0s 4ms/step - loss: 0.4325 - accuracy: 0.7883 - val_loss: 0.4554 - val_accuracy: 0.8182\n",
            "Epoch 59/100\n",
            "20/20 [==============================] - 0s 4ms/step - loss: 0.4320 - accuracy: 0.7834 - val_loss: 0.4548 - val_accuracy: 0.8182\n",
            "Epoch 60/100\n",
            "20/20 [==============================] - 0s 4ms/step - loss: 0.4312 - accuracy: 0.7883 - val_loss: 0.4558 - val_accuracy: 0.8247\n",
            "Epoch 61/100\n",
            "20/20 [==============================] - 0s 4ms/step - loss: 0.4309 - accuracy: 0.7801 - val_loss: 0.4560 - val_accuracy: 0.8182\n",
            "Epoch 62/100\n",
            "20/20 [==============================] - 0s 3ms/step - loss: 0.4306 - accuracy: 0.7818 - val_loss: 0.4556 - val_accuracy: 0.8247\n",
            "Epoch 63/100\n",
            "20/20 [==============================] - 0s 5ms/step - loss: 0.4305 - accuracy: 0.7834 - val_loss: 0.4553 - val_accuracy: 0.8247\n",
            "Epoch 64/100\n",
            "20/20 [==============================] - 0s 4ms/step - loss: 0.4303 - accuracy: 0.7866 - val_loss: 0.4548 - val_accuracy: 0.8247\n",
            "Epoch 65/100\n",
            "20/20 [==============================] - 0s 4ms/step - loss: 0.4296 - accuracy: 0.7834 - val_loss: 0.4562 - val_accuracy: 0.8182\n",
            "Epoch 66/100\n",
            "20/20 [==============================] - 0s 4ms/step - loss: 0.4292 - accuracy: 0.7883 - val_loss: 0.4560 - val_accuracy: 0.8247\n",
            "Epoch 67/100\n",
            "20/20 [==============================] - 0s 3ms/step - loss: 0.4285 - accuracy: 0.7785 - val_loss: 0.4552 - val_accuracy: 0.8247\n",
            "Epoch 68/100\n",
            "20/20 [==============================] - 0s 4ms/step - loss: 0.4288 - accuracy: 0.7899 - val_loss: 0.4556 - val_accuracy: 0.8247\n",
            "Epoch 69/100\n",
            "20/20 [==============================] - 0s 4ms/step - loss: 0.4285 - accuracy: 0.7899 - val_loss: 0.4540 - val_accuracy: 0.8247\n",
            "Epoch 70/100\n",
            "20/20 [==============================] - 0s 4ms/step - loss: 0.4283 - accuracy: 0.7915 - val_loss: 0.4548 - val_accuracy: 0.8247\n",
            "Epoch 71/100\n",
            "20/20 [==============================] - 0s 4ms/step - loss: 0.4278 - accuracy: 0.7932 - val_loss: 0.4537 - val_accuracy: 0.8182\n",
            "Epoch 72/100\n",
            "20/20 [==============================] - 0s 4ms/step - loss: 0.4277 - accuracy: 0.7948 - val_loss: 0.4536 - val_accuracy: 0.8247\n",
            "Epoch 73/100\n",
            "20/20 [==============================] - 0s 3ms/step - loss: 0.4271 - accuracy: 0.7915 - val_loss: 0.4545 - val_accuracy: 0.8247\n",
            "Epoch 74/100\n",
            "20/20 [==============================] - 0s 5ms/step - loss: 0.4268 - accuracy: 0.7948 - val_loss: 0.4556 - val_accuracy: 0.8247\n",
            "Epoch 75/100\n",
            "20/20 [==============================] - 0s 4ms/step - loss: 0.4260 - accuracy: 0.7915 - val_loss: 0.4565 - val_accuracy: 0.8182\n",
            "Epoch 76/100\n",
            "20/20 [==============================] - 0s 4ms/step - loss: 0.4257 - accuracy: 0.7915 - val_loss: 0.4554 - val_accuracy: 0.8247\n",
            "Epoch 77/100\n",
            "20/20 [==============================] - 0s 3ms/step - loss: 0.4258 - accuracy: 0.7883 - val_loss: 0.4561 - val_accuracy: 0.8182\n",
            "Epoch 78/100\n",
            "20/20 [==============================] - 0s 4ms/step - loss: 0.4250 - accuracy: 0.7964 - val_loss: 0.4554 - val_accuracy: 0.8182\n",
            "Epoch 79/100\n",
            "20/20 [==============================] - 0s 3ms/step - loss: 0.4249 - accuracy: 0.7964 - val_loss: 0.4553 - val_accuracy: 0.8247\n",
            "Epoch 80/100\n",
            "20/20 [==============================] - 0s 4ms/step - loss: 0.4249 - accuracy: 0.7915 - val_loss: 0.4545 - val_accuracy: 0.8247\n",
            "Epoch 81/100\n",
            "20/20 [==============================] - 0s 3ms/step - loss: 0.4248 - accuracy: 0.7964 - val_loss: 0.4552 - val_accuracy: 0.8247\n",
            "Epoch 82/100\n",
            "20/20 [==============================] - 0s 4ms/step - loss: 0.4246 - accuracy: 0.7948 - val_loss: 0.4542 - val_accuracy: 0.8247\n",
            "Epoch 83/100\n",
            "20/20 [==============================] - 0s 3ms/step - loss: 0.4236 - accuracy: 0.7980 - val_loss: 0.4534 - val_accuracy: 0.8247\n",
            "Epoch 84/100\n",
            "20/20 [==============================] - 0s 4ms/step - loss: 0.4235 - accuracy: 0.7932 - val_loss: 0.4536 - val_accuracy: 0.8182\n",
            "Epoch 85/100\n",
            "20/20 [==============================] - 0s 3ms/step - loss: 0.4235 - accuracy: 0.7948 - val_loss: 0.4541 - val_accuracy: 0.8182\n",
            "Epoch 86/100\n",
            "20/20 [==============================] - 0s 4ms/step - loss: 0.4226 - accuracy: 0.7932 - val_loss: 0.4545 - val_accuracy: 0.8247\n",
            "Epoch 87/100\n",
            "20/20 [==============================] - 0s 4ms/step - loss: 0.4229 - accuracy: 0.7964 - val_loss: 0.4539 - val_accuracy: 0.8247\n",
            "Epoch 88/100\n",
            "20/20 [==============================] - 0s 3ms/step - loss: 0.4220 - accuracy: 0.7964 - val_loss: 0.4537 - val_accuracy: 0.8247\n",
            "Epoch 89/100\n",
            "20/20 [==============================] - 0s 4ms/step - loss: 0.4224 - accuracy: 0.7948 - val_loss: 0.4534 - val_accuracy: 0.8247\n",
            "Epoch 90/100\n",
            "20/20 [==============================] - 0s 3ms/step - loss: 0.4218 - accuracy: 0.7964 - val_loss: 0.4547 - val_accuracy: 0.8182\n",
            "Epoch 91/100\n",
            "20/20 [==============================] - 0s 3ms/step - loss: 0.4210 - accuracy: 0.7948 - val_loss: 0.4562 - val_accuracy: 0.8247\n",
            "Epoch 92/100\n",
            "20/20 [==============================] - 0s 4ms/step - loss: 0.4208 - accuracy: 0.7980 - val_loss: 0.4556 - val_accuracy: 0.8247\n",
            "Epoch 93/100\n",
            "20/20 [==============================] - 0s 4ms/step - loss: 0.4209 - accuracy: 0.7915 - val_loss: 0.4550 - val_accuracy: 0.8247\n",
            "Epoch 94/100\n",
            "20/20 [==============================] - 0s 4ms/step - loss: 0.4202 - accuracy: 0.7980 - val_loss: 0.4545 - val_accuracy: 0.8182\n",
            "Epoch 95/100\n",
            "20/20 [==============================] - 0s 3ms/step - loss: 0.4204 - accuracy: 0.8029 - val_loss: 0.4534 - val_accuracy: 0.8182\n",
            "Epoch 96/100\n",
            "20/20 [==============================] - 0s 3ms/step - loss: 0.4195 - accuracy: 0.7964 - val_loss: 0.4550 - val_accuracy: 0.8247\n",
            "Epoch 97/100\n",
            "20/20 [==============================] - 0s 4ms/step - loss: 0.4194 - accuracy: 0.8013 - val_loss: 0.4547 - val_accuracy: 0.8182\n",
            "Epoch 98/100\n",
            "20/20 [==============================] - 0s 4ms/step - loss: 0.4189 - accuracy: 0.8046 - val_loss: 0.4557 - val_accuracy: 0.8117\n",
            "Epoch 99/100\n",
            "20/20 [==============================] - 0s 5ms/step - loss: 0.4188 - accuracy: 0.7964 - val_loss: 0.4554 - val_accuracy: 0.8117\n",
            "Epoch 100/100\n",
            "20/20 [==============================] - 0s 3ms/step - loss: 0.4191 - accuracy: 0.8029 - val_loss: 0.4550 - val_accuracy: 0.8117\n"
          ]
        },
        {
          "output_type": "execute_result",
          "data": {
            "text/plain": [
              "<keras.callbacks.History at 0x7f8d928a9940>"
            ]
          },
          "metadata": {},
          "execution_count": 50
        }
      ]
    },
    {
      "cell_type": "markdown",
      "source": [
        "**3) Select the no. of layers**"
      ],
      "metadata": {
        "id": "XAlWUNMiKNfD"
      }
    },
    {
      "cell_type": "code",
      "source": [
        "def build_model(hp):\n",
        "\n",
        "  model = Sequential()\n",
        "\n",
        "  # initally we give the no.of nodes we have in the inital layer or we pass the intial layer or final layer\n",
        "\n",
        "  model.add(Dense(35,activation = 'relu',input_dim = 8))\n",
        "\n",
        "  # now we make loop to find the no. of layer in b/w\n",
        "  \n",
        "  for i in range(hp.Int('num_layers',min_value = 1, max_value = 10)):\n",
        "\n",
        "    model.add(Dense(35,activation='relu'))\n",
        "  \n",
        "\n",
        "  model.add(Dense(1,activation = 'sigmoid'))\n",
        "\n",
        "  model.compile(optimizer = 'rmsprop',loss = 'binary_crossentropy',metrics = ['accuracy'])\n",
        "\n",
        "  return model\n"
      ],
      "metadata": {
        "id": "MDa6ZcWvI8D6"
      },
      "execution_count": 52,
      "outputs": []
    },
    {
      "cell_type": "code",
      "source": [
        "from keras_tuner.engine.tuner import maybe_distribute\n",
        "tuner = kt.RandomSearch(build_model,\n",
        "                        objective='val_accuracy',\n",
        "                        max_trials = 5,\n",
        "                        directory = 'my_dir',\n",
        "                        project_name = 'num_layers')"
      ],
      "metadata": {
        "id": "nd748t56KLEI"
      },
      "execution_count": 53,
      "outputs": []
    },
    {
      "cell_type": "code",
      "source": [
        "tuner.search(X_train,y_train,epochs = 5, validation_data = (X_test,y_test))\n"
      ],
      "metadata": {
        "colab": {
          "base_uri": "https://localhost:8080/"
        },
        "id": "IiUYT6jWNfGp",
        "outputId": "6e6d305d-fd70-495c-d670-6e0aa3e5e4a8"
      },
      "execution_count": 54,
      "outputs": [
        {
          "output_type": "stream",
          "name": "stdout",
          "text": [
            "Trial 5 Complete [00h 00m 02s]\n",
            "val_accuracy: 0.7857142686843872\n",
            "\n",
            "Best val_accuracy So Far: 0.8181818127632141\n",
            "Total elapsed time: 00h 00m 14s\n"
          ]
        }
      ]
    },
    {
      "cell_type": "code",
      "source": [
        "tuner.get_best_hyperparameters()[0].values"
      ],
      "metadata": {
        "colab": {
          "base_uri": "https://localhost:8080/"
        },
        "id": "-ly7dBYWOEj9",
        "outputId": "8cbaed38-aae7-4d32-afe5-aebc42e03f1a"
      },
      "execution_count": 55,
      "outputs": [
        {
          "output_type": "execute_result",
          "data": {
            "text/plain": [
              "{'num_layers': 4}"
            ]
          },
          "metadata": {},
          "execution_count": 55
        }
      ]
    },
    {
      "cell_type": "code",
      "source": [
        "model = tuner.get_best_models(num_models = 1)[0]"
      ],
      "metadata": {
        "id": "QMdJcD9MOQ7K"
      },
      "execution_count": 56,
      "outputs": []
    },
    {
      "cell_type": "code",
      "source": [
        "model.fit(X_train, y_train,epochs = 100, initial_epoch = 6,validation_data = (X_test,y_test) )"
      ],
      "metadata": {
        "colab": {
          "base_uri": "https://localhost:8080/"
        },
        "id": "rTKL39krOg7n",
        "outputId": "1343cd36-4149-4b23-a18a-9b6fe0e403e2"
      },
      "execution_count": 59,
      "outputs": [
        {
          "output_type": "stream",
          "name": "stdout",
          "text": [
            "Epoch 7/100\n",
            "20/20 [==============================] - 2s 21ms/step - loss: 0.4678 - accuracy: 0.7818 - val_loss: 0.4758 - val_accuracy: 0.8117\n",
            "Epoch 8/100\n",
            "20/20 [==============================] - 0s 6ms/step - loss: 0.4558 - accuracy: 0.7980 - val_loss: 0.4662 - val_accuracy: 0.7987\n",
            "Epoch 9/100\n",
            "20/20 [==============================] - 0s 7ms/step - loss: 0.4473 - accuracy: 0.7948 - val_loss: 0.4698 - val_accuracy: 0.8052\n",
            "Epoch 10/100\n",
            "20/20 [==============================] - 0s 5ms/step - loss: 0.4445 - accuracy: 0.7883 - val_loss: 0.4651 - val_accuracy: 0.8117\n",
            "Epoch 11/100\n",
            "20/20 [==============================] - 0s 6ms/step - loss: 0.4361 - accuracy: 0.8029 - val_loss: 0.4668 - val_accuracy: 0.7857\n",
            "Epoch 12/100\n",
            "20/20 [==============================] - 0s 6ms/step - loss: 0.4332 - accuracy: 0.7932 - val_loss: 0.4680 - val_accuracy: 0.7792\n",
            "Epoch 13/100\n",
            "20/20 [==============================] - 0s 6ms/step - loss: 0.4303 - accuracy: 0.8029 - val_loss: 0.4692 - val_accuracy: 0.7987\n",
            "Epoch 14/100\n",
            "20/20 [==============================] - 0s 7ms/step - loss: 0.4176 - accuracy: 0.8062 - val_loss: 0.4702 - val_accuracy: 0.7987\n",
            "Epoch 15/100\n",
            "20/20 [==============================] - 0s 7ms/step - loss: 0.4173 - accuracy: 0.8111 - val_loss: 0.4747 - val_accuracy: 0.7792\n",
            "Epoch 16/100\n",
            "20/20 [==============================] - 0s 6ms/step - loss: 0.4149 - accuracy: 0.8062 - val_loss: 0.4705 - val_accuracy: 0.7987\n",
            "Epoch 17/100\n",
            "20/20 [==============================] - 0s 6ms/step - loss: 0.4063 - accuracy: 0.8143 - val_loss: 0.4777 - val_accuracy: 0.7857\n",
            "Epoch 18/100\n",
            "20/20 [==============================] - 0s 6ms/step - loss: 0.4050 - accuracy: 0.8176 - val_loss: 0.4920 - val_accuracy: 0.7987\n",
            "Epoch 19/100\n",
            "20/20 [==============================] - 0s 6ms/step - loss: 0.3987 - accuracy: 0.8208 - val_loss: 0.4795 - val_accuracy: 0.8117\n",
            "Epoch 20/100\n",
            "20/20 [==============================] - 0s 5ms/step - loss: 0.3938 - accuracy: 0.8208 - val_loss: 0.4850 - val_accuracy: 0.7662\n",
            "Epoch 21/100\n",
            "20/20 [==============================] - 0s 4ms/step - loss: 0.3900 - accuracy: 0.8388 - val_loss: 0.4891 - val_accuracy: 0.7857\n",
            "Epoch 22/100\n",
            "20/20 [==============================] - 0s 4ms/step - loss: 0.3831 - accuracy: 0.8241 - val_loss: 0.4895 - val_accuracy: 0.7922\n",
            "Epoch 23/100\n",
            "20/20 [==============================] - 0s 5ms/step - loss: 0.3826 - accuracy: 0.8290 - val_loss: 0.4852 - val_accuracy: 0.7857\n",
            "Epoch 24/100\n",
            "20/20 [==============================] - 0s 5ms/step - loss: 0.3774 - accuracy: 0.8274 - val_loss: 0.4984 - val_accuracy: 0.7922\n",
            "Epoch 25/100\n",
            "20/20 [==============================] - 0s 4ms/step - loss: 0.3764 - accuracy: 0.8274 - val_loss: 0.4995 - val_accuracy: 0.7857\n",
            "Epoch 26/100\n",
            "20/20 [==============================] - 0s 4ms/step - loss: 0.3728 - accuracy: 0.8355 - val_loss: 0.5019 - val_accuracy: 0.7922\n",
            "Epoch 27/100\n",
            "20/20 [==============================] - 0s 5ms/step - loss: 0.3670 - accuracy: 0.8371 - val_loss: 0.5029 - val_accuracy: 0.7987\n",
            "Epoch 28/100\n",
            "20/20 [==============================] - 0s 4ms/step - loss: 0.3616 - accuracy: 0.8453 - val_loss: 0.5093 - val_accuracy: 0.7857\n",
            "Epoch 29/100\n",
            "20/20 [==============================] - 0s 4ms/step - loss: 0.3578 - accuracy: 0.8453 - val_loss: 0.5290 - val_accuracy: 0.7727\n",
            "Epoch 30/100\n",
            "20/20 [==============================] - 0s 5ms/step - loss: 0.3587 - accuracy: 0.8436 - val_loss: 0.5105 - val_accuracy: 0.7727\n",
            "Epoch 31/100\n",
            "20/20 [==============================] - 0s 5ms/step - loss: 0.3551 - accuracy: 0.8518 - val_loss: 0.5107 - val_accuracy: 0.8052\n",
            "Epoch 32/100\n",
            "20/20 [==============================] - 0s 4ms/step - loss: 0.3446 - accuracy: 0.8550 - val_loss: 0.5269 - val_accuracy: 0.7922\n",
            "Epoch 33/100\n",
            "20/20 [==============================] - 0s 4ms/step - loss: 0.3450 - accuracy: 0.8534 - val_loss: 0.5258 - val_accuracy: 0.7792\n",
            "Epoch 34/100\n",
            "20/20 [==============================] - 0s 4ms/step - loss: 0.3370 - accuracy: 0.8534 - val_loss: 0.5338 - val_accuracy: 0.7922\n",
            "Epoch 35/100\n",
            "20/20 [==============================] - 0s 5ms/step - loss: 0.3320 - accuracy: 0.8632 - val_loss: 0.5381 - val_accuracy: 0.7987\n",
            "Epoch 36/100\n",
            "20/20 [==============================] - 0s 4ms/step - loss: 0.3272 - accuracy: 0.8616 - val_loss: 0.5609 - val_accuracy: 0.7597\n",
            "Epoch 37/100\n",
            "20/20 [==============================] - 0s 4ms/step - loss: 0.3231 - accuracy: 0.8632 - val_loss: 0.5932 - val_accuracy: 0.7597\n",
            "Epoch 38/100\n",
            "20/20 [==============================] - 0s 4ms/step - loss: 0.3219 - accuracy: 0.8616 - val_loss: 0.6217 - val_accuracy: 0.7532\n",
            "Epoch 39/100\n",
            "20/20 [==============================] - 0s 4ms/step - loss: 0.3221 - accuracy: 0.8697 - val_loss: 0.5574 - val_accuracy: 0.7857\n",
            "Epoch 40/100\n",
            "20/20 [==============================] - 0s 4ms/step - loss: 0.3127 - accuracy: 0.8730 - val_loss: 0.5540 - val_accuracy: 0.7857\n",
            "Epoch 41/100\n",
            "20/20 [==============================] - 0s 4ms/step - loss: 0.3091 - accuracy: 0.8730 - val_loss: 0.6044 - val_accuracy: 0.7532\n",
            "Epoch 42/100\n",
            "20/20 [==============================] - 0s 4ms/step - loss: 0.3059 - accuracy: 0.8811 - val_loss: 0.5794 - val_accuracy: 0.7597\n",
            "Epoch 43/100\n",
            "20/20 [==============================] - 0s 4ms/step - loss: 0.2976 - accuracy: 0.8844 - val_loss: 0.5591 - val_accuracy: 0.7727\n",
            "Epoch 44/100\n",
            "20/20 [==============================] - 0s 4ms/step - loss: 0.3047 - accuracy: 0.8762 - val_loss: 0.5830 - val_accuracy: 0.7727\n",
            "Epoch 45/100\n",
            "20/20 [==============================] - 0s 4ms/step - loss: 0.2914 - accuracy: 0.8844 - val_loss: 0.5814 - val_accuracy: 0.7727\n",
            "Epoch 46/100\n",
            "20/20 [==============================] - 0s 4ms/step - loss: 0.2889 - accuracy: 0.8860 - val_loss: 0.5852 - val_accuracy: 0.7857\n",
            "Epoch 47/100\n",
            "20/20 [==============================] - 0s 4ms/step - loss: 0.2810 - accuracy: 0.8990 - val_loss: 0.6005 - val_accuracy: 0.7727\n",
            "Epoch 48/100\n",
            "20/20 [==============================] - 0s 4ms/step - loss: 0.2811 - accuracy: 0.8811 - val_loss: 0.6063 - val_accuracy: 0.7792\n",
            "Epoch 49/100\n",
            "20/20 [==============================] - 0s 4ms/step - loss: 0.2739 - accuracy: 0.8893 - val_loss: 0.6559 - val_accuracy: 0.7532\n",
            "Epoch 50/100\n",
            "20/20 [==============================] - 0s 4ms/step - loss: 0.2651 - accuracy: 0.8893 - val_loss: 0.6208 - val_accuracy: 0.7597\n",
            "Epoch 51/100\n",
            "20/20 [==============================] - 0s 4ms/step - loss: 0.2644 - accuracy: 0.8974 - val_loss: 0.6828 - val_accuracy: 0.7403\n",
            "Epoch 52/100\n",
            "20/20 [==============================] - 0s 4ms/step - loss: 0.2716 - accuracy: 0.8893 - val_loss: 0.6183 - val_accuracy: 0.7662\n",
            "Epoch 53/100\n",
            "20/20 [==============================] - 0s 4ms/step - loss: 0.2504 - accuracy: 0.9007 - val_loss: 0.6547 - val_accuracy: 0.7792\n",
            "Epoch 54/100\n",
            "20/20 [==============================] - 0s 4ms/step - loss: 0.2569 - accuracy: 0.9023 - val_loss: 0.6469 - val_accuracy: 0.7597\n",
            "Epoch 55/100\n",
            "20/20 [==============================] - 0s 4ms/step - loss: 0.2421 - accuracy: 0.9186 - val_loss: 0.6478 - val_accuracy: 0.7857\n",
            "Epoch 56/100\n",
            "20/20 [==============================] - 0s 4ms/step - loss: 0.2453 - accuracy: 0.9055 - val_loss: 0.6615 - val_accuracy: 0.7727\n",
            "Epoch 57/100\n",
            "20/20 [==============================] - 0s 4ms/step - loss: 0.2327 - accuracy: 0.9088 - val_loss: 0.6495 - val_accuracy: 0.7727\n",
            "Epoch 58/100\n",
            "20/20 [==============================] - 0s 4ms/step - loss: 0.2279 - accuracy: 0.9186 - val_loss: 0.7746 - val_accuracy: 0.7143\n",
            "Epoch 59/100\n",
            "20/20 [==============================] - 0s 4ms/step - loss: 0.2345 - accuracy: 0.9072 - val_loss: 0.6882 - val_accuracy: 0.7662\n",
            "Epoch 60/100\n",
            "20/20 [==============================] - 0s 4ms/step - loss: 0.2233 - accuracy: 0.9169 - val_loss: 0.7032 - val_accuracy: 0.7857\n",
            "Epoch 61/100\n",
            "20/20 [==============================] - 0s 5ms/step - loss: 0.2304 - accuracy: 0.9007 - val_loss: 0.7098 - val_accuracy: 0.7662\n",
            "Epoch 62/100\n",
            "20/20 [==============================] - 0s 4ms/step - loss: 0.2168 - accuracy: 0.9202 - val_loss: 0.7212 - val_accuracy: 0.7922\n",
            "Epoch 63/100\n",
            "20/20 [==============================] - 0s 5ms/step - loss: 0.2036 - accuracy: 0.9218 - val_loss: 0.7776 - val_accuracy: 0.7338\n",
            "Epoch 64/100\n",
            "20/20 [==============================] - 0s 5ms/step - loss: 0.2156 - accuracy: 0.9153 - val_loss: 0.7227 - val_accuracy: 0.7727\n",
            "Epoch 65/100\n",
            "20/20 [==============================] - 0s 5ms/step - loss: 0.2078 - accuracy: 0.9202 - val_loss: 0.7460 - val_accuracy: 0.7597\n",
            "Epoch 66/100\n",
            "20/20 [==============================] - 0s 4ms/step - loss: 0.1947 - accuracy: 0.9218 - val_loss: 0.7372 - val_accuracy: 0.7792\n",
            "Epoch 67/100\n",
            "20/20 [==============================] - 0s 4ms/step - loss: 0.1946 - accuracy: 0.9381 - val_loss: 0.8008 - val_accuracy: 0.7597\n",
            "Epoch 68/100\n",
            "20/20 [==============================] - 0s 4ms/step - loss: 0.1868 - accuracy: 0.9316 - val_loss: 0.8180 - val_accuracy: 0.7403\n",
            "Epoch 69/100\n",
            "20/20 [==============================] - 0s 4ms/step - loss: 0.1908 - accuracy: 0.9349 - val_loss: 0.8415 - val_accuracy: 0.7468\n",
            "Epoch 70/100\n",
            "20/20 [==============================] - 0s 4ms/step - loss: 0.1851 - accuracy: 0.9332 - val_loss: 0.8005 - val_accuracy: 0.7468\n",
            "Epoch 71/100\n",
            "20/20 [==============================] - 0s 4ms/step - loss: 0.1740 - accuracy: 0.9397 - val_loss: 0.8118 - val_accuracy: 0.7857\n",
            "Epoch 72/100\n",
            "20/20 [==============================] - 0s 4ms/step - loss: 0.1708 - accuracy: 0.9332 - val_loss: 0.8190 - val_accuracy: 0.7662\n",
            "Epoch 73/100\n",
            "20/20 [==============================] - 0s 4ms/step - loss: 0.1630 - accuracy: 0.9397 - val_loss: 0.8530 - val_accuracy: 0.7468\n",
            "Epoch 74/100\n",
            "20/20 [==============================] - 0s 4ms/step - loss: 0.1631 - accuracy: 0.9365 - val_loss: 0.8341 - val_accuracy: 0.7597\n",
            "Epoch 75/100\n",
            "20/20 [==============================] - 0s 4ms/step - loss: 0.1622 - accuracy: 0.9414 - val_loss: 0.9232 - val_accuracy: 0.7662\n",
            "Epoch 76/100\n",
            "20/20 [==============================] - 0s 5ms/step - loss: 0.1626 - accuracy: 0.9397 - val_loss: 0.9311 - val_accuracy: 0.7662\n",
            "Epoch 77/100\n",
            "20/20 [==============================] - 0s 5ms/step - loss: 0.1447 - accuracy: 0.9560 - val_loss: 0.9407 - val_accuracy: 0.7468\n",
            "Epoch 78/100\n",
            "20/20 [==============================] - 0s 4ms/step - loss: 0.1549 - accuracy: 0.9430 - val_loss: 0.9250 - val_accuracy: 0.7792\n",
            "Epoch 79/100\n",
            "20/20 [==============================] - 0s 4ms/step - loss: 0.1552 - accuracy: 0.9495 - val_loss: 0.9368 - val_accuracy: 0.7532\n",
            "Epoch 80/100\n",
            "20/20 [==============================] - 0s 6ms/step - loss: 0.1439 - accuracy: 0.9463 - val_loss: 0.9164 - val_accuracy: 0.7792\n",
            "Epoch 81/100\n",
            "20/20 [==============================] - 0s 5ms/step - loss: 0.1373 - accuracy: 0.9511 - val_loss: 1.0461 - val_accuracy: 0.7273\n",
            "Epoch 82/100\n",
            "20/20 [==============================] - 0s 4ms/step - loss: 0.1304 - accuracy: 0.9544 - val_loss: 1.1204 - val_accuracy: 0.6948\n",
            "Epoch 83/100\n",
            "20/20 [==============================] - 0s 5ms/step - loss: 0.1314 - accuracy: 0.9593 - val_loss: 1.0900 - val_accuracy: 0.7143\n",
            "Epoch 84/100\n",
            "20/20 [==============================] - 0s 4ms/step - loss: 0.1199 - accuracy: 0.9577 - val_loss: 1.1921 - val_accuracy: 0.7078\n",
            "Epoch 85/100\n",
            "20/20 [==============================] - 0s 4ms/step - loss: 0.1389 - accuracy: 0.9495 - val_loss: 0.9963 - val_accuracy: 0.7532\n",
            "Epoch 86/100\n",
            "20/20 [==============================] - 0s 4ms/step - loss: 0.1280 - accuracy: 0.9511 - val_loss: 1.0329 - val_accuracy: 0.7662\n",
            "Epoch 87/100\n",
            "20/20 [==============================] - 0s 4ms/step - loss: 0.1231 - accuracy: 0.9528 - val_loss: 1.1059 - val_accuracy: 0.7208\n",
            "Epoch 88/100\n",
            "20/20 [==============================] - 0s 5ms/step - loss: 0.1010 - accuracy: 0.9691 - val_loss: 1.0682 - val_accuracy: 0.7532\n",
            "Epoch 89/100\n",
            "20/20 [==============================] - 0s 4ms/step - loss: 0.1160 - accuracy: 0.9625 - val_loss: 1.0523 - val_accuracy: 0.7662\n",
            "Epoch 90/100\n",
            "20/20 [==============================] - 0s 4ms/step - loss: 0.0987 - accuracy: 0.9723 - val_loss: 1.0934 - val_accuracy: 0.7338\n",
            "Epoch 91/100\n",
            "20/20 [==============================] - 0s 5ms/step - loss: 0.1112 - accuracy: 0.9691 - val_loss: 1.1647 - val_accuracy: 0.7338\n",
            "Epoch 92/100\n",
            "20/20 [==============================] - 0s 4ms/step - loss: 0.1070 - accuracy: 0.9577 - val_loss: 1.1504 - val_accuracy: 0.7338\n",
            "Epoch 93/100\n",
            "20/20 [==============================] - 0s 4ms/step - loss: 0.0980 - accuracy: 0.9625 - val_loss: 1.1511 - val_accuracy: 0.7662\n",
            "Epoch 94/100\n",
            "20/20 [==============================] - 0s 5ms/step - loss: 0.0810 - accuracy: 0.9772 - val_loss: 1.1449 - val_accuracy: 0.7468\n",
            "Epoch 95/100\n",
            "20/20 [==============================] - 0s 4ms/step - loss: 0.0964 - accuracy: 0.9739 - val_loss: 1.1581 - val_accuracy: 0.7532\n",
            "Epoch 96/100\n",
            "20/20 [==============================] - 0s 4ms/step - loss: 0.1025 - accuracy: 0.9593 - val_loss: 1.1414 - val_accuracy: 0.7468\n",
            "Epoch 97/100\n",
            "20/20 [==============================] - 0s 4ms/step - loss: 0.0842 - accuracy: 0.9788 - val_loss: 1.2052 - val_accuracy: 0.7662\n",
            "Epoch 98/100\n",
            "20/20 [==============================] - 0s 5ms/step - loss: 0.0909 - accuracy: 0.9723 - val_loss: 1.2126 - val_accuracy: 0.7468\n",
            "Epoch 99/100\n",
            "20/20 [==============================] - 0s 4ms/step - loss: 0.0961 - accuracy: 0.9723 - val_loss: 1.2330 - val_accuracy: 0.7597\n",
            "Epoch 100/100\n",
            "20/20 [==============================] - 0s 4ms/step - loss: 0.0980 - accuracy: 0.9707 - val_loss: 1.2621 - val_accuracy: 0.7403\n"
          ]
        },
        {
          "output_type": "execute_result",
          "data": {
            "text/plain": [
              "<keras.callbacks.History at 0x7f8d9240f250>"
            ]
          },
          "metadata": {},
          "execution_count": 59
        }
      ]
    },
    {
      "cell_type": "markdown",
      "source": [
        "**4) Now we find the no.of layers as well as no.of nodes in the layers**"
      ],
      "metadata": {
        "id": "lqwKIdO7PZId"
      }
    },
    {
      "cell_type": "code",
      "source": [
        "def build_model(hp):\n",
        "\n",
        "  model = Sequential()\n",
        "\n",
        "  counter = 0\n",
        "\n",
        "  for i in range(hp.Int('num_layers',min_value = 1, max_value = 10)):\n",
        "\n",
        "    if counter == 0:\n",
        "\n",
        "      model.add(\n",
        "          Dense(\n",
        "              hp.Int('units'+str(i), min_value = 8, max_value = 128,step = 8),\n",
        "              activation = hp.Choice('activation'+ str(i),values = ['relu','tanh','sigmoid']),\n",
        "              input_dim = 8\n",
        "          )\n",
        "      )\n",
        "      # add Dropout \"for Overfitting Condition\"\n",
        "      model.add(Dropout(hp.Choice('dropout'+str(i),values = [0.1,0.2,0.3,0.4,0.5,0.6,0.7,0.8,0.9])))\n",
        "    else:\n",
        "      # in this case there is no input dimension\n",
        "      model.add(\n",
        "          Dense(\n",
        "              hp.Int('units'+str(i),min_value = 8, max_value = 128, step = 8),\n",
        "              activation = hp.Choice('activation'+ str(i),values = ['relu','tanh','sigmoid']),             \n",
        "          )\n",
        "      )\n",
        "      model.add(Dropout(hp.Choice('dropout'+str(i),values = [0.1,0.2,0.3,0.4,0.5,0.6,0.7,0.8,0.9])))\n",
        "      counter +=1\n",
        "\n",
        "    model.add(Dense(1,activation = 'sigmoid'))\n",
        "\n",
        "    model.compile(optimizer = hp.Choice('optimizer',values = ['rmsprop','adam','sgd','adam', 'adadelta']),\n",
        "                  loss = 'binary_crossentropy',\n",
        "                  metrics = ['accuracy']\n",
        "                  )\n",
        "    \n",
        "\n",
        "  return model\n",
        "\n",
        "    \n",
        "\n"
      ],
      "metadata": {
        "id": "GfjwsxUaO-hC"
      },
      "execution_count": 80,
      "outputs": []
    },
    {
      "cell_type": "code",
      "source": [
        "tuner = kt.RandomSearch(build_model,\n",
        "                        objective = 'val_accuracy',\n",
        "                        max_trials = 3,\n",
        "                        directory = \"my_dir\",\n",
        "                        project_name = 'final_tuning2')\n"
      ],
      "metadata": {
        "id": "jParo_-DWY8c"
      },
      "execution_count": 81,
      "outputs": []
    },
    {
      "cell_type": "code",
      "source": [
        "tuner.search(X_train,y_train,epochs = 5, validation_data=(X_test,y_test))"
      ],
      "metadata": {
        "colab": {
          "base_uri": "https://localhost:8080/"
        },
        "id": "Kjr8puHhYeE_",
        "outputId": "2dcfb2f7-e02f-407a-e89a-fb1781a2bee7"
      },
      "execution_count": 82,
      "outputs": [
        {
          "output_type": "stream",
          "name": "stdout",
          "text": [
            "Trial 3 Complete [00h 00m 02s]\n",
            "val_accuracy: 0.6428571343421936\n",
            "\n",
            "Best val_accuracy So Far: 0.6428571343421936\n",
            "Total elapsed time: 00h 00m 09s\n"
          ]
        }
      ]
    },
    {
      "cell_type": "code",
      "source": [
        "tuner.get_best_hyperparameters()[0].values"
      ],
      "metadata": {
        "colab": {
          "base_uri": "https://localhost:8080/"
        },
        "id": "QIc3FjcWYvwe",
        "outputId": "d7a88bb5-3f1f-4d7d-e800-eea04a6be0a7"
      },
      "execution_count": 83,
      "outputs": [
        {
          "output_type": "execute_result",
          "data": {
            "text/plain": [
              "{'num_layers': 9,\n",
              " 'units0': 64,\n",
              " 'activation0': 'tanh',\n",
              " 'dropout0': 0.8,\n",
              " 'optimizer': 'adadelta',\n",
              " 'units1': 8,\n",
              " 'activation1': 'relu',\n",
              " 'dropout1': 0.1,\n",
              " 'units2': 8,\n",
              " 'activation2': 'relu',\n",
              " 'dropout2': 0.1,\n",
              " 'units3': 8,\n",
              " 'activation3': 'relu',\n",
              " 'dropout3': 0.1,\n",
              " 'units4': 8,\n",
              " 'activation4': 'relu',\n",
              " 'dropout4': 0.1,\n",
              " 'units5': 8,\n",
              " 'activation5': 'relu',\n",
              " 'dropout5': 0.1,\n",
              " 'units6': 8,\n",
              " 'activation6': 'relu',\n",
              " 'dropout6': 0.1,\n",
              " 'units7': 8,\n",
              " 'activation7': 'relu',\n",
              " 'dropout7': 0.1,\n",
              " 'units8': 8,\n",
              " 'activation8': 'relu',\n",
              " 'dropout8': 0.1}"
            ]
          },
          "metadata": {},
          "execution_count": 83
        }
      ]
    },
    {
      "cell_type": "code",
      "source": [
        "model = tuner.get_best_models(num_models = 1)[0]"
      ],
      "metadata": {
        "id": "C3aDSEiNY6ux"
      },
      "execution_count": 84,
      "outputs": []
    },
    {
      "cell_type": "code",
      "source": [
        "model.fit(X_train,y_train,epochs = 200,initial_epoch = 6, validation_data = (X_test,y_test))\n",
        "# here we take batch_size is default in case we also run the hyper tuninig for the batch_size"
      ],
      "metadata": {
        "colab": {
          "base_uri": "https://localhost:8080/"
        },
        "id": "NLp83cUTZQUq",
        "outputId": "cf375d53-923c-4659-d2e0-f2f83eb7fe9b"
      },
      "execution_count": 85,
      "outputs": [
        {
          "output_type": "stream",
          "name": "stdout",
          "text": [
            "Epoch 7/200\n",
            "20/20 [==============================] - 4s 29ms/step - loss: 0.6689 - accuracy: 0.6450 - val_loss: 0.6725 - val_accuracy: 0.6429\n",
            "Epoch 8/200\n",
            "20/20 [==============================] - 0s 9ms/step - loss: 0.6712 - accuracy: 0.6270 - val_loss: 0.6725 - val_accuracy: 0.6429\n",
            "Epoch 9/200\n",
            "20/20 [==============================] - 0s 5ms/step - loss: 0.6732 - accuracy: 0.6107 - val_loss: 0.6725 - val_accuracy: 0.6429\n",
            "Epoch 10/200\n",
            "20/20 [==============================] - 0s 6ms/step - loss: 0.6715 - accuracy: 0.6238 - val_loss: 0.6725 - val_accuracy: 0.6429\n",
            "Epoch 11/200\n",
            "20/20 [==============================] - 0s 5ms/step - loss: 0.6725 - accuracy: 0.6221 - val_loss: 0.6725 - val_accuracy: 0.6429\n",
            "Epoch 12/200\n",
            "20/20 [==============================] - 0s 5ms/step - loss: 0.6730 - accuracy: 0.6173 - val_loss: 0.6725 - val_accuracy: 0.6429\n",
            "Epoch 13/200\n",
            "20/20 [==============================] - 0s 5ms/step - loss: 0.6691 - accuracy: 0.6401 - val_loss: 0.6725 - val_accuracy: 0.6429\n",
            "Epoch 14/200\n",
            "20/20 [==============================] - 0s 6ms/step - loss: 0.6732 - accuracy: 0.6124 - val_loss: 0.6725 - val_accuracy: 0.6429\n",
            "Epoch 15/200\n",
            "20/20 [==============================] - 0s 6ms/step - loss: 0.6700 - accuracy: 0.6466 - val_loss: 0.6725 - val_accuracy: 0.6429\n",
            "Epoch 16/200\n",
            "20/20 [==============================] - 0s 6ms/step - loss: 0.6735 - accuracy: 0.6124 - val_loss: 0.6725 - val_accuracy: 0.6429\n",
            "Epoch 17/200\n",
            "20/20 [==============================] - 0s 5ms/step - loss: 0.6726 - accuracy: 0.6156 - val_loss: 0.6724 - val_accuracy: 0.6429\n",
            "Epoch 18/200\n",
            "20/20 [==============================] - 0s 6ms/step - loss: 0.6720 - accuracy: 0.6205 - val_loss: 0.6724 - val_accuracy: 0.6429\n",
            "Epoch 19/200\n",
            "20/20 [==============================] - 0s 6ms/step - loss: 0.6680 - accuracy: 0.6498 - val_loss: 0.6724 - val_accuracy: 0.6429\n",
            "Epoch 20/200\n",
            "20/20 [==============================] - 0s 6ms/step - loss: 0.6720 - accuracy: 0.6124 - val_loss: 0.6724 - val_accuracy: 0.6429\n",
            "Epoch 21/200\n",
            "20/20 [==============================] - 0s 5ms/step - loss: 0.6720 - accuracy: 0.6254 - val_loss: 0.6724 - val_accuracy: 0.6429\n",
            "Epoch 22/200\n",
            "20/20 [==============================] - 0s 5ms/step - loss: 0.6738 - accuracy: 0.6059 - val_loss: 0.6724 - val_accuracy: 0.6429\n",
            "Epoch 23/200\n",
            "20/20 [==============================] - 0s 5ms/step - loss: 0.6721 - accuracy: 0.6205 - val_loss: 0.6724 - val_accuracy: 0.6429\n",
            "Epoch 24/200\n",
            "20/20 [==============================] - 0s 6ms/step - loss: 0.6725 - accuracy: 0.6205 - val_loss: 0.6724 - val_accuracy: 0.6429\n",
            "Epoch 25/200\n",
            "20/20 [==============================] - 0s 5ms/step - loss: 0.6723 - accuracy: 0.6205 - val_loss: 0.6724 - val_accuracy: 0.6429\n",
            "Epoch 26/200\n",
            "20/20 [==============================] - 0s 6ms/step - loss: 0.6708 - accuracy: 0.6270 - val_loss: 0.6724 - val_accuracy: 0.6429\n",
            "Epoch 27/200\n",
            "20/20 [==============================] - 0s 5ms/step - loss: 0.6718 - accuracy: 0.6205 - val_loss: 0.6724 - val_accuracy: 0.6429\n",
            "Epoch 28/200\n",
            "20/20 [==============================] - 0s 5ms/step - loss: 0.6714 - accuracy: 0.6303 - val_loss: 0.6724 - val_accuracy: 0.6429\n",
            "Epoch 29/200\n",
            "20/20 [==============================] - 0s 6ms/step - loss: 0.6703 - accuracy: 0.6319 - val_loss: 0.6723 - val_accuracy: 0.6429\n",
            "Epoch 30/200\n",
            "20/20 [==============================] - 0s 6ms/step - loss: 0.6709 - accuracy: 0.6254 - val_loss: 0.6723 - val_accuracy: 0.6429\n",
            "Epoch 31/200\n",
            "20/20 [==============================] - 0s 5ms/step - loss: 0.6727 - accuracy: 0.6173 - val_loss: 0.6723 - val_accuracy: 0.6429\n",
            "Epoch 32/200\n",
            "20/20 [==============================] - 0s 6ms/step - loss: 0.6711 - accuracy: 0.6319 - val_loss: 0.6723 - val_accuracy: 0.6429\n",
            "Epoch 33/200\n",
            "20/20 [==============================] - 0s 5ms/step - loss: 0.6745 - accuracy: 0.5993 - val_loss: 0.6723 - val_accuracy: 0.6429\n",
            "Epoch 34/200\n",
            "20/20 [==============================] - 0s 6ms/step - loss: 0.6708 - accuracy: 0.6336 - val_loss: 0.6723 - val_accuracy: 0.6429\n",
            "Epoch 35/200\n",
            "20/20 [==============================] - 0s 6ms/step - loss: 0.6698 - accuracy: 0.6352 - val_loss: 0.6723 - val_accuracy: 0.6429\n",
            "Epoch 36/200\n",
            "20/20 [==============================] - 0s 6ms/step - loss: 0.6754 - accuracy: 0.5993 - val_loss: 0.6723 - val_accuracy: 0.6429\n",
            "Epoch 37/200\n",
            "20/20 [==============================] - 0s 5ms/step - loss: 0.6709 - accuracy: 0.6287 - val_loss: 0.6723 - val_accuracy: 0.6429\n",
            "Epoch 38/200\n",
            "20/20 [==============================] - 0s 6ms/step - loss: 0.6729 - accuracy: 0.6124 - val_loss: 0.6723 - val_accuracy: 0.6429\n",
            "Epoch 39/200\n",
            "20/20 [==============================] - 0s 6ms/step - loss: 0.6712 - accuracy: 0.6221 - val_loss: 0.6723 - val_accuracy: 0.6429\n",
            "Epoch 40/200\n",
            "20/20 [==============================] - 0s 5ms/step - loss: 0.6703 - accuracy: 0.6287 - val_loss: 0.6722 - val_accuracy: 0.6429\n",
            "Epoch 41/200\n",
            "20/20 [==============================] - 0s 6ms/step - loss: 0.6718 - accuracy: 0.6238 - val_loss: 0.6722 - val_accuracy: 0.6429\n",
            "Epoch 42/200\n",
            "20/20 [==============================] - 0s 5ms/step - loss: 0.6732 - accuracy: 0.6091 - val_loss: 0.6722 - val_accuracy: 0.6429\n",
            "Epoch 43/200\n",
            "20/20 [==============================] - 0s 6ms/step - loss: 0.6736 - accuracy: 0.6059 - val_loss: 0.6722 - val_accuracy: 0.6429\n",
            "Epoch 44/200\n",
            "20/20 [==============================] - 0s 5ms/step - loss: 0.6701 - accuracy: 0.6368 - val_loss: 0.6722 - val_accuracy: 0.6429\n",
            "Epoch 45/200\n",
            "20/20 [==============================] - 0s 6ms/step - loss: 0.6698 - accuracy: 0.6384 - val_loss: 0.6722 - val_accuracy: 0.6429\n",
            "Epoch 46/200\n",
            "20/20 [==============================] - 0s 6ms/step - loss: 0.6698 - accuracy: 0.6433 - val_loss: 0.6722 - val_accuracy: 0.6429\n",
            "Epoch 47/200\n",
            "20/20 [==============================] - 0s 6ms/step - loss: 0.6726 - accuracy: 0.6075 - val_loss: 0.6722 - val_accuracy: 0.6429\n",
            "Epoch 48/200\n",
            "20/20 [==============================] - 0s 5ms/step - loss: 0.6710 - accuracy: 0.6238 - val_loss: 0.6722 - val_accuracy: 0.6429\n",
            "Epoch 49/200\n",
            "20/20 [==============================] - 0s 6ms/step - loss: 0.6716 - accuracy: 0.6189 - val_loss: 0.6722 - val_accuracy: 0.6429\n",
            "Epoch 50/200\n",
            "20/20 [==============================] - 0s 6ms/step - loss: 0.6717 - accuracy: 0.6189 - val_loss: 0.6722 - val_accuracy: 0.6429\n",
            "Epoch 51/200\n",
            "20/20 [==============================] - 0s 6ms/step - loss: 0.6728 - accuracy: 0.6254 - val_loss: 0.6722 - val_accuracy: 0.6429\n",
            "Epoch 52/200\n",
            "20/20 [==============================] - 0s 6ms/step - loss: 0.6728 - accuracy: 0.6091 - val_loss: 0.6722 - val_accuracy: 0.6429\n",
            "Epoch 53/200\n",
            "20/20 [==============================] - 0s 5ms/step - loss: 0.6699 - accuracy: 0.6384 - val_loss: 0.6721 - val_accuracy: 0.6429\n",
            "Epoch 54/200\n",
            "20/20 [==============================] - 0s 6ms/step - loss: 0.6732 - accuracy: 0.6042 - val_loss: 0.6721 - val_accuracy: 0.6429\n",
            "Epoch 55/200\n",
            "20/20 [==============================] - 0s 6ms/step - loss: 0.6740 - accuracy: 0.6124 - val_loss: 0.6721 - val_accuracy: 0.6429\n",
            "Epoch 56/200\n",
            "20/20 [==============================] - 0s 6ms/step - loss: 0.6708 - accuracy: 0.6205 - val_loss: 0.6721 - val_accuracy: 0.6429\n",
            "Epoch 57/200\n",
            "20/20 [==============================] - 0s 5ms/step - loss: 0.6749 - accuracy: 0.5945 - val_loss: 0.6721 - val_accuracy: 0.6429\n",
            "Epoch 58/200\n",
            "20/20 [==============================] - 0s 6ms/step - loss: 0.6722 - accuracy: 0.6238 - val_loss: 0.6721 - val_accuracy: 0.6429\n",
            "Epoch 59/200\n",
            "20/20 [==============================] - 0s 5ms/step - loss: 0.6720 - accuracy: 0.6156 - val_loss: 0.6721 - val_accuracy: 0.6429\n",
            "Epoch 60/200\n",
            "20/20 [==============================] - 0s 7ms/step - loss: 0.6717 - accuracy: 0.6156 - val_loss: 0.6721 - val_accuracy: 0.6429\n",
            "Epoch 61/200\n",
            "20/20 [==============================] - 0s 5ms/step - loss: 0.6733 - accuracy: 0.6091 - val_loss: 0.6721 - val_accuracy: 0.6429\n",
            "Epoch 62/200\n",
            "20/20 [==============================] - 0s 6ms/step - loss: 0.6691 - accuracy: 0.6433 - val_loss: 0.6721 - val_accuracy: 0.6429\n",
            "Epoch 63/200\n",
            "20/20 [==============================] - 0s 6ms/step - loss: 0.6707 - accuracy: 0.6303 - val_loss: 0.6721 - val_accuracy: 0.6429\n",
            "Epoch 64/200\n",
            "20/20 [==============================] - 0s 5ms/step - loss: 0.6715 - accuracy: 0.6254 - val_loss: 0.6721 - val_accuracy: 0.6429\n",
            "Epoch 65/200\n",
            "20/20 [==============================] - 0s 6ms/step - loss: 0.6726 - accuracy: 0.6221 - val_loss: 0.6721 - val_accuracy: 0.6429\n",
            "Epoch 66/200\n",
            "20/20 [==============================] - 0s 6ms/step - loss: 0.6705 - accuracy: 0.6384 - val_loss: 0.6720 - val_accuracy: 0.6429\n",
            "Epoch 67/200\n",
            "20/20 [==============================] - 0s 5ms/step - loss: 0.6708 - accuracy: 0.6303 - val_loss: 0.6720 - val_accuracy: 0.6429\n",
            "Epoch 68/200\n",
            "20/20 [==============================] - 0s 6ms/step - loss: 0.6711 - accuracy: 0.6270 - val_loss: 0.6720 - val_accuracy: 0.6429\n",
            "Epoch 69/200\n",
            "20/20 [==============================] - 0s 6ms/step - loss: 0.6711 - accuracy: 0.6270 - val_loss: 0.6720 - val_accuracy: 0.6429\n",
            "Epoch 70/200\n",
            "20/20 [==============================] - 0s 5ms/step - loss: 0.6724 - accuracy: 0.6124 - val_loss: 0.6720 - val_accuracy: 0.6429\n",
            "Epoch 71/200\n",
            "20/20 [==============================] - 0s 6ms/step - loss: 0.6705 - accuracy: 0.6319 - val_loss: 0.6720 - val_accuracy: 0.6429\n",
            "Epoch 72/200\n",
            "20/20 [==============================] - 0s 7ms/step - loss: 0.6709 - accuracy: 0.6221 - val_loss: 0.6720 - val_accuracy: 0.6429\n",
            "Epoch 73/200\n",
            "20/20 [==============================] - 0s 6ms/step - loss: 0.6693 - accuracy: 0.6482 - val_loss: 0.6720 - val_accuracy: 0.6429\n",
            "Epoch 74/200\n",
            "20/20 [==============================] - 0s 6ms/step - loss: 0.6703 - accuracy: 0.6221 - val_loss: 0.6720 - val_accuracy: 0.6429\n",
            "Epoch 75/200\n",
            "20/20 [==============================] - 0s 6ms/step - loss: 0.6715 - accuracy: 0.6238 - val_loss: 0.6720 - val_accuracy: 0.6429\n",
            "Epoch 76/200\n",
            "20/20 [==============================] - 0s 6ms/step - loss: 0.6694 - accuracy: 0.6401 - val_loss: 0.6720 - val_accuracy: 0.6429\n",
            "Epoch 77/200\n",
            "20/20 [==============================] - 0s 6ms/step - loss: 0.6701 - accuracy: 0.6368 - val_loss: 0.6720 - val_accuracy: 0.6429\n",
            "Epoch 78/200\n",
            "20/20 [==============================] - 0s 5ms/step - loss: 0.6709 - accuracy: 0.6270 - val_loss: 0.6720 - val_accuracy: 0.6429\n",
            "Epoch 79/200\n",
            "20/20 [==============================] - 0s 6ms/step - loss: 0.6721 - accuracy: 0.6140 - val_loss: 0.6720 - val_accuracy: 0.6429\n",
            "Epoch 80/200\n",
            "20/20 [==============================] - 0s 6ms/step - loss: 0.6743 - accuracy: 0.6042 - val_loss: 0.6719 - val_accuracy: 0.6429\n",
            "Epoch 81/200\n",
            "20/20 [==============================] - 0s 6ms/step - loss: 0.6720 - accuracy: 0.6124 - val_loss: 0.6719 - val_accuracy: 0.6429\n",
            "Epoch 82/200\n",
            "20/20 [==============================] - 0s 5ms/step - loss: 0.6687 - accuracy: 0.6433 - val_loss: 0.6719 - val_accuracy: 0.6429\n",
            "Epoch 83/200\n",
            "20/20 [==============================] - 0s 5ms/step - loss: 0.6698 - accuracy: 0.6336 - val_loss: 0.6719 - val_accuracy: 0.6429\n",
            "Epoch 84/200\n",
            "20/20 [==============================] - 0s 6ms/step - loss: 0.6719 - accuracy: 0.6156 - val_loss: 0.6719 - val_accuracy: 0.6429\n",
            "Epoch 85/200\n",
            "20/20 [==============================] - 0s 5ms/step - loss: 0.6728 - accuracy: 0.6221 - val_loss: 0.6719 - val_accuracy: 0.6429\n",
            "Epoch 86/200\n",
            "20/20 [==============================] - 0s 6ms/step - loss: 0.6735 - accuracy: 0.6010 - val_loss: 0.6719 - val_accuracy: 0.6429\n",
            "Epoch 87/200\n",
            "20/20 [==============================] - 0s 6ms/step - loss: 0.6708 - accuracy: 0.6319 - val_loss: 0.6719 - val_accuracy: 0.6429\n",
            "Epoch 88/200\n",
            "20/20 [==============================] - 0s 5ms/step - loss: 0.6730 - accuracy: 0.6124 - val_loss: 0.6719 - val_accuracy: 0.6429\n",
            "Epoch 89/200\n",
            "20/20 [==============================] - 0s 6ms/step - loss: 0.6720 - accuracy: 0.6173 - val_loss: 0.6719 - val_accuracy: 0.6429\n",
            "Epoch 90/200\n",
            "20/20 [==============================] - 0s 5ms/step - loss: 0.6711 - accuracy: 0.6270 - val_loss: 0.6719 - val_accuracy: 0.6429\n",
            "Epoch 91/200\n",
            "20/20 [==============================] - 0s 9ms/step - loss: 0.6716 - accuracy: 0.6189 - val_loss: 0.6719 - val_accuracy: 0.6429\n",
            "Epoch 92/200\n",
            "20/20 [==============================] - 0s 8ms/step - loss: 0.6712 - accuracy: 0.6173 - val_loss: 0.6719 - val_accuracy: 0.6429\n",
            "Epoch 93/200\n",
            "20/20 [==============================] - 0s 8ms/step - loss: 0.6703 - accuracy: 0.6270 - val_loss: 0.6719 - val_accuracy: 0.6429\n",
            "Epoch 94/200\n",
            "20/20 [==============================] - 0s 9ms/step - loss: 0.6737 - accuracy: 0.6091 - val_loss: 0.6718 - val_accuracy: 0.6429\n",
            "Epoch 95/200\n",
            "20/20 [==============================] - 0s 9ms/step - loss: 0.6697 - accuracy: 0.6336 - val_loss: 0.6718 - val_accuracy: 0.6429\n",
            "Epoch 96/200\n",
            "20/20 [==============================] - 0s 9ms/step - loss: 0.6703 - accuracy: 0.6303 - val_loss: 0.6718 - val_accuracy: 0.6429\n",
            "Epoch 97/200\n",
            "20/20 [==============================] - 0s 9ms/step - loss: 0.6703 - accuracy: 0.6319 - val_loss: 0.6718 - val_accuracy: 0.6429\n",
            "Epoch 98/200\n",
            "20/20 [==============================] - 0s 8ms/step - loss: 0.6723 - accuracy: 0.6140 - val_loss: 0.6718 - val_accuracy: 0.6429\n",
            "Epoch 99/200\n",
            "20/20 [==============================] - 0s 8ms/step - loss: 0.6736 - accuracy: 0.6026 - val_loss: 0.6718 - val_accuracy: 0.6429\n",
            "Epoch 100/200\n",
            "20/20 [==============================] - 0s 9ms/step - loss: 0.6698 - accuracy: 0.6270 - val_loss: 0.6718 - val_accuracy: 0.6429\n",
            "Epoch 101/200\n",
            "20/20 [==============================] - 0s 9ms/step - loss: 0.6696 - accuracy: 0.6401 - val_loss: 0.6718 - val_accuracy: 0.6429\n",
            "Epoch 102/200\n",
            "20/20 [==============================] - 0s 8ms/step - loss: 0.6739 - accuracy: 0.5993 - val_loss: 0.6718 - val_accuracy: 0.6429\n",
            "Epoch 103/200\n",
            "20/20 [==============================] - 0s 9ms/step - loss: 0.6692 - accuracy: 0.6336 - val_loss: 0.6718 - val_accuracy: 0.6429\n",
            "Epoch 104/200\n",
            "20/20 [==============================] - 0s 9ms/step - loss: 0.6695 - accuracy: 0.6384 - val_loss: 0.6718 - val_accuracy: 0.6429\n",
            "Epoch 105/200\n",
            "20/20 [==============================] - 0s 9ms/step - loss: 0.6686 - accuracy: 0.6352 - val_loss: 0.6718 - val_accuracy: 0.6429\n",
            "Epoch 106/200\n",
            "20/20 [==============================] - 0s 9ms/step - loss: 0.6703 - accuracy: 0.6303 - val_loss: 0.6718 - val_accuracy: 0.6429\n",
            "Epoch 107/200\n",
            "20/20 [==============================] - 0s 7ms/step - loss: 0.6711 - accuracy: 0.6189 - val_loss: 0.6718 - val_accuracy: 0.6429\n",
            "Epoch 108/200\n",
            "20/20 [==============================] - 0s 6ms/step - loss: 0.6689 - accuracy: 0.6368 - val_loss: 0.6717 - val_accuracy: 0.6429\n",
            "Epoch 109/200\n",
            "20/20 [==============================] - 0s 6ms/step - loss: 0.6702 - accuracy: 0.6352 - val_loss: 0.6717 - val_accuracy: 0.6429\n",
            "Epoch 110/200\n",
            "20/20 [==============================] - 0s 5ms/step - loss: 0.6725 - accuracy: 0.6075 - val_loss: 0.6717 - val_accuracy: 0.6429\n",
            "Epoch 111/200\n",
            "20/20 [==============================] - 0s 5ms/step - loss: 0.6709 - accuracy: 0.6221 - val_loss: 0.6717 - val_accuracy: 0.6429\n",
            "Epoch 112/200\n",
            "20/20 [==============================] - 0s 6ms/step - loss: 0.6693 - accuracy: 0.6417 - val_loss: 0.6717 - val_accuracy: 0.6429\n",
            "Epoch 113/200\n",
            "20/20 [==============================] - 0s 6ms/step - loss: 0.6686 - accuracy: 0.6433 - val_loss: 0.6717 - val_accuracy: 0.6429\n",
            "Epoch 114/200\n",
            "20/20 [==============================] - 0s 6ms/step - loss: 0.6695 - accuracy: 0.6270 - val_loss: 0.6717 - val_accuracy: 0.6429\n",
            "Epoch 115/200\n",
            "20/20 [==============================] - 0s 6ms/step - loss: 0.6699 - accuracy: 0.6319 - val_loss: 0.6717 - val_accuracy: 0.6429\n",
            "Epoch 116/200\n",
            "20/20 [==============================] - 0s 6ms/step - loss: 0.6674 - accuracy: 0.6466 - val_loss: 0.6717 - val_accuracy: 0.6429\n",
            "Epoch 117/200\n",
            "20/20 [==============================] - 0s 5ms/step - loss: 0.6683 - accuracy: 0.6401 - val_loss: 0.6717 - val_accuracy: 0.6429\n",
            "Epoch 118/200\n",
            "20/20 [==============================] - 0s 5ms/step - loss: 0.6717 - accuracy: 0.6189 - val_loss: 0.6717 - val_accuracy: 0.6429\n",
            "Epoch 119/200\n",
            "20/20 [==============================] - 0s 5ms/step - loss: 0.6721 - accuracy: 0.6189 - val_loss: 0.6717 - val_accuracy: 0.6429\n",
            "Epoch 120/200\n",
            "20/20 [==============================] - 0s 7ms/step - loss: 0.6702 - accuracy: 0.6254 - val_loss: 0.6716 - val_accuracy: 0.6429\n",
            "Epoch 121/200\n",
            "20/20 [==============================] - 0s 6ms/step - loss: 0.6690 - accuracy: 0.6368 - val_loss: 0.6716 - val_accuracy: 0.6429\n",
            "Epoch 122/200\n",
            "20/20 [==============================] - 0s 6ms/step - loss: 0.6698 - accuracy: 0.6336 - val_loss: 0.6716 - val_accuracy: 0.6429\n",
            "Epoch 123/200\n",
            "20/20 [==============================] - 0s 6ms/step - loss: 0.6683 - accuracy: 0.6498 - val_loss: 0.6716 - val_accuracy: 0.6429\n",
            "Epoch 124/200\n",
            "20/20 [==============================] - 0s 6ms/step - loss: 0.6700 - accuracy: 0.6254 - val_loss: 0.6716 - val_accuracy: 0.6429\n",
            "Epoch 125/200\n",
            "20/20 [==============================] - 0s 6ms/step - loss: 0.6713 - accuracy: 0.6238 - val_loss: 0.6716 - val_accuracy: 0.6429\n",
            "Epoch 126/200\n",
            "20/20 [==============================] - 0s 6ms/step - loss: 0.6709 - accuracy: 0.6189 - val_loss: 0.6716 - val_accuracy: 0.6429\n",
            "Epoch 127/200\n",
            "20/20 [==============================] - 0s 5ms/step - loss: 0.6696 - accuracy: 0.6270 - val_loss: 0.6716 - val_accuracy: 0.6429\n",
            "Epoch 128/200\n",
            "20/20 [==============================] - 0s 5ms/step - loss: 0.6717 - accuracy: 0.6075 - val_loss: 0.6716 - val_accuracy: 0.6429\n",
            "Epoch 129/200\n",
            "20/20 [==============================] - 0s 6ms/step - loss: 0.6674 - accuracy: 0.6433 - val_loss: 0.6716 - val_accuracy: 0.6429\n",
            "Epoch 130/200\n",
            "20/20 [==============================] - 0s 6ms/step - loss: 0.6690 - accuracy: 0.6368 - val_loss: 0.6716 - val_accuracy: 0.6429\n",
            "Epoch 131/200\n",
            "20/20 [==============================] - 0s 6ms/step - loss: 0.6714 - accuracy: 0.6156 - val_loss: 0.6716 - val_accuracy: 0.6429\n",
            "Epoch 132/200\n",
            "20/20 [==============================] - 0s 5ms/step - loss: 0.6705 - accuracy: 0.6221 - val_loss: 0.6716 - val_accuracy: 0.6429\n",
            "Epoch 133/200\n",
            "20/20 [==============================] - 0s 5ms/step - loss: 0.6709 - accuracy: 0.6189 - val_loss: 0.6716 - val_accuracy: 0.6429\n",
            "Epoch 134/200\n",
            "20/20 [==============================] - 0s 6ms/step - loss: 0.6732 - accuracy: 0.6091 - val_loss: 0.6715 - val_accuracy: 0.6429\n",
            "Epoch 135/200\n",
            "20/20 [==============================] - 0s 6ms/step - loss: 0.6694 - accuracy: 0.6384 - val_loss: 0.6715 - val_accuracy: 0.6429\n",
            "Epoch 136/200\n",
            "20/20 [==============================] - 0s 5ms/step - loss: 0.6693 - accuracy: 0.6221 - val_loss: 0.6715 - val_accuracy: 0.6429\n",
            "Epoch 137/200\n",
            "20/20 [==============================] - 0s 5ms/step - loss: 0.6708 - accuracy: 0.6173 - val_loss: 0.6715 - val_accuracy: 0.6429\n",
            "Epoch 138/200\n",
            "20/20 [==============================] - 0s 6ms/step - loss: 0.6722 - accuracy: 0.6107 - val_loss: 0.6715 - val_accuracy: 0.6429\n",
            "Epoch 139/200\n",
            "20/20 [==============================] - 0s 6ms/step - loss: 0.6682 - accuracy: 0.6450 - val_loss: 0.6715 - val_accuracy: 0.6429\n",
            "Epoch 140/200\n",
            "20/20 [==============================] - 0s 6ms/step - loss: 0.6694 - accuracy: 0.6352 - val_loss: 0.6715 - val_accuracy: 0.6429\n",
            "Epoch 141/200\n",
            "20/20 [==============================] - 0s 6ms/step - loss: 0.6726 - accuracy: 0.6156 - val_loss: 0.6715 - val_accuracy: 0.6429\n",
            "Epoch 142/200\n",
            "20/20 [==============================] - 0s 5ms/step - loss: 0.6702 - accuracy: 0.6238 - val_loss: 0.6715 - val_accuracy: 0.6429\n",
            "Epoch 143/200\n",
            "20/20 [==============================] - 0s 6ms/step - loss: 0.6702 - accuracy: 0.6254 - val_loss: 0.6715 - val_accuracy: 0.6429\n",
            "Epoch 144/200\n",
            "20/20 [==============================] - 0s 5ms/step - loss: 0.6699 - accuracy: 0.6221 - val_loss: 0.6715 - val_accuracy: 0.6429\n",
            "Epoch 145/200\n",
            "20/20 [==============================] - 0s 5ms/step - loss: 0.6723 - accuracy: 0.6075 - val_loss: 0.6715 - val_accuracy: 0.6429\n",
            "Epoch 146/200\n",
            "20/20 [==============================] - 0s 6ms/step - loss: 0.6717 - accuracy: 0.6189 - val_loss: 0.6715 - val_accuracy: 0.6429\n",
            "Epoch 147/200\n",
            "20/20 [==============================] - 0s 6ms/step - loss: 0.6707 - accuracy: 0.6221 - val_loss: 0.6714 - val_accuracy: 0.6429\n",
            "Epoch 148/200\n",
            "20/20 [==============================] - 0s 6ms/step - loss: 0.6688 - accuracy: 0.6336 - val_loss: 0.6714 - val_accuracy: 0.6429\n",
            "Epoch 149/200\n",
            "20/20 [==============================] - 0s 6ms/step - loss: 0.6672 - accuracy: 0.6450 - val_loss: 0.6714 - val_accuracy: 0.6429\n",
            "Epoch 150/200\n",
            "20/20 [==============================] - 0s 6ms/step - loss: 0.6663 - accuracy: 0.6547 - val_loss: 0.6714 - val_accuracy: 0.6429\n",
            "Epoch 151/200\n",
            "20/20 [==============================] - 0s 5ms/step - loss: 0.6667 - accuracy: 0.6515 - val_loss: 0.6714 - val_accuracy: 0.6429\n",
            "Epoch 152/200\n",
            "20/20 [==============================] - 0s 6ms/step - loss: 0.6694 - accuracy: 0.6238 - val_loss: 0.6714 - val_accuracy: 0.6429\n",
            "Epoch 153/200\n",
            "20/20 [==============================] - 0s 5ms/step - loss: 0.6697 - accuracy: 0.6319 - val_loss: 0.6714 - val_accuracy: 0.6429\n",
            "Epoch 154/200\n",
            "20/20 [==============================] - 0s 5ms/step - loss: 0.6710 - accuracy: 0.6205 - val_loss: 0.6714 - val_accuracy: 0.6429\n",
            "Epoch 155/200\n",
            "20/20 [==============================] - 0s 6ms/step - loss: 0.6707 - accuracy: 0.6221 - val_loss: 0.6714 - val_accuracy: 0.6429\n",
            "Epoch 156/200\n",
            "20/20 [==============================] - 0s 5ms/step - loss: 0.6706 - accuracy: 0.6205 - val_loss: 0.6714 - val_accuracy: 0.6429\n",
            "Epoch 157/200\n",
            "20/20 [==============================] - 0s 5ms/step - loss: 0.6694 - accuracy: 0.6352 - val_loss: 0.6714 - val_accuracy: 0.6429\n",
            "Epoch 158/200\n",
            "20/20 [==============================] - 0s 7ms/step - loss: 0.6701 - accuracy: 0.6270 - val_loss: 0.6714 - val_accuracy: 0.6429\n",
            "Epoch 159/200\n",
            "20/20 [==============================] - 0s 6ms/step - loss: 0.6736 - accuracy: 0.6026 - val_loss: 0.6714 - val_accuracy: 0.6429\n",
            "Epoch 160/200\n",
            "20/20 [==============================] - 0s 6ms/step - loss: 0.6728 - accuracy: 0.5961 - val_loss: 0.6713 - val_accuracy: 0.6429\n",
            "Epoch 161/200\n",
            "20/20 [==============================] - 0s 5ms/step - loss: 0.6708 - accuracy: 0.6189 - val_loss: 0.6713 - val_accuracy: 0.6429\n",
            "Epoch 162/200\n",
            "20/20 [==============================] - 0s 6ms/step - loss: 0.6701 - accuracy: 0.6303 - val_loss: 0.6713 - val_accuracy: 0.6429\n",
            "Epoch 163/200\n",
            "20/20 [==============================] - 0s 6ms/step - loss: 0.6693 - accuracy: 0.6254 - val_loss: 0.6713 - val_accuracy: 0.6429\n",
            "Epoch 164/200\n",
            "20/20 [==============================] - 0s 5ms/step - loss: 0.6710 - accuracy: 0.6173 - val_loss: 0.6713 - val_accuracy: 0.6429\n",
            "Epoch 165/200\n",
            "20/20 [==============================] - 0s 6ms/step - loss: 0.6655 - accuracy: 0.6482 - val_loss: 0.6713 - val_accuracy: 0.6429\n",
            "Epoch 166/200\n",
            "20/20 [==============================] - 0s 6ms/step - loss: 0.6704 - accuracy: 0.6254 - val_loss: 0.6713 - val_accuracy: 0.6429\n",
            "Epoch 167/200\n",
            "20/20 [==============================] - 0s 6ms/step - loss: 0.6719 - accuracy: 0.6075 - val_loss: 0.6713 - val_accuracy: 0.6429\n",
            "Epoch 168/200\n",
            "20/20 [==============================] - 0s 5ms/step - loss: 0.6699 - accuracy: 0.6352 - val_loss: 0.6713 - val_accuracy: 0.6429\n",
            "Epoch 169/200\n",
            "20/20 [==============================] - 0s 5ms/step - loss: 0.6691 - accuracy: 0.6368 - val_loss: 0.6713 - val_accuracy: 0.6429\n",
            "Epoch 170/200\n",
            "20/20 [==============================] - 0s 5ms/step - loss: 0.6692 - accuracy: 0.6336 - val_loss: 0.6713 - val_accuracy: 0.6429\n",
            "Epoch 171/200\n",
            "20/20 [==============================] - 0s 6ms/step - loss: 0.6711 - accuracy: 0.6189 - val_loss: 0.6713 - val_accuracy: 0.6429\n",
            "Epoch 172/200\n",
            "20/20 [==============================] - 0s 6ms/step - loss: 0.6693 - accuracy: 0.6287 - val_loss: 0.6713 - val_accuracy: 0.6429\n",
            "Epoch 173/200\n",
            "20/20 [==============================] - 0s 5ms/step - loss: 0.6709 - accuracy: 0.6173 - val_loss: 0.6712 - val_accuracy: 0.6429\n",
            "Epoch 174/200\n",
            "20/20 [==============================] - 0s 5ms/step - loss: 0.6689 - accuracy: 0.6352 - val_loss: 0.6712 - val_accuracy: 0.6429\n",
            "Epoch 175/200\n",
            "20/20 [==============================] - 0s 6ms/step - loss: 0.6704 - accuracy: 0.6173 - val_loss: 0.6712 - val_accuracy: 0.6429\n",
            "Epoch 176/200\n",
            "20/20 [==============================] - 0s 5ms/step - loss: 0.6693 - accuracy: 0.6336 - val_loss: 0.6712 - val_accuracy: 0.6429\n",
            "Epoch 177/200\n",
            "20/20 [==============================] - 0s 6ms/step - loss: 0.6742 - accuracy: 0.5912 - val_loss: 0.6712 - val_accuracy: 0.6429\n",
            "Epoch 178/200\n",
            "20/20 [==============================] - 0s 6ms/step - loss: 0.6675 - accuracy: 0.6417 - val_loss: 0.6712 - val_accuracy: 0.6429\n",
            "Epoch 179/200\n",
            "20/20 [==============================] - 0s 6ms/step - loss: 0.6695 - accuracy: 0.6319 - val_loss: 0.6712 - val_accuracy: 0.6429\n",
            "Epoch 180/200\n",
            "20/20 [==============================] - 0s 8ms/step - loss: 0.6713 - accuracy: 0.6156 - val_loss: 0.6712 - val_accuracy: 0.6429\n",
            "Epoch 181/200\n",
            "20/20 [==============================] - 0s 6ms/step - loss: 0.6727 - accuracy: 0.6075 - val_loss: 0.6712 - val_accuracy: 0.6429\n",
            "Epoch 182/200\n",
            "20/20 [==============================] - 0s 6ms/step - loss: 0.6697 - accuracy: 0.6303 - val_loss: 0.6712 - val_accuracy: 0.6429\n",
            "Epoch 183/200\n",
            "20/20 [==============================] - 0s 5ms/step - loss: 0.6698 - accuracy: 0.6287 - val_loss: 0.6712 - val_accuracy: 0.6429\n",
            "Epoch 184/200\n",
            "20/20 [==============================] - 0s 7ms/step - loss: 0.6702 - accuracy: 0.6254 - val_loss: 0.6712 - val_accuracy: 0.6429\n",
            "Epoch 185/200\n",
            "20/20 [==============================] - 0s 6ms/step - loss: 0.6710 - accuracy: 0.6238 - val_loss: 0.6712 - val_accuracy: 0.6429\n",
            "Epoch 186/200\n",
            "20/20 [==============================] - 0s 6ms/step - loss: 0.6699 - accuracy: 0.6221 - val_loss: 0.6711 - val_accuracy: 0.6429\n",
            "Epoch 187/200\n",
            "20/20 [==============================] - 0s 6ms/step - loss: 0.6720 - accuracy: 0.6124 - val_loss: 0.6711 - val_accuracy: 0.6429\n",
            "Epoch 188/200\n",
            "20/20 [==============================] - 0s 10ms/step - loss: 0.6670 - accuracy: 0.6515 - val_loss: 0.6711 - val_accuracy: 0.6429\n",
            "Epoch 189/200\n",
            "20/20 [==============================] - 0s 9ms/step - loss: 0.6726 - accuracy: 0.6042 - val_loss: 0.6711 - val_accuracy: 0.6429\n",
            "Epoch 190/200\n",
            "20/20 [==============================] - 0s 10ms/step - loss: 0.6680 - accuracy: 0.6368 - val_loss: 0.6711 - val_accuracy: 0.6429\n",
            "Epoch 191/200\n",
            "20/20 [==============================] - 0s 8ms/step - loss: 0.6711 - accuracy: 0.6254 - val_loss: 0.6711 - val_accuracy: 0.6429\n",
            "Epoch 192/200\n",
            "20/20 [==============================] - 0s 9ms/step - loss: 0.6690 - accuracy: 0.6319 - val_loss: 0.6711 - val_accuracy: 0.6429\n",
            "Epoch 193/200\n",
            "20/20 [==============================] - 0s 9ms/step - loss: 0.6723 - accuracy: 0.6107 - val_loss: 0.6711 - val_accuracy: 0.6429\n",
            "Epoch 194/200\n",
            "20/20 [==============================] - 0s 8ms/step - loss: 0.6686 - accuracy: 0.6352 - val_loss: 0.6711 - val_accuracy: 0.6429\n",
            "Epoch 195/200\n",
            "20/20 [==============================] - 0s 9ms/step - loss: 0.6714 - accuracy: 0.6124 - val_loss: 0.6711 - val_accuracy: 0.6429\n",
            "Epoch 196/200\n",
            "20/20 [==============================] - 0s 7ms/step - loss: 0.6711 - accuracy: 0.6107 - val_loss: 0.6711 - val_accuracy: 0.6429\n",
            "Epoch 197/200\n",
            "20/20 [==============================] - 0s 8ms/step - loss: 0.6714 - accuracy: 0.6091 - val_loss: 0.6711 - val_accuracy: 0.6429\n",
            "Epoch 198/200\n",
            "20/20 [==============================] - 0s 9ms/step - loss: 0.6723 - accuracy: 0.6107 - val_loss: 0.6711 - val_accuracy: 0.6429\n",
            "Epoch 199/200\n",
            "20/20 [==============================] - 0s 9ms/step - loss: 0.6697 - accuracy: 0.6221 - val_loss: 0.6710 - val_accuracy: 0.6429\n",
            "Epoch 200/200\n",
            "20/20 [==============================] - 0s 8ms/step - loss: 0.6694 - accuracy: 0.6336 - val_loss: 0.6710 - val_accuracy: 0.6429\n"
          ]
        },
        {
          "output_type": "execute_result",
          "data": {
            "text/plain": [
              "<keras.callbacks.History at 0x7f8d938e0c10>"
            ]
          },
          "metadata": {},
          "execution_count": 85
        }
      ]
    },
    {
      "cell_type": "code",
      "source": [
        "# the validation accuracy is 76 ---> \"Overfit the data \" so we use the \"Dropout\""
      ],
      "metadata": {
        "id": "OvBovNTbZzFv"
      },
      "execution_count": 86,
      "outputs": []
    },
    {
      "cell_type": "code",
      "source": [],
      "metadata": {
        "id": "vRY8BmJ7aGvU"
      },
      "execution_count": null,
      "outputs": []
    }
  ]
}