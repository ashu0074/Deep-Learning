{
  "nbformat": 4,
  "nbformat_minor": 0,
  "metadata": {
    "colab": {
      "provenance": []
    },
    "kernelspec": {
      "name": "python3",
      "display_name": "Python 3"
    },
    "language_info": {
      "name": "python"
    }
  },
  "cells": [
    {
      "cell_type": "markdown",
      "source": [
        "## Feature scaling \n",
        "* 1) Standard scaling  --> (xi-mean)/sigma\n",
        "* 2) Normalize scaling --> min max ---> (xi-xmin)/(xmax-xmin)\n"
      ],
      "metadata": {
        "id": "ruAKD0ntuqdj"
      }
    },
    {
      "cell_type": "code",
      "execution_count": 1,
      "metadata": {
        "id": "VovmW4Zdukm_"
      },
      "outputs": [],
      "source": [
        "import numpy as np\n",
        "import pandas as pd"
      ]
    },
    {
      "cell_type": "code",
      "source": [
        "df = pd.read_csv(\"/Social_Network_Ads.csv\")"
      ],
      "metadata": {
        "id": "bghLd9FIvX8f"
      },
      "execution_count": 2,
      "outputs": []
    },
    {
      "cell_type": "code",
      "source": [
        "# in this we take only last three col\n",
        "df = df.iloc[:,2:]\n",
        "df.head()\n",
        "# as show in data there is large vary of data in b/w age and salary "
      ],
      "metadata": {
        "colab": {
          "base_uri": "https://localhost:8080/",
          "height": 206
        },
        "id": "mwtxoVW9vyfP",
        "outputId": "b333f01e-216d-49a6-f219-98e7bafcb3d9"
      },
      "execution_count": 4,
      "outputs": [
        {
          "output_type": "execute_result",
          "data": {
            "text/plain": [
              "   Age  EstimatedSalary  Purchased\n",
              "0   19            19000          0\n",
              "1   35            20000          0\n",
              "2   26            43000          0\n",
              "3   27            57000          0\n",
              "4   19            76000          0"
            ],
            "text/html": [
              "\n",
              "  <div id=\"df-fa6da8f4-0dc3-42e6-9b1e-103801b1b9bf\">\n",
              "    <div class=\"colab-df-container\">\n",
              "      <div>\n",
              "<style scoped>\n",
              "    .dataframe tbody tr th:only-of-type {\n",
              "        vertical-align: middle;\n",
              "    }\n",
              "\n",
              "    .dataframe tbody tr th {\n",
              "        vertical-align: top;\n",
              "    }\n",
              "\n",
              "    .dataframe thead th {\n",
              "        text-align: right;\n",
              "    }\n",
              "</style>\n",
              "<table border=\"1\" class=\"dataframe\">\n",
              "  <thead>\n",
              "    <tr style=\"text-align: right;\">\n",
              "      <th></th>\n",
              "      <th>Age</th>\n",
              "      <th>EstimatedSalary</th>\n",
              "      <th>Purchased</th>\n",
              "    </tr>\n",
              "  </thead>\n",
              "  <tbody>\n",
              "    <tr>\n",
              "      <th>0</th>\n",
              "      <td>19</td>\n",
              "      <td>19000</td>\n",
              "      <td>0</td>\n",
              "    </tr>\n",
              "    <tr>\n",
              "      <th>1</th>\n",
              "      <td>35</td>\n",
              "      <td>20000</td>\n",
              "      <td>0</td>\n",
              "    </tr>\n",
              "    <tr>\n",
              "      <th>2</th>\n",
              "      <td>26</td>\n",
              "      <td>43000</td>\n",
              "      <td>0</td>\n",
              "    </tr>\n",
              "    <tr>\n",
              "      <th>3</th>\n",
              "      <td>27</td>\n",
              "      <td>57000</td>\n",
              "      <td>0</td>\n",
              "    </tr>\n",
              "    <tr>\n",
              "      <th>4</th>\n",
              "      <td>19</td>\n",
              "      <td>76000</td>\n",
              "      <td>0</td>\n",
              "    </tr>\n",
              "  </tbody>\n",
              "</table>\n",
              "</div>\n",
              "      <button class=\"colab-df-convert\" onclick=\"convertToInteractive('df-fa6da8f4-0dc3-42e6-9b1e-103801b1b9bf')\"\n",
              "              title=\"Convert this dataframe to an interactive table.\"\n",
              "              style=\"display:none;\">\n",
              "        \n",
              "  <svg xmlns=\"http://www.w3.org/2000/svg\" height=\"24px\"viewBox=\"0 0 24 24\"\n",
              "       width=\"24px\">\n",
              "    <path d=\"M0 0h24v24H0V0z\" fill=\"none\"/>\n",
              "    <path d=\"M18.56 5.44l.94 2.06.94-2.06 2.06-.94-2.06-.94-.94-2.06-.94 2.06-2.06.94zm-11 1L8.5 8.5l.94-2.06 2.06-.94-2.06-.94L8.5 2.5l-.94 2.06-2.06.94zm10 10l.94 2.06.94-2.06 2.06-.94-2.06-.94-.94-2.06-.94 2.06-2.06.94z\"/><path d=\"M17.41 7.96l-1.37-1.37c-.4-.4-.92-.59-1.43-.59-.52 0-1.04.2-1.43.59L10.3 9.45l-7.72 7.72c-.78.78-.78 2.05 0 2.83L4 21.41c.39.39.9.59 1.41.59.51 0 1.02-.2 1.41-.59l7.78-7.78 2.81-2.81c.8-.78.8-2.07 0-2.86zM5.41 20L4 18.59l7.72-7.72 1.47 1.35L5.41 20z\"/>\n",
              "  </svg>\n",
              "      </button>\n",
              "      \n",
              "  <style>\n",
              "    .colab-df-container {\n",
              "      display:flex;\n",
              "      flex-wrap:wrap;\n",
              "      gap: 12px;\n",
              "    }\n",
              "\n",
              "    .colab-df-convert {\n",
              "      background-color: #E8F0FE;\n",
              "      border: none;\n",
              "      border-radius: 50%;\n",
              "      cursor: pointer;\n",
              "      display: none;\n",
              "      fill: #1967D2;\n",
              "      height: 32px;\n",
              "      padding: 0 0 0 0;\n",
              "      width: 32px;\n",
              "    }\n",
              "\n",
              "    .colab-df-convert:hover {\n",
              "      background-color: #E2EBFA;\n",
              "      box-shadow: 0px 1px 2px rgba(60, 64, 67, 0.3), 0px 1px 3px 1px rgba(60, 64, 67, 0.15);\n",
              "      fill: #174EA6;\n",
              "    }\n",
              "\n",
              "    [theme=dark] .colab-df-convert {\n",
              "      background-color: #3B4455;\n",
              "      fill: #D2E3FC;\n",
              "    }\n",
              "\n",
              "    [theme=dark] .colab-df-convert:hover {\n",
              "      background-color: #434B5C;\n",
              "      box-shadow: 0px 1px 3px 1px rgba(0, 0, 0, 0.15);\n",
              "      filter: drop-shadow(0px 1px 2px rgba(0, 0, 0, 0.3));\n",
              "      fill: #FFFFFF;\n",
              "    }\n",
              "  </style>\n",
              "\n",
              "      <script>\n",
              "        const buttonEl =\n",
              "          document.querySelector('#df-fa6da8f4-0dc3-42e6-9b1e-103801b1b9bf button.colab-df-convert');\n",
              "        buttonEl.style.display =\n",
              "          google.colab.kernel.accessAllowed ? 'block' : 'none';\n",
              "\n",
              "        async function convertToInteractive(key) {\n",
              "          const element = document.querySelector('#df-fa6da8f4-0dc3-42e6-9b1e-103801b1b9bf');\n",
              "          const dataTable =\n",
              "            await google.colab.kernel.invokeFunction('convertToInteractive',\n",
              "                                                     [key], {});\n",
              "          if (!dataTable) return;\n",
              "\n",
              "          const docLinkHtml = 'Like what you see? Visit the ' +\n",
              "            '<a target=\"_blank\" href=https://colab.research.google.com/notebooks/data_table.ipynb>data table notebook</a>'\n",
              "            + ' to learn more about interactive tables.';\n",
              "          element.innerHTML = '';\n",
              "          dataTable['output_type'] = 'display_data';\n",
              "          await google.colab.output.renderOutput(dataTable, element);\n",
              "          const docLink = document.createElement('div');\n",
              "          docLink.innerHTML = docLinkHtml;\n",
              "          element.appendChild(docLink);\n",
              "        }\n",
              "      </script>\n",
              "    </div>\n",
              "  </div>\n",
              "  "
            ]
          },
          "metadata": {},
          "execution_count": 4
        }
      ]
    },
    {
      "cell_type": "code",
      "source": [
        "import seaborn as sns"
      ],
      "metadata": {
        "id": "r8eNBGW5v0rK"
      },
      "execution_count": 5,
      "outputs": []
    },
    {
      "cell_type": "code",
      "source": [
        "sns.scatterplot(df.iloc[:,0],df.iloc[:,1])"
      ],
      "metadata": {
        "colab": {
          "base_uri": "https://localhost:8080/",
          "height": 296
        },
        "id": "9vkISNlowHAh",
        "outputId": "622cc0e0-0b95-40bf-8095-f6c9003176a5"
      },
      "execution_count": 7,
      "outputs": [
        {
          "output_type": "execute_result",
          "data": {
            "text/plain": [
              "<AxesSubplot:xlabel='Age', ylabel='EstimatedSalary'>"
            ]
          },
          "metadata": {},
          "execution_count": 7
        },
        {
          "output_type": "display_data",
          "data": {
            "text/plain": [
              "<Figure size 432x288 with 1 Axes>"
            ],
            "image/png": "[encoded data removed]"
          },
          "metadata": {
            "needs_background": "light"
          }
        }
      ]
    },
    {
      "cell_type": "code",
      "source": [
        "X = df.iloc[:,0:2]\n",
        "y = df.iloc[:,-1]"
      ],
      "metadata": {
        "id": "SbEMFpk-wZ_g"
      },
      "execution_count": 10,
      "outputs": []
    },
    {
      "cell_type": "code",
      "source": [
        "from sklearn.model_selection import train_test_split\n",
        "X_train,X_test,y_train,y_test = train_test_split(X,y,test_size = 0.20,random_state = 2)"
      ],
      "metadata": {
        "id": "pJxKHvNQzzLv"
      },
      "execution_count": 11,
      "outputs": []
    },
    {
      "cell_type": "code",
      "source": [
        "import tensorflow as tf\n",
        "from tensorflow import keras\n",
        "from keras import Sequential\n",
        "from keras.layers import Dense"
      ],
      "metadata": {
        "id": "_KvoIWC-0Jnm"
      },
      "execution_count": 12,
      "outputs": []
    },
    {
      "cell_type": "code",
      "source": [
        "model = Sequential()\n",
        "\n",
        "model.add(Dense(128,activation = \"relu\",input_dim = 2))\n",
        "model.add(Dense(1,activation = \"sigmoid\"))"
      ],
      "metadata": {
        "id": "aKhbLDs20Z52"
      },
      "execution_count": 14,
      "outputs": []
    },
    {
      "cell_type": "code",
      "source": [
        "model.summary()"
      ],
      "metadata": {
        "colab": {
          "base_uri": "https://localhost:8080/"
        },
        "id": "wjk9dwnU0xWA",
        "outputId": "7b175732-ef6a-42bf-875a-b7fbc27fb40a"
      },
      "execution_count": 16,
      "outputs": [
        {
          "output_type": "stream",
          "name": "stdout",
          "text": [
            "Model: \"sequential_1\"\n",
            "_________________________________________________________________\n",
            " Layer (type)                Output Shape              Param #   \n",
            "=================================================================\n",
            " dense_1 (Dense)             (None, 128)               384       \n",
            "                                                                 \n",
            " dense_2 (Dense)             (None, 1)                 129       \n",
            "                                                                 \n",
            "=================================================================\n",
            "Total params: 513\n",
            "Trainable params: 513\n",
            "Non-trainable params: 0\n",
            "_________________________________________________________________\n"
          ]
        }
      ]
    },
    {
      "cell_type": "code",
      "source": [
        "model.compile(optimizer='adam',loss = 'binary_crossentropy',metrics = ['accuracy'])"
      ],
      "metadata": {
        "id": "vzTibWDP02wT"
      },
      "execution_count": 17,
      "outputs": []
    },
    {
      "cell_type": "code",
      "source": [
        "history = model.fit(X_train,y_train,validation_data = (X_test,y_test),epochs = 100)"
      ],
      "metadata": {
        "colab": {
          "base_uri": "https://localhost:8080/"
        },
        "id": "eBYL1mwW1Hm_",
        "outputId": "59019df5-e5f7-43b3-fac6-b2eb67dd2fbd"
      },
      "execution_count": 19,
      "outputs": [
        {
          "output_type": "stream",
          "name": "stdout",
          "text": [
            "Epoch 1/100\n",
            "10/10 [==============================] - 1s 36ms/step - loss: 2108.6199 - accuracy: 0.3656 - val_loss: 684.5165 - val_accuracy: 0.6000\n",
            "Epoch 2/100\n",
            "10/10 [==============================] - 0s 7ms/step - loss: 809.9218 - accuracy: 0.6531 - val_loss: 475.9842 - val_accuracy: 0.6000\n",
            "Epoch 3/100\n",
            "10/10 [==============================] - 0s 7ms/step - loss: 345.1017 - accuracy: 0.4969 - val_loss: 88.3598 - val_accuracy: 0.4000\n",
            "Epoch 4/100\n",
            "10/10 [==============================] - 0s 7ms/step - loss: 203.7989 - accuracy: 0.5906 - val_loss: 80.7116 - val_accuracy: 0.4000\n",
            "Epoch 5/100\n",
            "10/10 [==============================] - 0s 7ms/step - loss: 42.1553 - accuracy: 0.5094 - val_loss: 8.4019 - val_accuracy: 0.4000\n",
            "Epoch 6/100\n",
            "10/10 [==============================] - 0s 6ms/step - loss: 24.8194 - accuracy: 0.5188 - val_loss: 139.6717 - val_accuracy: 0.6000\n",
            "Epoch 7/100\n",
            "10/10 [==============================] - 0s 8ms/step - loss: 96.6974 - accuracy: 0.5406 - val_loss: 121.3926 - val_accuracy: 0.6000\n",
            "Epoch 8/100\n",
            "10/10 [==============================] - 0s 9ms/step - loss: 59.3466 - accuracy: 0.5344 - val_loss: 87.8710 - val_accuracy: 0.4000\n",
            "Epoch 9/100\n",
            "10/10 [==============================] - 0s 8ms/step - loss: 67.4917 - accuracy: 0.4531 - val_loss: 30.2377 - val_accuracy: 0.6000\n",
            "Epoch 10/100\n",
            "10/10 [==============================] - 0s 7ms/step - loss: 33.2733 - accuracy: 0.5469 - val_loss: 8.8733 - val_accuracy: 0.6000\n",
            "Epoch 11/100\n",
            "10/10 [==============================] - 0s 7ms/step - loss: 30.7327 - accuracy: 0.5594 - val_loss: 5.0475 - val_accuracy: 0.4000\n",
            "Epoch 12/100\n",
            "10/10 [==============================] - 0s 6ms/step - loss: 69.4323 - accuracy: 0.4906 - val_loss: 63.6477 - val_accuracy: 0.6000\n",
            "Epoch 13/100\n",
            "10/10 [==============================] - 0s 7ms/step - loss: 41.2153 - accuracy: 0.5906 - val_loss: 18.9701 - val_accuracy: 0.4000\n",
            "Epoch 14/100\n",
            "10/10 [==============================] - 0s 8ms/step - loss: 58.6305 - accuracy: 0.5312 - val_loss: 99.9150 - val_accuracy: 0.6000\n",
            "Epoch 15/100\n",
            "10/10 [==============================] - 0s 7ms/step - loss: 128.1010 - accuracy: 0.5219 - val_loss: 212.0573 - val_accuracy: 0.6000\n",
            "Epoch 16/100\n",
            "10/10 [==============================] - 0s 7ms/step - loss: 71.8013 - accuracy: 0.4781 - val_loss: 3.2755 - val_accuracy: 0.6625\n",
            "Epoch 17/100\n",
            "10/10 [==============================] - 0s 7ms/step - loss: 36.0983 - accuracy: 0.5219 - val_loss: 136.0565 - val_accuracy: 0.6000\n",
            "Epoch 18/100\n",
            "10/10 [==============================] - 0s 7ms/step - loss: 70.7678 - accuracy: 0.5719 - val_loss: 31.8800 - val_accuracy: 0.6000\n",
            "Epoch 19/100\n",
            "10/10 [==============================] - 0s 7ms/step - loss: 62.0569 - accuracy: 0.5625 - val_loss: 159.0905 - val_accuracy: 0.4000\n",
            "Epoch 20/100\n",
            "10/10 [==============================] - 0s 6ms/step - loss: 113.0124 - accuracy: 0.5531 - val_loss: 31.8924 - val_accuracy: 0.4000\n",
            "Epoch 21/100\n",
            "10/10 [==============================] - 0s 7ms/step - loss: 52.0353 - accuracy: 0.4500 - val_loss: 74.2823 - val_accuracy: 0.6000\n",
            "Epoch 22/100\n",
            "10/10 [==============================] - 0s 6ms/step - loss: 58.9518 - accuracy: 0.5594 - val_loss: 41.4225 - val_accuracy: 0.6000\n",
            "Epoch 23/100\n",
            "10/10 [==============================] - 0s 8ms/step - loss: 86.0703 - accuracy: 0.5531 - val_loss: 90.3208 - val_accuracy: 0.6000\n",
            "Epoch 24/100\n",
            "10/10 [==============================] - 0s 6ms/step - loss: 89.8653 - accuracy: 0.5281 - val_loss: 5.6241 - val_accuracy: 0.4000\n",
            "Epoch 25/100\n",
            "10/10 [==============================] - 0s 7ms/step - loss: 20.8584 - accuracy: 0.4688 - val_loss: 11.3195 - val_accuracy: 0.6000\n",
            "Epoch 26/100\n",
            "10/10 [==============================] - 0s 8ms/step - loss: 26.6785 - accuracy: 0.5531 - val_loss: 36.3154 - val_accuracy: 0.6000\n",
            "Epoch 27/100\n",
            "10/10 [==============================] - 0s 10ms/step - loss: 33.7519 - accuracy: 0.5281 - val_loss: 96.6861 - val_accuracy: 0.6000\n",
            "Epoch 28/100\n",
            "10/10 [==============================] - 0s 7ms/step - loss: 66.7587 - accuracy: 0.5562 - val_loss: 8.7928 - val_accuracy: 0.6000\n",
            "Epoch 29/100\n",
            "10/10 [==============================] - 0s 7ms/step - loss: 104.2410 - accuracy: 0.5219 - val_loss: 20.7397 - val_accuracy: 0.6000\n",
            "Epoch 30/100\n",
            "10/10 [==============================] - 0s 7ms/step - loss: 114.1289 - accuracy: 0.5344 - val_loss: 100.3159 - val_accuracy: 0.6000\n",
            "Epoch 31/100\n",
            "10/10 [==============================] - 0s 6ms/step - loss: 88.1645 - accuracy: 0.5281 - val_loss: 67.8115 - val_accuracy: 0.6000\n",
            "Epoch 32/100\n",
            "10/10 [==============================] - 0s 6ms/step - loss: 39.2976 - accuracy: 0.4594 - val_loss: 39.2749 - val_accuracy: 0.6000\n",
            "Epoch 33/100\n",
            "10/10 [==============================] - 0s 7ms/step - loss: 55.5270 - accuracy: 0.5156 - val_loss: 28.2587 - val_accuracy: 0.4000\n",
            "Epoch 34/100\n",
            "10/10 [==============================] - 0s 6ms/step - loss: 23.3953 - accuracy: 0.4625 - val_loss: 17.6166 - val_accuracy: 0.6000\n",
            "Epoch 35/100\n",
            "10/10 [==============================] - 0s 8ms/step - loss: 20.6146 - accuracy: 0.5375 - val_loss: 63.4556 - val_accuracy: 0.4000\n",
            "Epoch 36/100\n",
            "10/10 [==============================] - 0s 7ms/step - loss: 95.0335 - accuracy: 0.4156 - val_loss: 88.9324 - val_accuracy: 0.6000\n",
            "Epoch 37/100\n",
            "10/10 [==============================] - 0s 7ms/step - loss: 114.7755 - accuracy: 0.5063 - val_loss: 76.4545 - val_accuracy: 0.6000\n",
            "Epoch 38/100\n",
            "10/10 [==============================] - 0s 6ms/step - loss: 84.8500 - accuracy: 0.5469 - val_loss: 86.9541 - val_accuracy: 0.6000\n",
            "Epoch 39/100\n",
            "10/10 [==============================] - 0s 7ms/step - loss: 72.8668 - accuracy: 0.5281 - val_loss: 159.7025 - val_accuracy: 0.6000\n",
            "Epoch 40/100\n",
            "10/10 [==============================] - 0s 6ms/step - loss: 116.5904 - accuracy: 0.4969 - val_loss: 108.9952 - val_accuracy: 0.6000\n",
            "Epoch 41/100\n",
            "10/10 [==============================] - 0s 9ms/step - loss: 98.9300 - accuracy: 0.5094 - val_loss: 163.9129 - val_accuracy: 0.6000\n",
            "Epoch 42/100\n",
            "10/10 [==============================] - 0s 6ms/step - loss: 85.2744 - accuracy: 0.5531 - val_loss: 83.0841 - val_accuracy: 0.6000\n",
            "Epoch 43/100\n",
            "10/10 [==============================] - 0s 6ms/step - loss: 105.1873 - accuracy: 0.4844 - val_loss: 39.9252 - val_accuracy: 0.6000\n",
            "Epoch 44/100\n",
            "10/10 [==============================] - 0s 6ms/step - loss: 78.6402 - accuracy: 0.5406 - val_loss: 26.4863 - val_accuracy: 0.4000\n",
            "Epoch 45/100\n",
            "10/10 [==============================] - 0s 6ms/step - loss: 51.2818 - accuracy: 0.5594 - val_loss: 95.9596 - val_accuracy: 0.4000\n",
            "Epoch 46/100\n",
            "10/10 [==============================] - 0s 6ms/step - loss: 112.1261 - accuracy: 0.5031 - val_loss: 91.8537 - val_accuracy: 0.4000\n",
            "Epoch 47/100\n",
            "10/10 [==============================] - 0s 6ms/step - loss: 66.9843 - accuracy: 0.5156 - val_loss: 12.8612 - val_accuracy: 0.4000\n",
            "Epoch 48/100\n",
            "10/10 [==============================] - 0s 6ms/step - loss: 89.4929 - accuracy: 0.4906 - val_loss: 74.7413 - val_accuracy: 0.6000\n",
            "Epoch 49/100\n",
            "10/10 [==============================] - 0s 6ms/step - loss: 92.7519 - accuracy: 0.5406 - val_loss: 103.5930 - val_accuracy: 0.6000\n",
            "Epoch 50/100\n",
            "10/10 [==============================] - 0s 6ms/step - loss: 68.1082 - accuracy: 0.5906 - val_loss: 44.9979 - val_accuracy: 0.6000\n",
            "Epoch 51/100\n",
            "10/10 [==============================] - 0s 6ms/step - loss: 61.5428 - accuracy: 0.5219 - val_loss: 87.6293 - val_accuracy: 0.4000\n",
            "Epoch 52/100\n",
            "10/10 [==============================] - 0s 8ms/step - loss: 112.8913 - accuracy: 0.5031 - val_loss: 123.2937 - val_accuracy: 0.4000\n",
            "Epoch 53/100\n",
            "10/10 [==============================] - 0s 8ms/step - loss: 198.4728 - accuracy: 0.4969 - val_loss: 327.2195 - val_accuracy: 0.6000\n",
            "Epoch 54/100\n",
            "10/10 [==============================] - 0s 6ms/step - loss: 146.7977 - accuracy: 0.4906 - val_loss: 149.5888 - val_accuracy: 0.6000\n",
            "Epoch 55/100\n",
            "10/10 [==============================] - 0s 9ms/step - loss: 65.5756 - accuracy: 0.5656 - val_loss: 28.6493 - val_accuracy: 0.4000\n",
            "Epoch 56/100\n",
            "10/10 [==============================] - 0s 8ms/step - loss: 27.4004 - accuracy: 0.5031 - val_loss: 24.5241 - val_accuracy: 0.4000\n",
            "Epoch 57/100\n",
            "10/10 [==============================] - 0s 8ms/step - loss: 26.6488 - accuracy: 0.5344 - val_loss: 2.7638 - val_accuracy: 0.6250\n",
            "Epoch 58/100\n",
            "10/10 [==============================] - 0s 6ms/step - loss: 59.7484 - accuracy: 0.5500 - val_loss: 79.8200 - val_accuracy: 0.4000\n",
            "Epoch 59/100\n",
            "10/10 [==============================] - 0s 6ms/step - loss: 53.1461 - accuracy: 0.4844 - val_loss: 160.9051 - val_accuracy: 0.6000\n",
            "Epoch 60/100\n",
            "10/10 [==============================] - 0s 6ms/step - loss: 56.5080 - accuracy: 0.5281 - val_loss: 38.9730 - val_accuracy: 0.4000\n",
            "Epoch 61/100\n",
            "10/10 [==============================] - 0s 6ms/step - loss: 22.8169 - accuracy: 0.5406 - val_loss: 24.5720 - val_accuracy: 0.4000\n",
            "Epoch 62/100\n",
            "10/10 [==============================] - 0s 8ms/step - loss: 21.0134 - accuracy: 0.5406 - val_loss: 19.6388 - val_accuracy: 0.6000\n",
            "Epoch 63/100\n",
            "10/10 [==============================] - 0s 9ms/step - loss: 26.8280 - accuracy: 0.5000 - val_loss: 16.2052 - val_accuracy: 0.4000\n",
            "Epoch 64/100\n",
            "10/10 [==============================] - 0s 7ms/step - loss: 52.0438 - accuracy: 0.5469 - val_loss: 75.2880 - val_accuracy: 0.6000\n",
            "Epoch 65/100\n",
            "10/10 [==============================] - 0s 6ms/step - loss: 53.0467 - accuracy: 0.5156 - val_loss: 53.4594 - val_accuracy: 0.4000\n",
            "Epoch 66/100\n",
            "10/10 [==============================] - 0s 6ms/step - loss: 33.5762 - accuracy: 0.5406 - val_loss: 89.3326 - val_accuracy: 0.4000\n",
            "Epoch 67/100\n",
            "10/10 [==============================] - 0s 7ms/step - loss: 71.7191 - accuracy: 0.5344 - val_loss: 160.1552 - val_accuracy: 0.4000\n",
            "Epoch 68/100\n",
            "10/10 [==============================] - 0s 8ms/step - loss: 125.5863 - accuracy: 0.5344 - val_loss: 70.5820 - val_accuracy: 0.4000\n",
            "Epoch 69/100\n",
            "10/10 [==============================] - 0s 8ms/step - loss: 83.8573 - accuracy: 0.4906 - val_loss: 86.7791 - val_accuracy: 0.4000\n",
            "Epoch 70/100\n",
            "10/10 [==============================] - 0s 6ms/step - loss: 93.6978 - accuracy: 0.5281 - val_loss: 103.3488 - val_accuracy: 0.4000\n",
            "Epoch 71/100\n",
            "10/10 [==============================] - 0s 7ms/step - loss: 43.3723 - accuracy: 0.5719 - val_loss: 29.2423 - val_accuracy: 0.6000\n",
            "Epoch 72/100\n",
            "10/10 [==============================] - 0s 7ms/step - loss: 20.3106 - accuracy: 0.5219 - val_loss: 29.3449 - val_accuracy: 0.4000\n",
            "Epoch 73/100\n",
            "10/10 [==============================] - 0s 8ms/step - loss: 19.4879 - accuracy: 0.5469 - val_loss: 49.6353 - val_accuracy: 0.6000\n",
            "Epoch 74/100\n",
            "10/10 [==============================] - 0s 6ms/step - loss: 21.7135 - accuracy: 0.5531 - val_loss: 19.1238 - val_accuracy: 0.6000\n",
            "Epoch 75/100\n",
            "10/10 [==============================] - 0s 6ms/step - loss: 20.8478 - accuracy: 0.5188 - val_loss: 14.5249 - val_accuracy: 0.4000\n",
            "Epoch 76/100\n",
            "10/10 [==============================] - 0s 6ms/step - loss: 30.1832 - accuracy: 0.4656 - val_loss: 14.7344 - val_accuracy: 0.4000\n",
            "Epoch 77/100\n",
            "10/10 [==============================] - 0s 8ms/step - loss: 30.8402 - accuracy: 0.5031 - val_loss: 22.4234 - val_accuracy: 0.6000\n",
            "Epoch 78/100\n",
            "10/10 [==============================] - 0s 6ms/step - loss: 21.0112 - accuracy: 0.5094 - val_loss: 19.2369 - val_accuracy: 0.4000\n",
            "Epoch 79/100\n",
            "10/10 [==============================] - 0s 7ms/step - loss: 25.7487 - accuracy: 0.5031 - val_loss: 30.4847 - val_accuracy: 0.4000\n",
            "Epoch 80/100\n",
            "10/10 [==============================] - 0s 8ms/step - loss: 29.8542 - accuracy: 0.4906 - val_loss: 45.2125 - val_accuracy: 0.6000\n",
            "Epoch 81/100\n",
            "10/10 [==============================] - 0s 8ms/step - loss: 48.3234 - accuracy: 0.5656 - val_loss: 45.5685 - val_accuracy: 0.4000\n",
            "Epoch 82/100\n",
            "10/10 [==============================] - 0s 10ms/step - loss: 64.1150 - accuracy: 0.5156 - val_loss: 96.5420 - val_accuracy: 0.4000\n",
            "Epoch 83/100\n",
            "10/10 [==============================] - 0s 8ms/step - loss: 30.5570 - accuracy: 0.4781 - val_loss: 14.9135 - val_accuracy: 0.6000\n",
            "Epoch 84/100\n",
            "10/10 [==============================] - 0s 7ms/step - loss: 53.4281 - accuracy: 0.4969 - val_loss: 97.7562 - val_accuracy: 0.4000\n",
            "Epoch 85/100\n",
            "10/10 [==============================] - 0s 6ms/step - loss: 99.0276 - accuracy: 0.5344 - val_loss: 162.9175 - val_accuracy: 0.4000\n",
            "Epoch 86/100\n",
            "10/10 [==============================] - 0s 6ms/step - loss: 116.9878 - accuracy: 0.5719 - val_loss: 138.0665 - val_accuracy: 0.4000\n",
            "Epoch 87/100\n",
            "10/10 [==============================] - 0s 8ms/step - loss: 126.7906 - accuracy: 0.4031 - val_loss: 34.1657 - val_accuracy: 0.4000\n",
            "Epoch 88/100\n",
            "10/10 [==============================] - 0s 6ms/step - loss: 27.4025 - accuracy: 0.4844 - val_loss: 28.2171 - val_accuracy: 0.6000\n",
            "Epoch 89/100\n",
            "10/10 [==============================] - 0s 6ms/step - loss: 16.1845 - accuracy: 0.5156 - val_loss: 5.8551 - val_accuracy: 0.6000\n",
            "Epoch 90/100\n",
            "10/10 [==============================] - 0s 8ms/step - loss: 24.0734 - accuracy: 0.4531 - val_loss: 53.5384 - val_accuracy: 0.6000\n",
            "Epoch 91/100\n",
            "10/10 [==============================] - 0s 9ms/step - loss: 48.7582 - accuracy: 0.5656 - val_loss: 60.2173 - val_accuracy: 0.4000\n",
            "Epoch 92/100\n",
            "10/10 [==============================] - 0s 9ms/step - loss: 57.5219 - accuracy: 0.4594 - val_loss: 58.3706 - val_accuracy: 0.6000\n",
            "Epoch 93/100\n",
            "10/10 [==============================] - 0s 7ms/step - loss: 45.7416 - accuracy: 0.5531 - val_loss: 38.7023 - val_accuracy: 0.4000\n",
            "Epoch 94/100\n",
            "10/10 [==============================] - 0s 8ms/step - loss: 47.2944 - accuracy: 0.5031 - val_loss: 11.3853 - val_accuracy: 0.6000\n",
            "Epoch 95/100\n",
            "10/10 [==============================] - 0s 7ms/step - loss: 28.1390 - accuracy: 0.5406 - val_loss: 147.3176 - val_accuracy: 0.6000\n",
            "Epoch 96/100\n",
            "10/10 [==============================] - 0s 8ms/step - loss: 107.4281 - accuracy: 0.5156 - val_loss: 63.3240 - val_accuracy: 0.6000\n",
            "Epoch 97/100\n",
            "10/10 [==============================] - 0s 10ms/step - loss: 33.1198 - accuracy: 0.5781 - val_loss: 14.4278 - val_accuracy: 0.4000\n",
            "Epoch 98/100\n",
            "10/10 [==============================] - 0s 18ms/step - loss: 54.4918 - accuracy: 0.5031 - val_loss: 166.1116 - val_accuracy: 0.6000\n",
            "Epoch 99/100\n",
            "10/10 [==============================] - 0s 16ms/step - loss: 95.6583 - accuracy: 0.5719 - val_loss: 129.7045 - val_accuracy: 0.6000\n",
            "Epoch 100/100\n",
            "10/10 [==============================] - 0s 16ms/step - loss: 77.6656 - accuracy: 0.5406 - val_loss: 163.5509 - val_accuracy: 0.6000\n"
          ]
        }
      ]
    },
    {
      "cell_type": "code",
      "source": [
        "# as shown as that validation accuracy goes upto only --> 60 percentage"
      ],
      "metadata": {
        "id": "g4ekPR6l3iOM"
      },
      "execution_count": null,
      "outputs": []
    },
    {
      "cell_type": "code",
      "source": [
        "import matplotlib.pyplot as plt\n",
        "plt.plot(history.history['val_accuracy'])"
      ],
      "metadata": {
        "colab": {
          "base_uri": "https://localhost:8080/",
          "height": 282
        },
        "id": "lFtLQyJt2AuA",
        "outputId": "d9eb02ce-9871-4e4f-a820-bd8507061021"
      },
      "execution_count": 20,
      "outputs": [
        {
          "output_type": "execute_result",
          "data": {
            "text/plain": [
              "[<matplotlib.lines.Line2D at 0x7fe1a524acd0>]"
            ]
          },
          "metadata": {},
          "execution_count": 20
        },
        {
          "output_type": "display_data",
          "data": {
            "text/plain": [
              "<Figure size 432x288 with 1 Axes>"
            ],
            "image/png": "[encoded data removed]"
          },
          "metadata": {
            "needs_background": "light"
          }
        }
      ]
    },
    {
      "cell_type": "code",
      "source": [
        "\n",
        "# this buzzy or unstable graph occurs due to \"Unstable of data\""
      ],
      "metadata": {
        "id": "2lMZFuUu2RNp"
      },
      "execution_count": 21,
      "outputs": []
    },
    {
      "cell_type": "code",
      "source": [],
      "metadata": {
        "id": "nyvJiTy72a-F"
      },
      "execution_count": null,
      "outputs": []
    },
    {
      "cell_type": "markdown",
      "source": [
        "** Scaling **"
      ],
      "metadata": {
        "id": "-ySqLcfT2c-q"
      }
    },
    {
      "cell_type": "code",
      "source": [
        "from sklearn.preprocessing import StandardScaler\n",
        "scaler = StandardScaler()\n",
        "\n",
        "X_train_scaled = scaler.fit_transform(X_train)\n",
        "X_test_scaled = scaler.transform(X_test)"
      ],
      "metadata": {
        "id": "kVjOrQet2e9Q"
      },
      "execution_count": 24,
      "outputs": []
    },
    {
      "cell_type": "code",
      "source": [
        "X_train_scaled"
      ],
      "metadata": {
        "colab": {
          "base_uri": "https://localhost:8080/"
        },
        "id": "KW4648fe25Wd",
        "outputId": "be465163-e6c5-4ab7-8276-6c2fe9d8f574"
      },
      "execution_count": 25,
      "outputs": [
        {
          "output_type": "execute_result",
          "data": {
            "text/plain": [
              "array([[ 0.88928823, -0.65924556],\n",
              "       [-0.17254846,  0.87392651],\n",
              "       [-1.04132394, -0.36440478],\n",
              "       [ 0.98581884,  0.6085698 ],\n",
              "       [-0.94479333,  0.57908572],\n",
              "       [ 0.40663519,  0.01888824],\n",
              "       [ 0.98581884,  2.11225779],\n",
              "       [ 0.31010458, -0.30543662],\n",
              "       [ 1.7580637 , -0.27595254],\n",
              "       [-0.17254846,  2.20071003],\n",
              "       [ 1.7580637 ,  1.0213469 ],\n",
              "       [-1.33091576, -1.48479975],\n",
              "       [ 2.04765553,  0.54960165],\n",
              "       [ 1.27541066,  1.90586924],\n",
              "       [-1.13785454,  0.31372902],\n",
              "       [-0.36560968, -0.77718187],\n",
              "       [-1.71703819,  0.49063349],\n",
              "       [-0.5586709 , -1.51428383],\n",
              "       [ 0.31010458, -0.71821372],\n",
              "       [ 0.02051275, -0.57079333],\n",
              "       [ 0.02051275,  0.04837232],\n",
              "       [-0.07601785, -0.51182517],\n",
              "       [-0.6552015 , -1.51428383],\n",
              "       [ 0.02051275,  0.31372902],\n",
              "       [ 0.31010458,  0.07785639],\n",
              "       [-0.46214029, -1.13099081],\n",
              "       [-0.75173211, -1.54376791],\n",
              "       [-0.26907907, -0.65924556],\n",
              "       [-1.13785454,  0.49063349],\n",
              "       [-0.07601785,  2.20071003],\n",
              "       [ 0.02051275,  0.04837232],\n",
              "       [-1.13785454, -1.57325199],\n",
              "       [ 1.08234944,  0.54960165],\n",
              "       [-0.26907907, -1.24892713],\n",
              "       [ 1.37194127, -0.92460227],\n",
              "       [-1.42744637, -1.21944305],\n",
              "       [-0.94479333, -0.95408634],\n",
              "       [ 1.95112492, -0.65924556],\n",
              "       [ 0.88928823, -0.57079333],\n",
              "       [-1.13785454,  0.31372902],\n",
              "       [ 0.02051275, -0.24646847],\n",
              "       [ 0.79275762, -1.39634752],\n",
              "       [-0.26907907, -0.36440478],\n",
              "       [ 0.88928823,  1.2867036 ],\n",
              "       [ 0.31010458, -0.18750031],\n",
              "       [-0.26907907, -0.57079333],\n",
              "       [-0.26907907, -1.39634752],\n",
              "       [ 1.46847188, -1.04253858],\n",
              "       [-0.07601785,  0.13682455],\n",
              "       [-0.84826272, -0.65924556],\n",
              "       [-0.07601785,  0.01888824],\n",
              "       [-0.26907907,  0.10734047],\n",
              "       [ 0.21357397, -0.30543662],\n",
              "       [-0.26907907,  0.28424494],\n",
              "       [ 0.11704336,  0.04837232],\n",
              "       [ 1.95112492,  2.20071003],\n",
              "       [-1.04132394, -1.45531567],\n",
              "       [ 0.31010458,  0.31372902],\n",
              "       [ 2.04765553, -1.18995897],\n",
              "       [-1.13785454, -0.51182517],\n",
              "       [ 0.21357397,  0.16630863],\n",
              "       [-0.26907907, -0.92460227],\n",
              "       [-0.6552015 ,  0.04837232],\n",
              "       [ 0.21357397,  0.07785639],\n",
              "       [ 0.40663519, -0.12853215],\n",
              "       [-1.13785454, -1.10150673],\n",
              "       [-0.07601785,  2.25967818],\n",
              "       [ 1.08234944, -0.12853215],\n",
              "       [ 0.88928823,  1.05083098],\n",
              "       [-0.07601785,  0.28424494],\n",
              "       [-0.5586709 , -1.51428383],\n",
              "       [-1.13785454, -1.0130545 ],\n",
              "       [-0.75173211,  1.37515584],\n",
              "       [ 1.08234944,  0.57908572],\n",
              "       [ 1.56500249, -1.2784112 ],\n",
              "       [ 0.69622701, -1.39634752],\n",
              "       [-0.6552015 , -1.04253858],\n",
              "       [ 1.17888005,  0.54960165],\n",
              "       [-0.26907907, -1.45531567],\n",
              "       [-1.62050759,  0.54960165],\n",
              "       [-1.04132394, -1.13099081],\n",
              "       [-0.07601785,  0.04837232],\n",
              "       [ 0.31010458,  0.07785639],\n",
              "       [ 0.88928823, -1.36686344],\n",
              "       [-1.04132394, -0.3349207 ],\n",
              "       [-1.8135688 ,  0.19579271],\n",
              "       [-1.8135688 , -1.4258316 ],\n",
              "       [ 0.69622701,  1.81741701],\n",
              "       [-0.07601785,  0.31372902],\n",
              "       [-1.62050759,  0.07785639],\n",
              "       [-0.6552015 ,  1.43412399],\n",
              "       [-0.26907907, -0.24646847],\n",
              "       [-0.36560968,  1.34567176],\n",
              "       [ 0.5031658 ,  1.25721952],\n",
              "       [-0.6552015 ,  0.19579271],\n",
              "       [-1.52397698, -0.42337294],\n",
              "       [-1.04132394,  0.43166533],\n",
              "       [ 0.79275762,  0.28424494],\n",
              "       [ 1.95112492, -0.92460227],\n",
              "       [ 0.79275762, -0.30543662],\n",
              "       [ 0.21357397,  0.25476086],\n",
              "       [-1.71703819, -0.60027741],\n",
              "       [-0.26907907,  0.16630863],\n",
              "       [-1.33091576, -1.24892713],\n",
              "       [-0.26907907, -0.42337294],\n",
              "       [ 0.11704336,  0.10734047],\n",
              "       [-0.94479333,  0.46114941],\n",
              "       [ 2.04765553,  0.40218125],\n",
              "       [-1.91009941,  0.37269718],\n",
              "       [ 2.04765553, -0.80666595],\n",
              "       [ 2.14418614,  1.13928321],\n",
              "       [ 0.79275762, -1.21944305],\n",
              "       [ 0.40663519, -0.45285701],\n",
              "       [ 0.02051275, -0.24646847],\n",
              "       [ 1.46847188,  0.37269718],\n",
              "       [-0.17254846, -0.57079333],\n",
              "       [ 0.21357397, -0.24646847],\n",
              "       [-0.46214029,  2.34813042],\n",
              "       [ 0.11704336,  0.22527679],\n",
              "       [ 0.21357397, -0.65924556],\n",
              "       [ 0.98581884, -1.07202266],\n",
              "       [-0.17254846,  0.16630863],\n",
              "       [-0.07601785,  0.31372902],\n",
              "       [ 0.40663519, -0.48234109],\n",
              "       [-0.36560968, -1.30789528],\n",
              "       [ 0.88928823, -0.77718187],\n",
              "       [-0.94479333,  0.43166533],\n",
              "       [-0.07601785, -0.42337294],\n",
              "       [-0.94479333, -0.42337294],\n",
              "       [-1.8135688 ,  0.46114941],\n",
              "       [-0.84826272, -1.21944305],\n",
              "       [-0.94479333, -0.30543662],\n",
              "       [ 0.98581884,  0.78547427],\n",
              "       [-1.62050759, -0.04007992],\n",
              "       [-1.04132394, -0.3349207 ],\n",
              "       [ 0.02051275, -0.54130925],\n",
              "       [-0.6552015 , -0.3349207 ],\n",
              "       [-1.13785454, -1.54376791],\n",
              "       [ 1.95112492, -1.36686344],\n",
              "       [-0.6552015 , -1.60273606],\n",
              "       [ 0.21357397, -0.36440478],\n",
              "       [ 0.88928823,  2.20071003],\n",
              "       [ 1.17888005, -0.98357042],\n",
              "       [-0.17254846, -0.51182517],\n",
              "       [ 1.66153309,  1.78793293],\n",
              "       [ 1.08234944, -1.21944305],\n",
              "       [ 0.02051275,  1.2867036 ],\n",
              "       [-0.46214029, -0.27595254],\n",
              "       [ 1.66153309, -0.89511819],\n",
              "       [ 0.31010458,  0.52011757],\n",
              "       [-1.04132394, -1.54376791],\n",
              "       [ 1.56500249,  1.13928321],\n",
              "       [-1.52397698,  0.3432131 ],\n",
              "       [ 0.02051275, -0.12853215],\n",
              "       [ 0.11704336, -0.80666595],\n",
              "       [ 0.21357397,  1.10979913],\n",
              "       [ 0.40663519, -0.15801623],\n",
              "       [-0.46214029, -0.01059584],\n",
              "       [ 1.08234944,  2.11225779],\n",
              "       [-0.26907907, -0.12853215],\n",
              "       [-0.75173211, -0.60027741],\n",
              "       [ 1.17888005, -1.45531567],\n",
              "       [-1.42744637, -1.45531567],\n",
              "       [ 1.85459431, -0.27595254],\n",
              "       [ 1.85459431,  0.13682455],\n",
              "       [ 0.40663519,  0.16630863],\n",
              "       [ 1.27541066, -1.36686344],\n",
              "       [-0.46214029, -1.21944305],\n",
              "       [-0.75173211,  1.93535332],\n",
              "       [-0.26907907,  1.13928321],\n",
              "       [ 0.02051275, -0.57079333],\n",
              "       [ 0.21357397, -0.12853215],\n",
              "       [-0.5586709 ,  1.93535332],\n",
              "       [-0.94479333,  0.28424494],\n",
              "       [-1.91009941,  0.49063349],\n",
              "       [-1.33091576,  0.57908572],\n",
              "       [ 0.21357397,  0.16630863],\n",
              "       [ 1.37194127, -1.4258316 ],\n",
              "       [-0.07601785,  0.69702204],\n",
              "       [ 0.11704336,  1.90586924],\n",
              "       [-1.71703819, -0.98357042],\n",
              "       [ 0.21357397, -0.36440478],\n",
              "       [-1.8135688 , -1.30789528],\n",
              "       [ 0.79275762,  0.54960165],\n",
              "       [-0.17254846,  1.43412399],\n",
              "       [-1.04132394,  0.57908572],\n",
              "       [-1.23438515, -1.07202266],\n",
              "       [ 1.37194127,  2.02380556],\n",
              "       [ 0.79275762, -1.10150673],\n",
              "       [ 0.79275762,  0.13682455],\n",
              "       [-1.8135688 , -1.2784112 ],\n",
              "       [ 0.02051275,  1.25721952],\n",
              "       [ 0.88928823, -0.60027741],\n",
              "       [ 2.14418614,  0.40218125],\n",
              "       [ 2.14418614, -0.80666595],\n",
              "       [ 0.98581884, -1.07202266],\n",
              "       [ 0.11704336,  1.55206031],\n",
              "       [-0.94479333,  0.52011757],\n",
              "       [-1.23438515,  0.28424494],\n",
              "       [ 0.40663519,  0.6085698 ],\n",
              "       [ 0.11704336,  0.16630863],\n",
              "       [ 0.21357397,  0.04837232],\n",
              "       [ 2.04765553,  2.17122595],\n",
              "       [-0.07601785, -0.36440478],\n",
              "       [-0.26907907,  0.81495835],\n",
              "       [-1.42744637, -0.18750031],\n",
              "       [ 1.08234944,  0.13682455],\n",
              "       [ 0.31010458,  0.07785639],\n",
              "       [ 0.11704336,  0.04837232],\n",
              "       [ 0.98581884, -1.0130545 ],\n",
              "       [-0.5586709 ,  1.49309215],\n",
              "       [-1.13785454, -1.60273606],\n",
              "       [ 1.27541066,  2.25967818],\n",
              "       [-1.42744637, -0.09904808],\n",
              "       [-1.8135688 , -1.48479975],\n",
              "       [ 0.88928823, -1.16047489],\n",
              "       [ 2.14418614, -0.68872964],\n",
              "       [ 0.5996964 , -0.89511819],\n",
              "       [-1.23438515, -1.39634752],\n",
              "       [-0.46214029, -0.83615003],\n",
              "       [-0.84826272, -0.24646847],\n",
              "       [ 1.46847188,  2.17122595],\n",
              "       [ 0.40663519,  1.0213469 ],\n",
              "       [ 0.02051275, -0.42337294],\n",
              "       [-1.13785454, -1.16047489],\n",
              "       [-0.75173211,  0.57908572],\n",
              "       [ 0.11704336,  1.08031505],\n",
              "       [-0.5586709 ,  1.40463991],\n",
              "       [ 0.11704336,  1.90586924],\n",
              "       [ 0.21357397,  2.14174187],\n",
              "       [ 1.46847188,  1.0213469 ],\n",
              "       [-1.71703819,  0.13682455],\n",
              "       [-0.26907907, -0.48234109],\n",
              "       [ 0.11704336,  0.78547427],\n",
              "       [ 0.88928823, -1.30789528],\n",
              "       [-0.26907907, -0.27595254],\n",
              "       [ 2.14418614, -1.04253858],\n",
              "       [ 0.40663519,  0.31372902],\n",
              "       [-0.17254846,  1.64051254],\n",
              "       [ 0.79275762, -0.83615003],\n",
              "       [-0.94479333,  1.58154438],\n",
              "       [ 0.11704336, -0.24646847],\n",
              "       [-1.23438515,  0.52011757],\n",
              "       [ 0.11704336, -0.80666595],\n",
              "       [ 1.08234944, -0.98357042],\n",
              "       [ 0.98581884,  1.81741701],\n",
              "       [-1.42744637, -0.62976148],\n",
              "       [ 0.98581884, -1.18995897],\n",
              "       [-1.33091576, -0.42337294],\n",
              "       [ 0.31010458,  0.07785639],\n",
              "       [-0.26907907, -0.57079333],\n",
              "       [-0.75173211,  1.10979913],\n",
              "       [ 1.56500249,  1.0213469 ],\n",
              "       [-1.04132394,  0.6085698 ],\n",
              "       [ 0.40663519,  0.10734047],\n",
              "       [-0.94479333, -0.30543662],\n",
              "       [ 1.17888005, -0.7476978 ],\n",
              "       [-1.91009941, -0.51182517],\n",
              "       [ 1.08234944, -1.21944305],\n",
              "       [ 0.31010458,  0.28424494],\n",
              "       [-0.75173211, -1.60273606],\n",
              "       [-0.26907907, -1.30789528],\n",
              "       [-0.26907907,  0.54960165],\n",
              "       [ 0.98581884,  1.90586924],\n",
              "       [-0.6552015 , -0.09904808],\n",
              "       [-0.46214029,  1.2867036 ],\n",
              "       [ 0.31010458, -0.51182517],\n",
              "       [ 1.85459431,  1.55206031],\n",
              "       [ 1.08234944,  0.49063349],\n",
              "       [ 2.04765553,  0.19579271],\n",
              "       [-1.71703819,  0.37269718],\n",
              "       [-0.17254846, -0.18750031],\n",
              "       [-0.6552015 ,  0.57908572],\n",
              "       [ 1.37194127,  1.31618768],\n",
              "       [ 1.08234944, -0.89511819],\n",
              "       [ 1.85459431, -1.07202266],\n",
              "       [-0.75173211,  0.52011757],\n",
              "       [-1.33091576, -1.10150673],\n",
              "       [ 0.79275762,  0.37269718],\n",
              "       [-0.84826272,  0.40218125],\n",
              "       [-0.75173211,  0.31372902],\n",
              "       [-1.04132394,  1.99432148],\n",
              "       [-0.07601785,  0.07785639],\n",
              "       [ 1.37194127,  2.3776145 ],\n",
              "       [-0.07601785,  0.16630863],\n",
              "       [-0.07601785,  1.99432148],\n",
              "       [-0.75173211,  0.28424494],\n",
              "       [-1.13785454,  0.3432131 ],\n",
              "       [ 0.31010458, -0.27595254],\n",
              "       [ 0.98581884, -1.16047489],\n",
              "       [ 1.37194127,  0.6085698 ],\n",
              "       [-1.52397698, -1.51428383],\n",
              "       [-0.94479333, -0.7476978 ],\n",
              "       [-1.13785454,  0.07785639],\n",
              "       [ 0.40663519, -0.45285701],\n",
              "       [-1.91009941, -0.7476978 ],\n",
              "       [ 0.40663519,  0.28424494],\n",
              "       [-0.26907907,  0.22527679],\n",
              "       [-0.5586709 ,  0.49063349],\n",
              "       [-0.36560968, -0.77718187],\n",
              "       [-0.26907907,  0.04837232],\n",
              "       [-0.07601785,  0.22527679],\n",
              "       [-0.26907907,  0.16630863],\n",
              "       [ 0.31010458, -0.54130925],\n",
              "       [ 0.79275762,  0.78547427],\n",
              "       [ 0.98581884,  2.02380556],\n",
              "       [-0.17254846, -0.27595254],\n",
              "       [-1.04132394, -0.45285701],\n",
              "       [-0.26907907, -0.3349207 ],\n",
              "       [ 0.11704336, -0.30543662],\n",
              "       [-0.26907907, -0.7476978 ],\n",
              "       [-0.07601785, -1.07202266],\n",
              "       [-0.26907907,  0.07785639],\n",
              "       [ 0.5031658 ,  1.75844885],\n",
              "       [-0.36560968,  1.25721952],\n",
              "       [ 0.79275762,  1.40463991],\n",
              "       [ 0.98581884, -0.83615003],\n",
              "       [-1.71703819, -1.36686344],\n",
              "       [-0.84826272,  0.31372902],\n",
              "       [-0.84826272,  2.31864634]])"
            ]
          },
          "metadata": {},
          "execution_count": 25
        }
      ]
    },
    {
      "cell_type": "code",
      "source": [
        "sns.scatterplot(X_train_scaled[:,0],X_train_scaled[:,1])"
      ],
      "metadata": {
        "colab": {
          "base_uri": "https://localhost:8080/",
          "height": 338
        },
        "id": "xSlyD_rg3HkV",
        "outputId": "63dc33d0-8d58-4a22-d36e-78e25baa107c"
      },
      "execution_count": 26,
      "outputs": [
        {
          "output_type": "stream",
          "name": "stderr",
          "text": [
            "/usr/local/lib/python3.8/dist-packages/seaborn/_decorators.py:36: FutureWarning: Pass the following variables as keyword args: x, y. From version 0.12, the only valid positional argument will be `data`, and passing other arguments without an explicit keyword will result in an error or misinterpretation.\n",
            "  warnings.warn(\n"
          ]
        },
        {
          "output_type": "execute_result",
          "data": {
            "text/plain": [
              "<AxesSubplot:>"
            ]
          },
          "metadata": {},
          "execution_count": 26
        },
        {
          "output_type": "display_data",
          "data": {
            "text/plain": [
              "<Figure size 432x288 with 1 Axes>"
            ],
            "image/png": "[encoded data removed]"
          },
          "metadata": {
            "needs_background": "light"
          }
        }
      ]
    },
    {
      "cell_type": "code",
      "source": [
        "model = Sequential()\n",
        "\n",
        "model.add(Dense(128,activation='relu',input_dim=2))\n",
        "model.add(Dense(1,activation='sigmoid'))\n",
        "\n",
        "model.compile(optimizer='adam',loss='binary_crossentropy',metrics=['accuracy'])\n",
        "\n",
        "history = model.fit(X_train_scaled,y_train,validation_data=(X_test_scaled,y_test),epochs=100)"
      ],
      "metadata": {
        "colab": {
          "base_uri": "https://localhost:8080/"
        },
        "id": "FukAI3tr3Ued",
        "outputId": "799c3dc0-675d-4c95-9d3b-76ed03dbdf8a"
      },
      "execution_count": 27,
      "outputs": [
        {
          "output_type": "stream",
          "name": "stdout",
          "text": [
            "Epoch 1/100\n",
            "10/10 [==============================] - 2s 44ms/step - loss: 0.6729 - accuracy: 0.6187 - val_loss: 0.6330 - val_accuracy: 0.9000\n",
            "Epoch 2/100\n",
            "10/10 [==============================] - 0s 12ms/step - loss: 0.6162 - accuracy: 0.8469 - val_loss: 0.5797 - val_accuracy: 0.8375\n",
            "Epoch 3/100\n",
            "10/10 [==============================] - 0s 6ms/step - loss: 0.5700 - accuracy: 0.8594 - val_loss: 0.5337 - val_accuracy: 0.8375\n",
            "Epoch 4/100\n",
            "10/10 [==============================] - 0s 7ms/step - loss: 0.5298 - accuracy: 0.8594 - val_loss: 0.4934 - val_accuracy: 0.8125\n",
            "Epoch 5/100\n",
            "10/10 [==============================] - 0s 6ms/step - loss: 0.4929 - accuracy: 0.8531 - val_loss: 0.4586 - val_accuracy: 0.8125\n",
            "Epoch 6/100\n",
            "10/10 [==============================] - 0s 8ms/step - loss: 0.4622 - accuracy: 0.8594 - val_loss: 0.4296 - val_accuracy: 0.8125\n",
            "Epoch 7/100\n",
            "10/10 [==============================] - 0s 8ms/step - loss: 0.4349 - accuracy: 0.8625 - val_loss: 0.4047 - val_accuracy: 0.8250\n",
            "Epoch 8/100\n",
            "10/10 [==============================] - 0s 6ms/step - loss: 0.4103 - accuracy: 0.8750 - val_loss: 0.3834 - val_accuracy: 0.8500\n",
            "Epoch 9/100\n",
            "10/10 [==============================] - 0s 8ms/step - loss: 0.3891 - accuracy: 0.8875 - val_loss: 0.3664 - val_accuracy: 0.8375\n",
            "Epoch 10/100\n",
            "10/10 [==============================] - 0s 8ms/step - loss: 0.3705 - accuracy: 0.8875 - val_loss: 0.3524 - val_accuracy: 0.8375\n",
            "Epoch 11/100\n",
            "10/10 [==============================] - 0s 8ms/step - loss: 0.3548 - accuracy: 0.8875 - val_loss: 0.3389 - val_accuracy: 0.8375\n",
            "Epoch 12/100\n",
            "10/10 [==============================] - 0s 6ms/step - loss: 0.3411 - accuracy: 0.8813 - val_loss: 0.3275 - val_accuracy: 0.8375\n",
            "Epoch 13/100\n",
            "10/10 [==============================] - 0s 8ms/step - loss: 0.3288 - accuracy: 0.8906 - val_loss: 0.3202 - val_accuracy: 0.8375\n",
            "Epoch 14/100\n",
            "10/10 [==============================] - 0s 6ms/step - loss: 0.3187 - accuracy: 0.8938 - val_loss: 0.3133 - val_accuracy: 0.8500\n",
            "Epoch 15/100\n",
            "10/10 [==============================] - 0s 7ms/step - loss: 0.3103 - accuracy: 0.8938 - val_loss: 0.3061 - val_accuracy: 0.8500\n",
            "Epoch 16/100\n",
            "10/10 [==============================] - 0s 8ms/step - loss: 0.3019 - accuracy: 0.8969 - val_loss: 0.3013 - val_accuracy: 0.8500\n",
            "Epoch 17/100\n",
            "10/10 [==============================] - 0s 7ms/step - loss: 0.2952 - accuracy: 0.8938 - val_loss: 0.2988 - val_accuracy: 0.8500\n",
            "Epoch 18/100\n",
            "10/10 [==============================] - 0s 8ms/step - loss: 0.2896 - accuracy: 0.8938 - val_loss: 0.2959 - val_accuracy: 0.8625\n",
            "Epoch 19/100\n",
            "10/10 [==============================] - 0s 7ms/step - loss: 0.2847 - accuracy: 0.8938 - val_loss: 0.2932 - val_accuracy: 0.8625\n",
            "Epoch 20/100\n",
            "10/10 [==============================] - 0s 6ms/step - loss: 0.2801 - accuracy: 0.8938 - val_loss: 0.2900 - val_accuracy: 0.8625\n",
            "Epoch 21/100\n",
            "10/10 [==============================] - 0s 8ms/step - loss: 0.2762 - accuracy: 0.8969 - val_loss: 0.2865 - val_accuracy: 0.8625\n",
            "Epoch 22/100\n",
            "10/10 [==============================] - 0s 7ms/step - loss: 0.2728 - accuracy: 0.9000 - val_loss: 0.2845 - val_accuracy: 0.8625\n",
            "Epoch 23/100\n",
            "10/10 [==============================] - 0s 8ms/step - loss: 0.2696 - accuracy: 0.9000 - val_loss: 0.2834 - val_accuracy: 0.8625\n",
            "Epoch 24/100\n",
            "10/10 [==============================] - 0s 8ms/step - loss: 0.2668 - accuracy: 0.9000 - val_loss: 0.2804 - val_accuracy: 0.8750\n",
            "Epoch 25/100\n",
            "10/10 [==============================] - 0s 6ms/step - loss: 0.2647 - accuracy: 0.8969 - val_loss: 0.2773 - val_accuracy: 0.8750\n",
            "Epoch 26/100\n",
            "10/10 [==============================] - 0s 7ms/step - loss: 0.2621 - accuracy: 0.8969 - val_loss: 0.2770 - val_accuracy: 0.8750\n",
            "Epoch 27/100\n",
            "10/10 [==============================] - 0s 6ms/step - loss: 0.2606 - accuracy: 0.9000 - val_loss: 0.2783 - val_accuracy: 0.8750\n",
            "Epoch 28/100\n",
            "10/10 [==============================] - 0s 8ms/step - loss: 0.2586 - accuracy: 0.9000 - val_loss: 0.2753 - val_accuracy: 0.8750\n",
            "Epoch 29/100\n",
            "10/10 [==============================] - 0s 8ms/step - loss: 0.2566 - accuracy: 0.9000 - val_loss: 0.2747 - val_accuracy: 0.8750\n",
            "Epoch 30/100\n",
            "10/10 [==============================] - 0s 9ms/step - loss: 0.2551 - accuracy: 0.9000 - val_loss: 0.2739 - val_accuracy: 0.8750\n",
            "Epoch 31/100\n",
            "10/10 [==============================] - 0s 6ms/step - loss: 0.2535 - accuracy: 0.9000 - val_loss: 0.2720 - val_accuracy: 0.8750\n",
            "Epoch 32/100\n",
            "10/10 [==============================] - 0s 8ms/step - loss: 0.2531 - accuracy: 0.9000 - val_loss: 0.2736 - val_accuracy: 0.8750\n",
            "Epoch 33/100\n",
            "10/10 [==============================] - 0s 8ms/step - loss: 0.2508 - accuracy: 0.9000 - val_loss: 0.2715 - val_accuracy: 0.8750\n",
            "Epoch 34/100\n",
            "10/10 [==============================] - 0s 6ms/step - loss: 0.2514 - accuracy: 0.9000 - val_loss: 0.2662 - val_accuracy: 0.8750\n",
            "Epoch 35/100\n",
            "10/10 [==============================] - 0s 7ms/step - loss: 0.2488 - accuracy: 0.9000 - val_loss: 0.2692 - val_accuracy: 0.8750\n",
            "Epoch 36/100\n",
            "10/10 [==============================] - 0s 8ms/step - loss: 0.2477 - accuracy: 0.9000 - val_loss: 0.2694 - val_accuracy: 0.8750\n",
            "Epoch 37/100\n",
            "10/10 [==============================] - 0s 6ms/step - loss: 0.2475 - accuracy: 0.9000 - val_loss: 0.2719 - val_accuracy: 0.8750\n",
            "Epoch 38/100\n",
            "10/10 [==============================] - 0s 8ms/step - loss: 0.2463 - accuracy: 0.9000 - val_loss: 0.2684 - val_accuracy: 0.8750\n",
            "Epoch 39/100\n",
            "10/10 [==============================] - 0s 6ms/step - loss: 0.2456 - accuracy: 0.9000 - val_loss: 0.2695 - val_accuracy: 0.8750\n",
            "Epoch 40/100\n",
            "10/10 [==============================] - 0s 6ms/step - loss: 0.2445 - accuracy: 0.9000 - val_loss: 0.2676 - val_accuracy: 0.8750\n",
            "Epoch 41/100\n",
            "10/10 [==============================] - 0s 7ms/step - loss: 0.2440 - accuracy: 0.9000 - val_loss: 0.2667 - val_accuracy: 0.8750\n",
            "Epoch 42/100\n",
            "10/10 [==============================] - 0s 7ms/step - loss: 0.2430 - accuracy: 0.9000 - val_loss: 0.2673 - val_accuracy: 0.8750\n",
            "Epoch 43/100\n",
            "10/10 [==============================] - 0s 8ms/step - loss: 0.2423 - accuracy: 0.9000 - val_loss: 0.2670 - val_accuracy: 0.8750\n",
            "Epoch 44/100\n",
            "10/10 [==============================] - 0s 6ms/step - loss: 0.2419 - accuracy: 0.9000 - val_loss: 0.2658 - val_accuracy: 0.8750\n",
            "Epoch 45/100\n",
            "10/10 [==============================] - 0s 7ms/step - loss: 0.2415 - accuracy: 0.9000 - val_loss: 0.2650 - val_accuracy: 0.8750\n",
            "Epoch 46/100\n",
            "10/10 [==============================] - 0s 6ms/step - loss: 0.2410 - accuracy: 0.9000 - val_loss: 0.2658 - val_accuracy: 0.8875\n",
            "Epoch 47/100\n",
            "10/10 [==============================] - 0s 6ms/step - loss: 0.2400 - accuracy: 0.9000 - val_loss: 0.2674 - val_accuracy: 0.8750\n",
            "Epoch 48/100\n",
            "10/10 [==============================] - 0s 8ms/step - loss: 0.2397 - accuracy: 0.9000 - val_loss: 0.2670 - val_accuracy: 0.8750\n",
            "Epoch 49/100\n",
            "10/10 [==============================] - 0s 6ms/step - loss: 0.2391 - accuracy: 0.9031 - val_loss: 0.2672 - val_accuracy: 0.8750\n",
            "Epoch 50/100\n",
            "10/10 [==============================] - 0s 7ms/step - loss: 0.2389 - accuracy: 0.9031 - val_loss: 0.2653 - val_accuracy: 0.8875\n",
            "Epoch 51/100\n",
            "10/10 [==============================] - 0s 8ms/step - loss: 0.2383 - accuracy: 0.9031 - val_loss: 0.2654 - val_accuracy: 0.9000\n",
            "Epoch 52/100\n",
            "10/10 [==============================] - 0s 8ms/step - loss: 0.2378 - accuracy: 0.9062 - val_loss: 0.2657 - val_accuracy: 0.9125\n",
            "Epoch 53/100\n",
            "10/10 [==============================] - 0s 8ms/step - loss: 0.2378 - accuracy: 0.9094 - val_loss: 0.2632 - val_accuracy: 0.9125\n",
            "Epoch 54/100\n",
            "10/10 [==============================] - 0s 7ms/step - loss: 0.2376 - accuracy: 0.9062 - val_loss: 0.2618 - val_accuracy: 0.9125\n",
            "Epoch 55/100\n",
            "10/10 [==============================] - 0s 10ms/step - loss: 0.2369 - accuracy: 0.9094 - val_loss: 0.2639 - val_accuracy: 0.9250\n",
            "Epoch 56/100\n",
            "10/10 [==============================] - 0s 7ms/step - loss: 0.2372 - accuracy: 0.9031 - val_loss: 0.2696 - val_accuracy: 0.8875\n",
            "Epoch 57/100\n",
            "10/10 [==============================] - 0s 7ms/step - loss: 0.2363 - accuracy: 0.9031 - val_loss: 0.2641 - val_accuracy: 0.9250\n",
            "Epoch 58/100\n",
            "10/10 [==============================] - 0s 8ms/step - loss: 0.2356 - accuracy: 0.9094 - val_loss: 0.2644 - val_accuracy: 0.9125\n",
            "Epoch 59/100\n",
            "10/10 [==============================] - 0s 6ms/step - loss: 0.2357 - accuracy: 0.9062 - val_loss: 0.2619 - val_accuracy: 0.9125\n",
            "Epoch 60/100\n",
            "10/10 [==============================] - 0s 6ms/step - loss: 0.2352 - accuracy: 0.9094 - val_loss: 0.2653 - val_accuracy: 0.9125\n",
            "Epoch 61/100\n",
            "10/10 [==============================] - 0s 7ms/step - loss: 0.2348 - accuracy: 0.9062 - val_loss: 0.2668 - val_accuracy: 0.9000\n",
            "Epoch 62/100\n",
            "10/10 [==============================] - 0s 7ms/step - loss: 0.2348 - accuracy: 0.9094 - val_loss: 0.2622 - val_accuracy: 0.9250\n",
            "Epoch 63/100\n",
            "10/10 [==============================] - 0s 7ms/step - loss: 0.2346 - accuracy: 0.9094 - val_loss: 0.2651 - val_accuracy: 0.9250\n",
            "Epoch 64/100\n",
            "10/10 [==============================] - 0s 8ms/step - loss: 0.2341 - accuracy: 0.9094 - val_loss: 0.2634 - val_accuracy: 0.9250\n",
            "Epoch 65/100\n",
            "10/10 [==============================] - 0s 6ms/step - loss: 0.2335 - accuracy: 0.9094 - val_loss: 0.2616 - val_accuracy: 0.9250\n",
            "Epoch 66/100\n",
            "10/10 [==============================] - 0s 6ms/step - loss: 0.2335 - accuracy: 0.9094 - val_loss: 0.2643 - val_accuracy: 0.9250\n",
            "Epoch 67/100\n",
            "10/10 [==============================] - 0s 8ms/step - loss: 0.2331 - accuracy: 0.9094 - val_loss: 0.2640 - val_accuracy: 0.9250\n",
            "Epoch 68/100\n",
            "10/10 [==============================] - 0s 7ms/step - loss: 0.2334 - accuracy: 0.9062 - val_loss: 0.2650 - val_accuracy: 0.9125\n",
            "Epoch 69/100\n",
            "10/10 [==============================] - 0s 7ms/step - loss: 0.2325 - accuracy: 0.9062 - val_loss: 0.2646 - val_accuracy: 0.9125\n",
            "Epoch 70/100\n",
            "10/10 [==============================] - 0s 8ms/step - loss: 0.2322 - accuracy: 0.9062 - val_loss: 0.2623 - val_accuracy: 0.9250\n",
            "Epoch 71/100\n",
            "10/10 [==============================] - 0s 6ms/step - loss: 0.2321 - accuracy: 0.9094 - val_loss: 0.2619 - val_accuracy: 0.9250\n",
            "Epoch 72/100\n",
            "10/10 [==============================] - 0s 6ms/step - loss: 0.2320 - accuracy: 0.9094 - val_loss: 0.2615 - val_accuracy: 0.9250\n",
            "Epoch 73/100\n",
            "10/10 [==============================] - 0s 6ms/step - loss: 0.2319 - accuracy: 0.9094 - val_loss: 0.2608 - val_accuracy: 0.9250\n",
            "Epoch 74/100\n",
            "10/10 [==============================] - 0s 8ms/step - loss: 0.2314 - accuracy: 0.9094 - val_loss: 0.2610 - val_accuracy: 0.9250\n",
            "Epoch 75/100\n",
            "10/10 [==============================] - 0s 8ms/step - loss: 0.2311 - accuracy: 0.9094 - val_loss: 0.2631 - val_accuracy: 0.9250\n",
            "Epoch 76/100\n",
            "10/10 [==============================] - 0s 7ms/step - loss: 0.2311 - accuracy: 0.9125 - val_loss: 0.2646 - val_accuracy: 0.9250\n",
            "Epoch 77/100\n",
            "10/10 [==============================] - 0s 6ms/step - loss: 0.2307 - accuracy: 0.9125 - val_loss: 0.2632 - val_accuracy: 0.9250\n",
            "Epoch 78/100\n",
            "10/10 [==============================] - 0s 6ms/step - loss: 0.2305 - accuracy: 0.9094 - val_loss: 0.2630 - val_accuracy: 0.9250\n",
            "Epoch 79/100\n",
            "10/10 [==============================] - 0s 8ms/step - loss: 0.2302 - accuracy: 0.9094 - val_loss: 0.2627 - val_accuracy: 0.9250\n",
            "Epoch 80/100\n",
            "10/10 [==============================] - 0s 6ms/step - loss: 0.2301 - accuracy: 0.9125 - val_loss: 0.2613 - val_accuracy: 0.9250\n",
            "Epoch 81/100\n",
            "10/10 [==============================] - 0s 7ms/step - loss: 0.2299 - accuracy: 0.9094 - val_loss: 0.2633 - val_accuracy: 0.9250\n",
            "Epoch 82/100\n",
            "10/10 [==============================] - 0s 7ms/step - loss: 0.2299 - accuracy: 0.9094 - val_loss: 0.2623 - val_accuracy: 0.9250\n",
            "Epoch 83/100\n",
            "10/10 [==============================] - 0s 7ms/step - loss: 0.2300 - accuracy: 0.9094 - val_loss: 0.2626 - val_accuracy: 0.9250\n",
            "Epoch 84/100\n",
            "10/10 [==============================] - 0s 7ms/step - loss: 0.2297 - accuracy: 0.9125 - val_loss: 0.2623 - val_accuracy: 0.9250\n",
            "Epoch 85/100\n",
            "10/10 [==============================] - 0s 8ms/step - loss: 0.2296 - accuracy: 0.9094 - val_loss: 0.2599 - val_accuracy: 0.9250\n",
            "Epoch 86/100\n",
            "10/10 [==============================] - 0s 6ms/step - loss: 0.2293 - accuracy: 0.9125 - val_loss: 0.2612 - val_accuracy: 0.9250\n",
            "Epoch 87/100\n",
            "10/10 [==============================] - 0s 6ms/step - loss: 0.2293 - accuracy: 0.9094 - val_loss: 0.2645 - val_accuracy: 0.9250\n",
            "Epoch 88/100\n",
            "10/10 [==============================] - 0s 6ms/step - loss: 0.2286 - accuracy: 0.9125 - val_loss: 0.2643 - val_accuracy: 0.9250\n",
            "Epoch 89/100\n",
            "10/10 [==============================] - 0s 8ms/step - loss: 0.2288 - accuracy: 0.9125 - val_loss: 0.2612 - val_accuracy: 0.9250\n",
            "Epoch 90/100\n",
            "10/10 [==============================] - 0s 7ms/step - loss: 0.2282 - accuracy: 0.9094 - val_loss: 0.2615 - val_accuracy: 0.9250\n",
            "Epoch 91/100\n",
            "10/10 [==============================] - 0s 6ms/step - loss: 0.2283 - accuracy: 0.9125 - val_loss: 0.2635 - val_accuracy: 0.9250\n",
            "Epoch 92/100\n",
            "10/10 [==============================] - 0s 8ms/step - loss: 0.2281 - accuracy: 0.9094 - val_loss: 0.2608 - val_accuracy: 0.9250\n",
            "Epoch 93/100\n",
            "10/10 [==============================] - 0s 6ms/step - loss: 0.2279 - accuracy: 0.9094 - val_loss: 0.2618 - val_accuracy: 0.9250\n",
            "Epoch 94/100\n",
            "10/10 [==============================] - 0s 6ms/step - loss: 0.2279 - accuracy: 0.9125 - val_loss: 0.2595 - val_accuracy: 0.9250\n",
            "Epoch 95/100\n",
            "10/10 [==============================] - 0s 6ms/step - loss: 0.2282 - accuracy: 0.9125 - val_loss: 0.2593 - val_accuracy: 0.9250\n",
            "Epoch 96/100\n",
            "10/10 [==============================] - 0s 8ms/step - loss: 0.2275 - accuracy: 0.9125 - val_loss: 0.2598 - val_accuracy: 0.9250\n",
            "Epoch 97/100\n",
            "10/10 [==============================] - 0s 7ms/step - loss: 0.2283 - accuracy: 0.9125 - val_loss: 0.2631 - val_accuracy: 0.9250\n",
            "Epoch 98/100\n",
            "10/10 [==============================] - 0s 8ms/step - loss: 0.2274 - accuracy: 0.9125 - val_loss: 0.2598 - val_accuracy: 0.9250\n",
            "Epoch 99/100\n",
            "10/10 [==============================] - 0s 6ms/step - loss: 0.2273 - accuracy: 0.9094 - val_loss: 0.2629 - val_accuracy: 0.9250\n",
            "Epoch 100/100\n",
            "10/10 [==============================] - 0s 6ms/step - loss: 0.2274 - accuracy: 0.9125 - val_loss: 0.2591 - val_accuracy: 0.9250\n"
          ]
        }
      ]
    },
    {
      "cell_type": "code",
      "source": [
        "import matplotlib.pyplot as plt\n",
        "plt.plot(history.history['val_accuracy'])"
      ],
      "metadata": {
        "colab": {
          "base_uri": "https://localhost:8080/",
          "height": 282
        },
        "id": "p1i-a01J3Xr9",
        "outputId": "ad85d606-202f-4936-ec23-c631b485b5d8"
      },
      "execution_count": 28,
      "outputs": [
        {
          "output_type": "execute_result",
          "data": {
            "text/plain": [
              "[<matplotlib.lines.Line2D at 0x7fe1a4f44c40>]"
            ]
          },
          "metadata": {},
          "execution_count": 28
        },
        {
          "output_type": "display_data",
          "data": {
            "text/plain": [
              "<Figure size 432x288 with 1 Axes>"
            ],
            "image/png": "[encoded data removed]"
          },
          "metadata": {
            "needs_background": "light"
          }
        }
      ]
    },
    {
      "cell_type": "code",
      "source": [],
      "metadata": {
        "id": "8VIzR0Aj3fcE"
      },
      "execution_count": null,
      "outputs": []
    },
    {
      "cell_type": "code",
      "source": [
        "# as shown that validation accuracy increase upto 92%"
      ],
      "metadata": {
        "id": "Ezbn8sTD3bGn"
      },
      "execution_count": 29,
      "outputs": []
    },
    {
      "cell_type": "code",
      "source": [],
      "metadata": {
        "id": "Tf3TJaR93xSW"
      },
      "execution_count": null,
      "outputs": []
    }
  ]
}