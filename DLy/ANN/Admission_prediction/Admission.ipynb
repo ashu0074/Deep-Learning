{
  "nbformat": 4,
  "nbformat_minor": 0,
  "metadata": {
    "colab": {
      "provenance": []
    },
    "kernelspec": {
      "name": "python3",
      "display_name": "Python 3"
    },
    "language_info": {
      "name": "python"
    }
  },
  "cells": [
    {
      "cell_type": "code",
      "execution_count": 1,
      "metadata": {
        "id": "E21M6yeIgzxg"
      },
      "outputs": [],
      "source": [
        "# It is regression problem:-\n",
        "import pandas as pd\n",
        "import numpy as np"
      ]
    },
    {
      "cell_type": "code",
      "source": [
        "df = pd.read_csv(\"/content/Admission_Predict_Ver1.csv\")"
      ],
      "metadata": {
        "id": "EiT_SVgLhPgx"
      },
      "execution_count": 2,
      "outputs": []
    },
    {
      "cell_type": "code",
      "source": [
        "df.shape"
      ],
      "metadata": {
        "colab": {
          "base_uri": "https://localhost:8080/"
        },
        "id": "Z0JNVcv1hmr2",
        "outputId": "220ccae1-c419-427d-e730-fbe64ae06617"
      },
      "execution_count": 4,
      "outputs": [
        {
          "output_type": "execute_result",
          "data": {
            "text/plain": [
              "(500, 9)"
            ]
          },
          "metadata": {},
          "execution_count": 4
        }
      ]
    },
    {
      "cell_type": "code",
      "source": [
        "df.info()"
      ],
      "metadata": {
        "colab": {
          "base_uri": "https://localhost:8080/"
        },
        "id": "tYB1Q4gohuSx",
        "outputId": "f0d4d2de-42a6-4d39-9ca1-49b6f646fcac"
      },
      "execution_count": 5,
      "outputs": [
        {
          "output_type": "stream",
          "name": "stdout",
          "text": [
            "<class 'pandas.core.frame.DataFrame'>\n",
            "RangeIndex: 500 entries, 0 to 499\n",
            "Data columns (total 9 columns):\n",
            " #   Column             Non-Null Count  Dtype  \n",
            "---  ------             --------------  -----  \n",
            " 0   Serial No.         500 non-null    int64  \n",
            " 1   GRE Score          500 non-null    int64  \n",
            " 2   TOEFL Score        500 non-null    int64  \n",
            " 3   University Rating  500 non-null    int64  \n",
            " 4   SOP                500 non-null    float64\n",
            " 5   LOR                500 non-null    float64\n",
            " 6   CGPA               500 non-null    float64\n",
            " 7   Research           500 non-null    int64  \n",
            " 8   Chance of Admit    500 non-null    float64\n",
            "dtypes: float64(4), int64(5)\n",
            "memory usage: 35.3 KB\n"
          ]
        }
      ]
    },
    {
      "cell_type": "code",
      "source": [
        "# in case there is no null value or all the columns in the int or float "
      ],
      "metadata": {
        "id": "XEbVbMH2hyXU"
      },
      "execution_count": 6,
      "outputs": []
    },
    {
      "cell_type": "code",
      "source": [
        "df.head()"
      ],
      "metadata": {
        "colab": {
          "base_uri": "https://localhost:8080/",
          "height": 250
        },
        "id": "nYBwyUfNiA8u",
        "outputId": "002898bd-0c4e-4c15-9546-937a39bb1922"
      },
      "execution_count": 7,
      "outputs": [
        {
          "output_type": "execute_result",
          "data": {
            "text/plain": [
              "   Serial No.  GRE Score  TOEFL Score  University Rating  SOP  LOR   CGPA  \\\n",
              "0           1        337          118                  4  4.5   4.5  9.65   \n",
              "1           2        324          107                  4  4.0   4.5  8.87   \n",
              "2           3        316          104                  3  3.0   3.5  8.00   \n",
              "3           4        322          110                  3  3.5   2.5  8.67   \n",
              "4           5        314          103                  2  2.0   3.0  8.21   \n",
              "\n",
              "   Research  Chance of Admit   \n",
              "0         1              0.92  \n",
              "1         1              0.76  \n",
              "2         1              0.72  \n",
              "3         1              0.80  \n",
              "4         0              0.65  "
            ],
            "text/html": [
              "\n",
              "  <div id=\"df-bd65701f-1f8e-4860-8ebe-f1b74225006f\">\n",
              "    <div class=\"colab-df-container\">\n",
              "      <div>\n",
              "<style scoped>\n",
              "    .dataframe tbody tr th:only-of-type {\n",
              "        vertical-align: middle;\n",
              "    }\n",
              "\n",
              "    .dataframe tbody tr th {\n",
              "        vertical-align: top;\n",
              "    }\n",
              "\n",
              "    .dataframe thead th {\n",
              "        text-align: right;\n",
              "    }\n",
              "</style>\n",
              "<table border=\"1\" class=\"dataframe\">\n",
              "  <thead>\n",
              "    <tr style=\"text-align: right;\">\n",
              "      <th></th>\n",
              "      <th>Serial No.</th>\n",
              "      <th>GRE Score</th>\n",
              "      <th>TOEFL Score</th>\n",
              "      <th>University Rating</th>\n",
              "      <th>SOP</th>\n",
              "      <th>LOR</th>\n",
              "      <th>CGPA</th>\n",
              "      <th>Research</th>\n",
              "      <th>Chance of Admit</th>\n",
              "    </tr>\n",
              "  </thead>\n",
              "  <tbody>\n",
              "    <tr>\n",
              "      <th>0</th>\n",
              "      <td>1</td>\n",
              "      <td>337</td>\n",
              "      <td>118</td>\n",
              "      <td>4</td>\n",
              "      <td>4.5</td>\n",
              "      <td>4.5</td>\n",
              "      <td>9.65</td>\n",
              "      <td>1</td>\n",
              "      <td>0.92</td>\n",
              "    </tr>\n",
              "    <tr>\n",
              "      <th>1</th>\n",
              "      <td>2</td>\n",
              "      <td>324</td>\n",
              "      <td>107</td>\n",
              "      <td>4</td>\n",
              "      <td>4.0</td>\n",
              "      <td>4.5</td>\n",
              "      <td>8.87</td>\n",
              "      <td>1</td>\n",
              "      <td>0.76</td>\n",
              "    </tr>\n",
              "    <tr>\n",
              "      <th>2</th>\n",
              "      <td>3</td>\n",
              "      <td>316</td>\n",
              "      <td>104</td>\n",
              "      <td>3</td>\n",
              "      <td>3.0</td>\n",
              "      <td>3.5</td>\n",
              "      <td>8.00</td>\n",
              "      <td>1</td>\n",
              "      <td>0.72</td>\n",
              "    </tr>\n",
              "    <tr>\n",
              "      <th>3</th>\n",
              "      <td>4</td>\n",
              "      <td>322</td>\n",
              "      <td>110</td>\n",
              "      <td>3</td>\n",
              "      <td>3.5</td>\n",
              "      <td>2.5</td>\n",
              "      <td>8.67</td>\n",
              "      <td>1</td>\n",
              "      <td>0.80</td>\n",
              "    </tr>\n",
              "    <tr>\n",
              "      <th>4</th>\n",
              "      <td>5</td>\n",
              "      <td>314</td>\n",
              "      <td>103</td>\n",
              "      <td>2</td>\n",
              "      <td>2.0</td>\n",
              "      <td>3.0</td>\n",
              "      <td>8.21</td>\n",
              "      <td>0</td>\n",
              "      <td>0.65</td>\n",
              "    </tr>\n",
              "  </tbody>\n",
              "</table>\n",
              "</div>\n",
              "      <button class=\"colab-df-convert\" onclick=\"convertToInteractive('df-bd65701f-1f8e-4860-8ebe-f1b74225006f')\"\n",
              "              title=\"Convert this dataframe to an interactive table.\"\n",
              "              style=\"display:none;\">\n",
              "        \n",
              "  <svg xmlns=\"http://www.w3.org/2000/svg\" height=\"24px\"viewBox=\"0 0 24 24\"\n",
              "       width=\"24px\">\n",
              "    <path d=\"M0 0h24v24H0V0z\" fill=\"none\"/>\n",
              "    <path d=\"M18.56 5.44l.94 2.06.94-2.06 2.06-.94-2.06-.94-.94-2.06-.94 2.06-2.06.94zm-11 1L8.5 8.5l.94-2.06 2.06-.94-2.06-.94L8.5 2.5l-.94 2.06-2.06.94zm10 10l.94 2.06.94-2.06 2.06-.94-2.06-.94-.94-2.06-.94 2.06-2.06.94z\"/><path d=\"M17.41 7.96l-1.37-1.37c-.4-.4-.92-.59-1.43-.59-.52 0-1.04.2-1.43.59L10.3 9.45l-7.72 7.72c-.78.78-.78 2.05 0 2.83L4 21.41c.39.39.9.59 1.41.59.51 0 1.02-.2 1.41-.59l7.78-7.78 2.81-2.81c.8-.78.8-2.07 0-2.86zM5.41 20L4 18.59l7.72-7.72 1.47 1.35L5.41 20z\"/>\n",
              "  </svg>\n",
              "      </button>\n",
              "      \n",
              "  <style>\n",
              "    .colab-df-container {\n",
              "      display:flex;\n",
              "      flex-wrap:wrap;\n",
              "      gap: 12px;\n",
              "    }\n",
              "\n",
              "    .colab-df-convert {\n",
              "      background-color: #E8F0FE;\n",
              "      border: none;\n",
              "      border-radius: 50%;\n",
              "      cursor: pointer;\n",
              "      display: none;\n",
              "      fill: #1967D2;\n",
              "      height: 32px;\n",
              "      padding: 0 0 0 0;\n",
              "      width: 32px;\n",
              "    }\n",
              "\n",
              "    .colab-df-convert:hover {\n",
              "      background-color: #E2EBFA;\n",
              "      box-shadow: 0px 1px 2px rgba(60, 64, 67, 0.3), 0px 1px 3px 1px rgba(60, 64, 67, 0.15);\n",
              "      fill: #174EA6;\n",
              "    }\n",
              "\n",
              "    [theme=dark] .colab-df-convert {\n",
              "      background-color: #3B4455;\n",
              "      fill: #D2E3FC;\n",
              "    }\n",
              "\n",
              "    [theme=dark] .colab-df-convert:hover {\n",
              "      background-color: #434B5C;\n",
              "      box-shadow: 0px 1px 3px 1px rgba(0, 0, 0, 0.15);\n",
              "      filter: drop-shadow(0px 1px 2px rgba(0, 0, 0, 0.3));\n",
              "      fill: #FFFFFF;\n",
              "    }\n",
              "  </style>\n",
              "\n",
              "      <script>\n",
              "        const buttonEl =\n",
              "          document.querySelector('#df-bd65701f-1f8e-4860-8ebe-f1b74225006f button.colab-df-convert');\n",
              "        buttonEl.style.display =\n",
              "          google.colab.kernel.accessAllowed ? 'block' : 'none';\n",
              "\n",
              "        async function convertToInteractive(key) {\n",
              "          const element = document.querySelector('#df-bd65701f-1f8e-4860-8ebe-f1b74225006f');\n",
              "          const dataTable =\n",
              "            await google.colab.kernel.invokeFunction('convertToInteractive',\n",
              "                                                     [key], {});\n",
              "          if (!dataTable) return;\n",
              "\n",
              "          const docLinkHtml = 'Like what you see? Visit the ' +\n",
              "            '<a target=\"_blank\" href=https://colab.research.google.com/notebooks/data_table.ipynb>data table notebook</a>'\n",
              "            + ' to learn more about interactive tables.';\n",
              "          element.innerHTML = '';\n",
              "          dataTable['output_type'] = 'display_data';\n",
              "          await google.colab.output.renderOutput(dataTable, element);\n",
              "          const docLink = document.createElement('div');\n",
              "          docLink.innerHTML = docLinkHtml;\n",
              "          element.appendChild(docLink);\n",
              "        }\n",
              "      </script>\n",
              "    </div>\n",
              "  </div>\n",
              "  "
            ]
          },
          "metadata": {},
          "execution_count": 7
        }
      ]
    },
    {
      "cell_type": "code",
      "source": [
        "# in case data is vary so we use scalling processor :-\n",
        "#\"MIN-MAX\" scaling-- in case we no Upper as well as Lower bound so we can easily use the \"min-max scaling\"\n",
        "# Structure --> 7 input and hidden layer 7 perceptron and output single node"
      ],
      "metadata": {
        "id": "UKrvXErViR7R"
      },
      "execution_count": 8,
      "outputs": []
    },
    {
      "cell_type": "code",
      "source": [
        "# there is no need of \"Serial no.\"\n",
        "df.drop(columns = ['Serial No.'],inplace = True)"
      ],
      "metadata": {
        "id": "0FgoI356i8Se"
      },
      "execution_count": 9,
      "outputs": []
    },
    {
      "cell_type": "code",
      "source": [
        "df.head(2)"
      ],
      "metadata": {
        "colab": {
          "base_uri": "https://localhost:8080/",
          "height": 112
        },
        "id": "47BZuwcejSvp",
        "outputId": "1c445145-429d-4a06-a487-77c526884257"
      },
      "execution_count": 10,
      "outputs": [
        {
          "output_type": "execute_result",
          "data": {
            "text/plain": [
              "   GRE Score  TOEFL Score  University Rating  SOP  LOR   CGPA  Research  \\\n",
              "0        337          118                  4  4.5   4.5  9.65         1   \n",
              "1        324          107                  4  4.0   4.5  8.87         1   \n",
              "\n",
              "   Chance of Admit   \n",
              "0              0.92  \n",
              "1              0.76  "
            ],
            "text/html": [
              "\n",
              "  <div id=\"df-816a82f5-7115-4807-9f90-8e7a1851a6fb\">\n",
              "    <div class=\"colab-df-container\">\n",
              "      <div>\n",
              "<style scoped>\n",
              "    .dataframe tbody tr th:only-of-type {\n",
              "        vertical-align: middle;\n",
              "    }\n",
              "\n",
              "    .dataframe tbody tr th {\n",
              "        vertical-align: top;\n",
              "    }\n",
              "\n",
              "    .dataframe thead th {\n",
              "        text-align: right;\n",
              "    }\n",
              "</style>\n",
              "<table border=\"1\" class=\"dataframe\">\n",
              "  <thead>\n",
              "    <tr style=\"text-align: right;\">\n",
              "      <th></th>\n",
              "      <th>GRE Score</th>\n",
              "      <th>TOEFL Score</th>\n",
              "      <th>University Rating</th>\n",
              "      <th>SOP</th>\n",
              "      <th>LOR</th>\n",
              "      <th>CGPA</th>\n",
              "      <th>Research</th>\n",
              "      <th>Chance of Admit</th>\n",
              "    </tr>\n",
              "  </thead>\n",
              "  <tbody>\n",
              "    <tr>\n",
              "      <th>0</th>\n",
              "      <td>337</td>\n",
              "      <td>118</td>\n",
              "      <td>4</td>\n",
              "      <td>4.5</td>\n",
              "      <td>4.5</td>\n",
              "      <td>9.65</td>\n",
              "      <td>1</td>\n",
              "      <td>0.92</td>\n",
              "    </tr>\n",
              "    <tr>\n",
              "      <th>1</th>\n",
              "      <td>324</td>\n",
              "      <td>107</td>\n",
              "      <td>4</td>\n",
              "      <td>4.0</td>\n",
              "      <td>4.5</td>\n",
              "      <td>8.87</td>\n",
              "      <td>1</td>\n",
              "      <td>0.76</td>\n",
              "    </tr>\n",
              "  </tbody>\n",
              "</table>\n",
              "</div>\n",
              "      <button class=\"colab-df-convert\" onclick=\"convertToInteractive('df-816a82f5-7115-4807-9f90-8e7a1851a6fb')\"\n",
              "              title=\"Convert this dataframe to an interactive table.\"\n",
              "              style=\"display:none;\">\n",
              "        \n",
              "  <svg xmlns=\"http://www.w3.org/2000/svg\" height=\"24px\"viewBox=\"0 0 24 24\"\n",
              "       width=\"24px\">\n",
              "    <path d=\"M0 0h24v24H0V0z\" fill=\"none\"/>\n",
              "    <path d=\"M18.56 5.44l.94 2.06.94-2.06 2.06-.94-2.06-.94-.94-2.06-.94 2.06-2.06.94zm-11 1L8.5 8.5l.94-2.06 2.06-.94-2.06-.94L8.5 2.5l-.94 2.06-2.06.94zm10 10l.94 2.06.94-2.06 2.06-.94-2.06-.94-.94-2.06-.94 2.06-2.06.94z\"/><path d=\"M17.41 7.96l-1.37-1.37c-.4-.4-.92-.59-1.43-.59-.52 0-1.04.2-1.43.59L10.3 9.45l-7.72 7.72c-.78.78-.78 2.05 0 2.83L4 21.41c.39.39.9.59 1.41.59.51 0 1.02-.2 1.41-.59l7.78-7.78 2.81-2.81c.8-.78.8-2.07 0-2.86zM5.41 20L4 18.59l7.72-7.72 1.47 1.35L5.41 20z\"/>\n",
              "  </svg>\n",
              "      </button>\n",
              "      \n",
              "  <style>\n",
              "    .colab-df-container {\n",
              "      display:flex;\n",
              "      flex-wrap:wrap;\n",
              "      gap: 12px;\n",
              "    }\n",
              "\n",
              "    .colab-df-convert {\n",
              "      background-color: #E8F0FE;\n",
              "      border: none;\n",
              "      border-radius: 50%;\n",
              "      cursor: pointer;\n",
              "      display: none;\n",
              "      fill: #1967D2;\n",
              "      height: 32px;\n",
              "      padding: 0 0 0 0;\n",
              "      width: 32px;\n",
              "    }\n",
              "\n",
              "    .colab-df-convert:hover {\n",
              "      background-color: #E2EBFA;\n",
              "      box-shadow: 0px 1px 2px rgba(60, 64, 67, 0.3), 0px 1px 3px 1px rgba(60, 64, 67, 0.15);\n",
              "      fill: #174EA6;\n",
              "    }\n",
              "\n",
              "    [theme=dark] .colab-df-convert {\n",
              "      background-color: #3B4455;\n",
              "      fill: #D2E3FC;\n",
              "    }\n",
              "\n",
              "    [theme=dark] .colab-df-convert:hover {\n",
              "      background-color: #434B5C;\n",
              "      box-shadow: 0px 1px 3px 1px rgba(0, 0, 0, 0.15);\n",
              "      filter: drop-shadow(0px 1px 2px rgba(0, 0, 0, 0.3));\n",
              "      fill: #FFFFFF;\n",
              "    }\n",
              "  </style>\n",
              "\n",
              "      <script>\n",
              "        const buttonEl =\n",
              "          document.querySelector('#df-816a82f5-7115-4807-9f90-8e7a1851a6fb button.colab-df-convert');\n",
              "        buttonEl.style.display =\n",
              "          google.colab.kernel.accessAllowed ? 'block' : 'none';\n",
              "\n",
              "        async function convertToInteractive(key) {\n",
              "          const element = document.querySelector('#df-816a82f5-7115-4807-9f90-8e7a1851a6fb');\n",
              "          const dataTable =\n",
              "            await google.colab.kernel.invokeFunction('convertToInteractive',\n",
              "                                                     [key], {});\n",
              "          if (!dataTable) return;\n",
              "\n",
              "          const docLinkHtml = 'Like what you see? Visit the ' +\n",
              "            '<a target=\"_blank\" href=https://colab.research.google.com/notebooks/data_table.ipynb>data table notebook</a>'\n",
              "            + ' to learn more about interactive tables.';\n",
              "          element.innerHTML = '';\n",
              "          dataTable['output_type'] = 'display_data';\n",
              "          await google.colab.output.renderOutput(dataTable, element);\n",
              "          const docLink = document.createElement('div');\n",
              "          docLink.innerHTML = docLinkHtml;\n",
              "          element.appendChild(docLink);\n",
              "        }\n",
              "      </script>\n",
              "    </div>\n",
              "  </div>\n",
              "  "
            ]
          },
          "metadata": {},
          "execution_count": 10
        }
      ]
    },
    {
      "cell_type": "code",
      "source": [
        "# now split the data into train and test and then we use min-max scalling\n",
        "X = df.iloc[:,0:-1]\n",
        "y = df.iloc[:,-1]"
      ],
      "metadata": {
        "id": "LtlV1913jWbu"
      },
      "execution_count": 11,
      "outputs": []
    },
    {
      "cell_type": "code",
      "source": [
        "print(X)\n",
        "print(y)"
      ],
      "metadata": {
        "colab": {
          "base_uri": "https://localhost:8080/"
        },
        "id": "vpp5Mx9ejxd_",
        "outputId": "51fcd99c-5d0d-42fc-8fd2-d74972f5e53d"
      },
      "execution_count": 12,
      "outputs": [
        {
          "output_type": "stream",
          "name": "stdout",
          "text": [
            "     GRE Score  TOEFL Score  University Rating  SOP  LOR   CGPA  Research\n",
            "0          337          118                  4  4.5   4.5  9.65         1\n",
            "1          324          107                  4  4.0   4.5  8.87         1\n",
            "2          316          104                  3  3.0   3.5  8.00         1\n",
            "3          322          110                  3  3.5   2.5  8.67         1\n",
            "4          314          103                  2  2.0   3.0  8.21         0\n",
            "..         ...          ...                ...  ...   ...   ...       ...\n",
            "495        332          108                  5  4.5   4.0  9.02         1\n",
            "496        337          117                  5  5.0   5.0  9.87         1\n",
            "497        330          120                  5  4.5   5.0  9.56         1\n",
            "498        312          103                  4  4.0   5.0  8.43         0\n",
            "499        327          113                  4  4.5   4.5  9.04         0\n",
            "\n",
            "[500 rows x 7 columns]\n",
            "0      0.92\n",
            "1      0.76\n",
            "2      0.72\n",
            "3      0.80\n",
            "4      0.65\n",
            "       ... \n",
            "495    0.87\n",
            "496    0.96\n",
            "497    0.93\n",
            "498    0.73\n",
            "499    0.84\n",
            "Name: Chance of Admit , Length: 500, dtype: float64\n"
          ]
        }
      ]
    },
    {
      "cell_type": "code",
      "source": [
        "from sklearn.model_selection import train_test_split\n",
        "X_train,X_test,y_train,y_test = train_test_split(X,y,test_size = 0.20,random_state = 1)"
      ],
      "metadata": {
        "id": "m-biIzpdj2CY"
      },
      "execution_count": 13,
      "outputs": []
    },
    {
      "cell_type": "code",
      "source": [
        "X_train"
      ],
      "metadata": {
        "colab": {
          "base_uri": "https://localhost:8080/",
          "height": 424
        },
        "id": "N7AqZTxhkgVR",
        "outputId": "b42b888e-a32f-4fb2-a361-42f74b4ffc09"
      },
      "execution_count": 14,
      "outputs": [
        {
          "output_type": "execute_result",
          "data": {
            "text/plain": [
              "     GRE Score  TOEFL Score  University Rating  SOP  LOR   CGPA  Research\n",
              "238        310          104                  3  2.0   3.5  8.37         0\n",
              "438        318          110                  1  2.5   3.5  8.54         1\n",
              "475        300          101                  3  3.5   2.5  7.88         0\n",
              "58         300           99                  1  3.0   2.0  6.80         1\n",
              "380        322          104                  3  3.5   4.0  8.84         1\n",
              "..         ...          ...                ...  ...   ...   ...       ...\n",
              "255        307          110                  4  4.0   4.5  8.37         0\n",
              "72         321          111                  5  5.0   5.0  9.45         1\n",
              "396        325          107                  3  3.0   3.5  9.11         1\n",
              "235        326          111                  5  4.5   4.0  9.23         1\n",
              "37         300          105                  1  1.0   2.0  7.80         0\n",
              "\n",
              "[400 rows x 7 columns]"
            ],
            "text/html": [
              "\n",
              "  <div id=\"df-61f57754-0b2f-4985-bb8f-f2c59dca6554\">\n",
              "    <div class=\"colab-df-container\">\n",
              "      <div>\n",
              "<style scoped>\n",
              "    .dataframe tbody tr th:only-of-type {\n",
              "        vertical-align: middle;\n",
              "    }\n",
              "\n",
              "    .dataframe tbody tr th {\n",
              "        vertical-align: top;\n",
              "    }\n",
              "\n",
              "    .dataframe thead th {\n",
              "        text-align: right;\n",
              "    }\n",
              "</style>\n",
              "<table border=\"1\" class=\"dataframe\">\n",
              "  <thead>\n",
              "    <tr style=\"text-align: right;\">\n",
              "      <th></th>\n",
              "      <th>GRE Score</th>\n",
              "      <th>TOEFL Score</th>\n",
              "      <th>University Rating</th>\n",
              "      <th>SOP</th>\n",
              "      <th>LOR</th>\n",
              "      <th>CGPA</th>\n",
              "      <th>Research</th>\n",
              "    </tr>\n",
              "  </thead>\n",
              "  <tbody>\n",
              "    <tr>\n",
              "      <th>238</th>\n",
              "      <td>310</td>\n",
              "      <td>104</td>\n",
              "      <td>3</td>\n",
              "      <td>2.0</td>\n",
              "      <td>3.5</td>\n",
              "      <td>8.37</td>\n",
              "      <td>0</td>\n",
              "    </tr>\n",
              "    <tr>\n",
              "      <th>438</th>\n",
              "      <td>318</td>\n",
              "      <td>110</td>\n",
              "      <td>1</td>\n",
              "      <td>2.5</td>\n",
              "      <td>3.5</td>\n",
              "      <td>8.54</td>\n",
              "      <td>1</td>\n",
              "    </tr>\n",
              "    <tr>\n",
              "      <th>475</th>\n",
              "      <td>300</td>\n",
              "      <td>101</td>\n",
              "      <td>3</td>\n",
              "      <td>3.5</td>\n",
              "      <td>2.5</td>\n",
              "      <td>7.88</td>\n",
              "      <td>0</td>\n",
              "    </tr>\n",
              "    <tr>\n",
              "      <th>58</th>\n",
              "      <td>300</td>\n",
              "      <td>99</td>\n",
              "      <td>1</td>\n",
              "      <td>3.0</td>\n",
              "      <td>2.0</td>\n",
              "      <td>6.80</td>\n",
              "      <td>1</td>\n",
              "    </tr>\n",
              "    <tr>\n",
              "      <th>380</th>\n",
              "      <td>322</td>\n",
              "      <td>104</td>\n",
              "      <td>3</td>\n",
              "      <td>3.5</td>\n",
              "      <td>4.0</td>\n",
              "      <td>8.84</td>\n",
              "      <td>1</td>\n",
              "    </tr>\n",
              "    <tr>\n",
              "      <th>...</th>\n",
              "      <td>...</td>\n",
              "      <td>...</td>\n",
              "      <td>...</td>\n",
              "      <td>...</td>\n",
              "      <td>...</td>\n",
              "      <td>...</td>\n",
              "      <td>...</td>\n",
              "    </tr>\n",
              "    <tr>\n",
              "      <th>255</th>\n",
              "      <td>307</td>\n",
              "      <td>110</td>\n",
              "      <td>4</td>\n",
              "      <td>4.0</td>\n",
              "      <td>4.5</td>\n",
              "      <td>8.37</td>\n",
              "      <td>0</td>\n",
              "    </tr>\n",
              "    <tr>\n",
              "      <th>72</th>\n",
              "      <td>321</td>\n",
              "      <td>111</td>\n",
              "      <td>5</td>\n",
              "      <td>5.0</td>\n",
              "      <td>5.0</td>\n",
              "      <td>9.45</td>\n",
              "      <td>1</td>\n",
              "    </tr>\n",
              "    <tr>\n",
              "      <th>396</th>\n",
              "      <td>325</td>\n",
              "      <td>107</td>\n",
              "      <td>3</td>\n",
              "      <td>3.0</td>\n",
              "      <td>3.5</td>\n",
              "      <td>9.11</td>\n",
              "      <td>1</td>\n",
              "    </tr>\n",
              "    <tr>\n",
              "      <th>235</th>\n",
              "      <td>326</td>\n",
              "      <td>111</td>\n",
              "      <td>5</td>\n",
              "      <td>4.5</td>\n",
              "      <td>4.0</td>\n",
              "      <td>9.23</td>\n",
              "      <td>1</td>\n",
              "    </tr>\n",
              "    <tr>\n",
              "      <th>37</th>\n",
              "      <td>300</td>\n",
              "      <td>105</td>\n",
              "      <td>1</td>\n",
              "      <td>1.0</td>\n",
              "      <td>2.0</td>\n",
              "      <td>7.80</td>\n",
              "      <td>0</td>\n",
              "    </tr>\n",
              "  </tbody>\n",
              "</table>\n",
              "<p>400 rows × 7 columns</p>\n",
              "</div>\n",
              "      <button class=\"colab-df-convert\" onclick=\"convertToInteractive('df-61f57754-0b2f-4985-bb8f-f2c59dca6554')\"\n",
              "              title=\"Convert this dataframe to an interactive table.\"\n",
              "              style=\"display:none;\">\n",
              "        \n",
              "  <svg xmlns=\"http://www.w3.org/2000/svg\" height=\"24px\"viewBox=\"0 0 24 24\"\n",
              "       width=\"24px\">\n",
              "    <path d=\"M0 0h24v24H0V0z\" fill=\"none\"/>\n",
              "    <path d=\"M18.56 5.44l.94 2.06.94-2.06 2.06-.94-2.06-.94-.94-2.06-.94 2.06-2.06.94zm-11 1L8.5 8.5l.94-2.06 2.06-.94-2.06-.94L8.5 2.5l-.94 2.06-2.06.94zm10 10l.94 2.06.94-2.06 2.06-.94-2.06-.94-.94-2.06-.94 2.06-2.06.94z\"/><path d=\"M17.41 7.96l-1.37-1.37c-.4-.4-.92-.59-1.43-.59-.52 0-1.04.2-1.43.59L10.3 9.45l-7.72 7.72c-.78.78-.78 2.05 0 2.83L4 21.41c.39.39.9.59 1.41.59.51 0 1.02-.2 1.41-.59l7.78-7.78 2.81-2.81c.8-.78.8-2.07 0-2.86zM5.41 20L4 18.59l7.72-7.72 1.47 1.35L5.41 20z\"/>\n",
              "  </svg>\n",
              "      </button>\n",
              "      \n",
              "  <style>\n",
              "    .colab-df-container {\n",
              "      display:flex;\n",
              "      flex-wrap:wrap;\n",
              "      gap: 12px;\n",
              "    }\n",
              "\n",
              "    .colab-df-convert {\n",
              "      background-color: #E8F0FE;\n",
              "      border: none;\n",
              "      border-radius: 50%;\n",
              "      cursor: pointer;\n",
              "      display: none;\n",
              "      fill: #1967D2;\n",
              "      height: 32px;\n",
              "      padding: 0 0 0 0;\n",
              "      width: 32px;\n",
              "    }\n",
              "\n",
              "    .colab-df-convert:hover {\n",
              "      background-color: #E2EBFA;\n",
              "      box-shadow: 0px 1px 2px rgba(60, 64, 67, 0.3), 0px 1px 3px 1px rgba(60, 64, 67, 0.15);\n",
              "      fill: #174EA6;\n",
              "    }\n",
              "\n",
              "    [theme=dark] .colab-df-convert {\n",
              "      background-color: #3B4455;\n",
              "      fill: #D2E3FC;\n",
              "    }\n",
              "\n",
              "    [theme=dark] .colab-df-convert:hover {\n",
              "      background-color: #434B5C;\n",
              "      box-shadow: 0px 1px 3px 1px rgba(0, 0, 0, 0.15);\n",
              "      filter: drop-shadow(0px 1px 2px rgba(0, 0, 0, 0.3));\n",
              "      fill: #FFFFFF;\n",
              "    }\n",
              "  </style>\n",
              "\n",
              "      <script>\n",
              "        const buttonEl =\n",
              "          document.querySelector('#df-61f57754-0b2f-4985-bb8f-f2c59dca6554 button.colab-df-convert');\n",
              "        buttonEl.style.display =\n",
              "          google.colab.kernel.accessAllowed ? 'block' : 'none';\n",
              "\n",
              "        async function convertToInteractive(key) {\n",
              "          const element = document.querySelector('#df-61f57754-0b2f-4985-bb8f-f2c59dca6554');\n",
              "          const dataTable =\n",
              "            await google.colab.kernel.invokeFunction('convertToInteractive',\n",
              "                                                     [key], {});\n",
              "          if (!dataTable) return;\n",
              "\n",
              "          const docLinkHtml = 'Like what you see? Visit the ' +\n",
              "            '<a target=\"_blank\" href=https://colab.research.google.com/notebooks/data_table.ipynb>data table notebook</a>'\n",
              "            + ' to learn more about interactive tables.';\n",
              "          element.innerHTML = '';\n",
              "          dataTable['output_type'] = 'display_data';\n",
              "          await google.colab.output.renderOutput(dataTable, element);\n",
              "          const docLink = document.createElement('div');\n",
              "          docLink.innerHTML = docLinkHtml;\n",
              "          element.appendChild(docLink);\n",
              "        }\n",
              "      </script>\n",
              "    </div>\n",
              "  </div>\n",
              "  "
            ]
          },
          "metadata": {},
          "execution_count": 14
        }
      ]
    },
    {
      "cell_type": "code",
      "source": [
        "# min-max scaling\n",
        "\n",
        "from sklearn.preprocessing import MinMaxScaler\n",
        "scaler = MinMaxScaler()\n",
        "\n",
        "X_train_scaled = scaler.fit_transform(X_train)\n",
        "X_test_scaled = scaler.transform(X_test)"
      ],
      "metadata": {
        "id": "rmARaqAqkjXj"
      },
      "execution_count": 15,
      "outputs": []
    },
    {
      "cell_type": "code",
      "source": [
        "X_train_scaled"
      ],
      "metadata": {
        "colab": {
          "base_uri": "https://localhost:8080/"
        },
        "id": "ysvr-XxalPy8",
        "outputId": "5affae59-9dad-498a-a322-f4e250a72c33"
      },
      "execution_count": 17,
      "outputs": [
        {
          "output_type": "execute_result",
          "data": {
            "text/plain": [
              "array([[0.4       , 0.42857143, 0.5       , ..., 0.57142857, 0.50320513,\n",
              "        0.        ],\n",
              "       [0.56      , 0.64285714, 0.        , ..., 0.57142857, 0.55769231,\n",
              "        1.        ],\n",
              "       [0.2       , 0.32142857, 0.5       , ..., 0.28571429, 0.34615385,\n",
              "        0.        ],\n",
              "       ...,\n",
              "       [0.7       , 0.53571429, 0.5       , ..., 0.57142857, 0.74038462,\n",
              "        1.        ],\n",
              "       [0.72      , 0.67857143, 1.        , ..., 0.71428571, 0.77884615,\n",
              "        1.        ],\n",
              "       [0.2       , 0.46428571, 0.        , ..., 0.14285714, 0.32051282,\n",
              "        0.        ]])"
            ]
          },
          "metadata": {},
          "execution_count": 17
        }
      ]
    },
    {
      "cell_type": "code",
      "source": [
        "# to build neural network arcitecture\n",
        "import tensorflow\n",
        "from tensorflow import keras\n",
        "from keras import Sequential\n",
        "from keras.layers import Dense"
      ],
      "metadata": {
        "id": "pNuUptijlShV"
      },
      "execution_count": 30,
      "outputs": []
    },
    {
      "cell_type": "code",
      "source": [
        "model = Sequential()\n",
        "\n",
        "model.add(Dense(7,activation = 'relu',input_dim = 7))   # 7 nodes in the hidden layer and 7 input node \n",
        "model.add(Dense(7,activation = 'relu'))  # add 7 node in new hidden layer\n",
        "model.add(Dense(1,activation = 'linear'))\n"
      ],
      "metadata": {
        "id": "gOEbLbcZlvng"
      },
      "execution_count": 31,
      "outputs": []
    },
    {
      "cell_type": "code",
      "source": [
        "\"\"\" activation function\n",
        "1) \"Softmax\" -- classification data which contain more than 1 node\n",
        "2) \"linear\" --- regression data  single output layer node \n",
        "\"\"\""
      ],
      "metadata": {
        "colab": {
          "base_uri": "https://localhost:8080/",
          "height": 53
        },
        "id": "H3_14lR4m1OA",
        "outputId": "4fc41f45-c232-41b3-8d9a-cffc12983b39"
      },
      "execution_count": 32,
      "outputs": [
        {
          "output_type": "execute_result",
          "data": {
            "text/plain": [
              "' activation function\\n1) \"Softmax\" -- classification data which contain more than 1 node\\n2) \"linear\" --- regression data  single output layer node \\n'"
            ],
            "application/vnd.google.colaboratory.intrinsic+json": {
              "type": "string"
            }
          },
          "metadata": {},
          "execution_count": 32
        }
      ]
    },
    {
      "cell_type": "code",
      "source": [
        "model.summary()"
      ],
      "metadata": {
        "colab": {
          "base_uri": "https://localhost:8080/"
        },
        "id": "Z332GvZqm5Lm",
        "outputId": "64512bc0-260b-42c4-dd52-5c23c25c9d53"
      },
      "execution_count": 33,
      "outputs": [
        {
          "output_type": "stream",
          "name": "stdout",
          "text": [
            "Model: \"sequential_3\"\n",
            "_________________________________________________________________\n",
            " Layer (type)                Output Shape              Param #   \n",
            "=================================================================\n",
            " dense_7 (Dense)             (None, 7)                 56        \n",
            "                                                                 \n",
            " dense_8 (Dense)             (None, 7)                 56        \n",
            "                                                                 \n",
            " dense_9 (Dense)             (None, 1)                 8         \n",
            "                                                                 \n",
            "=================================================================\n",
            "Total params: 120\n",
            "Trainable params: 120\n",
            "Non-trainable params: 0\n",
            "_________________________________________________________________\n"
          ]
        }
      ]
    },
    {
      "cell_type": "code",
      "source": [
        "# structure --> compile --> fit \n",
        "model.compile(loss = 'mean_squared_error',optimizer='Adam')"
      ],
      "metadata": {
        "id": "ERrxhQJMm7kn"
      },
      "execution_count": 36,
      "outputs": []
    },
    {
      "cell_type": "code",
      "source": [
        "history = model.fit(X_train_scaled,y_train, epochs = 80, validation_split=0.20)"
      ],
      "metadata": {
        "colab": {
          "base_uri": "https://localhost:8080/"
        },
        "id": "yeZyRHtJnPj_",
        "outputId": "7c4a11cc-3ea8-484c-d2f1-0e98606117c0"
      },
      "execution_count": 37,
      "outputs": [
        {
          "output_type": "stream",
          "name": "stdout",
          "text": [
            "Epoch 1/80\n",
            "10/10 [==============================] - 1s 25ms/step - loss: 0.5175 - val_loss: 0.5295\n",
            "Epoch 2/80\n",
            "10/10 [==============================] - 0s 6ms/step - loss: 0.4591 - val_loss: 0.4730\n",
            "Epoch 3/80\n",
            "10/10 [==============================] - 0s 7ms/step - loss: 0.4051 - val_loss: 0.4206\n",
            "Epoch 4/80\n",
            "10/10 [==============================] - 0s 6ms/step - loss: 0.3572 - val_loss: 0.3726\n",
            "Epoch 5/80\n",
            "10/10 [==============================] - 0s 6ms/step - loss: 0.3154 - val_loss: 0.3295\n",
            "Epoch 6/80\n",
            "10/10 [==============================] - 0s 5ms/step - loss: 0.2782 - val_loss: 0.2885\n",
            "Epoch 7/80\n",
            "10/10 [==============================] - 0s 6ms/step - loss: 0.2411 - val_loss: 0.2448\n",
            "Epoch 8/80\n",
            "10/10 [==============================] - 0s 5ms/step - loss: 0.1967 - val_loss: 0.1927\n",
            "Epoch 9/80\n",
            "10/10 [==============================] - 0s 5ms/step - loss: 0.1447 - val_loss: 0.1318\n",
            "Epoch 10/80\n",
            "10/10 [==============================] - 0s 5ms/step - loss: 0.0946 - val_loss: 0.0784\n",
            "Epoch 11/80\n",
            "10/10 [==============================] - 0s 5ms/step - loss: 0.0552 - val_loss: 0.0435\n",
            "Epoch 12/80\n",
            "10/10 [==============================] - 0s 7ms/step - loss: 0.0324 - val_loss: 0.0271\n",
            "Epoch 13/80\n",
            "10/10 [==============================] - 0s 5ms/step - loss: 0.0249 - val_loss: 0.0221\n",
            "Epoch 14/80\n",
            "10/10 [==============================] - 0s 6ms/step - loss: 0.0226 - val_loss: 0.0205\n",
            "Epoch 15/80\n",
            "10/10 [==============================] - 0s 8ms/step - loss: 0.0213 - val_loss: 0.0192\n",
            "Epoch 16/80\n",
            "10/10 [==============================] - 0s 6ms/step - loss: 0.0199 - val_loss: 0.0181\n",
            "Epoch 17/80\n",
            "10/10 [==============================] - 0s 6ms/step - loss: 0.0188 - val_loss: 0.0172\n",
            "Epoch 18/80\n",
            "10/10 [==============================] - 0s 6ms/step - loss: 0.0178 - val_loss: 0.0164\n",
            "Epoch 19/80\n",
            "10/10 [==============================] - 0s 6ms/step - loss: 0.0170 - val_loss: 0.0156\n",
            "Epoch 20/80\n",
            "10/10 [==============================] - 0s 6ms/step - loss: 0.0162 - val_loss: 0.0149\n",
            "Epoch 21/80\n",
            "10/10 [==============================] - 0s 5ms/step - loss: 0.0155 - val_loss: 0.0142\n",
            "Epoch 22/80\n",
            "10/10 [==============================] - 0s 6ms/step - loss: 0.0149 - val_loss: 0.0137\n",
            "Epoch 23/80\n",
            "10/10 [==============================] - 0s 5ms/step - loss: 0.0143 - val_loss: 0.0131\n",
            "Epoch 24/80\n",
            "10/10 [==============================] - 0s 6ms/step - loss: 0.0138 - val_loss: 0.0127\n",
            "Epoch 25/80\n",
            "10/10 [==============================] - 0s 6ms/step - loss: 0.0133 - val_loss: 0.0122\n",
            "Epoch 26/80\n",
            "10/10 [==============================] - 0s 7ms/step - loss: 0.0128 - val_loss: 0.0118\n",
            "Epoch 27/80\n",
            "10/10 [==============================] - 0s 8ms/step - loss: 0.0124 - val_loss: 0.0114\n",
            "Epoch 28/80\n",
            "10/10 [==============================] - 0s 6ms/step - loss: 0.0120 - val_loss: 0.0111\n",
            "Epoch 29/80\n",
            "10/10 [==============================] - 0s 7ms/step - loss: 0.0117 - val_loss: 0.0108\n",
            "Epoch 30/80\n",
            "10/10 [==============================] - 0s 7ms/step - loss: 0.0113 - val_loss: 0.0105\n",
            "Epoch 31/80\n",
            "10/10 [==============================] - 0s 5ms/step - loss: 0.0111 - val_loss: 0.0101\n",
            "Epoch 32/80\n",
            "10/10 [==============================] - 0s 7ms/step - loss: 0.0108 - val_loss: 0.0099\n",
            "Epoch 33/80\n",
            "10/10 [==============================] - 0s 8ms/step - loss: 0.0105 - val_loss: 0.0097\n",
            "Epoch 34/80\n",
            "10/10 [==============================] - 0s 8ms/step - loss: 0.0103 - val_loss: 0.0095\n",
            "Epoch 35/80\n",
            "10/10 [==============================] - 0s 6ms/step - loss: 0.0100 - val_loss: 0.0093\n",
            "Epoch 36/80\n",
            "10/10 [==============================] - 0s 6ms/step - loss: 0.0098 - val_loss: 0.0091\n",
            "Epoch 37/80\n",
            "10/10 [==============================] - 0s 5ms/step - loss: 0.0096 - val_loss: 0.0089\n",
            "Epoch 38/80\n",
            "10/10 [==============================] - 0s 8ms/step - loss: 0.0094 - val_loss: 0.0087\n",
            "Epoch 39/80\n",
            "10/10 [==============================] - 0s 5ms/step - loss: 0.0093 - val_loss: 0.0086\n",
            "Epoch 40/80\n",
            "10/10 [==============================] - 0s 7ms/step - loss: 0.0091 - val_loss: 0.0085\n",
            "Epoch 41/80\n",
            "10/10 [==============================] - 0s 6ms/step - loss: 0.0090 - val_loss: 0.0083\n",
            "Epoch 42/80\n",
            "10/10 [==============================] - 0s 6ms/step - loss: 0.0088 - val_loss: 0.0082\n",
            "Epoch 43/80\n",
            "10/10 [==============================] - 0s 7ms/step - loss: 0.0087 - val_loss: 0.0081\n",
            "Epoch 44/80\n",
            "10/10 [==============================] - 0s 7ms/step - loss: 0.0085 - val_loss: 0.0079\n",
            "Epoch 45/80\n",
            "10/10 [==============================] - 0s 7ms/step - loss: 0.0084 - val_loss: 0.0079\n",
            "Epoch 46/80\n",
            "10/10 [==============================] - 0s 5ms/step - loss: 0.0083 - val_loss: 0.0077\n",
            "Epoch 47/80\n",
            "10/10 [==============================] - 0s 7ms/step - loss: 0.0082 - val_loss: 0.0076\n",
            "Epoch 48/80\n",
            "10/10 [==============================] - 0s 6ms/step - loss: 0.0081 - val_loss: 0.0076\n",
            "Epoch 49/80\n",
            "10/10 [==============================] - 0s 7ms/step - loss: 0.0080 - val_loss: 0.0075\n",
            "Epoch 50/80\n",
            "10/10 [==============================] - 0s 6ms/step - loss: 0.0079 - val_loss: 0.0073\n",
            "Epoch 51/80\n",
            "10/10 [==============================] - 0s 5ms/step - loss: 0.0078 - val_loss: 0.0073\n",
            "Epoch 52/80\n",
            "10/10 [==============================] - 0s 5ms/step - loss: 0.0078 - val_loss: 0.0072\n",
            "Epoch 53/80\n",
            "10/10 [==============================] - 0s 7ms/step - loss: 0.0077 - val_loss: 0.0071\n",
            "Epoch 54/80\n",
            "10/10 [==============================] - 0s 7ms/step - loss: 0.0076 - val_loss: 0.0071\n",
            "Epoch 55/80\n",
            "10/10 [==============================] - 0s 6ms/step - loss: 0.0075 - val_loss: 0.0070\n",
            "Epoch 56/80\n",
            "10/10 [==============================] - 0s 6ms/step - loss: 0.0075 - val_loss: 0.0069\n",
            "Epoch 57/80\n",
            "10/10 [==============================] - 0s 7ms/step - loss: 0.0074 - val_loss: 0.0069\n",
            "Epoch 58/80\n",
            "10/10 [==============================] - 0s 6ms/step - loss: 0.0073 - val_loss: 0.0069\n",
            "Epoch 59/80\n",
            "10/10 [==============================] - 0s 6ms/step - loss: 0.0073 - val_loss: 0.0067\n",
            "Epoch 60/80\n",
            "10/10 [==============================] - 0s 5ms/step - loss: 0.0072 - val_loss: 0.0067\n",
            "Epoch 61/80\n",
            "10/10 [==============================] - 0s 6ms/step - loss: 0.0072 - val_loss: 0.0066\n",
            "Epoch 62/80\n",
            "10/10 [==============================] - 0s 7ms/step - loss: 0.0071 - val_loss: 0.0066\n",
            "Epoch 63/80\n",
            "10/10 [==============================] - 0s 7ms/step - loss: 0.0070 - val_loss: 0.0065\n",
            "Epoch 64/80\n",
            "10/10 [==============================] - 0s 8ms/step - loss: 0.0070 - val_loss: 0.0065\n",
            "Epoch 65/80\n",
            "10/10 [==============================] - 0s 6ms/step - loss: 0.0069 - val_loss: 0.0064\n",
            "Epoch 66/80\n",
            "10/10 [==============================] - 0s 7ms/step - loss: 0.0069 - val_loss: 0.0064\n",
            "Epoch 67/80\n",
            "10/10 [==============================] - 0s 7ms/step - loss: 0.0068 - val_loss: 0.0063\n",
            "Epoch 68/80\n",
            "10/10 [==============================] - 0s 6ms/step - loss: 0.0068 - val_loss: 0.0063\n",
            "Epoch 69/80\n",
            "10/10 [==============================] - 0s 6ms/step - loss: 0.0067 - val_loss: 0.0062\n",
            "Epoch 70/80\n",
            "10/10 [==============================] - 0s 6ms/step - loss: 0.0067 - val_loss: 0.0061\n",
            "Epoch 71/80\n",
            "10/10 [==============================] - 0s 6ms/step - loss: 0.0067 - val_loss: 0.0061\n",
            "Epoch 72/80\n",
            "10/10 [==============================] - 0s 6ms/step - loss: 0.0066 - val_loss: 0.0061\n",
            "Epoch 73/80\n",
            "10/10 [==============================] - 0s 7ms/step - loss: 0.0066 - val_loss: 0.0060\n",
            "Epoch 74/80\n",
            "10/10 [==============================] - 0s 6ms/step - loss: 0.0065 - val_loss: 0.0060\n",
            "Epoch 75/80\n",
            "10/10 [==============================] - 0s 7ms/step - loss: 0.0065 - val_loss: 0.0059\n",
            "Epoch 76/80\n",
            "10/10 [==============================] - 0s 8ms/step - loss: 0.0065 - val_loss: 0.0059\n",
            "Epoch 77/80\n",
            "10/10 [==============================] - 0s 6ms/step - loss: 0.0064 - val_loss: 0.0059\n",
            "Epoch 78/80\n",
            "10/10 [==============================] - 0s 6ms/step - loss: 0.0064 - val_loss: 0.0058\n",
            "Epoch 79/80\n",
            "10/10 [==============================] - 0s 7ms/step - loss: 0.0064 - val_loss: 0.0058\n",
            "Epoch 80/80\n",
            "10/10 [==============================] - 0s 7ms/step - loss: 0.0063 - val_loss: 0.0058\n"
          ]
        }
      ]
    },
    {
      "cell_type": "code",
      "source": [
        "# predict the model\n",
        "y_pred = model.predict(X_test_scaled)"
      ],
      "metadata": {
        "colab": {
          "base_uri": "https://localhost:8080/"
        },
        "id": "JXqBO-GCoIc2",
        "outputId": "a5c06d9b-4f2c-4ab4-fb89-a3f4655026fe"
      },
      "execution_count": 38,
      "outputs": [
        {
          "output_type": "stream",
          "name": "stdout",
          "text": [
            "4/4 [==============================] - 0s 3ms/step\n"
          ]
        }
      ]
    },
    {
      "cell_type": "code",
      "source": [
        "from sklearn.metrics import r2_score\n",
        "r2_score(y_test,y_pred)"
      ],
      "metadata": {
        "colab": {
          "base_uri": "https://localhost:8080/"
        },
        "id": "sNPJcWVgo3hz",
        "outputId": "897c48c7-7ab8-49f5-9477-b33e814967a0"
      },
      "execution_count": 39,
      "outputs": [
        {
          "output_type": "execute_result",
          "data": {
            "text/plain": [
              "0.698278698960155"
            ]
          },
          "metadata": {},
          "execution_count": 39
        }
      ]
    },
    {
      "cell_type": "code",
      "source": [
        "import matplotlib.pyplot as plt\n",
        "plt.plot(history.history['loss'])\n",
        "plt.plot(history.history['val_loss'])"
      ],
      "metadata": {
        "colab": {
          "base_uri": "https://localhost:8080/",
          "height": 282
        },
        "id": "8ezTcANmpBmz",
        "outputId": "25344d55-dc7f-4372-a5f2-41be0ea8441d"
      },
      "execution_count": 42,
      "outputs": [
        {
          "output_type": "execute_result",
          "data": {
            "text/plain": [
              "[<matplotlib.lines.Line2D at 0x7fb5a65be7c0>]"
            ]
          },
          "metadata": {},
          "execution_count": 42
        },
        {
          "output_type": "display_data",
          "data": {
            "text/plain": [
              "<Figure size 432x288 with 1 Axes>"
            ],
            "image/png": "[encoded data removed]"
          },
          "metadata": {
            "needs_background": "light"
          }
        }
      ]
    },
    {
      "cell_type": "code",
      "source": [
        "# we can imporvize our accuracy by using the :- epochs, increase the node in the input, output, in hidden layer or we can also increase the hidden layer"
      ],
      "metadata": {
        "id": "GoabyLD2pY-n"
      },
      "execution_count": 43,
      "outputs": []
    },
    {
      "cell_type": "code",
      "source": [],
      "metadata": {
        "id": "czMmP8CLp5mB"
      },
      "execution_count": null,
      "outputs": []
    }
  ]
}