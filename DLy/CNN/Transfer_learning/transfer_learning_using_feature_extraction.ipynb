{
  "cells": [
    {
      "cell_type": "code",
      "execution_count": null,
      "metadata": {
        "id": "K4V5x_iy4P0i"
      },
      "outputs": [],
      "source": []
    },
    {
      "cell_type": "markdown",
      "metadata": {
        "id": "5n5vA2P04bHk"
      },
      "source": [
        "In this we the Transfer learning using the Feature extraction "
      ]
    },
    {
      "cell_type": "code",
      "execution_count": 1,
      "metadata": {
        "id": "2nLkJNmR4mLG"
      },
      "outputs": [],
      "source": [
        "!mkdir -p ~/.kaggle\n",
        "!cp kaggle.json ~/.kaggle/"
      ]
    },
    {
      "cell_type": "code",
      "execution_count": 2,
      "metadata": {
        "colab": {
          "base_uri": "https://localhost:8080/"
        },
        "id": "yKTNVfvg5BVQ",
        "outputId": "b5f0f98d-cf68-46c6-b6a7-518b20c173ef"
      },
      "outputs": [
        {
          "output_type": "stream",
          "name": "stdout",
          "text": [
            "Warning: Your Kaggle API key is readable by other users on this system! To fix this, you can run 'chmod 600 /root/.kaggle/kaggle.json'\n",
            "dogs-vs-cats.zip: Skipping, found more recently modified local copy (use --force to force download)\n"
          ]
        }
      ],
      "source": [
        "!kaggle datasets download -d salader/dogs-vs-cats"
      ]
    },
    {
      "cell_type": "code",
      "execution_count": 3,
      "metadata": {
        "id": "DJWrUQPU5QqN"
      },
      "outputs": [],
      "source": [
        "import zipfile\n",
        "zip_ref = zipfile.ZipFile('/content/dogs-vs-cats.zip', 'r')\n",
        "zip_ref.extractall('/content')\n",
        "zip_ref.close()"
      ]
    },
    {
      "cell_type": "code",
      "execution_count": 4,
      "metadata": {
        "id": "cNercP725UCx"
      },
      "outputs": [],
      "source": [
        "import tensorflow\n",
        "from tensorflow import keras\n",
        "from keras import Sequential\n",
        "from keras.layers import Dense, Flatten\n",
        "from keras.applications.vgg16 import VGG16"
      ]
    },
    {
      "cell_type": "code",
      "execution_count": 5,
      "metadata": {
        "id": "eXvdx7HU58D_"
      },
      "outputs": [],
      "source": [
        "conv_base = VGG16(\n",
        "    weights='imagenet',\n",
        "    include_top = False,\n",
        "    input_shape=(150,150,3)\n",
        ")"
      ]
    },
    {
      "cell_type": "code",
      "execution_count": 6,
      "metadata": {
        "id": "2hIlgY8F6D8W"
      },
      "outputs": [],
      "source": [
        "# now we train the Dense and fully connected layer \n",
        "\n",
        "model = Sequential()\n",
        "\n",
        "model.add(conv_base)\n",
        "model.add(Flatten())\n",
        "model.add(Dense(256,activation = 'relu'))\n",
        "model.add(Dense(1,activation= 'sigmoid'))   # output for the classificaiton\n"
      ]
    },
    {
      "cell_type": "code",
      "execution_count": 7,
      "metadata": {
        "id": "iR8jiwsZ6uj6"
      },
      "outputs": [],
      "source": [
        "# in this line we give the command that conv_base (Freeze) has trainable = false no need to train\n",
        "conv_base.trainable = False"
      ]
    },
    {
      "cell_type": "code",
      "execution_count": 8,
      "metadata": {
        "id": "86EyCC7S7XTv"
      },
      "outputs": [],
      "source": [
        "from keras.preprocessing.image import ImageDataGenerator"
      ]
    },
    {
      "cell_type": "code",
      "execution_count": 9,
      "metadata": {
        "id": "IDgl3OVA7Xvl"
      },
      "outputs": [],
      "source": [
        "from tensorflow.keras.utils import array_to_img, img_to_array, load_img\n"
      ]
    },
    {
      "cell_type": "code",
      "source": [
        "# data agumentation\n",
        "\n",
        "batch_size = 32\n",
        "\n",
        "train_datagen = ImageDataGenerator(\n",
        "        rescale=1./255,\n",
        "        shear_range=0.2,\n",
        "        zoom_range=0.2,\n",
        "        horizontal_flip=True)\n",
        "\n",
        "test_datagen = ImageDataGenerator(rescale=1./255)\n",
        "\n",
        "train_generator = train_datagen.flow_from_directory(\n",
        "        '/content/train',\n",
        "        target_size=(150, 150),\n",
        "        batch_size=batch_size,\n",
        "        class_mode='binary') \n",
        "\n",
        "validation_generator = test_datagen.flow_from_directory(\n",
        "        '/content/test',\n",
        "        target_size=(150, 150),\n",
        "        batch_size=batch_size,\n",
        "        class_mode='binary')"
      ],
      "metadata": {
        "colab": {
          "base_uri": "https://localhost:8080/"
        },
        "id": "SECCOni8_9ZF",
        "outputId": "5d1b3686-87b1-4ba6-8508-c47f32cd86ab"
      },
      "execution_count": 10,
      "outputs": [
        {
          "output_type": "stream",
          "name": "stdout",
          "text": [
            "Found 20000 images belonging to 2 classes.\n",
            "Found 5000 images belonging to 2 classes.\n"
          ]
        }
      ]
    },
    {
      "cell_type": "code",
      "source": [
        "model.compile(optimizer='adam',loss='binary_crossentropy',metrics=['accuracy'])"
      ],
      "metadata": {
        "id": "gjbVGXhNAfUf"
      },
      "execution_count": 11,
      "outputs": []
    },
    {
      "cell_type": "code",
      "source": [
        "# during Data Agumentation --> we use to \"fit_generator\" to train the model\n",
        "\n",
        "history = model.fit_generator(\n",
        "    train_generator,\n",
        "    epochs = 10,\n",
        "    validation_data = validation_generator\n",
        ")"
      ],
      "metadata": {
        "colab": {
          "base_uri": "https://localhost:8080/"
        },
        "id": "1vp6VER5AlYr",
        "outputId": "619c70ca-7ddd-4c9a-d429-62e5fbeb4271"
      },
      "execution_count": 12,
      "outputs": [
        {
          "output_type": "stream",
          "name": "stderr",
          "text": [
            "<ipython-input-12-7cdaff50df4a>:3: UserWarning: `Model.fit_generator` is deprecated and will be removed in a future version. Please use `Model.fit`, which supports generators.\n",
            "  history = model.fit_generator(\n"
          ]
        },
        {
          "output_type": "stream",
          "name": "stdout",
          "text": [
            "Epoch 1/10\n",
            "625/625 [==============================] - 186s 289ms/step - loss: 0.3035 - accuracy: 0.8680 - val_loss: 0.2169 - val_accuracy: 0.9062\n",
            "Epoch 2/10\n",
            "625/625 [==============================] - 176s 281ms/step - loss: 0.2360 - accuracy: 0.8993 - val_loss: 0.2128 - val_accuracy: 0.9088\n",
            "Epoch 3/10\n",
            "625/625 [==============================] - 175s 280ms/step - loss: 0.2197 - accuracy: 0.9053 - val_loss: 0.2110 - val_accuracy: 0.9072\n",
            "Epoch 4/10\n",
            "625/625 [==============================] - 174s 279ms/step - loss: 0.2121 - accuracy: 0.9100 - val_loss: 0.1959 - val_accuracy: 0.9170\n",
            "Epoch 5/10\n",
            "625/625 [==============================] - 174s 278ms/step - loss: 0.1952 - accuracy: 0.9184 - val_loss: 0.1934 - val_accuracy: 0.9192\n",
            "Epoch 6/10\n",
            "625/625 [==============================] - 173s 276ms/step - loss: 0.1902 - accuracy: 0.9196 - val_loss: 0.1888 - val_accuracy: 0.9194\n",
            "Epoch 7/10\n",
            "625/625 [==============================] - 174s 278ms/step - loss: 0.1746 - accuracy: 0.9276 - val_loss: 0.1902 - val_accuracy: 0.9202\n",
            "Epoch 8/10\n",
            "625/625 [==============================] - 174s 278ms/step - loss: 0.1701 - accuracy: 0.9292 - val_loss: 0.2205 - val_accuracy: 0.9146\n",
            "Epoch 9/10\n",
            "625/625 [==============================] - 174s 279ms/step - loss: 0.1604 - accuracy: 0.9323 - val_loss: 0.1859 - val_accuracy: 0.9206\n",
            "Epoch 10/10\n",
            "625/625 [==============================] - 172s 276ms/step - loss: 0.1516 - accuracy: 0.9362 - val_loss: 0.1881 - val_accuracy: 0.9182\n"
          ]
        }
      ]
    },
    {
      "cell_type": "code",
      "source": [
        "import matplotlib.pyplot as plt\n",
        "\n",
        "plt.plot(history.history['accuracy'],color = 'red',label = 'train')\n",
        "plt.plot(history.history['val_accuracy'],color = 'blue',label = 'validation')\n",
        "plt.legend()\n",
        "plt.show()"
      ],
      "metadata": {
        "colab": {
          "base_uri": "https://localhost:8080/",
          "height": 430
        },
        "id": "vqJWqi1lA52J",
        "outputId": "f3bf37cd-1ac3-4d90-a5dc-d802c71d4912"
      },
      "execution_count": 14,
      "outputs": [
        {
          "output_type": "display_data",
          "data": {
            "text/plain": [
              "<Figure size 640x480 with 1 Axes>"
            ],
            "image/png": "[encoded data removed]"
          },
          "metadata": {}
        }
      ]
    },
    {
      "cell_type": "code",
      "source": [
        "plt.plot(history.history['loss'],color = 'red',label = 'train')\n",
        "plt.plot(history.history['val_loss'],color = 'blue',label = 'validation')\n",
        "plt.legend()\n",
        "plt.show()"
      ],
      "metadata": {
        "colab": {
          "base_uri": "https://localhost:8080/",
          "height": 430
        },
        "id": "WsKfh7CyBcjJ",
        "outputId": "b5d26f2a-0004-41e7-a9c8-93b8d6e2bab6"
      },
      "execution_count": 15,
      "outputs": [
        {
          "output_type": "display_data",
          "data": {
            "text/plain": [
              "<Figure size 640x480 with 1 Axes>"
            ],
            "image/png": "[encoded data removed]"
          },
          "metadata": {}
        }
      ]
    },
    {
      "cell_type": "markdown",
      "source": [],
      "metadata": {
        "id": "2TurLz_CBb64"
      }
    }
  ],
  "metadata": {
    "accelerator": "GPU",
    "colab": {
      "provenance": []
    },
    "gpuClass": "standard",
    "kernelspec": {
      "display_name": "Python 3",
      "name": "python3"
    },
    "language_info": {
      "name": "python"
    }
  },
  "nbformat": 4,
  "nbformat_minor": 0
}