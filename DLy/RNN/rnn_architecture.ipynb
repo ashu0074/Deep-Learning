{
  "nbformat": 4,
  "nbformat_minor": 0,
  "metadata": {
    "colab": {
      "provenance": []
    },
    "kernelspec": {
      "name": "python3",
      "display_name": "Python 3"
    },
    "language_info": {
      "name": "python"
    }
  },
  "cells": [
    {
      "cell_type": "code",
      "execution_count": null,
      "metadata": {
        "id": "4-dLDcaVJt6_"
      },
      "outputs": [],
      "source": []
    },
    {
      "cell_type": "markdown",
      "source": [
        "**RNN Architecture** \n",
        "* rnn store the data in format (timesteps, input_feature)\n",
        "* **timesteps** -- max length of the line in the text data\n",
        "* **input_feature** -- in text data \"max\" no.of word length.\n",
        "\n",
        "* **Keras -- SimpleRNN**--(batch_size, timesteps, input_feature)\n",
        "* **batch_size** -- no. of lines "
      ],
      "metadata": {
        "id": "NVgFEr-KJ17p"
      }
    },
    {
      "cell_type": "code",
      "source": [
        "from keras import Sequential\n",
        "from keras.layers import Dense, SimpleRNN"
      ],
      "metadata": {
        "id": "VcYgwLuYKaYL"
      },
      "execution_count": 2,
      "outputs": []
    },
    {
      "cell_type": "code",
      "source": [
        "model = Sequential()\n",
        "\n",
        "model.add(SimpleRNN(3, input_shape = (4,5)))       # 3  batch size , 4 is timesteps, 5 input_feature \n",
        "model.add(Dense(1,activation = 'sigmoid'))\n",
        "\n",
        "model.summary()"
      ],
      "metadata": {
        "colab": {
          "base_uri": "https://localhost:8080/"
        },
        "id": "IX8t1htZLCh2",
        "outputId": "ddff3086-7f00-4fa4-9ae2-6b30ecc71368"
      },
      "execution_count": 4,
      "outputs": [
        {
          "output_type": "stream",
          "name": "stdout",
          "text": [
            "Model: \"sequential_1\"\n",
            "_________________________________________________________________\n",
            " Layer (type)                Output Shape              Param #   \n",
            "=================================================================\n",
            " simple_rnn_1 (SimpleRNN)    (None, 3)                 27        \n",
            "                                                                 \n",
            " dense_1 (Dense)             (None, 1)                 4         \n",
            "                                                                 \n",
            "=================================================================\n",
            "Total params: 31\n",
            "Trainable params: 31\n",
            "Non-trainable params: 0\n",
            "_________________________________________________________________\n"
          ]
        }
      ]
    },
    {
      "cell_type": "code",
      "source": [
        "# the trainable parameter ---> get_weights()\n",
        "# t1\n",
        "print(model.get_weights()[0].shape)\n",
        "model.get_weights()[0]"
      ],
      "metadata": {
        "colab": {
          "base_uri": "https://localhost:8080/"
        },
        "id": "ztt1e_vNL2Ko",
        "outputId": "1848a43b-4297-41c1-f78d-93325f9fdb6e"
      },
      "execution_count": 5,
      "outputs": [
        {
          "output_type": "stream",
          "name": "stdout",
          "text": [
            "(5, 3)\n"
          ]
        },
        {
          "output_type": "execute_result",
          "data": {
            "text/plain": [
              "array([[ 0.10096848, -0.41878688, -0.59558654],\n",
              "       [ 0.3207689 ,  0.1954127 ,  0.5977139 ],\n",
              "       [-0.44614026,  0.63789314,  0.34011394],\n",
              "       [-0.7988375 , -0.10245925,  0.33275598],\n",
              "       [-0.36933738,  0.63248163,  0.00737184]], dtype=float32)"
            ]
          },
          "metadata": {},
          "execution_count": 5
        }
      ]
    },
    {
      "cell_type": "markdown",
      "source": [
        "first matrix is 5*3"
      ],
      "metadata": {
        "id": "DsxFwet2MTad"
      }
    },
    {
      "cell_type": "code",
      "source": [
        "print(model.get_weights()[1].shape)\n",
        "model.get_weights()[1]\n",
        "#t2"
      ],
      "metadata": {
        "colab": {
          "base_uri": "https://localhost:8080/"
        },
        "id": "69ENVVi7MOMj",
        "outputId": "7cee4f92-18e2-4042-d28c-11b4af0524e2"
      },
      "execution_count": 7,
      "outputs": [
        {
          "output_type": "stream",
          "name": "stdout",
          "text": [
            "(3, 3)\n"
          ]
        },
        {
          "output_type": "execute_result",
          "data": {
            "text/plain": [
              "array([[ 0.5469804 ,  0.5255374 ,  0.6516308 ],\n",
              "       [-0.78779954,  0.05984274,  0.6130177 ],\n",
              "       [-0.28316838,  0.84866315, -0.44675103]], dtype=float32)"
            ]
          },
          "metadata": {},
          "execution_count": 7
        }
      ]
    },
    {
      "cell_type": "code",
      "source": [
        "print(model.get_weights()[2].shape)\n",
        "model.get_weights()[2]\n",
        "#t3"
      ],
      "metadata": {
        "colab": {
          "base_uri": "https://localhost:8080/"
        },
        "id": "ff4CKtg3MgOz",
        "outputId": "55409e11-726b-4ceb-9fb7-d90b9c7495ec"
      },
      "execution_count": 8,
      "outputs": [
        {
          "output_type": "stream",
          "name": "stdout",
          "text": [
            "(3,)\n"
          ]
        },
        {
          "output_type": "execute_result",
          "data": {
            "text/plain": [
              "array([0., 0., 0.], dtype=float32)"
            ]
          },
          "metadata": {},
          "execution_count": 8
        }
      ]
    },
    {
      "cell_type": "markdown",
      "source": [
        "it show the 3 bias"
      ],
      "metadata": {
        "id": "5CIyOBYpM6U0"
      }
    },
    {
      "cell_type": "code",
      "source": [
        "print(model.get_weights()[3].shape)\n",
        "model.get_weights()[3]\n",
        "#t4"
      ],
      "metadata": {
        "colab": {
          "base_uri": "https://localhost:8080/"
        },
        "id": "i0nDXohiMvA0",
        "outputId": "3c419abf-54f2-48c0-9a98-0ac847058125"
      },
      "execution_count": 9,
      "outputs": [
        {
          "output_type": "stream",
          "name": "stdout",
          "text": [
            "(3, 1)\n"
          ]
        },
        {
          "output_type": "execute_result",
          "data": {
            "text/plain": [
              "array([[-1.1549824 ],\n",
              "       [ 0.47506988],\n",
              "       [ 0.9514414 ]], dtype=float32)"
            ]
          },
          "metadata": {},
          "execution_count": 9
        }
      ]
    },
    {
      "cell_type": "code",
      "source": [
        "print(model.get_weights()[4].shape)\n",
        "model.get_weights()[4]\n",
        "#t5"
      ],
      "metadata": {
        "colab": {
          "base_uri": "https://localhost:8080/"
        },
        "id": "F2ioDkQ-NImP",
        "outputId": "068bd457-b7a8-4f93-d469-590dd1a6bd87"
      },
      "execution_count": 10,
      "outputs": [
        {
          "output_type": "stream",
          "name": "stdout",
          "text": [
            "(1,)\n"
          ]
        },
        {
          "output_type": "execute_result",
          "data": {
            "text/plain": [
              "array([0.], dtype=float32)"
            ]
          },
          "metadata": {},
          "execution_count": 10
        }
      ]
    },
    {
      "cell_type": "code",
      "source": [],
      "metadata": {
        "id": "LJxmj2D2NQgJ"
      },
      "execution_count": null,
      "outputs": []
    }
  ]
}